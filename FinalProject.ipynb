{
 "cells": [
  {
   "cell_type": "code",
   "execution_count": 67,
   "metadata": {},
   "outputs": [],
   "source": [
    "from pyspark.sql import SparkSession\n",
    "\n",
    "spark = SparkSession \\\n",
    "    .builder \\\n",
    "    .master(\"local[*]\") \\\n",
    "    .appName(\"xor\") \\\n",
    "    .config(\"spark.executor.memory\", '2g') \\\n",
    "    .config('spark.executor.cores', '1') \\\n",
    "    .config('spark.cores.max', '1') \\\n",
    "    .config(\"spark.driver.memory\",'1g') \\\n",
    "    .getOrCreate()\n",
    "\n",
    "sc = spark.sparkContext"
   ]
  },
  {
   "cell_type": "code",
   "execution_count": 68,
   "metadata": {},
   "outputs": [],
   "source": [
    "pitches = spark.read.option(\"inferSchema\", \"true\").csv('Data/pitches.csv', header = True)\n",
    "atbats = spark.read.option(\"inferSchema\", \"true\").csv('Data/atbats.csv', header = True)\n",
    "df = pitches.join(atbats, \"ab_id\")"
   ]
  },
  {
   "cell_type": "code",
   "execution_count": 69,
   "metadata": {},
   "outputs": [],
   "source": [
    "df = df.drop(\"ax\", \"ay\", \"az\", \"batter_id\", \"break_angle\", \"break_length\", \"break_y\", \"code\", \"event\", \"g_id\", \"o\", \"p_throws\",\n",
    "             \n",
    "            \"pfx_x\", \"pfx_z\", \"px\", \"pz\", \"spin_dir\", \"end_speed\", \n",
    "             \n",
    "             \"sz_bot\", \"sz_top\", \"vx0\", \"vy0\", \"vz0\", \"x\", \"x0\", \"y\", \"y0\", \"z\", \"z0\", \"zone\")"
   ]
  },
  {
   "cell_type": "code",
   "execution_count": 70,
   "metadata": {},
   "outputs": [],
   "source": [
    "df=df.withColumn(\"score_difference\", df.p_score-df.b_score)"
   ]
  },
  {
   "cell_type": "code",
   "execution_count": 71,
   "metadata": {},
   "outputs": [],
   "source": [
    "from pyspark.sql.types import StringType\n",
    "from pyspark.sql.functions import udf\n",
    "from pyspark.sql import functions as f"
   ]
  },
  {
   "cell_type": "code",
   "execution_count": 72,
   "metadata": {},
   "outputs": [],
   "source": [
    "df=df.filter(df[\"pitch_type\"]!=\"UN\")\n",
    "df=df.filter(df[\"pitch_type\"]!=\"EP\")"
   ]
  },
  {
   "cell_type": "code",
   "execution_count": 73,
   "metadata": {},
   "outputs": [],
   "source": [
    "df=df.na.replace(['FO'], ['PO'], 'pitch_type')"
   ]
  },
  {
   "cell_type": "code",
   "execution_count": null,
   "metadata": {},
   "outputs": [],
   "source": []
  }
 ],
 "metadata": {
  "kernelspec": {
   "display_name": "Python 3",
   "language": "python",
   "name": "python3"
  },
  "language_info": {
   "codemirror_mode": {
    "name": "ipython",
    "version": 3
   },
   "file_extension": ".py",
   "mimetype": "text/x-python",
   "name": "python",
   "nbconvert_exporter": "python",
   "pygments_lexer": "ipython3",
   "version": "3.6.8"
  }
 },
 "nbformat": 4,
 "nbformat_minor": 2
}

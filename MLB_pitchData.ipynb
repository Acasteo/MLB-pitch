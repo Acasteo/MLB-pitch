{
 "cells": [
  {
   "cell_type": "code",
   "execution_count": 30,
   "metadata": {},
   "outputs": [],
   "source": [
    "from pyspark.sql import SparkSession\n",
    "\n",
    "spark = SparkSession \\\n",
    "    .builder \\\n",
    "    .master(\"local[*]\") \\\n",
    "    .appName(\"xor\") \\\n",
    "    .config(\"spark.executor.memory\", '2g') \\\n",
    "    .config('spark.executor.cores', '1') \\\n",
    "    .config('spark.cores.max', '1') \\\n",
    "    .config(\"spark.driver.memory\",'1g') \\\n",
    "    .getOrCreate()\n",
    "\n",
    "sc = spark.sparkContext\n"
   ]
  },
  {
   "cell_type": "code",
   "execution_count": 31,
   "metadata": {},
   "outputs": [],
   "source": [
    "pitches = spark.read.option(\"inferSchema\", \"true\").csv('Data/pitches.csv', header = True)\n",
    "atbats = spark.read.option(\"inferSchema\", \"true\").csv('Data/atbats.csv', header = True).select(\"ab_id\", \"batter_id\", \"inning\", \"p_score\", \"p_throws\", \"pitcher_id\", \"stand\", \"top\")\n",
    "\n",
    "df = pitches.join(atbats, \"ab_id\")"
   ]
  },
  {
   "cell_type": "code",
   "execution_count": 32,
   "metadata": {},
   "outputs": [],
   "source": [
    "df = df.drop(\"ax\", \"ay\", \"az\", \"batter_id\", \"break_angle\", \"break_length\", \"break_y\", \"code\", \"event\", \"g_id\", \"o\", \"p_throws\",\n",
    "             \n",
    "            \"pfx_x\", \"pfx_z\", \"px\", \"pz\", \"spin_dir\", \"end_speed\", \"start_speed\"\n",
    "             \n",
    "             \"sz_bot\", \"sz_top\", \"vx0\", \"vy0\", \"vz0\", \"x\", \"x0\", \"y\", \"y0\", \"z\", \"z0\", \"zone\", \"spin_rate\")"
   ]
  },
  {
   "cell_type": "code",
   "execution_count": 33,
   "metadata": {},
   "outputs": [],
   "source": [
    "df=df.withColumn(\"score_difference\", df.p_score-df.b_score)"
   ]
  },
  {
   "cell_type": "code",
   "execution_count": 34,
   "metadata": {},
   "outputs": [],
   "source": [
    "from pyspark.sql.types import StringType\n",
    "from pyspark.sql.functions import udf\n",
    "from pyspark.sql import functions as f"
   ]
  },
  {
   "cell_type": "code",
   "execution_count": 35,
   "metadata": {},
   "outputs": [],
   "source": [
    "df=df.filter(df[\"pitch_type\"]!=\"UN\")\n",
    "df=df.filter(df[\"pitch_type\"]!=\"EP\")"
   ]
  },
  {
   "cell_type": "code",
   "execution_count": 36,
   "metadata": {},
   "outputs": [],
   "source": [
    "df=df.na.replace(['FO'], ['PO'], 'pitch_type')"
   ]
  },
  {
   "cell_type": "code",
   "execution_count": 37,
   "metadata": {},
   "outputs": [
    {
     "name": "stdout",
     "output_type": "stream",
     "text": [
      "+----------+-------+-------+-----+-----+-----+-----+----+---------+----------+-------+-----------+------+----+---------------+------+-------+----------+-----+-----+----------------+-----------------+\n",
      "|     ab_id|b_count|b_score|nasty|on_1b|on_2b|on_3b|outs|pitch_num|pitch_type|s_count|start_speed|sz_bot|type|type_confidence|inning|p_score|pitcher_id|stand|  top|score_difference|latent_pitch_type|\n",
      "+----------+-------+-------+-----+-----+-----+-----+----+---------+----------+-------+-----------+------+----+---------------+------+-------+----------+-----+-----+----------------+-----------------+\n",
      "|2015000044|      0|      0|   63|false| true|false|   1|        1|        FC|      0|       84.6|  1.52|   B|            2.0|     5|      3|    425794|    L|false|               3|              6.0|\n",
      "|2015000044|      1|      0|   29|false| true|false|   1|        2|        FC|      0|       88.4|  1.52|   B|            2.0|     5|      3|    425794|    L|false|               3|              6.0|\n",
      "|2015000044|      2|      0|   22|false| true|false|   1|        3|        FC|      0|       84.4|  1.52|   B|            2.0|     5|      3|    425794|    L|false|               3|              6.0|\n",
      "|2015000044|      3|      0|   21|false| true|false|   1|        4|        FC|      0|       86.2|  1.52|   S|            2.0|     5|      3|    425794|    L|false|               3|              6.0|\n",
      "|2015000044|      3|      0|   51|false| true|false|   1|        5|        FF|      1|       88.3|  1.52|   S|            2.0|     5|      3|    425794|    L|false|               3|              0.0|\n",
      "|2015000044|      3|      0|   40|false| true|false|   1|        6|        FF|      2|       88.3|  1.52|   X|            2.0|     5|      3|    425794|    L|false|               3|              0.0|\n",
      "|2015000059|      0|      0|   59| true|false|false|   1|        1|        FF|      0|       93.0|  1.43|   S|            2.0|     7|      3|    593372|    L|false|               3|              0.0|\n",
      "|2015000059|      0|      0|   37| true|false|false|   1|        2|        FF|      1|       94.1|  1.43|   B|            2.0|     7|      3|    593372|    L|false|               3|              0.0|\n",
      "|2015000059|      1|      0|   73| true|false|false|   1|        3|        FT|      1|       92.2|  1.43|   B|            2.0|     7|      3|    593372|    L|false|               3|              2.0|\n",
      "|2015000059|      2|      0|   42|false| true|false|   1|        4|        CH|      1|       85.5|  1.43|   S|            2.0|     7|      3|    593372|    L|false|               3|              3.0|\n",
      "|2015000059|      2|      0|   35|false| true|false|   1|        5|        CH|      2|       84.9|  1.43|   B|            2.0|     7|      3|    593372|    L|false|               3|              3.0|\n",
      "|2015000059|      3|      0|   61|false| true|false|   1|        6|        CH|      2|       84.5|  1.43|   S|            2.0|     7|      3|    593372|    L|false|               3|              3.0|\n",
      "|2015000183|      0|      1|   47|false|false|false|   1|        1|        FT|      0|       90.0|  1.39|   B|          0.769|     6|      2|    527054|    L|false|               1|              2.0|\n",
      "|2015000183|      1|      1|   28|false|false|false|   1|        2|        FT|      0|       89.2|  1.49|   B|            2.0|     6|      2|    527054|    L|false|               1|              2.0|\n",
      "|2015000183|      2|      1|   56|false|false|false|   1|        3|        FT|      0|       89.5|  1.31|   B|            2.0|     6|      2|    527054|    L|false|               1|              2.0|\n",
      "|2015000183|      3|      1|   49|false|false|false|   1|        4|        FF|      0|       89.6|  1.26|   S|            2.0|     6|      2|    527054|    L|false|               1|              0.0|\n",
      "|2015000183|      3|      1|   59|false|false|false|   1|        5|        FT|      1|       90.2|  1.31|   S|           0.67|     6|      2|    527054|    L|false|               1|              2.0|\n",
      "|2015000183|      3|      1|   57|false|false|false|   1|        6|        FT|      2|       90.4|  1.49|   X|            2.0|     6|      2|    527054|    L|false|               1|              2.0|\n",
      "|2015000294|      0|      0|   71|false|false|false|   0|        1|        FT|      0|       91.3|  1.55|   B|            2.0|     2|      1|    453329|    R|false|               1|              2.0|\n",
      "|2015000294|      1|      0|   59|false|false|false|   0|        2|        FT|      0|       90.8|  1.48|   S|            2.0|     2|      1|    453329|    R|false|               1|              2.0|\n",
      "+----------+-------+-------+-----+-----+-----+-----+----+---------+----------+-------+-----------+------+----+---------------+------+-------+----------+-----+-----+----------------+-----------------+\n",
      "only showing top 20 rows\n",
      "\n"
     ]
    }
   ],
   "source": [
    "from pyspark.ml.feature import StringIndexer\n",
    "\n",
    "indexer = StringIndexer(inputCol=\"pitch_type\", outputCol=\"latent_pitch_type\")\n",
    "df = indexer.fit(df).transform(df)\n",
    "df.show()"
   ]
  },
  {
   "cell_type": "code",
   "execution_count": null,
   "metadata": {},
   "outputs": [],
   "source": []
  }
 ],
 "metadata": {
  "kernelspec": {
   "display_name": "Python 3",
   "language": "python",
   "name": "python3"
  },
  "language_info": {
   "codemirror_mode": {
    "name": "ipython",
    "version": 3
   },
   "file_extension": ".py",
   "mimetype": "text/x-python",
   "name": "python",
   "nbconvert_exporter": "python",
   "pygments_lexer": "ipython3",
   "version": "3.6.8"
  }
 },
 "nbformat": 4,
 "nbformat_minor": 2
}

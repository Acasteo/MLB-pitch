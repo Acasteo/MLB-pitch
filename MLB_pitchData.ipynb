{
 "cells": [
  {
   "cell_type": "markdown",
   "metadata": {},
   "source": [
    "#### Initialize Spark session"
   ]
  },
  {
   "cell_type": "code",
   "execution_count": 1,
   "metadata": {},
   "outputs": [],
   "source": [
    "from pyspark.sql import SparkSession\n",
    "\n",
    "spark = SparkSession \\\n",
    "    .builder \\\n",
    "    .master(\"local[*]\") \\\n",
    "    .appName(\"xor\") \\\n",
    "    .config(\"spark.executor.memory\", '2g') \\\n",
    "    .config('spark.executor.cores', '1') \\\n",
    "    .config('spark.cores.max', '1') \\\n",
    "    .config(\"spark.driver.memory\",'1g') \\\n",
    "    .getOrCreate()\n",
    "\n",
    "sc = spark.sparkContext\n"
   ]
  },
  {
   "cell_type": "markdown",
   "metadata": {},
   "source": [
    "#### Read in data and merge dataset on ab_id"
   ]
  },
  {
   "cell_type": "code",
   "execution_count": 2,
   "metadata": {},
   "outputs": [],
   "source": [
    "pitches = spark.read.option(\"inferSchema\", \"true\").csv('Data/pitches_update.csv', header = True)\n",
    "atbats = spark.read.option(\"inferSchema\", \"true\").csv('Data/atbats.csv', header = True).select(\"ab_id\", \"batter_id\", \n",
    "                                                                                               \"inning\", \"p_score\", \n",
    "                                                                                               \"p_throws\", \"pitcher_id\",\n",
    "                                                                                               \"stand\", \"top\")\n",
    "\n",
    "df = pitches.join(atbats, \"ab_id\")"
   ]
  },
  {
   "cell_type": "markdown",
   "metadata": {},
   "source": [
    "#### Drop unnecessary variables"
   ]
  },
  {
   "cell_type": "code",
   "execution_count": 3,
   "metadata": {},
   "outputs": [],
   "source": [
    "df = df.drop(\"ax\", \"ay\", \"az\", \"break_angle\", \"break_length\", \"break_y\", \"code\", \"event\", \"g_id\",\n",
    "            \n",
    "            'nasty', \"spin_dir\", \"end_speed\",\n",
    "             \n",
    "            \"vx0\", \"vy0\", \"vz0\", \"x\", \"y\", \"z\", \"zone\", \"spin_rate\")"
   ]
  },
  {
   "cell_type": "code",
   "execution_count": 4,
   "metadata": {},
   "outputs": [
    {
     "data": {
      "text/plain": [
       "['ab_id',\n",
       " '_c0',\n",
       " 'b_count',\n",
       " 'b_score',\n",
       " 'on_1b',\n",
       " 'on_2b',\n",
       " 'on_3b',\n",
       " 'outs',\n",
       " 'pfx_x',\n",
       " 'pfx_z',\n",
       " 'pitch_num',\n",
       " 'pitch_type',\n",
       " 'px',\n",
       " 'pz',\n",
       " 's_count',\n",
       " 'start_speed',\n",
       " 'sz_bot',\n",
       " 'sz_top',\n",
       " 'type',\n",
       " 'type_confidence',\n",
       " 'x0',\n",
       " 'y0',\n",
       " 'z0',\n",
       " 'next_pitch',\n",
       " 'batter_id',\n",
       " 'inning',\n",
       " 'p_score',\n",
       " 'p_throws',\n",
       " 'pitcher_id',\n",
       " 'stand',\n",
       " 'top']"
      ]
     },
     "execution_count": 4,
     "metadata": {},
     "output_type": "execute_result"
    }
   ],
   "source": [
    "df.columns"
   ]
  },
  {
   "cell_type": "code",
   "execution_count": 5,
   "metadata": {},
   "outputs": [
    {
     "name": "stdout",
     "output_type": "stream",
     "text": [
      "+----------+----------+\n",
      "|pitch_type|next_pitch|\n",
      "+----------+----------+\n",
      "|        FF|        FF|\n",
      "|        FF|        FF|\n",
      "|        FF|        FF|\n",
      "|        FF|        CU|\n",
      "|        CU|        FF|\n",
      "|        FF|        FC|\n",
      "|        FF|        FF|\n",
      "|        FF|        FF|\n",
      "|        SI|        FF|\n",
      "|        FF|        CU|\n",
      "|        FF|        FF|\n",
      "|        FF|        FF|\n",
      "|        FF|        FF|\n",
      "|        FF|        FC|\n",
      "|        SI|        FC|\n",
      "|        FF|        CU|\n",
      "|        CU|        FC|\n",
      "|        FC|        FC|\n",
      "|        CU|        FC|\n",
      "|        FC|        FF|\n",
      "+----------+----------+\n",
      "only showing top 20 rows\n",
      "\n"
     ]
    }
   ],
   "source": [
    "df.select('pitch_type', 'next_pitch').show()"
   ]
  },
  {
   "cell_type": "markdown",
   "metadata": {},
   "source": [
    "#### Create new variable score_difference"
   ]
  },
  {
   "cell_type": "code",
<<<<<<< HEAD
   "execution_count": 4,
=======
   "execution_count": 6,
>>>>>>> 5c7a551ea214ff3b1a0ec1d522a4542160e8bb18
   "metadata": {},
   "outputs": [],
   "source": [
    "df=df.withColumn(\"score_difference\", df.p_score-df.b_score)"
   ]
  },
  {
   "cell_type": "markdown",
   "metadata": {},
   "source": [
    "#### Remove low frequency observations (look at pitch_type to decide which ones to remove)"
   ]
  },
  {
   "cell_type": "code",
<<<<<<< HEAD
   "execution_count": 5,
=======
   "execution_count": 7,
>>>>>>> 5c7a551ea214ff3b1a0ec1d522a4542160e8bb18
   "metadata": {},
   "outputs": [],
   "source": [
    "from pyspark.sql.types import StringType, IntegerType, DoubleType\n",
    "from pyspark.sql.functions import udf\n",
    "from pyspark.sql import functions as f\n",
    "from pyspark.sql.functions import col"
   ]
  },
  {
   "cell_type": "code",
<<<<<<< HEAD
   "execution_count": 6,
=======
   "execution_count": 8,
>>>>>>> 5c7a551ea214ff3b1a0ec1d522a4542160e8bb18
   "metadata": {},
   "outputs": [],
   "source": [
    "df = df.filter(\n",
    "    (col('pitch_type') != 'UN') &\n",
    "    (col('pitch_type') != 'EP') &\n",
    "    (col('pitch_type') != 'AB') &\n",
    "    (col('pitch_type') != 'FA') &\n",
    "    (col('pitch_type') != 'IN') &\n",
    "    (col('pitch_type') != 'SC') &\n",
    "    (col('next_pitch') != 'UN') &\n",
    "    (col('next_pitch') != 'EP') &\n",
    "    (col('next_pitch') != 'AB') &\n",
    "    (col('next_pitch') != 'FA') &\n",
    "    (col('next_pitch') != 'IN') &\n",
    "    (col('next_pitch') != 'SC'))"
   ]
  },
  {
   "cell_type": "markdown",
   "metadata": {},
   "source": [
    "#### FO and PO are the same so consolidate"
   ]
  },
  {
   "cell_type": "code",
<<<<<<< HEAD
   "execution_count": 7,
=======
   "execution_count": 9,
>>>>>>> 5c7a551ea214ff3b1a0ec1d522a4542160e8bb18
   "metadata": {},
   "outputs": [],
   "source": [
    "df=df.na.replace(['FO'], ['PO'], 'pitch_type')\n",
    "df=df.na.replace(['FO'], ['PO'], 'next_pitch')\n",
    "df = df.filter(col('pitch_type') != 'PO')\n",
    "df = df.filter(col('next_pitch') != 'PO')"
   ]
  },
  {
   "cell_type": "markdown",
   "metadata": {},
   "source": [
    "#### Create new column that is a latent variable based on pitch_type"
   ]
  },
  {
   "cell_type": "code",
<<<<<<< HEAD
   "execution_count": 8,
=======
   "execution_count": 10,
>>>>>>> 5c7a551ea214ff3b1a0ec1d522a4542160e8bb18
   "metadata": {},
   "outputs": [
    {
     "data": {
      "text/plain": [
       "[Row(ab_id=2015000283.0, _c0=1110, b_count=0.0, b_score=1.0, on_1b=False, on_2b=False, on_3b=False, outs=1.0, pfx_x=6.08, pfx_z=9.83, pitch_num=1.0, pitch_type='FF', px=-0.532, pz=2.702, s_count=1.0, start_speed=93.7, sz_bot=1.86, sz_top=3.83, type='S', type_confidence=2.0, x0=2.161, y0=50.0, z0=6.151, next_pitch='FF', batter_id=120074, inning=1, p_score=0, p_throws='L', pitcher_id=430935, stand='L', top=True, score_difference=-1.0, latent_pitch_type=0.0),\n",
       " Row(ab_id=2015000283.0, _c0=1111, b_count=0.0, b_score=1.0, on_1b=False, on_2b=False, on_3b=False, outs=1.0, pfx_x=4.54, pfx_z=12.83, pitch_num=2.0, pitch_type='FF', px=-0.312, pz=2.224, s_count=2.0, start_speed=93.2, sz_bot=1.92, sz_top=3.75, type='S', type_confidence=2.0, x0=2.316, y0=50.0, z0=5.9239999999999995, next_pitch='FF', batter_id=120074, inning=1, p_score=0, p_throws='L', pitcher_id=430935, stand='L', top=True, score_difference=-1.0, latent_pitch_type=0.0)]"
      ]
     },
<<<<<<< HEAD
     "execution_count": 8,
=======
     "execution_count": 10,
>>>>>>> 5c7a551ea214ff3b1a0ec1d522a4542160e8bb18
     "metadata": {},
     "output_type": "execute_result"
    }
   ],
   "source": [
    "from pyspark.ml.feature import StringIndexer\n",
    "from pyspark.ml.tuning import CrossValidator\n",
    "\n",
    "indexer = StringIndexer(inputCol=\"pitch_type\", outputCol=\"latent_pitch_type\")\n",
    "df = indexer.fit(df).transform(df)\n",
    "df.head(2)"
   ]
  },
  {
   "cell_type": "code",
<<<<<<< HEAD
   "execution_count": 9,
=======
   "execution_count": 11,
>>>>>>> 5c7a551ea214ff3b1a0ec1d522a4542160e8bb18
   "metadata": {},
   "outputs": [],
   "source": [
    "indexer = StringIndexer(inputCol=\"next_pitch\", outputCol=\"latent_next_pitch\")\n",
    "df = indexer.fit(df).transform(df)"
   ]
  },
  {
   "cell_type": "code",
   "execution_count": 12,
   "metadata": {},
   "outputs": [
    {
     "name": "stdout",
     "output_type": "stream",
     "text": [
      "+-----------------+------+\n",
      "|latent_pitch_type| count|\n",
      "+-----------------+------+\n",
      "|              8.0| 30833|\n",
      "|              0.0|761418|\n",
      "|              7.0| 50115|\n",
      "|              1.0|329448|\n",
      "|              4.0|177908|\n",
      "|              3.0|211135|\n",
      "|              2.0|243857|\n",
      "|              6.0|109248|\n",
      "|              5.0|176588|\n",
      "|              9.0|  8100|\n",
      "+-----------------+------+\n",
      "\n",
      "+----------+------+\n",
      "|pitch_type| count|\n",
      "+----------+------+\n",
      "|        FT|243857|\n",
      "|        SL|329448|\n",
      "|        FC|109248|\n",
      "|        FF|761418|\n",
      "|        FS| 30833|\n",
      "|        KC| 50115|\n",
      "|        CH|211135|\n",
      "|        CU|177908|\n",
      "|        KN|  8100|\n",
      "|        SI|176588|\n",
      "+----------+------+\n",
      "\n"
     ]
    }
   ],
   "source": [
    "df.groupBy(\"latent_pitch_type\").count().show()\n",
    "df.groupBy(\"pitch_type\").count().show()"
   ]
  },
  {
   "cell_type": "code",
   "execution_count": 13,
   "metadata": {},
   "outputs": [
    {
     "name": "stdout",
     "output_type": "stream",
     "text": [
      "+-----------------+------+\n",
      "|latent_next_pitch| count|\n",
      "+-----------------+------+\n",
      "|              8.0| 36597|\n",
      "|              0.0|732538|\n",
      "|              7.0| 48439|\n",
      "|              1.0|346583|\n",
      "|              4.0|169810|\n",
      "|              3.0|238241|\n",
      "|              2.0|238362|\n",
      "|              6.0|113084|\n",
      "|              5.0|166967|\n",
      "|              9.0|  8029|\n",
      "+-----------------+------+\n",
      "\n",
      "+----------+------+\n",
      "|next_pitch| count|\n",
      "+----------+------+\n",
      "|        FT|238241|\n",
      "|        SL|346583|\n",
      "|        FC|113084|\n",
      "|        FF|732538|\n",
      "|        FS| 36597|\n",
      "|        KC| 48439|\n",
      "|        CH|238362|\n",
      "|        CU|166967|\n",
      "|        KN|  8029|\n",
      "|        SI|169810|\n",
      "+----------+------+\n",
      "\n"
     ]
    }
   ],
   "source": [
    "df.groupBy(\"latent_next_pitch\").count().show()\n",
    "df.groupBy(\"next_pitch\").count().show()"
   ]
  },
  {
   "cell_type": "markdown",
   "metadata": {},
   "source": [
    "#### Create new column that is latent variable based on balls and strikes"
   ]
  },
  {
   "cell_type": "code",
<<<<<<< HEAD
   "execution_count": 10,
=======
   "execution_count": 14,
>>>>>>> 5c7a551ea214ff3b1a0ec1d522a4542160e8bb18
   "metadata": {},
   "outputs": [],
   "source": [
    "def count_status(b_count, s_count):\n",
    "    if   b_count==0 and s_count==0: return 0\n",
    "    elif b_count==1 and s_count==0: return 1\n",
    "    elif b_count==0 and s_count==1: return 2\n",
    "    elif b_count==1 and s_count==1: return 3\n",
    "    elif b_count==2 and s_count==0: return 4\n",
    "    elif b_count==0 and s_count==2: return 5\n",
    "    elif b_count==3 and s_count==0: return 6\n",
    "    elif b_count==2 and s_count==1: return 7\n",
    "    elif b_count==1 and s_count==2: return 8\n",
    "    elif b_count==3 and s_count==1: return 9\n",
    "    elif b_count==2 and s_count==2: return 10\n",
    "    elif b_count==3 and s_count==2: return 11\n",
    "    \n",
    "udfcount_status = udf(count_status, IntegerType())\n",
    "df = df.withColumn(\"count_status\", udfcount_status(\"b_count\", \"s_count\"))\n",
    "\n",
    "df = df.na.drop(subset=[\"count_status\"]) #around 14 na's that we drop"
   ]
  },
  {
   "cell_type": "markdown",
   "metadata": {},
   "source": [
    "#### Create new column that is latent variable based on on_1b, on_2b, and on_3b"
   ]
  },
  {
   "cell_type": "code",
<<<<<<< HEAD
   "execution_count": 11,
=======
   "execution_count": 15,
>>>>>>> 5c7a551ea214ff3b1a0ec1d522a4542160e8bb18
   "metadata": {},
   "outputs": [],
   "source": [
    "def base_status(on_1b, on_2b, on_3b):\n",
    "    if   on_1b==0 and on_2b==0 and on_3b==0: return 0\n",
    "    elif on_1b==1 and on_2b==0 and on_3b==0: return 1\n",
    "    elif on_1b==0 and on_2b==1 and on_3b==0: return 2\n",
    "    elif on_1b==0 and on_2b==0 and on_3b==1: return 3\n",
    "    elif on_1b==1 and on_2b==1 and on_3b==0: return 4\n",
    "    elif on_1b==1 and on_2b==0 and on_3b==1: return 5\n",
    "    elif on_1b==0 and on_2b==1 and on_3b==1: return 6\n",
    "    elif on_1b==1 and on_2b==1 and on_3b==1: return 7\n",
    "    \n",
    "udfbase_status = udf(base_status, IntegerType())\n",
    "df = df.withColumn(\"base_status\", udfbase_status(\"on_1b\", \"on_2b\", \"on_3b\"))"
   ]
  },
  {
   "cell_type": "markdown",
   "metadata": {},
   "source": [
    "#### Create new column binning score_difference"
   ]
  },
  {
   "cell_type": "code",
<<<<<<< HEAD
   "execution_count": 12,
=======
   "execution_count": 16,
>>>>>>> 5c7a551ea214ff3b1a0ec1d522a4542160e8bb18
   "metadata": {},
   "outputs": [],
   "source": [
    "def bin_score(score_difference):\n",
    "    if score_difference<(-4): return (-5)\n",
    "    elif score_difference>(4): return (5)\n",
    "    elif score_difference==(-4): return (-4)\n",
    "    elif score_difference==(-3): return (-3) \n",
    "    elif score_difference==(-2): return (-2)\n",
    "    elif score_difference==(-1): return (-1) \n",
    "    elif score_difference==(0): return (0) \n",
    "    elif score_difference==(1): return (1)\n",
    "    elif score_difference==(2): return (2)\n",
    "    elif score_difference==(3): return (3)\n",
    "    elif score_difference==(4): return (4)\n",
    "udfbin_score = udf(bin_score, IntegerType())\n",
    "df = df.withColumn(\"binned_score_difference\", udfbin_score(\"score_difference\"))"
   ]
  },
  {
   "cell_type": "markdown",
   "metadata": {},
   "source": [
    "#### Create new column binning pitch_num"
   ]
  },
  {
   "cell_type": "code",
<<<<<<< HEAD
   "execution_count": 13,
=======
   "execution_count": 17,
>>>>>>> 5c7a551ea214ff3b1a0ec1d522a4542160e8bb18
   "metadata": {},
   "outputs": [],
   "source": [
    "def bin_pitch_num(pitch_num):\n",
    "    if pitch_num>(14.0): \n",
    "        return (14.0)\n",
    "    else: \n",
    "        return(pitch_num)\n",
    "udfpitch_num = udf(bin_pitch_num, DoubleType())\n",
    "df = df.withColumn(\"pitch_num\", udfpitch_num(\"pitch_num\"))"
   ]
  },
  {
   "cell_type": "code",
   "execution_count": 18,
   "metadata": {},
   "outputs": [
    {
     "name": "stdout",
     "output_type": "stream",
     "text": [
      "+---------+------+\n",
      "|pitch_num| count|\n",
      "+---------+------+\n",
      "|      8.0|  8764|\n",
      "|      7.0| 23378|\n",
      "|      1.0|650092|\n",
      "|      4.0|267053|\n",
      "|     11.0|   408|\n",
      "|     14.0|    32|\n",
      "|      3.0|404037|\n",
      "|      2.0|536649|\n",
      "|     10.0|  1123|\n",
      "|     13.0|    48|\n",
      "|      6.0| 59617|\n",
      "|      5.0|144097|\n",
      "|      9.0|  3190|\n",
      "|     12.0|   148|\n",
      "+---------+------+\n",
      "\n"
     ]
    }
   ],
   "source": [
    "df.groupby(\"pitch_num\").count().show()"
   ]
  },
  {
   "cell_type": "code",
<<<<<<< HEAD
   "execution_count": 14,
=======
   "execution_count": 19,
>>>>>>> 5c7a551ea214ff3b1a0ec1d522a4542160e8bb18
   "metadata": {},
   "outputs": [],
   "source": [
    "def binary_stand(stand):\n",
    "    if stand == 'R':\n",
    "        return 1\n",
    "    else:\n",
    "        return 0\n",
    "udfstand = udf(binary_stand, IntegerType())\n",
    "df = df.withColumn(\"stand\", udfstand(\"stand\"))"
   ]
  },
  {
   "cell_type": "code",
   "execution_count": 20,
   "metadata": {},
   "outputs": [
    {
     "name": "stdout",
     "output_type": "stream",
     "text": [
      "+-----+-------+\n",
      "|stand|  count|\n",
      "+-----+-------+\n",
      "|    1|1217517|\n",
      "|    0| 881119|\n",
      "+-----+-------+\n",
      "\n"
     ]
    }
   ],
   "source": [
    "df.groupby('stand').count().show()"
   ]
  },
  {
   "cell_type": "code",
   "execution_count": 21,
   "metadata": {},
   "outputs": [
    {
     "name": "stdout",
     "output_type": "stream",
     "text": [
      "+--------+-------+\n",
      "|p_throws|  count|\n",
      "+--------+-------+\n",
      "|       L| 562673|\n",
      "|       R|1535963|\n",
      "+--------+-------+\n",
      "\n"
     ]
    }
   ],
   "source": [
    "df.groupby('p_throws').count().show()"
   ]
  },
  {
   "cell_type": "code",
<<<<<<< HEAD
   "execution_count": 15,
=======
   "execution_count": 22,
>>>>>>> 5c7a551ea214ff3b1a0ec1d522a4542160e8bb18
   "metadata": {},
   "outputs": [],
   "source": [
    "def binary_p_throw(p_throw):\n",
    "    if p_throw == 'R':\n",
    "        return 1\n",
    "    else:\n",
    "        return 0\n",
    "udfp_throw = udf(binary_p_throw, IntegerType())\n",
    "df = df.withColumn(\"p_throws\", udfstand(\"p_throws\"))"
   ]
  },
  {
   "cell_type": "code",
   "execution_count": 23,
   "metadata": {},
   "outputs": [
    {
     "name": "stdout",
     "output_type": "stream",
     "text": [
      "+--------+-------+\n",
      "|p_throws|  count|\n",
      "+--------+-------+\n",
      "|       1|1535963|\n",
      "|       0| 562673|\n",
      "+--------+-------+\n",
      "\n"
     ]
    }
   ],
   "source": [
    "df.groupby('p_throws').count().show()"
   ]
  },
  {
   "cell_type": "code",
<<<<<<< HEAD
   "execution_count": 16,
=======
   "execution_count": 24,
>>>>>>> 5c7a551ea214ff3b1a0ec1d522a4542160e8bb18
   "metadata": {},
   "outputs": [],
   "source": [
    "def binary_top(top):\n",
    "    if top:\n",
    "        return 1\n",
    "    else:\n",
    "        return 0\n",
    "udfp_top = udf(binary_top, IntegerType())\n",
    "df = df.withColumn(\"top\", udfstand(\"top\"))"
   ]
  },
  {
   "cell_type": "code",
<<<<<<< HEAD
   "execution_count": 17,
   "metadata": {},
   "outputs": [],
   "source": [
    "df = df.withColumn(\"pitch_number\", df.pitch_num+1)\n",
    "df = df.drop('pitch_num')\n",
    "df = df.withColumnRenamed('pitch_number', 'pitch_num')"
   ]
  },
  {
   "cell_type": "code",
   "execution_count": 20,
=======
   "execution_count": 25,
>>>>>>> 5c7a551ea214ff3b1a0ec1d522a4542160e8bb18
   "metadata": {},
   "outputs": [
    {
     "data": {
      "text/plain": [
       "['ab_id',\n",
       " '_c0',\n",
       " 'b_count',\n",
       " 'b_score',\n",
       " 'on_1b',\n",
       " 'on_2b',\n",
       " 'on_3b',\n",
       " 'outs',\n",
       " 'pfx_x',\n",
       " 'pfx_z',\n",
<<<<<<< HEAD
=======
       " 'pitch_num',\n",
>>>>>>> 5c7a551ea214ff3b1a0ec1d522a4542160e8bb18
       " 'pitch_type',\n",
       " 'px',\n",
       " 'pz',\n",
       " 's_count',\n",
       " 'start_speed',\n",
       " 'sz_bot',\n",
       " 'sz_top',\n",
       " 'type',\n",
       " 'type_confidence',\n",
       " 'x0',\n",
       " 'y0',\n",
       " 'z0',\n",
       " 'next_pitch',\n",
       " 'batter_id',\n",
       " 'inning',\n",
       " 'p_score',\n",
       " 'p_throws',\n",
       " 'pitcher_id',\n",
       " 'stand',\n",
       " 'top',\n",
       " 'score_difference',\n",
       " 'latent_pitch_type',\n",
       " 'latent_next_pitch',\n",
       " 'count_status',\n",
       " 'base_status',\n",
<<<<<<< HEAD
       " 'binned_score_difference',\n",
       " 'pitch_num']"
      ]
     },
     "execution_count": 20,
=======
       " 'binned_score_difference']"
      ]
     },
     "execution_count": 25,
>>>>>>> 5c7a551ea214ff3b1a0ec1d522a4542160e8bb18
     "metadata": {},
     "output_type": "execute_result"
    }
   ],
   "source": [
    "df.columns"
   ]
  },
  {
   "cell_type": "code",
<<<<<<< HEAD
   "execution_count": 18,
=======
   "execution_count": 26,
>>>>>>> 5c7a551ea214ff3b1a0ec1d522a4542160e8bb18
   "metadata": {},
   "outputs": [],
   "source": [
    "df = df.drop('_c0', 'b_count', 'on_1b', 'on_2b', 'on_3b', 's_count')"
   ]
  },
  {
   "cell_type": "code",
   "execution_count": 27,
   "metadata": {},
   "outputs": [
    {
     "data": {
      "text/plain": [
       "['ab_id',\n",
       " 'b_score',\n",
       " 'outs',\n",
       " 'pfx_x',\n",
       " 'pfx_z',\n",
       " 'pitch_num',\n",
       " 'pitch_type',\n",
       " 'px',\n",
       " 'pz',\n",
       " 'start_speed',\n",
       " 'sz_bot',\n",
       " 'sz_top',\n",
       " 'type',\n",
       " 'type_confidence',\n",
       " 'x0',\n",
       " 'y0',\n",
       " 'z0',\n",
       " 'next_pitch',\n",
       " 'batter_id',\n",
       " 'inning',\n",
       " 'p_score',\n",
       " 'p_throws',\n",
       " 'pitcher_id',\n",
       " 'stand',\n",
       " 'top',\n",
       " 'score_difference',\n",
       " 'latent_pitch_type',\n",
       " 'latent_next_pitch',\n",
       " 'count_status',\n",
       " 'base_status',\n",
       " 'binned_score_difference']"
      ]
     },
     "execution_count": 27,
     "metadata": {},
     "output_type": "execute_result"
    }
   ],
   "source": [
    "df.columns"
   ]
  },
  {
   "cell_type": "markdown",
   "metadata": {},
   "source": [
    "#### Create a pie plot of distribution of pitch_type"
   ]
  },
  {
   "cell_type": "code",
<<<<<<< HEAD
   "execution_count": 19,
=======
   "execution_count": 32,
>>>>>>> 5c7a551ea214ff3b1a0ec1d522a4542160e8bb18
   "metadata": {},
   "outputs": [
    {
     "data": {
<<<<<<< HEAD
      "text/plain": [
       "<Figure size 3000x1300 with 1 Axes>"
=======
      "image/png": "iVBORw0KGgoAAAANSUhEUgAABp8AAAMSCAYAAACcaNw4AAAABHNCSVQICAgIfAhkiAAAAAlwSFlzAAALEgAACxIB0t1+/AAAADl0RVh0U29mdHdhcmUAbWF0cGxvdGxpYiB2ZXJzaW9uIDIuMi4zLCBodHRwOi8vbWF0cGxvdGxpYi5vcmcvIxREBQAAIABJREFUeJzs3Xl4lNXdxvH7ZIesEBJCwjLIKgECRKiyyCKLCFSUtqIWEK0iVhRQcVBfGVFxq9JS61atUBeqBXFhUMuSAuKCgGEpqMgmQiJrIIEkZDnvHzPBEBLWJBOS7+e6nmsy5znPeX4TuAKZe845xlorAAAAAAAAAAAAoDz4+boAAAAAAAAAAAAAVB+ETwAAAAAAAAAAACg3hE8AAAAAAAAAAAAoN4RPAAAAAAAAAAAAKDeETwAAAAAAAAAAACg3hE8AAAAAAAAAAAAoN4RPAAAAAAAAAAAAKDeETwAAAACAasEYc5Ex5hVjzLfGmKPGmIPGmI3GmFnGmN7F+m03xmzwZa0AAABAdRbg6wIAAAAAADhfxphLJC2VlCfpn5L+J6mWpJaShkjKlJTiswIBAACAGoTwCQAAAABQHUyRVFtSR2ttavETxpg7JcX5pCoAAACgBiJ8AgAAAABUBy0k7S8ZPEmStbZQ0u7KLwkAAAComdjzCQAAAABQHWyRFG2MudbXhQAAAAA1nbHW+roGAAAAAADOizHmMnn2fAqUtFnSZ5K+lvRfa+2mEn23S8qy1rat7DoBAACAmoDwCQAAAABQLRhj2km6R9JASbHFTn0maZS1dqu333YRPgEAAAAVhvAJAAAAAFDtGGOaSOop6Q+SekjaICnZWnuM8AkAAACoWIRPAAAAAIBqyxhjJC2X1E1SD2vtZ4RPAAAAQMXy83UBAAAAAABUFOv5xOVX3qcJvqwFAAAAqCkInwAAAAAAFzxjTD9jTEAp7bUk9fc+3Vi5VQEAAAA100n/MQcAAAAA4AI0XVK0MeZDSeslHZXUSNINklpK+qe1dr0P6wMAAABqDPZ8AgAAwAXNGNNLUsopuuRKCj7D4UZba2eeb00AKp8xpr+kqyV1l2d5vShJhyStk/SGpJnW2kJv3+1izycAAACgwhA+AQAA4IJWLHyaLWlBKV1Khk/15JkhsVzSKyX6fm6t3VoBZQIAAAAAUGOw7B4AAACqizXW2jdP18kY45AnfNp6Jv0BAAAAAMDZ8fN1AQAAAAAAAAAAAKg+mPkEAACA6qK2MaZeibZca22mT6oBAAAAAKCGYuYTAAAAqotHJO0tcfzdpxUBAAAAAFADMfMJAAAA1cUrkv5doi3dF4UAAAAAAFCTET4BAACguthsrV3k6yIAAAAAAKjpWHYPAAAAAAAAAAAA5YbwCQAAAAAAAAAAAOWG8AkAAAAAAAAAAADlhvAJAAAAAAAAAAAA5YbwCQAAAAAAAAAAAOXGWGt9XQMAAAAAAAAAAACqCWY+AQAAAAAAAAAAoNwQPgEAAAAAAAAAAKDcED4BAAAAAAAAAACg3BA+AQAAAAAAAAAAoNwQPgEAAAAAAAAAAKDcED4BAAAAACqNMSbMGPOAMWa9MSbTGLPPGPO5MeYmY4wp1u8GY8y3xpgsY8xyY0zHUsYKN8bsNMbcV7mvAgAAAMCpGGutr2sAAAAAANQAxhg/SUsldZU0S9KXkmpLul5SF0lPW2vvN8b8StIXkt6V9F9Jt0hKkNTKWptZbLy/SbpMUhdrbX4lvhQAAAAAp0D4BAAAAACoFMaYyyR9LunP1toJxdqDJH0rqa61NsoY84Sk6yQ1s9ZaY0xTSVsl9bfWLiw21lJJl1lrV1f2awEAAABQtgBfFwAAAAAAqDEivI+7izdaa48ZY/ZJCvY21ZKUYX/5tOQB72OodDys+rukGQRPAAAAQNVD+AQAAAAAqCwrJWVImmSM2S7pK3mCppskJUu63dvvC0l3GWNGSFom6V5JxyQVBU1OeYKohyurcAAAcG7WrFkzICAgYIq1Nk6Sn6/rAXCCQmNMhrV2bX5+/rTk5OTN5TUwy+4BAAAAACqNMaaHpFcltSzWnClppLX2fW8fI+l1SaO853MljbfWvmSMaS0pVdLV1tpPK69yAABwttasWTMgODj4eYfDcaxWrVo5fn5+vBkNVCHWWuXl5QUcPnw4ND093ebm5t6VnJz8SXmMTdIMAAAAAKhMWZI2SPqTpGsl/UHSD5LeNsb0kyTrcZOkxpIukxTvDZ6MpFck/dta+6kxpp0xZpExJs0Ys8QY084XLwgAAJQuICBgisPhOBYaGppN8ARUPcYYBQUF5derV++Qw+HIDwwMnFReYxM+AQAAAAAqhTcc+lzSQmvtfdbaedba1yR1l5Qu6e/GGP+i/tbandbaL621RXs+3SapjaQJxphwSYsk7ZA0SNJWSYu87QAAoAqw1sbVqlUrx9d1ADi90NDQo9bapuU1HuETAAAAAKCyTJAUIunfxRuttUcluSU1keQo7UJjTANJT0maYK3dJ2mIpChJ46y1ayTd5X0+uKKKBwAAZ82PGU/AhcGzyIBMeY1H+AQAAAAAqCwJ3kf/Us4FlHgs6XlJK621b3ifN5R0wBtcFQVYByQ1KqdaAQAAAJwjwicAAAAAQGXZ6H28qXijMSZK0tWSDkraUvIiY8xQSVdKur1Y825JMcaY+t4+9SXFeNsBAAAA+BDhEwAAAGocY8xkY8y/jTFbjTHWGLO9jH4hxphbjTEfGGO2G2OyvdfMNsZcXEr/WGPMO8aYA8aYn4wxjxXfv6ZYv4nGmN3GmMgKeHlAVfZneWYnPWmMecMYc7sx5gFJ30hqIOkha21+8QuMMRHyzHqaYq3dWuyUW9JhSfOMMWMlved97q6E14EyGGN6eX+u3lvKuZ7GmEPGmDRjTHtjjMvbN98Y0/psxgIAAEDVVtZyBgAAAEB1Nk2eN8DXyLNHTFkckl6R9Jmk1+SZUXGRpLGSrjXGXGmtTSnW/3VJyZKmSoqVdL88MzmeLepgjHF4z4+01h4ql1cDXCCstTuMMV0kPSzpCknDJWVLSpV0j7X2vVIue1LSHknTS4x10BgzUNJfJT0jaZOkq6y1ByvwJeAcGWMGy7PXV7qkftbaH4wx13pP+0t6QtI1vqoPAFD5HE53sq9rKG77k4NW+7oGVE9Tp06NnTJlSqMVK1Zs7Nq1a3Z5jt23b99mX331VXhmZmZqUdvNN9/c6PXXX4/du3dvar169QrK835ng/AJAAAANVGzohkUxpgNksLK6LdXUkdrbWrxRmPMW/LM1HhG0iXetlryLAt2i7V2prctQdK1KhY+SXpR0sIy3mQHqj1r7RZJo86i/x2nOPeVpC7lURcqjjHmBkmzJH0vT/BUcmnEVZKGGmMus9Z+UekFAgBwHowxZxyiffvtt+tbtWp1rCLrqckOHTrkFxUV1bGs848//viPDzzwwN6KuPfixYtD3W535Pjx4/c0btw4//RXVH+ETwAAAKhxSizddap++yXtL6V9oze0alusOVieZa0PFGs7ICm06Ikx5kZJXSW1OYeyAeCC410S8Xl5AqarvD9XS3pE0juSnpbUoxLLAwDgvP3tb3/bVvz5Z599Fj579ux6119//b7u3btnFj/XoEEDQolKkJSUdOS2227bU7K9e/fuRyrqnitWrAidPn16g9/85jcHCZ88CJ8AAACAs2SM8ZNnf5qfi9qstRnGmG8l3WuM+U5SjKQbJM31XhMtz7JhTmvtrsqvGgAqlzFmsjzLnC6RdLW1NquMruny/Hx80Bjza2vth5VVIwAA5+uOO+4o/uEz5efnm9mzZ9e79NJLs0qeQ+Vo2LDhMb73vufn6wIAAACAC9BYecKnWSXab5HUQtK3kpZL2iHJ5T33nKTNkl6qnBIBwKfGyhM8vS/PjKeygqciT0vaJ+kJY4x/RRcHAIAv7N+/3z8gICB55MiRjYu3DxkypKkxJvmuu+6KL97eq1ev5tHR0UmFhYXH29avXx88ePDgi+rWrZsUFBTUyeFwtJ04cWJ8dna2OdM6Zs2aFdWpU6fWUVFRHWrVqtUxISGh3cCBAy/67rvvgor327x5c9Dw4cOb1K9fv31gYGCn+vXrtx8xYkTjn3/++YR/q7///vug0aNHN2rZsmWb8PDwDiEhIZ1atmzZZurUqbEFBSduOTRt2rQYY0zyokWLQseNG5cQFxfXvlatWh2Tk5NbrVixopYkvffeexFJSUmta9Wq1TE2Nrb9//3f/9U/09d2pt58882oAQMGNEtISGgXHBzcKTIyskOvXr2ap6Sk1C7Z97PPPqt9xRVXNIuNjW0fFBTUKTY2tn23bt1afPTRR+GSZ4+lKVOmNJKkbt26tTHGJBtjkm+++eZGxcfJycnxGzt2bEJsbGz74ODgTm3atLn47bffjjyf2qoyZj4BAAAAZ8EY01WePZzWyfPG6nHW2s+NMU0lJUo6Kuk7a22hMaavpOGSOkryM8Y8JOlGSUbS25KmWmt9thEsAFSABt7Hrdba3NN1ttYeNsY8JunP8uwJ9o+KLA4AAF+Ijo4uuPjii49+9tln4cXbv/zyy3A/Pz8tW7YsQtJuScrLy9OqVavCe/XqdcjPzzOHZN26dcHdu3e/OC8vz4wcOXKvw+HIXbx4ccT06dMbrFq1KjQlJWWzv/+pP8PxzjvvRI4ePbpZmzZtjk6YMGF3eHh44a5duwJTUlIit27dGlS0J9X69euDe/bs2drPz0833HDD3iZNmhz77rvvQt54442YL7/8Mnz16tWbIiIiCiXPknNLliyJHDBgQEazZs1yc3JyzMcffxw1ZcqURjt37gz6+9///lPJOsaPH9/Y39/f3nHHHelHjhzxe+GFF+IGDx7c8rnnnvtx4sSJjUeMGLH3+uuv3//uu+9GP/bYYw1btmyZO2LEiIwz+T4fO3bMpKWlnZB9BAQE2JiYmOO/c7366qv1rLW6/vrr98XHx+ft2LEj6K233oq58sorW6ekpGzq2rVrtiRt2bIlcODAgS1DQ0MLR40atTchIeHYnj17Ar/++uvQlStX1h4yZEjm6NGj9x84cCDggw8+qHv//ffvaty48TFJateuXU7xGsaNG9c4Pz/f3H777T/n5uaaN998M2bEiBHN8/Pzt4wcOTLjbGur6gifAAAAgDPk3UzYLc8vhFdZa3NK9vG2rS52TS1JL0t6wrtX1P2SxkkaKclKekPSEXk+9Q8A1cWTknpKmmiMkbX2njO45kVJd0t6xBgzu0KrAwDAR3r06HH4xRdfjNuxY0dgkyZN8lavXh2yb9++wKuvvvrA/Pnz6x44cMCvbt26hUuXLg09cuSIX69evQ4XXTthwoSGmZmZ/vPnz/9u0KBBWZI0efLkvTfeeGPjt99+O+Yf//hHnVtvvfXgqe7//vvvRxljtHz58u/q1KlTWOxUWvF+t912W5PAwEC7Zs2ajQkJCcf3MLrmmmsyBg0a1OpPf/pTzNSpU3+WpN/85jeHRo0adbAoJJOkKVOm7Onfv3+zWbNmxU6bNi2tePAjSUFBQfarr776NjAwUJLUtGnTY2PHjm06ZsyYpp9//vnGSy65JEeS7rjjjv2NGjVq/+KLL8acafi0cOHCqPj4+KjibY0aNcr98ccfNxQ9//DDD7cWhWdF/vjHP+7r2LFj4hNPPBH30UcfbZOkjz/+OCIrK8t/1qxZW6+99trDKkWPHj2OpqSkHPnggw/q/vrXvz5UVjiUk5Pjl5qauik8PLxQku6+++59iYmJiffdd1/j66+/PqPoe3GmtVV1LLsHAAAAnAFjTCdJCyUdktT7LPZtekRSrn6ZJXWLpJestQustR/LswzfLeVdLwD42FFJgyUtlieAmn66C6y1xyT9n6SGku6q2PIAAPCNvn37ZkrSggULwiXp008/DQ8ODraPPPLI7oKCAn3yySfhkrRo0aJwSbryyiszJeno0aNm+fLlkcnJyVlFwVORxx57LE2SPvjggzqnu39ERERBYWGh3nrrrTr5+fml9tmxY0fgl19+GX7VVVcd9PPzU1paWkDR0aFDh5zY2Ni8xYsXRxT1Dw8PLywKnrKzs83PP//sn5aWFtCvX79DeXl55ssvvzxpubgxY8bsKQpbin9ffvWrX2UWBU/eegvbtGlzdMeOHSGne21FunTpkjlv3rzvix+vvfbaCYFN8XDn4MGDfunp6f7h4eGFrVu3PpqamhpadC4qKqpAkj788MPIw4cPn1eeMmbMmD1FwZMkxcfH5w8fPnzfnj17ApcuXXr8nmdaW1XHzCcAAADgNIwxHeUJnjLlCZ52nMV14yX18b6pKnneVN1ZrNtOSY1KXgsAFzprbbYxZoikDyWNN8YYa+3401z2tqR7JDkl3VzRNQIAUNn69euXFRgYaFNSUsLHjh174L///W9Ep06dspKSknIbNmyYu3jx4ogbbrjh0LJlyyLi4uKOtW3bNleStm3bFpSXl2datWp10qyapk2b5oWFhRXs2LEjWPIEQHv37j1h/b06deoUhoeHFz7wwAM/L1myJHLcuHGOyZMnN+rcuXNW//79D40ePfpA/fr1CyRp7dq1IZI0c+bM2JkzZ8aW9joiIyOPJ1fZ2dlm8uTJDebOnVv3p59+Ci7Z98CBAyetBdiiRYsTluUtmhnVuHHjk5brjYyMzM/IyDjj0CUmJiZ/6NChmafqs3r16pDJkycnfPHFF+FZWVkn1BcREXF8ltbw4cMzZs2alTFr1qzY2bNnx7Rr1+5Inz59Do8cOfJA0Z/NmUpMTDzpz65NmzY5krR58+bgvn37Hjmb2qo6wicAAADgFLwB0iJ5lsbrba09oyUOjDH+kv4u6TVr7WfFTu2W1K7Y83beNgCodrwB1K8lfSDpbmOMn7W2zFlN1lprjHFK+lTS5MqqEwCAyhIeHl7Yvn37IytWrIgoKCjQypUrw2+//fZ0SerWrVvm8uXLw7Ozs80333wTetVVVx1fQs9ae8b3eP/99yNuuOGG5sXb/u///u+nqVOn/tykSZO8jRs3/s/tdof/5z//ifjiiy/CH3jggcZPPfVU/Pz587/v1q1bdtG9rrvuun3Dhw8/UNbrKPp65MiRTebMmRM9dOjQ/U6nc3f9+vXzAwIC7PLly8Oee+65+MLCQlPy+oCAgFJfUFl7Vp3N6z+dtLS0gCuuuKK1McaOHTv258TExGzv7C378MMPJ2zbtu34LKuAgAAtXLhwy4oVK2rNnz8/csWKFeEzZsxoMH369AbTp0/fceedd+4/0/sWX5awSMnXdTa1VXWETwAAAKhxjDEjJDXxPo2RFGSMecj7fIe19g1vvybyzHiqI2mGpK7GmK4lhptnrT1Sym3GS2ogz6f3i3tT0mRjzH559ny6Vb8syQcA1U6JAGqcN4C68xT9/2OMWSzpikorEgCASnT55ZdnTp8+vcGsWbPqHDp0yL9///6ZktSnT5/D7777br3Zs2dH5eTk+PXu3fv47J2LLrroWGBgoP3uu+9qlRxv+/btgVlZWf5NmjTJlaRevXodmTdv3vfF+yQmJh6fpRMYGKihQ4dmFs0OSklJqd2nT5+Lp02b1sDtdm9t06ZNriQVFhbqdDOICgoK9OGHH9bt2bPnoXnz5m0vfm7NmjUnLbdXFcyZMyfy0KFD/rNmzdoycuTIE/aRmjBhQqnpV7du3bK7deuWLSl9165dAcnJyW2mTp2aUBQ+GXNSvnaS9evX1xo4cOAJSyZu2rQpRPplJti51FZVET4BAACgJrpFUs8SbY96H5dKesP7dVNJ0d6vXWWM1VSeWVHHGWOaSpoq6ffW2kMl+k+TFC5pjPf53yQ9cRa1A8AFx1qbY4y5WtL7kv5oPO/Q7DvFJZMkrZJ0+ndyAAC4wPTr1+/w9OnTGzz++OPxYWFhBZdffvkRSRo0aFCmtVbTpk2Ll6SBAwceLrqmdu3atkePHoeWLFkS9cknn4RdeeWVx0OMhx9+uIEkXX311QclqUGDBmUuO5eWlhbQoEGDEzZ7uuSSS3ICAwPtwYMH/SWpRYsWxzp37pz1wQcfRH/xxRd7LrvsshOWiysoKNCePXuOj+Pn52dLzuDZt2+f/6uvvlrqkn2+5u/vb6WTZx394x//qLN9+/aQsLCw40vbpaen+8fGxhYUn7WUkJCQX79+/WPffffd8XAtLCysUJL27dtXZuby8ssvx44dO3Z/0ayx3bt3B/zrX/+qFxMTk9ezZ88jZ1tbVUf4BAAAgBrHWtvrDPv9V+fwxqd3ab5S1yT37v10j/cAgGrlVD83rbU5kq4s0TyljL5rJJ3Xpt4AAFRVvXv3PhISElK4devWkN69ex8KCPC8TZ+QkJDfvHnznB9++CGkSZMmuc2aNcsrft306dN/6t69e/g111zTYtSoUXsdDkfukiVLIhYuXBjVo0ePwzfffPPBUm9YzLBhw5pmZ2f7X3755YcbN258LCsry+/f//53dF5enrnxxhuPLyH3j3/8Y3ufPn1a9erV6+Jhw4bta9++fXZeXp7ZunVr8CeffBJ166237pk6derP/v7+6t+/f8aHH35Y95prrnF07949Ky0tLfCtt96qFx0dnZ+WlhZU7t/A8zRo0KBMp9NZMGHChCYbNmyoFRsbm7dq1arQBQsW1Lnoooty9uzZE1jU9+mnn64/Z86cugMGDMho1qxZrjFGixcvjli3bl3o9ddff/yDNN27d8+SpEceeSR+27Zt+2rVqlWYmJiY450tJUkKCQkpvOSSS1oPHz58f25urnnjjTdiDh06FPDaa69tDQwMPOvaqjrCJwAAAAAAAABApdr+5KDVvq7BV0JCQmxycnLWihUrInr27Hm4+Lnu3bsf/uGHH0K6du16uOR17du3z/3ss882PfDAAwnvvPNOdFZWln98fPyx8ePHp02bNi2trP2Sihs1atT+2bNn1509e3a9jIyMgPDw8IKWLVtmv/322z9cf/31x1dtaNu2be6qVas2ulyuBosWLYqcM2dOvZCQkMIGDRocGzx48MHf/va3x5eEmzlz5o4JEybkf/LJJ3UWLFhQNz4+Pvf222//uUWLFrk33nhj89Ir8Z0mTZrkffTRR9/ff//9DV966aX61lrTvn37LLfb/f3UqVMbFA94Bg0adOiHH34I/vjjj+vs378/ICAgwDZu3Dj38ccf//G+++7bW9Svc+fOOdOmTfvx5Zdfrn/PPfc0KSgoMKNHj97TrVu3nUV9/vrXv/747rvv1nnxxRfrZ2RkBDRr1iznqaee2vL73/8+41xqq+pMeW7UBQAAAADVicPp9pdn9oXxPvrl9IqzCvYvlFQgqSC9dwd+qQIAACjF2rVrtyclJZ1qmVUAVcjatWvrJSUlOcpjLGY+AQAAAKgWHE63kWePrvqS4iTVlWd/rTB5lkEMK+Xr0s6FSip7eZAgv72SYoqexqWkSt4gqsSRLylT0sGzODIkHUzv3eGCWcsdAAAAAEoifAIAAABQpTmc7rr6JVAq/liyLUaSr5ah8PceJUVLcpztYHEpqWWFVgck/SRpa9GR3rtDdlnjAAAAAIAvED4BAAAA8CmH0x0oT0DTzHs0L/b1RZJCfFac74R7j8an6xiXkpquYmFUiWM3ywICAAAAqGyETwAAAAAqnMPpDtUvgVLJgKmxSp81hDMT5z26lnIuJy4ldbtODqW2yDNr6mhlFQkAAACg5iB8AgAAAFBuvPsuNZWUJKmD9zFJ57D0HMpFiKTW3uMkcSmpP8sTRK2TtErSakkb0nt3yK+0CgEAAABUO4RPAAAAAM6Jw+muJamdfgmYOnifR/iyLpyVor2zis+ayolLSV0nTxBVFEj9j0AKAAAAwJkifAIAAABwWg6nO1zSpZIu0S9hUwuxXF51FCKpi/cokhOXkrpWJwdSBT6oDwAAAEAVR/gEAAAA4CQOp7uhpO6Sunkf24mgqSYLkfQr71Eku5RAaiOBFAAAAADCJwAAAKCGczjdfpLa6sSwqbFPi8KFoJY8s+EuLdZ21BtIrZT0X0n/Te/dIcMHtQEAAADwIcInAAAAoIbx7tV0qX4Jmi6VFOnTolBd1JZ0mfe4W1JhXErqGklLvMfy9N4djvqwPgAAAACVgPAJAAAAqAEcTndbSVd6j+6Sgn1bEWoIP3n2CbtE0iRJx+JSUldKWixPGPVleu8Ox3xYHwAAAIAKQPgEAAAAVEMOpztKUj9JA7xHQ99WBEiSguQJP7tLmiLPMn3/lfSxpI/Te3fY4sPaqg1jjJ88M8/GSHJI2ivpXUkPW2uPFOs3QdJdkupKWiHpj9babSXGaizpf5Juttb+u1JeAAAAAC54hE8AAABANeBwuo08s0uKZjf9SpK/T4sCTq+2pKu8h+JSUrfIE0R9IimFJfrO2XR5QqV5kp6VdLH3eUdjTF9rbaEx5reSnpP0gjzh0gRJ84wxnay1hcXGekFSCsETAKDcuSKTfV3CCVyHVlfWrRISEtolJCQcW7ly5XdFbV26dGm1a9euoF27dq0/3fXz588PHzJkSMu//OUv2++66679FVstcG4InwAAAIALlMPpjpUnaBogzyynGN9WBJy3ZpLu9B65cSmpy/XLrKhNPq3sAmGMSZQ0TtJ71tphxdq3SZohabiktyVdK2mptfaP3vOb5FkKsZmkzd624ZIul5RYma8BAIAL1caNG4MeffTRBl9++WVYenp6UGBgoI2JiclLSko6Mnr06P1DhgzJ9HWNQGUhfAIAAAAuIA6nO07SMEm/ldRDnj11gOooWFJf7/FsXErqd5LekTQ7vXeHb31aWdV2vSQj6c8l2v8u6UlJv5cnfKol6UCx80Vfh0qSMaaOd4wHrLU7K7JgAACqg2XLltUeMGBAq4CAADts2LD9iYmJ2dnZ2X7ff/99yKJFi6LCwsIKTxU+LVu27HtrbWWWDFQowicAAACginM43fH6JXDqJgIn1EytJD0s6eG4lNR1kv4l6V/pvTtsO/VlNU5nSYWSVhZvtNbmGGNSvecl6QtJU4wxAyV9K8/39oCkouV/npW0TZ5l9wAAwGm4XK74nJwcvxUrVmzs2rVrdvFzBQUFP+7cuTPwVNeHhIT4NHkqLCxUZmZdLik2AAAgAElEQVSmX2RkZOHpewOnxy+tAAAAQBXkcLobOpzuux1O92eSfpJnuSxmOgEe7SVNk7Q1LiV1ZVxK6sS4lNQEXxdVRcRL2metzS3l3C5J9YwxQfL8TFkmaYGkrZKukHSztTbbGNNb0o2Sbi2x/xMAACjDtm3bgqOiovJLBk+S5O/vL4fDkXeq67t06dIqISGhXcn2N998M+riiy9uExwc3CkuLq79+PHj4/Py8kxpY2RnZxun0xnXvHnzxODg4E7h4eEd+vTp03zFihW1ivebP39+uDEmecaMGdFPPPFETLNmzRJDQkI6PfLII3Fn+7qBsjDzCQAAAKgiHE53Y0m/8R6XyrN0FoBT6+w9/hSXkvqZPDOi/p3eu8Ne35blM7UllRY8SVJOUR9rbYakK40xzSRFS9pkrc00xoRIekXS09baDcaYy+VZrs8haZWkO621P1boKwAA4ALUpEmT3O3bt4fMmjUratSoURnlMeY///nPqJtuuqlZfHz8sQkTJuwOCAiwb7/9dr3//Oc/kSX75ubmml69erX45ptvwq655pr9t956655Dhw75v/HGG/X69u3b+tNPP/3u8ssvP1r8mhdeeKF+RkZGwO9///u9cXFxeY0bNz5WHnUDEuETAAAA4FMOpztW0g2ShkvqIgIn4FwZeWYH9pA0Iy4ldYk8e0TNTe/doVzeALpAHJUUW8a5kGJ9JEnW2i2SthTrM0WeZfseM8Y0kfQfeZbge0/SI5LcxpgO1tqC8i4cAIAL2UMPPZS2YsWKiJtuuqnZlClTcjt37px1ySWXHOnXr19mp06dck4/wony8/N1//33N4qMjMz/+uuvNzVo0CBfkiZMmLCvXbt2bUr2f/LJJ2NWrlwZPmfOnM3Dhg07XNR+77337klMTEy89957G61cufK74tekpaUFbdy4cUNCQkL+ubxm4FRYsgMAAACoZA6nO8jhdA9zON0fybMM1nRJvxLBE1Be/CX1k/SqpJ/jUlI/iktJvTEuJTXMx3VVht3yLK0XXMq5BHmW5Cv1U83GmPaS7pF0m3fZvhsl7ZH0kLV2taTxktrKE5QDAIBi+vbte2TFihWbrr322v2ZmZn+c+bMiXY6nY2Tk5MTk5OTW23cuDHobMZbvnx57fT09KDf/e53+4uCJ0mKjo4uGDVq1EkzvN99993opk2b5nTt2vVoWlpaQNGRm5vr16NHj8Nr1qwJy8rKOuH3jWHDhu0neEJFYeYTAAAAUEkcTndnSaMkXS+pro/LAWqKIEmDvUd2XEqqW56l+T5K792hOi4t87Wk/vIERMuLGr3L6XWQZ5+nkxhj/OQJ62Zaa5d6mxtK2mWtLdoAfaf3sZGkL8q/dAAALmxdunTJnjt37nZJ+v7774P+85//hM+cObPe6tWrw4YOHdp83bp1m0JCQuxphpEkbd68OViSWrdufdKsqcTExJPatm7dGpKTk+MXHx+fVNaY6enpAc2bNz++91TLli3PekYWcKYInwAAAIAK5HC660oaIekP8swYAOA7tfTLvmp74lJSX5X0UnrvDjtPfdkF5R1JD8gzS2l5sfZb5dkP6q0yrrtLnlCpf7G23ZJ+Z4wJ9s6EalesHQAAnELLli2PtWzZcv8dd9yxv3Pnzq3WrFkTtnTp0tABAwZkncn11lojScaYk8KqXz4XcmL/Fi1aZD/99NNl/r8mPj7+hFlOtWvXLjyTWoBzQfgEAAAAlDOH020k9ZEncLpGUmnLXwHwrVh5Qpr741JSP5T0t/TeHRb7uKbzZq1db4z5m6Q7jTHvSVog6WJ5wqWlkt4ueY13b6fHJN1krS2+P9Y7kh6WNNcYs0DSnZI2S/qqYl8FAADVh5+fnzp16nRkzZo1YT/++GPgmV5XNCtp06ZNtUqe27hxY0jJtsaNG+ccPHgwYMiQIZn+/v7nVzRQDtjzCQAAACgnDqe7vsPpfkDSD5IWSRougiegqvOXJyReFJeSuikuJXVcXEpqhK+LOk/jJd0rKVHS3+T5WfRXSYOttaV9wvlFSYuttXOKN1prN8vzvXFIekrSz5KGWGvzThoBAIAabt68eRF5eSf/E5mVlWWWLl0aIUlJSUlnvMxdjx49jtavXz/v3XffjU5LSzs+ieTAgQN+s2bNiinZf/jw4fv37dsX+Mgjj9QvbbydO3cyEQWVir9wAAAAwHlyON2dJN0tzxu8Z7WRMIAqpbWkGZKmxaWkvinp+fTeHf7n45rOmrW2QNKz3uNM+l91inNuSe5yKg0AgGpr0qRJjW677Tb/fv36HWrbtu3R2rVrF+7cuTNo7ty50Tt27Ai+5ppr9nfp0iX7TMcLCAjQE088sfOWW265qHPnzhePGDFib0BAgH3rrbfqRUVF5aelpZ3we8eDDz64Z8mSJRGPPvpow6VLl4b37NkzMyIiouDHH38MWrZsWURwcHDhV1999X35v3KgdIRPAAAAwDlwON3+kobKEzr18HE5AMpXmKTbJd0el5K6VJ7ZQ/PSe3fIP/VlAADgjLkOrfZ1CeXpqaee2jlv3ryolStXhn388cdRmZmZAWFhYQWtWrU6On78+LRx48btP9sxR48efdDPz2/LE088Ef/ss8/G161bN/+6667b16tXr6xrr722RfG+wcHBNiUlZfNTTz0V+69//Sv6mWeeiZek2NjYvKSkpCM33XTTWd8fOB+mtM3JAAAAAJTO4XRHybOX052Smvi4HPhATv/4vTLmpKVOUO3tkvSKpFfSe3dI93UxAABcCNauXbs9KSlpn6/rAHBm1q5dWy8pKclRHmMx8wkAAAA4Aw6nu5WkuySNkhTq43IAVL4ESY9IeiguJfU9SX9L791huY9rAgAAAKokwicAAADgFBxO9wB5lta7UpLxcTkAfC9Q0nWSrotLSV0n6QVJb6b37nDEt2UBAAAAVQfhEwAAAFCCw+kOkmeG0wRJF/u4HABVV3tJL0l6PC4l9TlJf03v3SHTxzUBAAAAPkf4BAAAAHg5nO5gefZzul9SIx+XA+DCES3pcUn3eEOoGYRQAAAAqMkInwAAAFDjOZzuWpLGSLpPUryPywFw4aor6TFJEwmhAAAAUJMRPgEAAKDGcjjdoZLGSrpXUn0flwOg+igeQk2XJ4Q67OOaAAAAgEpD+AQAAIAax+F0h0u6U9JESfV8XA6A6quupEf1Swj1F0IoAAAA1ASETwAAAKgxHE53pKS7vUddH5cDoOaoI2mqpAmEUAAAAKgJCJ8AAABQ7Tmc7jqSJki6S1Kkj8sBUHMVD6H+LE8IdcjHNQEAAADljvAJAAAA1ZbD6Q6RNF6SU4ROAKqOOpIe0S8h1J8JoQAAAFCdED4BAACg2nE43X6SRsiz10ojH5cDAGWJkuSSND4uJfUvkqYTQgEAAKA68PN1AQAAAEB5cjjd/SWtkTRTBE8ALgxRkqZI2h6XkvpQXEpqLV8XBAAAAJwPZj4BAACgWnA43e0lPSOpv69rAYBzFCXPjM3b4lJSnem9O7zt64IAAKgo7Wa1S/Z1DcWtH7V+ta9rAKoTZj4BAADgguZwuhs6nO6Zkr4RwROA6qGRpLfiUlI/j0tJ/ZWviwEAAGcmMzPTb+rUqbHJycmtIiMjOwQEBHSKjo5O6tmzZ/MZM2ZE5+XlndO48+fPD584cWL8vn37/M/mHOBLhE8AAAC4IDmc7giH0/2EpM2SRon/2wKofi6T9EVcSupbcSmpDX1dDAAAKNuGDRuC27Vr12bKlCmNgoODC++66660Z599dsftt9/+c15enrn77rsd48aNO6d/z5csWRI+ffr0Bvv37z8pYDrVOcCXWHYPAAAAFxSH0x0o6Q5JD0mq5+NyAKCiGUk3SBoal5L6J0lPpffucNTHNQEAgGKysrLMkCFDmv/0009BM2fO3DJq1KiMEl3Sly5dWvuLL74I9UmB5yg/P1/Z2dl+4eHhhb6uBRcePh0KAACAC4bD6b5C0npJfxbBE4CapbakhyV9P3DJ33+zeEkz4+uCAACAx1/+8peY7du3h9x2220/lxI8SZJ69ux51Ol07i16boxJHjZsmKNkvxkzZkQbY5Lnz58fLknDhg1zTJ8+vYEktW7dup0xJtkYkzxx4sT4U50rGm///v3+Y8eOTWjcuHHboKCgTnXq1EkaMmRI040bNwaVdt/3338//L777mvQqFGjtiEhIZ1ef/31OuXyTUKNw8wnAAAAVHkOpztO0nOSrvd1LQDgU9ZG3KKX/yZp4uIlzcZd0WcLm6MDAOBj77//fh1JuvPOO/eeru/ZGjt27N7MzEz/hQsXRj3yyCM769Wrly9JycnJ2ZmZmX5lnZM8wdOvfvWr1mlpaUG/+93v9iUmJmanpaUFzpw5M7Zbt24RX3311aaWLVseK34/p9PZKD8/34wYMWJfREREQZs2bXLK+zWhZiB8AgAAQJXlcLr9Jf1R0qOSInxcDgD4XE8tWVNHB3tKipW0cvGSZn+X9MAVfbYc8HFpAADUWJs3b64VGhpa2KZNm2On7312+vbte2TBggXZCxcujLruuusyWrVqdcI9TnXu3nvvjf/pp5+CU1JSNl122WXZRe1jxozZ36lTp8TJkyfHz507d3vxa3JycvzWr1+/kaX2cL5Ydg8AAABVksPp/pWkryX9RQRPAKAAm7ftZr1yWbEmP0ljJH23eEmzW1iKDwAA38jKyvILDQ0t8HUdxRUWFur999+ve8kll2Q6HI68tLS0gKIjPDy8MCkpKWv58uUn/Z5188037yF4Qnlg5hMAAACqFIfTXVfSk5L+IIk3UgHA6w96cV+A8puWcqqepFcljX7uubG3Tpz44qZKLg0AgBotLCys8OjRo1VqokdaWlpARkZGwIoVKyLi4+OTSuvj53dyya1atcqt8OJQIxA+AQAAoEpwON1G0mhJT8nzRioAwKuO3f91Dy3tfKo+2dnh/ocP11/rcrmekfSoy+VijwYAACpBixYtsletWhW2cePGoPNdei8/P79cPoBXWOiZvHTZZZcdnjRpUvqZXhcaGsqsJ5QLwicAAAD4nMPpbifpRUndfF0LAFQ51h5zamrMqbsoc93afg5JgZIekPRbl8t1u8vlWlIZJQIAUJNdffXVB1etWhX2wgsvxDz//PO7zuSayMjIgoMHD570/vzWrVuDS7YZY2xZ45R1Lj4+Pj88PLwgKyvLf+jQoZlnUhNQnqrUVEAAAADULA6nu7bD6f6TpDUieAKAUrVX6hcN9ZPjVH3Sdrf65tix0LhiTS0kLXa5XK+7XK66FVogAAA13N13373P4XDkvPzyy/XffPPNqNL6LF++vPaTTz55/MMkDocj55tvvgnNzMw8/h793r17/d95553okteGhYUVes+fFFaVdc7f319Dhw49sH79+tDXX3+9Tmk17dq1i8kpqDD85QIAAIBPOJzurpJmyvMGKQCgFMYW7rlLz3Y6VZ+CgoBNW7ZcUlaAf5OkQS6Xa4LL5Xqr3AtEhTLG1JZ0m6RhkhIlhUs6IGm1pHclvWmtzff23S5J1lpHGWPNlDRKUlNr7faKrRwAapbw8PDCjz766IfBgwe3GDFiRLOXXnrpcJ8+fQ5HR0fn7927N2DZsmURn332WcTtt99+fPm7MWPG7Lnjjjuadu/eveXw4cP3Z2Rk+L/55psx8fHxx/bt2xdYfPxu3bplSdKkSZMShg8ffiAkJKSwY8eO2Z07d8451bnp06fv+vrrr8NuueWWi+bOnXuwS5cuWUFBQXbHjh1BixcvjmzXrt3RuXPnbq/UbxZqDMInAAAAVCqH0x0i6TFJE8RMfAA4pd/oX5trKbvMmaHWqvB/G3pbyc//FMPESHrT5XKNlHS7y+XaVu6FotwZY5pLcktqKWmRpCck7ZMUK6mvpNcltZE0yVc1AsD5WD9q/Wpf11Ce2rZtm7t+/fqNzz33XL0PP/ywzp///OcGR48e9YuMjCxo167dkb/+9a/bxowZc6Co/9ixYw/s3r078LXXXoudMmVKo4YNG+bed999u/38/HT33XeHFh+7f//+Rx588MGfZs6cGTtx4sQmBQUFZsKECWmdO3fefapz0dHRBStXrvx26tSp9T/44IM6ixYtivL397f169c/1qVLl6zbbrttX+V/p1BTGGvLXC4SAAAAKFcOp7uLPLOdLvZxKcA5y+kfv1fGnHL/HaA81LJH//d3jWhjpDI3Hj90KGbZurVXXn4Wwx6VZ0+oGS6XizcEqihjTC1J30hqJuk6a+17pfTpLKmztfYF7/PtEjOfAFQta9eu3Z6UlETAAVwg1q5dWy8pKclRHmPxSVMAAABUOIfTHeRwuqdJ+lwETwBwetbaiXrSnCp4slZ7/rehT9JZjlxb0p8lLXC5XHGn6wyf+YOkVpKeLS14kiRr7ddFwRMAAEBVQ/gEAACACuVwujtKWiVpsqRTLQsFAPBqou0r2uh/bU7VZ9vW5B8KCoIiz/EWV0pa53K5Bp/j9ahYv/E+vuLTKgAAAM4Rez4BAACgQjic7kBJD3oP/t8JAGfK2sP36bFWp+py7FjI6l272nQ9zzvFSPrI5XK9IOlel8uVfZ7jofy0lZRprd3q60IAAADOBTOfAAAAUO4cTnc7SV9JmiKCJwA4K3208Js6yihzXzFrlbNubf965XjLOyStcrlcZ7uEHypOhKTDvi4CAADgXPFGAAAAAMqNw+n2k3S/JJekIN9WAwAXngCbt22UXj3ljKZ9+5p8lZ0d2bOcb91G0lcul+sBSdNdLpct5/Fxdg5LCq+gsfmzBQAAFY6ZTwAAACgXDqe7gaRFkqaJ4AkAzskYPb8/QAWBZZ0vLPTb9t233S6toNsHS3pW0icul6tBBd0DZ2aDpAhjzEVncU22pNqnOB9arB8AAECFInwCAADAeXM43QMkrZXU29e1AMCFKtruXdlVn11yqj7fftv9oLX+wRVcSn9J61wu168r+D4o21zv4x/O4pptkmKMMWUtyXixpExJ+86nMAAAgDNB+AQAAIBz5nC6AxxO95OSPpZn43oAwLmwNtepqfVP1eXokcjP9+9r0qmSKqon6QOXy/Wiy+WqVUn3xC9elfSdpHuNMVeX1sEYk2yMuaNY0/vex4ml9B0gKVHSR9bawvIuFgAAoCTCJwAAAJwTh9PdWNJSefZ4Mj4uBwAuaB20+ot47W5S1nlrdWjd+r4tKrMmr9slrXG5XB18cO8ay1p7VNJgeWYzvW+M+dQYc68xZrQxZpIx5mNJX0tqXOyy1yUtkzTZGPOxt/8fjTGvSpovKV3S5Ep+KQAAoIYifAIAAMBZczjdv5b0jaSuvq4FAC50xhak36npp1xub9dPbdblHavtqxmmrSV95XK57nW5XHzYoJJYa3+Q1FGemUyhkh6U9IqkeyQVShrlbSvqnyfPkomTJTWQ9Iik5+RZEvdlSZ2stT9W4ksAAAA1WICvCwAAAMCFw+F0B0l6WtLdvq4FAKqL32n2llrK6VbW+fz8wP9t29apzPOVJEjSM5IGuFyuUS6Xa7eP66kRvDOgpnuPM+mfK+lJ7wEAAOAzzHwCAADAGXE43RdJWiGCJwAoN7XtkfVDNK/MWaTWqmDD+isCJFNVfn/vK2mdy+X6ta8LAQAAQNXFzCcAAACclsPp/q08m59H+LoWAKg2rC28R08EmFPsm3coI+6zzMyYnpVZ1hmIlvS+y+WaKukRl8tlfV0QAODCs6n1xcm+rqG4i7/dtNrXNaD6++abb0I6deqUOHny5F3Tpk1LL8+xn3766Zj777+/8aJFi7694oorjkjSnDlzIn7729+2ePnll7fedtttB8vzfqdTVT45BQAAgCrI4XQHOpzuv0l6VwRPAFCummrr56216eKyzltr0jZu7FWl3pgrxkiaIunfLpcr1NfFAADgS/Pnzw83xiSXdSxevJh/K30gOTm5VVl/Jr17925eUfdNS0sLmDhxYvynn34aVlH3uBAw8wkAAAClcjjdMZLmSurh61oAoNqx9tB9erz1qbps+aHzjoKCwEsrq6RzNExSc5fLdbXL5drh62IAAPClwYMHHxg4cOChku1t2rTJ9UU9kEJCQgqfffbZk/6P0rhx47yKumd6enrA9OnTG4SEhBQOGDAgq6LuU9URPgEAAOAkDqe7g6T3JTXxdS0AUB311aepkTpU5nJ6ubm1v05La1XVg6ciSZK+drlcv3G5XMt8XQwAAL7SsWPHo3fccccBX9dR5ODBg3516tQp9HUdvhQQEGCr0p9JTcKyewAAADiBw+n+naQVIngCgAoRaI9tGanXupV13lplr1vbr0Fl1lQOYiQtcrlcY3xdCAAAVVleXp4efPDBuGbNmiUGBwd3ioqK6tCvX79mK1eurFW8X9FSfjNmzIguOcawYcMcxpgTlubt0qVLq4SEhHYbN24MuvLKKy+KjIzsULdu3Y6nq2flypW1BgwY0Cw2NrZ9UFBQp5iYmPaXXnppy3ffffeEZdePHj1qJk2a1KCo7oiIiA59+vRp/sUXX5xQd15eniZNmtQgOTm5VXR0dFJgYGCn+Pj4diNGjGj8888/+xfvu2HDhmBjTPKkSZMavPLKK3VatmzZJiQkpFOTJk3aPv/889GS9P333wf179+/WURERIewsLCO11xzjePQoUPlmmusWrUq5IYbbmhy0UUXJYaGhnasVatWx7Zt215c2vd+9+7dAaNGjWrUsGHDdsHBwZ3q1KmT1LZt24sfffTRWMmzx1KnTp0SJemJJ55IKFrmr2nTpoklx3r++eejW7RokRgcHNwpISGh3aRJkxoUFBScc21VDTOfAAAAIElyON1G0qOSHvR1LQBQnd2uv2b4q7BZWef37LloZU5ORJmzoqqwQEkvuVyuJEl3uVyufF8XBABAZTp69KhfWlraCe+5h4SEFBaffTR06NCLFixYUKdr166Hb7755r3p6emBM2fOjOnVq1frhQsXftutW7fs87l/nz59Wl9yySVZDzzwwK49e/ac8v3/3bt3BwwYMKClv7+/Ro4cubdx48a5+/btC1i9enXoV199Ffq73/3usCTl5OSYyy+/vOW6detCr7322v1jxozZc/DgQf833ngjpk+fPq0XLVp0vO6jR4/6vfTSS/UHDhx4cPDgwRmhoaGFX3/9dejs2bPrff3112Fr167dFBwcbIvXsWDBgqiff/45cNSoUXvr1KlT8M9//rPeuHHjHIGBgXbKlCkNL7/88kMPPfTQrpUrV4bOnTs3euzYsYVvv/32j2f6fSn5ZyJJsbGx+f7+/kX3j1i9enXowIEDMxwOR25mZqb/e++9V/fuu+92HDx40H/KlCl7iq4bPHhw8w0bNtS+8cYb97Zr1y77yJEjfps2baq1bNmycEl7OnfunP3QQw/99NhjjzUcNGjQwauuuipDkqKiok5IlT744IM6P/30U/BNN920JyYmJv+jjz6KeuaZZ+J37doV+NZbbx1/bWdTW1VD+AQAAAA5nO5wSW9K+rWvawGA6qye3bPyUn3epazzhYV+WzZ/f1nXyqypAoyVdLF3Gb79vi4GAIDK8uyzz8Y/++yz8cXbBg0adHD+/PlbJWnevHkRCxYsqHPVVVcd/Oijj7b6+Xkm8Pz+978/0K1btzZ33XVX49WrV393rvfPyMgIGDduXNqMGTN2n0n/hQsXhmVkZATMnDlzy6hRozLK6vf444/HrlmzJuy99977fujQoZlF7ffcc8/exMTExPvuu6/R559//r0khYWFFe7evXttWFhY8YBp7zPPPJM1adKkJv/6178iS95r69atIevWrdvQvHnzPEkaMWLEgebNm7cfO3Zs06lTp+586KGHigKWvX369AmYM2dOvVdeeWVniXuUKisryz8+Pj6pZPv69es3tG3bNleSxo8fv+/hhx/+f/buPCzKqn8D+H1mhmFnQHZcwEBwIxQUU1TU3FrIrbciK618y1+Wvlmm1ZseS8veFktbLM1cSktzyaxcc0mxXEPcEFNAFJFFBGSbYZ7fH4qNCK4wD8v9uS4urjnnWe6ZTHC+8z3niiLOxIkTMzp06NDyo48+8v3vf/97VqvV4tSpU7p9+/Y5Pv300xlz5sxJq+x+/v7+xsGDB5+fMmVKkzvvvLPKZRgTExMdduzYcbBjx47FAPDqq6+e7dWrV9CiRYs8R40aldmlS5eim8lWG3HZPSIiIqIGLmDCz4EAdoCFJyKimqUoJRPwlk/V01AOHYouUBSNjTVj1ZAeuLgPVKjaQa5HCOEkhHhNCJEghMgXQmQJIeKEEMOFEMLiuEeFEEeEEAVCiN+FEFctZSSEcBZCnBRCjLPusyAiotogNjY2a8WKFUctvyZNmnS5ELRs2TJXAJg4cWJ6eeEJADp16lTUo0eP3L179zqdPn36thpGJk6cmHGjx5Z34/zyyy+Gc+fOVVkrWLJkiXtQUFBRp06ditLT03XlX0ajUURFReXt3LnTqaioSACAVqtFeVHIZDIhKytLm56eruvfv38+APzxxx+OFa/fv3//c+WFJwBo1qyZqVmzZiVarVYZN25cpuWxUVFR+UajUSQlJdneyHO0t7c3V/xvsmLFiqMBAQGl5ce4uLhc7kwrKCgQZ86c0WZmZup69uyZl5ubqzt06JAtADg7O5u1Wq2ya9cup6SkJP2N3L8qPXr0yC0vPAEXX7eXX345AwCWLl3qdrPZaiN2PhERERE1YAETfu4N4HsAjdTOQkRU34Vj1x++OF3lcnoXLrhtP5fTpKs1M9Ww5gDipJRPSClXqB2mMkIIDYBfAXQBMB/ATAAOAGIBfA2gFYDxQohOuNghvATARwCeBvCzECJEUZR8i0tOA5AJYLrVngQREdUaQUFBxZadQRWlpqbaajQatGvXrrjiXOvWrYs2btzompiYqPfz87ulpWvd3NxMHh4eZRXHU1NTr6gD2NvbK56enpmhneAAACAASURBVGUxMTH5MTExOUuWLPFYvny5e2hoaGHPnj3PP/bYY+fat29/OeOJEyfsjEajqKyDqNzZs2d1/v7+RgD48ssv3WbMmOGTmJhobzKZhOVxubm5V9UkmjdvXlJxzGAwmLy8vDQVl+hzc3MrA4DMzMwbavfRarXKtf6bAEBOTo5m3LhxjVevXu129uzZqz4ElJWVpQUuFoImTZqU9uabbzYJCQkJDQoKKoqKisp/8MEHz913330FN5KnXEhIyFV/Btq1a1cEACdOnLhcULrRbLURi09EREREDVTAhJ/HAPgAQK39ZZWIqL7QKGXpo/BRh6rmFQU5BxJ6t7JmJitxArBMSikBvCWlvO7yOFbWCUBXAB8pivJi+aAQ4jMARwA8C2A8gIEAkgHEKoqiCCHWAjgO4C4A6y+d0xnAvwF0VhSF+10REdFVFOXGfwwKIao8uGJBp5y9vb254pjRaIS/v/8VRaPOnTvnx8XFHdVoNFi1atWJnTt3nlm1apVLXFyc82effebz8ccf+02dOjV1/PjxmQBgNpvRsmXLonfeeedkVZm8vLxMADBnzhy3Z5999o6wsLALU6dOPdm0adNSe3t7c0lJieaRRx4JMpuvioiqlo3TarVVvgaKolT6GtyKmJiYwD/++MNl6NChmVFRUQUeHh4mrVarLF++3G3hwoWeZrP58r3eeOONs48++ui55cuXG37//XfnVatWNZo3b57XoEGDspcvX558o/e0aK6+rLI/HzeTrbZh8YmIiIiogQmY8LMNgFkAnlI7CxFRQ/Ewvjlhh5Iq93JKTQ09ZDTa1aeuJ0sCwGQAoVLKYVLKQrUDWXC59P2KvTEURSkVQmQBKP/ksT2AXOWfd4XK929wBAAhhB7AbAAzFEXZU7ORiYiorgoICCjZtm0b/vrrL7tOnToVWc4dOXLEHgBCQkJKAcDT07MMAHJycq56Dz81NfWGl1rTarVYsWLFUcsxT0/PKz4kERkZWRQZGVkEICMjI0PbsWPHVlOmTGlcXnzy9/cvycnJ0T3wwAP5lssFVmbRokXudnZ25ri4uEQHB4fL1ZRdu3bZ3Whmazp58qQuLi7OJTY2NmvBggWplnOrVq1yreycwMBA47hx47LGjRuXZTQacf/99weuWLHCfefOnRmRkZFFGo3mulXGI0eOXPV6xMfH2wP/dILdSrbahHs+ERERETUgARN+NgBYAxaeiIisxlEp2H8/VlVZeDIa9ftTU8KirJlJJQ8C2C6lbKZ2EAs7AeQCeEUI8S8hRDMhRIgQ4h0AEQDkpeN2AGgnhHhcCOEPYAqAUgDlhaYJuFiImmjV9EREVKcMHjw4FwCmTJniY9kBtGvXLrvffvvNNTw8vKB8yb2QkJASrVarbNq0ydnyGuvXr3eMj4+/at+kqmg0GgwcODDf8isqKqoIADIyMrQVO5G8vb3LmjRpUlpYWKgtLi4WAPDwww9nnz171mbKlCleld3j5MmTlwtkGo1G0Wg0KCsru9yRYzabMXnyZL8bzWxNNjY2CnB119GxY8dsli5d6m45lpeXpykoKLii08jGxgZt2rQpAv5ZCrB8n6bKCoflNm/e7GpZkCsrK8P777/vDQAPPvjguZvNVhux84mIiIiogQiY8HMTAL8AqPWbvxMR1RuKYn4Zb1e5IbWiwHggobc9UMnaK/VTOwC7pJRDpJTb1A6jKMo5IcQDAObg4n5O5fIBDFEUZeWlx0sA3ANgwaXHJQDGKIpyUgjREsBrAAYoilKburqIiKiWGTRoUN699957bvXq1Y2io6N199xzT+6ZM2ds5s2b56XX680zZsy43N1iMBjMDz74YPb333/vERMT07x79+75SUlJdkuWLPEIDg4uSkxMtL/dPJ9++qnHV1995dW/f//coKCgYp1Op2zZssVlx44dzjExMTl2dnYKAEycODFj8+bNLpMmTWq6adMml27duuU7OzuXpaam2m7dutXZ0dGxLC4uLgkABg8efG7jxo2uXbt2DX7kkUeyS0pKND/99JNrSUlJrWyE8fHxKevYsWPBkiVLPHQ6ndK+ffvCEydO2H7zzTce/v7+JQcPHnQoP3bXrl32AwcObNG/f//c1q1bF7m6upYdOHDA/ttvv/X09/cv6dWr1wUAaN68udHHx6d02bJljZo2bVrq6elpNBgM5ocffvh8+bVCQkIKe/fu3fLJJ5886+npaVq1apXrzp07nR955JGs8uLgzWSrjVh8IiIiImoAAib8HIqLhacmamchImpI7sCx7cFI7FbV/LlzfnEFBe7R1sxUC3gB+O3SEnyL1Q4DoADAAQCrAMQBaARgFIBFQogBiqKsv7Tc3nAhxBsAGgM4qihKjri4YcOXAJYqirJWCBEKYDqANgAO42KBKkGF50REVOu1OnK4QS5TunLlyuNSSp/Fixe7Symb2tvbmyMjI/Pffvvt05eWvrvsiy++OAkAa9ascduwYYNr69atC5cuXZo0a9Ysz+ooPvXt2zc/ISHBfv369YZFixZ56HQ6pXHjxqWTJk1KmzBhwtny4+zs7JQtW7Ycfeedd7yWLFni/t577/kBgJeXl7F9+/YXhg8fnlV+7HPPPZdTUFCgnTVrlpeUsqnBYDD17t079/333z/duHHjsMpyqG3FihV/jx49usmaNWtcly5d6uHv7188efLktOLiYs348eMvd2y3bNmyZMiQIdlxcXHOa9ascTWZTMLLy8v4+OOPn5VSnrG3t7/cojR//vzjr7zyStMpU6Y0Li4u1gQEBBRbFp8GDBhwzs/Pz/jRRx/5pKam2np4eBhfeuml09OmTUu/lWy1kbiZTc6IiIiIqO4JmPBzLwDLARjUzkJUHxT39cuEEJ5q56A6QFHOf46nTC7Iq3RZFLNZpO2Ie6SR2ayr1Z9arUFmAKOklLPUCnCpWLQTwIuKosyyGHfAxYKUBkCgoihlVZz/LICpAFriYjfUMQCrAXwK4DkAMQCCFEXJr8nnQURUW8XHxyeHhYVlXf9IIqoN4uPjPcLCwgKq41q1stWNiIiIiKrHj2/cMwjAr2DhiYjI6vril7+qKjwBQFLSXacbcOEJuPiexOdSygkqZngRgB2ApZaDl5bP+xmAP4CAyk4UQvgCeBcXC1dZuFhocgXwgqIoewGMvvT4/poKT0RERFRbsfhEREREVF9Jw5gB2rhlH9h8Hqd2FCKihsZGKT32GOZFVTVfXOz459mMoEhrZqrF3pFSTlPp3o0vfddWMqer8L2iTwDsVBRl4aXHTQDklO/7dOl7DoCm1ZSViIiIqM5g8YmIiIioPpKGtwF8BEAM0f7e43ntCtU3dSciakiew8d5WpgrLVooCgr2x/dlQeJK46WUn0sprf0+xaFL34dbDgohXAEMAHAOwN8VTxJCDATQH8BIi+HTADyFEN6XjvEG4HlpnIiIiKhBYfGJiIiIqD6RBi2kYTaAVy2HX9ItvWugZttulVIRETUonkrGn5H4I7yq+TNnWuwpKXHys2amOmIkgG+klFV1GtWEj3CxO2maEGKhEGKkEOI1APsA+AL4r6IoJssThBAuuNj1NElRlOMWUz8DyAOwQgjxf7i432LepXEiIiKiBoXFJyIiIqL6QhrK96wYUXFKCOim23zWqpM4dOjqE4mIqNooSvEEvNm4qumyMm3isaTIKpfjI8QCWCmltLfGzRRFSQEQCWAhgJ4AZgKYAOAkgCGKonxWyWnTAJwFML3Ctc4BuAcXl+l7D4AewL2XxomIiIgaFBafiIiIiOoDaXABsAbAoKoOEQKOi/VTvQLFqRTrBSMialg64s8/fHCmSWVzigLl0MGeRkBjzc6euug+AL9KKZ2tcTNFUf5WFGWYoihNFEWxURTFRVGU7oqiLK/i+OcURQlXFKWskrk/FUWJVBTFSVGUjoqi/FHzz4CIiIio9mHxiYiIiKiukwZvAFsARF/vUI1QPNboJwgP5GbWfDAiooZFo5Sd/j/MiKxqPj/ffVturm9ba2aqw6IBbJJSeqgdhIiIiIhuHotPRERERHWZNDQGsA1Auxs9xUaUNdtiOzbLEUUFNReMiKjheRQLkm1R4lDZnKIg8+CBu0OtnamOiwCwVUpZ5TKGRERERFQ7sfhEREREVFdJgx+ATQCCbvZUR1HcapPtS0d0MBmrPxgRUcPjpOTH34PVXaqaT05uf9RksnW1ZqZ6ohWAbVLKQLWDEBEREdGNY/GJiIiIqC6SBh8AvwFocauX8BK5HVbrX/+z+kIRETVQilI2DlPtqpo2ltruSzvZNsqakeqZAFwsQLFzjIiIiKiOYPGJiIiIqK65uMfTbwBCbvdSLTUnu861+d+W2w9FRNRwBeFoXBCSKv07WVFQun9/H3Y83T4fAFuklJ3UDkJERERE18fiExEREVFdIg2eADbi4jJE1aKX9q/oiboFLEAREd0KRcl9Ce+0qWo6O7vpjsJCt+bWjFSPuQHYIKW8W+0gRERERHRtOrUDEBEREdENkgYPXCw8Vfkm5616UrumW4ritWN+Wf/O1X1tIqL6rD9W73dBfvfK5sxmTcqRI13ZqVO9nAD8LKV8WEr5o9phiIjo1n068rcItTNYGjWr1x61M1RmxowZ7mPGjAn46aefjt5///35ALB69WrnmJiY4I8//jh59OjR2WpnJKoMO5+IiIiI6gJpcAewAUCN7HchBDRStyD8bs2ev2ri+kRE9ZFeKUkaigVV7uV0NLFLpmLWVbkXFN0yWwBLpZT3qh2EiIjI0qFDh/SxsbH+zZs3b2Nvb9/excWlXWBgYJvBgwcH/PTTT841ee/ExET92LFj/eLi4uxvZo6oprDziYiIiKi2kwY3AOsBhNXkbYSA7RybD5o/UDolKUG5o0VN3ouIqD4YhY8KNDBrK5srLHTekZnZnN2kNccGwDIp5X1Syt/UDkNERLR161aHfv36heh0OmXIkCHZbdq0KSoqKtIcPXrUbsOGDa5OTk7mmJiY/Oq41z333JN/4cKFvXq9XikfS0pKsp0+fbpvQEBASZcuXYosj7/WHFFNYfGJiIiIqDaTBldcLDy1t8bthIBhpX5iYXTp9NNpiqefNe5JRFQXeSvpOzpgZ6XFJUVBXsL+vndYO1MDZAdglZSyr5QyTu0wRETUsEkp/YqLizXbt28/VLHAU1ZWlnry5Emb6rqXVquFg4ODcv0jrePcuXMaNzc3s9o5qHbhsntEREREtZU0GACsA2DVtdC1wuy7Qf9ykQEFuda8LxFRnaEoRePxVtOqpk+favlXaamDtzUjNWCOAH6RUoarHYSIiBq2EydO2Lq6upoq6yzSarUICAgwlj8WQkQMGTIkYOXKlc5hYWEt7e3t23t4eIQ9+eSTTfPy8q77nv3q1audhRARM2bMcAcu7gsVExMTDABjxowJEEJECCEiIiMjQ641V349s9mMd99917NNmzat7O3t2zs6Orbv1KlTcMWlAhMTE/VCiIixY8f6zZ49261Nmzat7OzswkeMGNHs1l85qq/Y+URERERUG0mDC4C1ADqqcXs7YQzcYvvi/k4ln9qVQM/9SoiILHTCjp3eyIiubM5k0h0+frxDV2tnauAMANZJKaOllAfVDkNERA2Tv79/SXJyst38+fNdhw0bdt0P8iUkJDg8+uijbrGxsVmxsbHZW7ZscZ43b57XkSNH7Ldt23ZUq610Zd9K9e7dO//5558/88knn/jExsZmde3aNR8AfH19TSEhIcVVzZWfP2jQoOarV69u1L9//3NDhw7NKikp0SxdurTRoEGDgufPn39s6NCh5y3v98svv7h+9dVXXk888UTmU089leni4lJ2w2GpwWDxiYiIiKi2kQZnAGsAdFIzhqu4cOd6/bg/okunRyrQsGOeiAiARik79SxmRlY2pygwHzzQC4Dg35nW5w5gg5Sym5TymNphiIio4fnvf/+bvn37dpfhw4cHTpo0qaRjx44FHTp0uNCnT5/88PDw4orHJyUl2S9YsODvxx9/PBcAJkyYkPnkk082nTdvntdXX33l9swzz5y70Xu3bt26tF+/fnmffPKJz1133VXw3HPP5VjOX2tuwYIFrqtWrWr03nvvpbz88stZFs8no3379q1eeeWVZrGxsQkai38SHjt2zG7nzp2HKnteROX4CzERERFRbSINTgB+AVArNqlvpsm86wf95G1q5yAiqi0ew9cnbVFqX9lcXp7Xtrw871bWzkSX+QDYKKXk0j9ERGR1vXv3vrB9+/bDgwcPzs7Pz9f+8MMP7hMmTGgWERHRJiIiIuTQoUN6y+MDAgKKywtP5aSUZwDgxx9/dLNW7m+//dbd0dHRHBsbm5uenq4r/8rKytL169cv9/Tp0/oDBw7YWp7To0eP8yw80fWw+ERERERUW0iDA4CfAdSq5ZoiNEndp9t8ulntHEREanNS8v7qh1/vqmxOUUTGwQM921k7E12lGS4WoLjnFhERWV1kZGTRsmXLkrOzs+MTExMTZs6cmRwREVGwd+9ep4EDBwYVFxeL8mODgoKuKt74+/sbnZ2dy1JSUmwrztWUY8eO2V24cEHTpEmTMD8/vyu+PvzwQz8AOH36tI3lOUFBQSXWykd1F5fdIyIiIqoNpMEGwI8AuqsdpTKDtNt7JJt9tn1cNqRWFcaIiKxGUcpewRTHqqaPH484XlamrxVdq4QgAGsu7QGVp3YYIiJqmIKDg0uDg4Ozn3vuueyOHTuG7N2712nLli2O/fr1KwAAIUSl5ymKYtWciqLAzc3NNHfu3ONVHRMREVFk+djBwcFc88mormPxiYiIiKh2mAOgt9ohruU/umV3pSpeu1aYu3VUOwsRkbUF48j2QPxd6QcESkvsd58+1YqFp9qlHYBVUsp+Ukp+OpuIiFSj0WgQHh5+Ye/evU6pqamXO4iSkpLsKh6bkpJiU1BQoPX397/pn11CiCqrVteaCwgIKNmyZYtdz549LxgMBhaVqNpw2T0iIiIitUnDZABPqB3jeoSA7kObz1t3EocOqZ2FiMiahGLOGYt3QyubUxQU79/fx9PameiGRAP4TkqpVTsIERHVfytWrHAxGo1XjRcUFIgtW7a4AEBYWNjlpfaSk5PtFi5c6Gp57OTJk30A4IEHHsjFTXJxcTEDQE5OzlUNJ9eae/zxx7PNZjNGjx7duLLrnjx5kg0sdEv4B4eIiIhITdLwJICJase4UULAcbF+qle/0neTk5QmAWrnISKyhnux6oAz8ivtesrMDPizqMgQbe1MdMMGAvgCwAi1gxARUf32yiuvNH3mmWe0ffr0Od+2bdtCBwcH88mTJ/XLli1zT0lJsR00aFB2ZGTk5eXrWrRoUfTss88237x5c1aLFi2Kt2zZ4rxmzRq3jh07FowYMSLnZu/fvn37IkdHR/PcuXM9HRwczK6uriYfHx/TAw88kH+tuSeffPLcL7/8kr1gwQKvhIQEx379+uV6eHiY0tLS9Dt37nRMSUmxS0tLS6jeV4saAhafiIiIiNQiDb1x8Q2xOkUjFI9f9K8WRZXMyDwLN37an4jqNb1SnPgIvo2qbM5s1pw4mtiFy+3Vfk9LKTOllK+qHYSIiP4xalavPWpnqE7vvvvuyRUrVrju3LnT6ddff3XNz8/XOTk5lYWEhBT+5z//SX/hhReyLY8PDQ0t/N///ndy4sSJjb/99ltPR0fHsieeeOLsRx99dEqrvfmmXScnJ+Wrr746PnnyZL833nijaWlpqejYsWPBAw88kHitOQBYunRp8qeffpo3d+5cz5kzZ/oajUbh4eFhbNOmTeGkSZPSquklogZGWHsDMyIiIiICIA2hALYBcFE7yq26oNgejiz5rMkF2DurnYXImor7+mVCCBZeG4iXlLfjw7EnrLK5Qwej92VnN2tv7Ux0y8ZKKaerHYKIqCGJj49PDgsLy1I7R20jhIgYPHhw9rJly5LVzkJkKT4+3iMsLCygOq7FPZ+IiIiIrE0aGgP4BXW48AQAjqKk1WbbsUd1MF29sDkRUT3go5zeUVXh6cIFw3YWnuqcD6SUj6kdgoiIiKghYPGJiIiIyJqkwRnAzwCaqB2lOniK8xE/61/bCbCdnojqGUUpnIA3/SufQm7C/j7B1o5Et00A+FpK2VvtIERERET1HYtPRERERNYiDToASwFU+in6uipEkxb1tc3/tqidg4ioOt2F7bs8kelX2VxaWpsEo9GeSy/WTToAS6SUQWoHISIiIqrPWHwiIiIisp7PAfRTO0RN6KmN7zFJN58FKCKqFzSKKe1ZfNKpsjmTyeZA8on2Xa2diaqVG4AfpZTcs5CIiFShKMoe7vdE9R2LT0RERETWIA2vAxihdoyaNFy7ttuT2l93qJ2DiOh2DcPcND2MdhXHFQVlBxLutgGEUCMXVavWAL6VUvJ9ESIiIqIawF+yiIiIiGqaNAwFMEXtGDVNCGgm6haG99Hs/kvtLEREt8pFOb+3N9beVdlcbq7Ptvx8zxBrZ6IaEwPgLbVDEBEREdVHLD4RERER1SRp6AFgrtoxrEUI2H5p82HzMHHsqNpZiIhumqKYXsFbLpVPifTDh3pEWDsS1bjXpJQPqx2CiIiIqL5h8YmIiIiopkhDKwArAOjVjmJNQsCwXD/Jpak4e0rtLEREN6MlDsU1x4mgyuaOHeuYWlZm42TtTGQVc6WU4WqHICIiIqpPWHwiIiIiqgnS4APgFwCuakdRg1YoPhv044pdkX9O7SxERDdCKObssXg3rLK5kmKHnWfSQzpZOxNZjQOAlVJKb7WDEBEREdUXLD4RERERVTdp0ONix1OAyklUZSuMgVtsXzxph5JitbMQEV3P/Vh5yBEXDBXHFQWF+/f38VMjE1lVUwDLpJQNqluZiIiIqKaw+ERERERU/T4AUOlm9Q2NQRTeuV4/Ll4Dc5naWYiIqmKrFB95CIuiKps7m3HHruJilybWzkSqiALwqdohiIiIiOoDFp+IiIiIqpM0xAJ4Xu0YtUlTTVanZfpJ29XOQURUldF4v1QD5ap/H5eVaY8lJXXuokYmUs0IKSV/jhMRERHdJp3aAYiIiIjqDWloBeBLtWPURu01f3efYTNz82jjCz3UzkJEZMlPSYtrh31XFZgUBcrhw90vKIrGRo1cpKrpUspDUsrf1A5CRFSfffDw/RFqZ7D00ver96idwZqEEBGDBw/OXrZsWfK1jhs7dqzf9OnTfY8cOZIQEhJSaqV4VA+w84mIiIioOkiDI4AfADipHaW2ekC7o8eLuqW/q52DiOgyRbnwCqY0r2zqwgW37edymoRZOxLVCjoAS6SUlf7ZICIiqmj16tXOQoiIiRMnelec+/nnn52cnZ3beXp63vnnn3/aq5GvNjtx4oTNyJEjmwQHB7d2dHRsr9frwxs3bhw6YMCA5j/++KOz2vno1rH4RERERFQ9ZgNorXaI2m60dkXnIZqtu9TOQUQEAFH4fZcnMn0rjisKchL29+bf6Q2bO4BVUkp+qISIiG7Z4sWLDUOGDAl2cXEp27RpU2KnTp2K1M5Um3z33XeG0NDQtnPnzvVq1apV0euvv5727rvvpj744IPZhw8fth84cGDw999/b1A7J90aLrtHREREdLukYRSAWLVj1AVCQPe+zaw26cZGB+PMbduonYeIGi6tYkr9Nz7tXNlcauqdh0wmu67WzkS1TlsAC6WUg6WUitphiIiobpk1a1aj559/PiAgIKBkw4YNRwMCAoxqZ6pNdu/ebffkk0/e4eLiUrZ169aj4eHhxZbz06dPPz1r1qxG9vb25uq657lz5zRubm7Vdj26NnY+EREREd0OaegE4EO1Y9QlQsDhG5t3fILFyRNqZyGihms4Zp+xgcm24rjRqI9PTbkzSo1MVCsNBCDVDkFERHXLu+++6zlq1KjmrVu3Lty2bduRioWnIUOGBAghIrKzs7VDhw5t1qhRozBbW9vw8PDwlr/99puj5bEzZsxwF0JErF69+qol6CIjI0MaN24cWnF8+/bt9vfcc88d7u7uYXq9PtzHx+fOmJiY5gcPHrzqdx9L27Ztc/Dw8AgLDAxsk5SUpL/WsdnZ2dr/+7//a9ysWbO2er0+3M3NLSwmJqb5oUOHrnleuddff71xcXGx5tNPP02uWHgCAI1Gg+eeey7ngQceyAf+WdpwxowZ7hWPLX89LcfKX5tDhw7p+/fvf4fBYGjXqFGj9nv37rUTQkSMGDGiSWW5YmJimtvY2ISfPn36cuNOSkqKzdChQ5v5+vqG2tjYhHt5ed0ZGxvrf+rUKTb3XANfHCIiIqJbJQ3uAJYAuKFfrukfGqG4/6x/rbBrycdnM9DIS+08RNSwGJTcPb2wIbLiuKLAmJDQ2xEQQo1cVGu9IaVMkFL+oHYQIiKq/V599VWfadOmNb7rrrvy16xZc8xgMFTZadOrV68W7u7uppdffvl0dna27ssvv/QePHhwixMnTuy/1Q6dxYsXG4YNGxZob29vjo2NzQoKCio+c+aMzW+//WbYt2+ffZs2bUoqO2/58uUujz/+eGBISEjRr7/+muTt7V1W1T2ys7O1nTp1apmenq5/6KGHstq0aVOUnp5uM2/ePK+oqCiXP//883BwcHBpVecXFhaKzZs3G3x8fEoffPDBvFt5njeisLBQ06tXr5YdOnQoeO21106dPXtWFx4eXty2bdvClStXus+aNStNp/unRJKTk6PZsGGDa/fu3c/7+fmZACApKUkfFRXV0mg0itjY2KzAwMCSY8eO2S5cuNArLi7Oee/evYfd3d2rfK0aMhafiIiIiG6FNGgAfAugmdpR6iobUdZ0k+1LRzqWfGZ/AfbcSJaIrENRTOPxlmtlU+dyGsddKHCPtnYkqvUEgK+klHuklOzaJSKiKn399deeaWlptr17985dtWrVcXt7+2su2xoaGlr4zTffpJY/btOmTfHTTz99RKWqGwAAIABJREFUx5w5cxqNGzcu62bvn5+fr3nuuecCnJycyvbs2XOoefPmlh1X6WVllddIPv3000b/+c9/AqKjo8+vXLnyuJOT0zVzv/zyy35paWm2mzZtOty5c+fL+1g9++yz2eHh4W1effVVv2XLliVXdf6BAwfsSktLRatWrWp0D6zc3FzdCy+8kD5jxozTluOPPvpo1muvvdZs2bJlhocffvh8+fj8+fMbFRcXa5544ons8rGRI0c2NZlMYvfu3YcCAwMvv56xsbHnevXq1Wrq1KneH3744RXXp4u47B4RERHRrXkDQD+1Q9R1DqKk5RbbF5N0MHH9cyKyitY4sN0fyYEVx81mkXb4cPeOamSiOsEFwDdSSq3aQYiIqPbKysqyAYCAgICS6xWeAGD8+PEZlo/vvffePABISkqyu5X7r1ixwiU3N1f3f//3fxkVCk8AAK326h9jr7/+us8LL7zQ/F//+lfWmjVr/r5e4clsNmPlypWNOnTokB8QEGBMT0/XlX85Ozubw8LCCn7//XeXa10jNzdXAwDOzs413jE0ceLEjIpjTz31VI6NjY2ycOHCK5bwW7RokbvBYCgrL0hlZ2drN2/e7NqnT59cBwcHxfK5tmjRorRp06bFmzZtuuZzbcjY+URERER0s6ShH4CJaseoLzxEXviv+gnb+5S+14VLXRFRTRKKOes/+F+7yuaSjnZON5t1la79T3RJFwD/BTBZ7SBERFQ7jRo16sz27dud58yZ4w0As2fPTrvW8a1atbpiCTwfH58yAMjJybml9+2PHj1qCwARERGFN3L82rVr3ZYvX6555JFHshYtWpR6/TOA9PR0XW5urm779u0ufn5+YZUdo9Fcu+fF1dXVDAAFBQU12hzj5uZm8vDwuKrA5e3tXdajR4/zGzZscM3Ozta6u7uXJSYm6vfs2eP02GOPZdrZ2SkAsH//fluz2YwlS5Z4LFmyxKOyezRp0qTSZQyJxSciIiKimyMNTXFxuT12kFejFprTUQtspm15wvgql7siohozAMsOO6KwW8XxoiKnP8+eDeykRiaqc96QUq6TUu5QOwgREdU+Dg4O5vXr1yf17du3xZw5c7zNZrP46quvTlZ1vOV+Q5YU5Z/mI3GNz+dVXEZPURRxvXMs3XnnnRfS0tL0v/zyi9vWrVszu3fvft2ildl8cSuqzp07573yyitnbuhGFbRt27ZYr9crhw8fdrjRc4QQVXZkmUymSp+wvb19lftmPfHEE9nr1693nT9/vtvYsWOz5syZ464oCp588snLyx2Wv54DBgzIGT58eKXLIDo4ONzS3lwNAYtPRERERDdKGvQAlgJwv96hdPO6axOi31S+3jLR9CQLUERU7WyVosND8H1UxXFFQUHC/j7cv49ulBbAt1LKMCllvtphiIio9nFyclLWrVuX1Ldv36C5c+d6KYqCuXPnVlmAuh53d3cTcHEJuIpzJ0+etLWxsblclGnZsmUxAOzZs8d+0KBBede7tq+vb+m33357omfPniH33Xdf8MqVK5PuvvvuC9c6x8/Pz+Ts7FxWUFCgHThw4C39LHRwcFCio6PPr1+/3nX58uUugwcPvm5WT0/PKrvCUlNTbW82w7/+9a/zo0ePNi1atMh97NixWUuXLnVv3rx5cc+ePS8X4Fq3bl0shIDRaBS3+lwbMn5il4iIiOjGfQCAn4yvQY9r13d/SvtrnNo5iKj++Q/eM2mgXPVv4DPpwXtKSpx81chEdVZzAJ+qHYKIiGqvSwWoY126dMn7+uuvvYYPH970Vq/Vpk2bYgBYv379FXsLffHFF40yMzNtLMcGDhyY5+rqavr88899UlJSrpgD/ulastS8eXPj1q1bj3h5eRkHDBgQvG7dOsdr5dFqtRg4cGBOQkKC49dff+1W2TGnTp26btPL1KlTT9nZ2ZlHjRrlHx8fX2nxaNasWY1WrVrlDAAhISElWq1W2bRpk7PlMevXr3eMj4+/ZubK2NraKgMGDMjZu3ev06xZsxqlpKTYPvLII9mWx/j4+JRFR0efX7t2revGjRuvuofZbMbp06fZ4FMFvjBEREREN0IaHgbwvNox6jshIN7QLeyQpnjsW2fu2F7tPERUPzRWUuPuRHyXiuNlZdrEY8c6dlUjE9V5j0spf5FSfqd2ECIiqp2cnJyU9evXH+vbt2/Q/Pnzvcxms1iwYMEN7atkKSwsrKRz5855ixcv9lQUBe3atSv866+/HNauXevWrFmzEssl55ydnc2ffPJJ8vDhwwPDwsLaxMbGZgYFBZVkZmbqNm7caBgzZkzGY489llvxHs2aNTNt3bo1sWfPnsEDBw4MXrp0adJ9991XUFWm6dOnn9q1a5fT008/fceyZcvORUZGFuj1eiUlJUW/ceNGQ2hoaOGyZcuSr/W8OnbsWPz1118fHzFixB2RkZFt7r333pzIyMgL9vb25pSUFNtff/3VNTEx0X7p0qVJAGAwGMwPPvhg9vfff+8RExPTvHv37vlJSUl2S5Ys8QgODi5KTEy0v9nX9umnn86eN2+e17hx45ppNBo8/fTT2RWPmT17dkr37t1b9u/fP2Tw4MHZ7dq1KzSbzeL48eO2a9eudX3ooYeyP/zww9M3e++GgMUnIiIiouuRhsYAZqkdo6EQAvovbKYHDip9M/EvJShE7TxEVMcpSsF4TLnj6mGYDx7saQI0Vy1hQ3SDPpdSxkkpb/qNRCIiAl76fvUetTPUNAcHB2XdunXH+vXrF7Rw4UJPRVEwf/78m/658d1335149tlnm/3444/uK1ascO/QoUPBunXrEkeOHOl/6tQpveWxQ4cOPe/n53dk6tSpvt99953HhQsXtO7u7sYOHToUhIeHV7mnU+PGjcsLUCEPPvhgi+++++7YgAEDKl1qzt3dvWznzp1H3nzzTe8ff/zRbcOGDa5arVbx9vYujYyMLHjmmWcq3R+pokceeeR8p06dDkybNs1706ZNLmvXrnUzmUzC09PT2LFjx4L333//5P333385wxdffHESANasWeO2YcMG19atWxcuXbo0adasWZ63Unzq2rVrYYsWLYqSkpLsO3funBcYGGiseExQUJBxz549h6WUPmvXrnVduXKlu16vN/v6+pb26dMnd+jQoTk3e9+GQlhuXkZERERElZCGNQD6qR2joSlTREbP0g+NqYp3E7WzEFkq7uuXCSE81c5BN6absmnLSHxy1V5yeXkev8f/dU83NTJRvbIVQE8pJTcbJyKqRHx8fHJYWNgNFSKISH3x8fEeYWFhAdVxLe75RERERHQt0vBvsPCkCq1QvNfrx5W6Iv+c2lmIqG7SKqaUpzHrrorjioLMgwd63alGJqp3ugN4Ve0QRERERLUNi09EREREVZEGfwAfqB2jIbMVpju22r6YZoeSIrWzEFHd8xS+yLCB6aoNrJNPtE8ymWwNamSieklKKTuqHYKIiIioNmHxiYiIiKgy0iAAfA3AWe0oDZ2LKAzdaPtyggbmMrWzEFHd4ark7O6B3yIrjpeW2u5LS2vbRY1MVG/pACySUjqqHYSIiIiotmDxiYiIiKhyowD0VDsEXdRYZEcu10+KUzsHEdURimKcgLfcrx5GScL+vq5qRKJ6LwjADLVDEBEREdUWLD4RERERVSQNgQDeVTsGXamd5u9uM21mbFY7BxHVfm2xP64pUptXHM/OavZHYaHrVeNE1eQpKeUQtUMQERER1QYsPhERERFZkgYNgHkAHFROQpWI0f7R4yXdkt/VzkFEtZdQzJlj8H77iuNmsyblSGJUJzUyUYPypZSyidohiIiIiNTG4hMRERHRlf4DoKvaIahqz2tXdvmXdvNOtXMQUe00CEsTHVDoUnE8MTEqSzHr7NTIRA1KIwALpJR8v4WIiIgaNP4yRERERFROGloCmKp2DLo2IaD9n+7LtlGaAwfUzkJEtYudUnhoMJZEVRwvLHTZkZUZEKFGJmqQegJ4We0QRERERGpi8YmIiIgIAKRBC2A+AH4qvg4QAg4Lbd7xCxGpJ9TOQkS1hKIoL+J/ZgGIK4dxPmF/nzvUikUN1ltSyjZqhyAiIiJSC4tPRERERBe9AiBS7RB04zRCabRa/7qND3Iy1M5CROpritTtbZHQtuL46VOt4ktLHbzVyEQNmh7A51JKcd0jiYiIiOohFp+IiIiIpCEUgFQ7Bt08G1HW5Dfbl3KdUJindhYiUpGi5L+CKS0qDptMukPHj0dwHz9SSzcAw9QOQURERKQGFp+IiIioYZMGG1xcbk+vdhS6NQ6iJGSz7dhjNjCVqp2FiNQRjd/2NELOFd1NioKygwfuFoDgv3tJTe9JKRupHYKIiIjI2nRqByAiIiJS2esA2qsdgm6Ph8gL/1U/Ia536XudAcEljogaEJ1iTH4KX3apOJ533mt7Xp5XdzUyEVnwAPA/ACPUDkJEVNukTfg9Qu0MlppM67bHmvdr3LhxaOPGjUt37tyZaM37ElkLPwFGREREDZc0hONi8YnqgSDN6S4Lbd7ZqnYOIrKupzErUwfTFd2riiLOHDzYs51amYgqeEpKeVWBlIiI6p/8/HzNm2++6RURERFiMBja6XS6cHd397Do6OigGTNmuBuNRrUjElkNi09ERETUMEmDBsBssBO8XummPRA9RffVFrVzEJF1uCnZu7pjc8eK48f/jjhRVqZ3USMTUSUEgFlSSv7OQURUjx04cMA2NDS09aRJk5ra2tqaR48enf7BBx+kjBw5MsNoNIoxY8YEvPDCC03UzklkLfzFh4iIiBqqfwMIVzsEVb+h2o3dUxSfuNll9/FT5kT1maKUjsdbHhWHS0rsd58+3aqzGpGIriEUwH8AvK92ECIiqn4FBQUiJiYmKC0tTT9v3ry/hw0bllvhkDNbtmxx2LFjh6MqAYlUwM4nIiIianikoRGAqWrHoJohBMRrum879NPs3Kd2FiKqOXfir7imONncckxRUJywv4+XWpmIrkNKKZuqHYKIiKrfxx9/7JmcnGz3zDPPZFRSeAIAREdHF06YMCGz4vi+ffvsevToEeTo6Nje2dm5Xf/+/e9ITU29omkkOTnZ5t///neTli1btnZxcWlna2sbHhgY2Ob111/3MZlMV1xvxowZ7kKIiFWrVjlPnDjRu2nTpm31en14QEBA25kzZ7pXvL/JZMK4ceN8/fz8Qm1tbcODg4Nbz549223s2LF+QoiIxMTEK5Y3TklJsRk6dGgzX1/fUBsbm3AvL687Y2Nj/U+dOnVF5iFDhgQIISrd10sIETFkyJCA8seJiYl6IUTE2LFj/b744otGwcHBrW1tbcN9fX1Dx44d68flCusmdj4RERFRQ/QWgKt+6ab6QwjoZ9l8FDio9M3Ev5SgELXzEFH1Eor57Gh8cNWbGZmZAX8WFRmi1chEdAMcAcwEMFDtIEREVL1WrlzpBgDPP//8VcWla8nIyLDp06dPSL9+/c7de++9afHx8faLFy/2jI2N1W7fvj2p/Ljdu3fb//LLL2733HPPucDAwBKj0SjWrVtnePvttxufOHHCdtGiRSkVr/3GG280Li4u1gwbNizT1tZWmTt3rufo0aMDQkJCivv27Xuh/Lhhw4Y1W7RokWenTp3yR40alZGZmakbN26cf5MmTUoqXjMpKUkfFRXV0mg0itjY2KzAwMCSY8eO2S5cuNArLi7Oee/evYfd3d3Lbu7V+8fatWsNs2fP9ho+fHimj49P1s8//2yYPn26b2pqqv6HH35IvtXrkjpYfCIiIqKGRRrCADyrdgyqeULAZZl+UlGv0g/SUhQfrq1OVI8MwfdH7VHU1XLMbNYcP5rYhcvtUW03QEoZI6X8Se0gRERUfZKSkuwdHR3NrVu3Lr2Z81JTU21nz559fMSIEefKxzQaDb755hvPffv22bVv374YAPr3759/8uTJBI3mn4XMJk6ceHbgwIHNv//+e4933nnntL+//xXtQaWlpZr4+PjDdnZ2CgA89thj50JCQkJnzpzp1bdv3xMAsHv3brtFixZ5du3aNW/z5s1JWq0WAPDoo4+e69y5c+uKeUeOHNnUZDKJ3bt3HwoMDLx8v9jY2HO9evVqNXXqVO8PP/zw9M28BpaOHDnisGXLlsNdu3YtBIBXX331bL9+/QKXLVvmvnHjxsy77777wvWuQbUHl90jIiKihmYmAK3aIcg6tELxXqd/xeiGvBy1sxBR9bBXCg8OxA9RFccPH+6epyhafWXnENUyM6WUDmqHICKi6lNQUKBxdHS86Y4fT09Po2XhCQDuvvvuPAA4cuSIbfmYk5OTUl54Ki4uFhkZGdr09HRd3759z5vNZmzfvv2qnysjRow4W154AoDmzZsbAwICik+cOGFXPrZixQpXAHjhhRcyygtPABAZGVnUtWvX85bXy87O1m7evNm1T58+uQ4ODkp6erqu/KtFixalTZs2Ld60aZPLzb4Glrp06ZJXXngCLhbixo8ffwYAfvjhB9fbuTZZHzufiIiIqOGQhkcBdFM7BlmXrTA132L74oFOJZ/ZFcGWb/YR1WWKoozFNAhAWA5fuOC6PSe76VUFKaJayh/AJADj1Q5CRETVw8nJyVxYWHjTjR5Nmza9amk7Dw+PMgDIysq6/N690WjE66+/7rtkyRL31NRUW0VRrjgnJyfnqvf5g4KCrrq2q6tr2alTpy5/WOfEiRN6AGjbtm1xZedv3br18uP9+/fbms1mLFmyxGPJkiUelT2fypbquxnBwcFX5Sjv/kpOTra9+gyqzVh8IiIiooZBGpwAvKd2DFKHiyhqu8H25Z3dSj6OMEPDzjeiOqoZkre3xsErlttTFOQm7O/Nvd2ornlRSrlASnlQ7SBERHT7WrRoUbR7926nQ4cO6W9m6T3LbqOKLAtM//73v5vOnz/f67777jv30ksvpXt7exv1er2ye/duh6lTpzYxm803dW0L4vqHXM4jAGDAgAE5w4cPz6rsGAcHh8tBhKj80kajsdLxS+coVU5SncPiExERETUU/wXgp3YIUk9jkR25Uv/G7w+UTmX3G1FdpCh5r2DKVUWmkyfbJhiN9vz/muoaGwCfSymjpZR8o42IqI4bMGDAud27dzt99tlnnp988smp6r7+8uXL3Tt06FCwevXq45bjR48etavqnBsREBBQAgAHDhywq1g0O3bs2BWdRq1bty4WQsBoNIqBAwfmX+/abm5uJgDIyMjQent7X16S8PDhw1V2MCUmJtpXHNu3b5+dZVaqO7jnExEREdV/0tACwItqxyD13ak50e1Tm483q52DiG5eT2zY54ZcT8sxk8kmISW5XdeqziGq5boBGK52CCIiun1jxozJCggIKP7iiy+8v/nmm0r3Jvr9998dpk2b5lnZ3PVotVql4lJ7eXl5ms8++8z7Vq5XbvDgwbkAMHPmTO+ysn+2rNq5c6f9tm3bDJbH+vj4lEVHR59fu3at68aNGx0rXstsNuP06dOXm13Kl9D76aefrtgHatq0aT5V5YmLi3PZtm3b5aXSzWYz3n33XR8AGDJkSO5NP0FSFTufiIiIqCH4CAA3oScAwH3aP3skK9/9/p7pEXZKENUROsV4Yjhmd7EcUxSYEhJ62wJVrOlCVDf8T0q5SkqZrXYQIiK6dc7Ozuaffvrp2P3339/i8ccfD5w1a1Zer1698tzd3U2ZmZm6rVu3umzbts1l5MiRZ27l+vfcc8+5xYsXe95333139OrVKy8jI8Nm0aJFHq6urqbbyd2hQ4fi2NjYrMWLF3tERUUFx8TE5GZmZurmzZvn1apVq8KDBw86WC6fN3v27JTu3bu37N+/f8jgwYOz27VrV2g2m8Xx48dt165d6/rQQw9lf/jhh6cB4Omnn86ZOnVqkxdffNH/yJEjdu7u7qZ169YZKtufqlxISEjhPffcEzx8+PBMX1/f0tWrV7vu2LHDZeDAgdm9e/e+cDvPlayPxSciIiKq36ThfgD3qh2DapfntKu6pCjeO5eU9YxUOwsRXd8z+DRbh7LmlmO5ub7bC/I9otXKRFRNPAD8D8DTagchIrK2JtO67VE7Q3Vq27ZtSUJCwqEPP/zQY9WqVW4fffSRb2FhocZgMJSFhoZemDlz5olnn30251au/cUXX6RdKnC5bdiwwdXHx6f0iSeeyOzUqdOFgQMHBt9O7gULFqT4+vqWLlq0yGPy5MlNAgICit9///2UnTt3Oh48eNDB0dHx8j5OQUFBxj179hyWUvqsXbvWdeXKle56vd7s6+tb2qdPn9yhQ4defn6NGjUyL1++POnll19uOnPmTF8HB4ey/v375y5duvSEp6dnu8qy9O/f/3xISEjxBx984JOcnGzXqFEj05gxY9Lffffd9Nt5jqQOUbFdj4iIiKjekAZbAAcBBKodhWofRUHR48ZXj20zh4aqnYXqluK+fpkQ4paWTKGb10jJ2jUTz3a0HFMUcTpu+8MGs9nmqiVfiOogBUAXKeUfagchIqpu8fHxyWFhYVlq56Cb16tXr6AdO3Y45+fn79PparaHJTExUd+yZcvQF198Mb28c4rUER8f7xEWFhZQHdfink9ERERUn70EFp6oCkLAfoHNtMYtRerx6x9NRKpQlNIJeNOr4vCxpMg0Fp6oHhG42P1ERERkdQUFBVctYfznn3/ab9261dC5c+f8mi48Uf3F4hMRERHVT9LQBMBraseg2k0jlEar9a/pfZCToXYWIrpaO+zd0Rin/C3Hiosdd545E8wlM6m+6SaljFE7BBERNTyfffaZR/v27VuOHz/e5/333/cYMWJEk549e7a0sbExv/XWW6fUzkd1F4tPREREVF+9D4Cfiqfr0glzk99sx+Y6oTBP7SxE9A+hlJ15Hh9GWI4pCi4k7O/TWK1MRDXsHSmlVu0QRETUsHTs2PGCo6Nj2Zw5c7wnTJjQbOnSpR533XVX/rp16xKjoqKK1M5HdRd75oiIiKj+kYYeAB5WOwbVHQ6iNGSL7Yv77ir5tI0ROr3aeYgIeAiL/7ZHcZTlWEZG4O7iYudotTIR1bA2AIYBmKt2ECIiajh69uxZuG3btiQ1M4SEhJQqirJHzQxU/dj5RERERPXRe2oHoLrHXeS3X6sfvxtQFLWzEDV0DsqFhBis6GI5VlamTUo6eldUVecQ1ROTpZT2aocgIiIiul0sPhEREVH9Ig0DAHRQOwbVTXdo0rt8a/P2VrVzEDVoimIei2laAYh/hqAcPhRdBGi4egfVd00AjFY7BBEREdHtYvGJiIiI6g9pEAAmqx2D6rYo7cHot3Vztqidg6ihCsDx7a1wqLXlWEFBo+3nzjW+U61MRFY2QUrZSO0QRERERLeDxSciIiKqT4YACFM7BNV9sdrfuj+jXb1d7RxEDY6inB+Ht1teOYTsAwl3t1ErEpEKXAG8pnYIIiIiotvB4hMRERHVD9KgASDVjkH1gxAQr+oWRd6r+XOv2lmIGpLeWPuXK3I9LcdSUsKOmEx2bmplIlKFgpEr/zuvqdoxiIiIiG4Vi09ERERUXzwEgJ+Mp2ojBGw+tfm4Rbg4ekTtLEQNgY1S+vfjmNvFcsxotP3rZOqdUWplIrI6BYrB7BA3pLRTZgdToFQ7DhEREdGtYvGJiIiI6j5p0IJdT1QDhIDzUv3kRgEi/aTaWYjqu2fxSa4OZTbljxUFxoT9vZ3VzERkTQ6KfndMaUTiv0o7d3FTnAIADEub8Huw2rmIiIiIbgWLT0RERFQfPAogRO0QVD9pheK1Tj/e1Ajns9XOQlRfuSuZOztje4TlWE5Ok7gLFxoFqpWJyFr0im5/39Kw+EdLunXwVlwt9zzTApisVi4iIiKi26FTOwARERHRbZEGHYCJaseg+k0vTM232I49GFnymX0RbB3UzkNUryhKyat408dyyGwWJ48c7hapViQia9ApmsQuxpZ5wWbfjtc47OG0Cb+/3WRatwSrBSMishIpZcT1j7IeKeUetTPUJqtXr3aOiYkJ/vjjj5NHjx5drR/EGzt2rN/06dN9jxw5khASElIKADNmzHAfM2ZMwE8//XT0/vvvz6/O+5E62PlEREREdd0TAILUDkH1n7MoarPR9qUDGpjL1M5CVJ+EY/cOX5xuZjmWdLTLGbNZZ69WJqKapFFESqQxKG5YSY/g6xSeAEAAeMsauYiI6Pbl5+dr3nzzTa+IiIgQg8HQTqfThbu7u4dFR0cHzZgxw91oNKodkchqWHwiIiKiuksabAC8oXYMajj8RE7kj/r/xqmdg6i+0Chl6aMw/Yo334uKnP44e/aO670hT1TnCAVn7jT5bx1e0qPxnWX+XQSEuMFTB6RN+L1DjYYjIqLbduDAAdvQ0NDWkyZNampra2sePXp0+gcffJAycuTIDKPRKMaMGRPwwgsvNFE7J5G1cNk9IiIiqsueAhCgdghqWEI1yd1m2UzfPNL4Yg+1sxDVdQ/j2+N2KIkqf6woKEjY39dfzUxE1U7BuZAyv/jOpuBOOmi73+JVXgMwuDpjERFR9SkoKBAxMTFBaWlp+nnz5v09bNiw3AqHnNmyZYvDjh07HKvrniUlJaKsrAwODg5KdV2TqDqx84mIiIjqJmnQA3hd7RjUMPXX7uoxXrd4q9o5iOoyB6Vg//34McpyLD09eE9JiaOvWpmIqpWCAv8yz82Pl3TXdDO16qGD9naWkhyYNuH31tWWjYiIqtXHH3/smZycbPfMM89kVFJ4AgBER0cXTpgwIbP8sRAiYsiQIQEVj5sxY4a7ECJi9erVzuVjY8eO9RNCROzevdtuxIgRTby9ve90+H/27jssqmN/A/g7W+lFigqoiAgKIgqIglJs0TQ1mmaaJiYx3VxjIvmlkZjcmJubchPTe0+uLb2YYkE0sYuKXVFBVMACCGyd3x+AlygWYGEWeD/Pw7Oec2bOeZcQXc73zIybW9yvv/7qERgY2DfY3n3/AAAgAElEQVQqKqp3fdd8/vnn/YUQ8Z988olP7b7KykqRkZHRKTw8PNpoNMZ5enr2GzZsWHh2dvZZ/5165plnAkNDQ/sYjca40NDQPs8880zg6W0WL17sNmHChNDQ0NA+rq6u/d3d3fvHxcX1+vjjj33qOye1fRz5RERERK3VbQC6qA5B7dcd2u8G75Md//rSNmyg6ixErY6U9gfxT0PdXTabdvvuXQOGqIpE5DASps52nz+HWvpEucGY7qCzCgAPA7jRQecjIiIH+vrrr30B4J577ik6X9umuOGGG8JcXFzsd9111yEhBEJDQ83jx48/+tZbb3VcvXq1y4ABA6rqtv/iiy/8fXx8rFdfffUJoHq0VHp6es/169d7XHHFFSW33XbbkRMnTmg/+eQT/xEjRvT65ZdftqemplbUPcdbb70VWFRUpL/pppuKPD09bfPmzfN79NFHuxw9elT7wgsvFNa2mzdvnu+uXbtcxowZc7Rbt27mkpIS3Zdffuk3adKkHhUVFXvvuOOOo835vSHnw+ITERERtT6Z3i6onn6GSBkhoH1W927fAum/KcveN0Z1HqLWJAy7siOwPaV2W0rYt2weZgU0WpW5iJpEwuYnPVYOt/Tt7iVd05rhCtfmZ2Q9HjI7ZW8znJuIiJpg586dru7u7vaoqChzc17Hy8vLlp2dvV2v15/ad+uttxa/9dZbHd977z3/AQMG5Nfu37Jli3H9+vXukyZNOmI0GiUAzJ49O2DVqlWe8+bN2zlhwoTS2rYzZsw4Eh0dHT1jxowuq1at2l73mnl5eS45OTmbe/ToYQGAmTNnFg0YMKDXf/7zn8533XVXce3+Z599ttDLy6ugbt+HH374SExMTNTzzz/fmcWn9ofT7hEREVFrdAeAINUhiISA60f62SG9xb7dqrMQtRpSnngQ//zb9GFlZf7ZJ050ilYViaipPO2uf15hTsy7wjxwiJd0DW6my+gAPNRM5yYioiYoLy/XuLu725r7Ovfee+/huoUnAEhISKiKjo6uWLBgQQeb7X8R3n33XT8AmDJlSkntvv/+979+3bt3r0pOTq4oLCzU1X6ZTCZNSkpK6bp16zzKy8tF3fOPHTu2pLbABAAuLi7ynnvuOWyz2cS8efNOTann5eVlr/1zWVmZ5tChQ9ry8nLN4MGDS/fs2eNy9OhR1iLaGY58IiIichAhRBiADACpALoCMAEoBLAawIdSysU17fIAlEsp+yiK2rpleruh+vtM5BQ0Ar7fGR6pSDH951Ah/DqpzkPk7C7CTxu9UJpauy0lirZsHtZXZSaixnKVhrXDzH1cO0vfQS10yZvzM7KeCpmdUnj+pkRE1FI8PDzsFRUVzV5ciYqKqqpv/7XXXlvy2GOPdfnmm2+8xo8fXwoA8+bN6xAeHl6VkpJyahq9PXv2uFRVVWmCgoJiz3aNQ4cO6cLDw08Vm3r37n3GNfv27VtZcz5j7b6CggLdjBkzghctWuRz9OjRM+oOJSUlug4dOjTryDByLiw+EREROYAQIgHAUgAWAB8D2ALAFUAEgMsBlAFYrCxg23IngI6qQxDVpRP24D+MD+xINL3mWgZ3b9V5iJyVXpp33YAPkuvuy9sbt9NqNSafrQ+RM9JL7ZY0S5Q51B4Y38KXNgJ4AMCMFr4uERGdQ8+ePSvXrFnjkZuba2jq1HtWq1Wc7ZiHh4e9vv1Tpkw5+uSTT4Z89NFHfuPHjy/9+eefPfLz842PPPJIft12UkrRs2fPyn/9618HznaNoKAga91tIc6MI6X827bdbsfw4cMj9uzZ43LzzTcfGTBgwElfX1+bVquV77//vv93333XwW6vNzq1YSw+EREROcYTANwA9JdSbqh7QAhxDwCOhnCETG8dgGmqYxDVx1WYI5Yap28YZJrT2wy98fw9iNqfO/FKqRb2U7+Hms0u6/Lzo1l4olZDKzW7kqwRJb1swQMVxpian5H1z5DZKVw7g4jISYwdO/bYmjVrPF5//fWAOXPmFJy/B+Dt7W07duzYGffn644mulCdO3e2pqWlnVi0aJHPiRMnNB9++KGfRqPBrbfe+rd/K7p27Vp17Ngx3eWXX16m1V7YUpu5ubkup+/btGmTKwCEhYWZAOCvv/5y3b59u+v9999f+NJLLx2s2/bdd98NaOj7obaB8ywSERE5Rk8AJacXngBASmmXUh6spw813BUAuqgOQXQ2HURZv58NM9cBpz0KSEQIkIf/HIiVcbXbUsK0KWekr8pMRBdKSHEgwdIje7IpPUxx4QkAPADcpzgDERHVMW3atOLQ0NCqt956q+Onn37qU1+brKwst9mzZ58qxISGhlatX7/evays7NQ9+qKiIu1XX33l15gMN910U0lVVZXmrbfe8vvhhx98k5OTS0NDQy1121x77bUlxcXF+ieffLLe2UQOHDhwRjHsm2++8du9e/ephaaqqqrEnDlzOmq1WkyYMOE4AOh0OgmcOSJq9erVLosWLar3+0FtH0c+EREROcZuAJFCiPFSygWqw7RhHPVETi9McyjpC/3TSydaHktTnYXIaUhZNROzguvuKi7u+mdFhQ//PyGnJiSORNu6bBtgDR+khcaZHoC5Lz8j698hs1PKVQchIiLA09PT/t133+267LLLet5444093nzzzdJhw4aV+vn5WYuKinTLli3zWr58udcdd9xxqLbP1KlTj9x1113dhwwZEnHttdeWHD9+XPvpp58GBAUFmYuLi/Xnul59rr766hPTpk2zzpo1K7i8vFx7ww03lJze5pFHHjnyxx9/eM2aNStk6dKlnmlpaWVeXl62/fv3G5YtW+ZlNBrtf/311466fUJDQ6uSkpJ6T5o0qcjT09M2d+5cv82bN7tNmzatsHZtqP79+1eFh4dXvfHGG50qKio0kZGRVTt27HD57LPPAnr27FmZm5vr1pjvK7VuLD4RERE5xtMARgKYL4TYCWA5gNUAlkgptypN1lZkescDGKw6BtGFSNJuTZst316SYb09XXUWImeQgFV/dUbhqUKT3a7Zt33bkEEqMxGdk8SJcHun9YMtvRL10KaqjlMPX1Svg/m86iBERI2VmZm5VnUGR+rTp49p06ZNuS+++KL/t99+6/vyyy93rqio0Hh7e9tiYmJOvvrqq3unTp16ahq8O++88+jBgwf17733XuATTzzRJSQkxPTggw8e1Gg0mDZtmntDr+/i4iLHjBlz9OOPPw708PCwXX/99cdOb2M0GuXixYt3Pvfcc4Fffvml3/PPPx8EAIGBgZbY2NiTkydPPqNgNXXq1COlpaXad955J7CwsNDQuXNn81NPPXXgscceO1LbRqfT4Ycfftg5bdq0kLlz5/pVVVVpwsPDq15//fW9GzZscGPxqX0Spw+FIyIiosYRQsSgegHoiwEE1jm0HMAkKeWemnZ5AMqllH1aPGRrlun9MYAbVccgulBSQj5nvXbFm7YxLJq2MVUXBRVBCM5df4E00nbwXdzoY4Tp1E2Hrbkpa4uLQ+NV5iKql0RFF7vfqjRLdD8X6J19mqADAMJCZqdYz9uSiEiRjRs35sXGxharzkFEF2bjxo3+sbGxoY44F9d8IiIichAp5SYp5WQpZUcAoQAmAcgCMATAN0IIg8p8rVqmdycA16iOQdQQQkDM1H2ZeKnmzzb1RCdRQ03Ex/vqFp4qKrxWsPBETkfCEmj3XjbRNLhslKVfeisoPAHV62BeoToEERERUX1YfCIiImoGUsp9UsqPAaQByAbQB0Ci2lSt2h0AWLyjVkcI6OfoX4mIEzu2qc5CpIKHLNt4Cb5Pqt2WEic25YwMV5mJ6G8k7L529+wrzYMKx5gTUt3hUu8C7E7sPtUBiIiIiOrD4hMREVEzktXz2/5Vsxl8rrZ0FpneBlQXn4haJSHgOdfwpF93cXC/6ixELUpK24N4xqXuroKC3hvNZrfAs3Uhaknu0mXVWPOA3RPMgwb7SPeuqvM00pD8jKz+qkMQERERnY7FJyIiIgcQQowUQujq2e8K4KKazdyWTdVmTATQ2p5CJvobrZABvxgy7H44wfnuqd0Ix47scOyMrN22WnW5e/fED1GZiQgAjFK/YbS536aJpsGJAdKrp+o8DsDRT0REROR0zrhJRkRERI3yEgA/IcS3ADYBqED1PPzXAYgA8LGUclOd9gFCiEfPcq4PpJQFDbm4EOJhAHEA4gF0B7BPShl6nj43onpEUQyqH0jJA/CVlHJWnTY9ALwGIBlAMYD/SCn/U8+5XkH1FIPxUkpHL3o9zcHnI1LCIKyhS4zTtww0veZaARd31XmImpWUxx/As33+twnbls3DBSD4ACQpo5ParSmW3hU97B3b2ppjE/Mzsh4KmZ1SpDoIERERUS0Wn4iIiBxjOoCxAIYAmADAB8AJADkAngPw4WntAwHMQv1+A9Cg4hOAfwI4CmBdzbXPSQjxPoBJAOYD+AyADdVFq2512mgALATgCiADQDSAl4UQ+VLK+XXaDUR1EWuwwwtPmd4pADiVDLUZnqIy+g/jA6sHm17pb4OWn8WpzRqN7zd6oSytdvvEiY7ZpaWBqSozUfulkWLvQGvPQ1G2kEECQqjO0wyMAKYCeFp1ECIiIqJa/IWXiIjIAaSUiwAsusC2oc0QoYeUcg8ACCE2A/A4W0MhxBQANwO4SUr5yTnO2RPVo6KGSimX1PTtA2A8qotWEELoAbwD4DUp5WoHvI/TcdQTtTmdxLEB3xoeXX6p+VlOP0Ztkl6adl6Pj0/9fEspDuVuGcoHCajFCYmD/Wzdd/e3dk/WQHRXnaeZ3ZmfkTU7ZHaKo0egExERETUKpzwgIiJqA2oLT+cjhBAAHgawrrbwJITwrNl/Otea16N19h0FUHe6sIcAeAM42xSCjZfp3Q3AOIefl8gJRGv2DXlL/+IS1TmImsM9eLlcA7u2dnvP7oQ8m03vqTITtTMSxb2tIUsnm4b6xVvDUjQQ2vN3avWCAFypOgQRERFRLRafiIiI2pdIAD0ArBBCPCaEKAFQCuC4EOJNIUTdEVPbUV1sekwI0V0IcSmA0QBWAIAQIgLVRac7pZQnmyHr3QDaw80iaqdGadekZ+g+X6Y6B5EjBcpDfyZg1alRTiaT65qDB3sNUpmJ2hGJ0jBb4JKbTGnGwdbINC00RtWRWth9qgMQERER1WLxiYiIqH2JrHm9BsADAJ5F9VOyC1C9VsB3taOgpJSVAKYAuAjAHgDfA1gK4JWaNm8BWCil/NHhKTO93QDc6vDzEjmZqdrvh1yn/e1P1TmIHELKygw8FfK/TVRuyhkZqDIStRMSVcG2DkuvN6VYh1li0g3QtdeRdkn5GVkJqkMQERERAVzziYiIqL2pvRkTAGCklPK3mu35NQWlSage3fQTAEgpvxZChADoDeColHIXAAghbgXQF8A1QghXAM8BGAPgJIA3pJRzmpjzJgC+TTwHkdMTAppndO/3Oyj9c5bY+/VVnYeoKRLx56qOOJxWu110pPuqykrvtHP1IWoSCau/9Fw53BwT7glX/qxVuwfAZNUhiIiIiDjyiYiIqH2prHktqFN4qvVRzWt63Z1SyjIp5ao6hadOAJ4H8ICU8giAFwFciuqC0dMAnhdCXN3ohJneApw2htoRIeDyvv5fXaNE3m7VWYgaSyNtBXfglcTabbtds3vHjqQklZmoDZOQ3na3FRPMA/PHmRNTPOHaWXUkJ3JVfkaWl+oQRERERBz5RERE1L7k17wequdYYc3r+UYcvQJgnZTyQyGEBtVP194rpVwGADVrQ00B8N9GZhyB6pFWRO2GRsDnW8OjFammlwsPwp83UanVuQEf7jfCHFy7vTU3tUxKrUFlJmqb3KRhzXBzjEdH6ZOsOouTcgNwLYC3VQchIjqf3//oEa86Q13Dh+1eqzpDSxJCxI8fP75k/vz5eedqN3369KCXXnqp87Zt2zZFRkaaG3qdV155xW/atGmh33333Y7LLrusrNGB6zFhwoTQBQsW+EkpT/23a2pechyOfCIiImpfNqF69FNwPcdq1+k4crbOQojLAVyG6vWhAMAfgAuAA3WaHQDQpQkZb2tCX6JWSyfsQb8bHyj3xMkTqrMQNYSHLN0wCj+eGuV0stwn++jRLv1UZqK2xyB1OReZYzdeZ0pJ6Ch9eqnO4+RuUR2AiKg9+v777z2FEPGPP/54x9OP/fDDDx6enp79AgIC+v7111+uKvIRtTQWn4iIiNoRKWUFgAUAOgkhrjjt8J01rz/W11cI4QngdQBP1k7BB6AEgBlATJ2mMQAONipgprcvqteOImqXXIWl5zLjP/YaYDGpzkJ0QaS0PYSn3f+3iWObNo2IVBmJ2had1GxPNUetvsmU1rer3T9WdZ5WYmB+RlaU6hBERFTtiy++8J4wYUKEl5eXbfHixdsHDhxYef5eRK0fp90jIiJqA4QQNwLoVrMZAMAghHi0ZnuflPKTOs3/D9VT230uhHgVQB6AS1C9btPHUsoVZ7nMP1FdbHqhdoeU0iaE+ALAY0IIASCo5lw3N/KtTARgbGRfojbBV5T3+8Xw0Mph5hcGSmj4sBg5tQhsz+6B3am12wcO9NlssbimqMxEbYNGin0J1h4FMbauSQJCqM7TCk0B8IDqEERE7d2bb77Z4Z577gkNDQ01/fbbbztCQ0MtqjMRtRT+MktERNQ2TAEwq+YrEIBPne0pdRtKKfcDGITqEVA3A3gZQA8AD+IsRSMhxCBUT7V3q5TSetrh+wAsBJABYAKARwB83Mj3MamR/YjalO6aw0lfGp7OUp2D6JykPDYds0+NfLVa9Zv25fUbojIStX5C4lBfa7dlk03pwX1t3ZJZeGq0G/IzsvSqQxARtWfPPfdcwN133909KiqqYvny5dvqFp4mTJgQKoSILykp0V5//fVdO3ToEGs0GuPi4uJ6/fHHH+51z/PKK6/4CSHiv//+e8/Tr5GYmBgZHBwcc/r+7Oxs14svvjjMz88v1mAwxHXq1Knv5Zdf3n3Lli3nfNhz+fLlbv7+/rE9evSI3rlz5znX7ywpKdHeeeedwV27du1jMBjifH19Yy+//PLuubm59fazWq2YPn16UFBQUIzBYIiLiIiIevvtt89Yc3rBggVel156aVhISEiMi4tLnKenZ7/Bgwf3/OGHHzzOlYecD0c+ERERtQFSyvQGts8DcH0D2v8JoN4PkFLKUgCTG3L9emV69waQ2OTzELURAzXb0v6le3PJQ9Y70lVnIarPJfh2kyfKUgFASlg35YxwAQsF1FgSxyJtQRuTrBEDddCmnr8DnUcgqtfpXKg6CBFRe/Twww93mj17dvCgQYPKfv75513e3t72+toNGzasp5+fn3XGjBkHS0pKdG+//XbH8ePH99y7d2+Or69vvX3O54svvvCeNGlSD1dXV/vEiROLw8PDqw4dOqT/448/vNevX+8aHR1d7xTfCxYs8Lrxxht7REZGVv700087O3bsaDvbNUpKSrQDBw7sVVhYaLj66quLo6OjKwsLC/Uffvhh4ODBg73++uuvrREREea6fR555JGQiooKzeTJk4uEEPj888/9pk6dGlZVVZV33333ldS2++CDD/yOHTumvfrqq0tCQkLMBQUF+s8++yxg7Nixkd9///320aNHlzfm+0Itj8UnIiIichaTVQcgcjZXaZel5cnO2a/bxg5WnYWoLoM07ZiIT0/9XB4/1jm7vNw/TWUmaqUkyrvZA9akWnr3N0KfrjpOGzMFLD4REbW4Dz74ICA/P984YsSI499+++0eV1dXeba2MTExFZ9++un+2u3o6OiqKVOmhL377rsdHnzwweKGXrusrExz1113hXp4eNjWrl2b271797rT/BXabPXXk1577bUO999/f2haWtqJr7/+eo+Hh8dZMwPAjBkzgvLz842LFy/empSUdGoNq6lTp5bExcVFP/zww0Hz58/Pq9vn2LFjuk2bNuX6+fnZAGD69OlFMTExUY899liXW2655WjtNT/77LN9Xl5efyu83X///UV9+/aNfvbZZzuNHj16F6hV4LR7REREpF6mtxbADapjEDkbISAe1H2VeLlmxRrVWYjqugcvVmhg1wKAlKIgNzctQXUmamUkzJ3sPkuvMw2pHGnpm26E3lt1pDZodH5GVmfVIYiI2pvi4mI9AISGhprOVXgCgJkzZx6uu33JJZeUAsDOnTtdGnPthQsXeh0/flx35513Hj6t8AQA0Gq1Z/R55JFHOt17773dr7rqquKff/559/kKT3a7HV9//XWHhISEstDQUEthYaGu9svT09MeGxtbnpWV5XV6v8mTJxfVFp4AwM/PzzZp0qSi0tJS7Y8//nhqSsG6hacTJ05oDh06pNXpdIiNjT25ceNGTr3XinDkExERETmDkQCCVIcgckZCQP+Kfk6vQ+YOW1fLXr1V5yHqJA+ujMeapNrtnTsHFtjt+mCVmagVkbB1kB4rR1hiQr2kG0fLNS8tqtfTnK06CBFRe3L33Xcfys7O9nz33Xc7AsA777yTf7a2vXv3/tsUeJ06dbIBwNGjRxt1337Hjh1GAIiPj6+4kPa//PKL74IFCzTXXntt8eeff77//D2AwsJC3fHjx3XZ2dleQUFBsfW10WjOHPMSFRVVdfq+6OjoKgDYvXv3qbWotmzZYpw5c2bwsmXLvMrKyv5WLROc4blVYfGJiIiInMFk1QGInJkQ8PjSMMt/hPn5/XtlUFfVeagdk7JiJmad+hmsqnJfdfhQT67XRxfE0+7y5whL3wA/6TlEdZZ25Baw+ERE1KLc3Nzsv/76686LLrqo57vvvtvRbreL995770B9bXW6+m/PS/m/wUfnKricPo2elFKcr09dffv2PZmfn2/48ccffZctW1aUmpp63qKV3V49MCkpKan0oYceOnRBF6rOdMaIqrrvE6ge6TR06NDIyspKzW233Xakb9++FV5eXnaNRiOfe+65zn/++afn6ecg58XiExEREamV6e0JYKzqGETOTitkwC+GmfuSTHOKS+DtrzoPtU+DkL0qEEfSAUBKnNyUM5Ijnui8XKVh3TBzH5fO0neQ6iztUM/8jKykkNkpK1UHISJqTzw8POSiRYt2XnTRReHvv/9+oJQS77//fr0FqPPx8/OzAkBJSckZc+YdOHDAqNfrT1VwevXqVQUAa9eudb3iiitKz3fuzp07mz/77LO9Q4cOjbz00ksjvv76653Dhw8/ea4+QUFBVk9PT1t5ebl23LhxZRf6PrZs2eIK4ETdfbm5uS4A0KNHDxMAfPfdd15FRUX6l19+OW/atGkldds+8cQT/NzZynDNJyIiIlJtPIBGzWdN1N4YhK3bUuM/jrih6py/EBI1B4205k/FnFPFg8OHwtdUVXnyJgCdlV5qt4wwx6y/3pQS11n6RqnO045dozoAEVF7VFOA2pWcnFz6wQcfBE6ePLlLY85TOzXdr7/++rd1lN56660ORUVF+rr7xo0bV+rj42N94403Ou3bt+9vx4D/jVqqq3v37pZly5ZtCwwMtIwdOzZi0aJF7ufKo9VqMW7cuKObNm1y/+CDD3zra1NQUHDGoJcPP/wwoG4BraSkRPvRRx8FeHp62i6++OLymnNL4MwRUQsWLPDKyck5Zy5yPhz5RERERKpdpzoAUWviIaqiFhunr0k2vdrPBi0/z1OLuQnv5xtgCQEAm027c+fOgYNVZyLnpJWaXUnWiJJetuCBqrMQAOCq/Iys6SGzU86840hERM3Kw8ND/vrrr7suuuii8I8++ijQbreLjz/++ILWVqoVGxtrSkpKKv3iiy8CpJTo169fxYYNG9x++eUX365du5qsVuupOfY8PT3tc+bMyZs8eXKP2NjY6IkTJxaFh4ebioqKdL///rv3tGnTDt9www3HT79G165drcuWLds+dOjQiHHjxkXMnTt356WXXlp+tkwvvfRSwerVqz2mTJkSNn/+/GOJiYnlBoNB7tu3z/D77797x8TEVMyfPz+vbh9fX19rQkJCr+uvv75YSik+//xzv8LCQsOLL764z9PT0w4AI0eOLPf397c8/vjjXfLy8owhISHmDRs2uC1cuNCvZ8+elTt37nRtyPeO1OIvq0RERKROpncggOGqYxC1Nh3F8YTvDY8sv9g8m+umUIvwlCfWj8QvgwBASsjc3PQqQMPfJ+lvhBQH4q1h+2Nt3ZIERLjqPHRKEIAhAJapDkJEVNfwYbvXqs7QEtzc3OSiRYt2jRo1KvyTTz4JkFKeMbLnfL788su9U6dO7frNN9/4LVy40C8hIaF80aJF2++4445uBQUFhrptr7/++hNBQUHbnnnmmc5ffvml/8mTJ7V+fn6WhISE8ri4uLOu6RQcHFxbgIq88sore3755Ze7xo4dW++0en5+frZVq1Zte+qppzp+8803vr/99puPVquVHTt2NCcmJpbffvvtxaf3eeaZZ/KXLl3q+d577wWWlJTou3XrZnrjjTf23nHHHUdr2/j7+9u+//77nTNmzAh5//33A202m4iOjq6YP3/+znfeecefxafWRTT0B52IiIjIYTK97wHwquoYRK3Vr7a4JbdZZqSrztHeVF0UVAQhAlTnaDFSWmfhob1h2NMTAMrK/LI2rL8kRXUsch5C4ki0rcu2AdbwQVpoDOfvQQq8HjI75W7VIYio/dm4cWNebGzsGYUIInJOGzdu9I+NjQ11xLm45hMRERGpxCn3iJpgpHZd+qO6T/kkOzWrXsjNri08SYnizZuG9VGdiZyExIlwW6clN5nSPQZZI1JZeHJqE/Izss5YqJ6IiIioubD4RERERGpkeocCSFIdg6i1m6L9ccgN2l//VJ2D2iYh7SX/wL9ia7f37YvdbrW61LuwNLUjEhVdbH5LbjClynRLdLoeWjfVkei8OgJIUx2CiIiI2g8Wn4iIiEiViaoDELUFQobvnCQAACAASURBVEAzS/dBv3TNhhzVWajtuQxfb/FAuQ8AWCzGDQf29x2sOhMpJGEJtHsvm2gaXDbK0i/dBXof1ZGoQa5RHYCIiIjaDxafiIiISBVOuUfkIELA5X39v7pGi727VGehtsMoq7Zfjc+HAICUMG/KGemlOhMpImH3tbtnX2keVDjGnJDqDpeOqiNRo0zIz8jSqQ5BRERE7QOLT0RERNTyMr17A+CaIUQOpBHw+cbwmHswigpVZ6G24T7826SB1ADA0ZKQlSdP+oapzkQtz126rBprHrB7gnnQYB/p3lV1HmoSPwDDVYcgIiKi9oHFJyIiIlLhctUBiNoinbB3/t0446QXyk+ozkKtW2eZv6If1vcFALtd7N+2LSVRdSZqWUap3zDa3G/TRNPgxADp1VN1HnIYTr1HRERELYLFJyIiIlLhUtUBiNoqF2EJX2qcnmeAxaQ6C7VSUlbMxNPdazd37Eg+YrfrXFVGopajk9qtQ8191t5oSu0XYveLUZ2HHO6K/Iwsg+oQRERE1Pax+EREREQtK9PbB0Cy6hhEbZmvKI/91fDgegG7XXUWan2SkbU6AEWdAaCy0vPPoiNhCaozUfPTSLE3yRKxcpIprVcPe8d41Xmo2fgAGKY6BBEREbV9LD4RERFRSxsFgItdEzWzbpojg74yzMpSnYNaF620HrgNrw8EAClRlrNxZKjiSNTMhMTB/tbuWZNNQ7tG27okCQihOhM1u8tUByAiIqK2j8UnIiIiammcco+ohSRqtqf9W//mEtU5qPWYhHcPGmBxAYDCg5HrzWb3TqozUTORKO5tDVk62TTUL94alqKB0KqORC2Gn8WIiIio2bH4RERERC0n01sD4GLVMYjakyu1y9Lv0S5crjoHOT9veXztcPw6EABsNt3W3bsTBqvORM1AojTMFrjkJlOacbA1Mk0LjVF1JGpxofkZWdGqQxAREVHbxuITERERtaSBAPxVhyBqbx7QzR00VpO9RnUOcmJSWh/CLJ/qP8K+ZfNQCWg4EqYtkagKtnVYer0pxTrMEpNugM5TdSRSilPvERERUbPiegtERETUkjjNC5ECQkD3sv613oXmDrmrZO8o1XnI+fTGlhWhyEsFgNLSgOUnTnRKVZ2JHETC6i89Vw43x4R7wjVNdRxyGpcBeE51CCJq3zot3hCvOkNdh4b2W9tS1woODo4JDg42r1q1antj+k+fPj3opZde6rxt27ZNkZGRZkfnI3IEjnwiIiKilsTiE5EiQsD9S8PTAT1EwX7VWci5CGkv/geeiwUAKXFky+ZhsaozkQNISG+724oJ5oH548yJKZ5w7aw6EjmVpPyMrA6qQxARtTW5ubmGiRMnduvevXu0q6trfy8vr349evSIHj9+fOh3333HUcfUrnDkExEREbWMTO9gAP1UxyBqzzRCBvxsyNiXZHq1qBg+AarzkHMYgwVb3VGRAgB798TvstkMyaozUdO4ScOa4eYYj47Sh/8t6Wy0AEYD+Fx1ECKitmLZsmVuo0aNitTpdHLChAkl0dHRlZWVlZodO3a4/Pbbbz4eHh72yy+/vAwAdu3atVkIoToyUbNi8YmIiIhaCkc9ETkBvbB1W2Kcnptoet2tAi7uqvOQWkZZufVKfDkYAMxml7UFBVEsVrRiBqnLSbdEy652/wTVWahVuAwsPhEROUxmZmZQVVWVJjs7Ozc5Obmy7jGbzbb/wIED+tptV1dX2fIJG+fYsWMaX19fu+oc1Ppw2j0iIiJqKSw+ETkJD1EVtdg4fasWNqvqLKTW/XjeqoHUSImqnI0X+avOQ42jk5rtqeao1TeZ0vp2tftz2kS6UKPzM7K0qkMQEbUVe/fuNfr4+FhPLzwBgFarRWhoqKV2Ozg4OCYxMTGybpvafevXr3dJT08Pd3d37+/p6dlv9OjRYfv37z/vIBKr1Yrrrruuq0ajiX/00Uc71j32zjvv+MbHx0e6u7v3d3V17d+3b99eH3zwge/p5xBCxE+YMCH0m2++8YyPj490c3PrP2rUqJ4N+04QVWPxiYiIiJpfprcRwHDVMYjofzqK4wk/GP7vT9U5SJ1geSC7LzbGAEBxcbe/Kiu9u6nORA2jkWJfoiV8xSRTekSEvfMA1Xmo1fEFMFh1CCKitqJbt26m48eP6z766COfxp7j8OHD+pEjR0YGBwebn3jiifwxY8YcXbRoke/EiRO7n6tfeXm5GD16dI+5c+f6z5kzZ+/TTz99uPbYfffdF3T77beHubu722fOnFnwyCOPFLi6utpvueWWsGefffaMqbhzcnLcr7vuuvD+/fufnDVr1oFrrrmmpLHvh9o3TrtHRERELSEdAKf3InIyvTQHhrynf37JFMuD6aqzUAuTsnwmZvUAALtds3f7tsGDVEeiCyckDsXYuu1IsIYla6Bh0ZCa4lIAy1SHICJqCx599NHC7Oxsr8mTJ/d44oknTAMGDChPSEg4OXLkyLK4uLiqCznH/v37je+8886eW2+99VjtPo1Gg08//TRg/fr1Lv379z/jPIcPH9ZefPHFPbdv3+761Vdf7Ro/fnxp7bHly5e7vfrqq53vvvvuQ3PmzCmok/XIiBEjejzzzDMhd9xxR0ndafV27drlsnDhwh3jxo0ra/x3g4gjn4iIiKhlcMo9Iic1XLs+/THdJ0tV56CWNQRL1/ihpBMAbNs25JiUWqPqTHQBJI5FWoOWTDKleydaw1M10PCBUmqqi1UHICJqK0aMGHEyOzt76/jx40vKysq08+bN88vIyOgaHx8fHR8fH5mbm2s43zkCAgIsdQtPADB8+PBSANi2bdsZn9d27dplSEpK6rV//37jL7/8sr1u4QkAPvroow5CCNx2223FhYWFurpfl1122fGTJ09qFi9e7FG3T2RkZCULT+QI/KBKRERELYHFJyIndov2p5R9MnDlx7ZRSaqzUPPTSuu+W/FGEgBUnPReUVLcLVl1JjoPifJu9oA1qZbe/Y3Qp6uOQ21Kn/yMLP+Q2SnFqoMQEbUFiYmJlfPnz88DgB07dhgWLVrk+eGHH/qvXbvWY9y4ceE5OTlbXVxc5Nn6d+nSxXT6Pn9/fxsAFBcXn3Ev/5prrulps9mwevXq3D59+pzRd8eOHS5SSvTr16/P2a5ZWFj4t/OGhYVd0CgtovNh8YmIiIiaV6Z3bwBhqmMQ0dkJAc2Tuo/i8mXAxj/scbGq81DzuhlvH9bD2k1KnMjZNIILSDszCXMn6bNymLlPlBuM6arjUJskUD098jzFOYiI2pyIiAhzREREyV133VUyYMCAyHXr1nksXbrUfdSoUeVn66PVas96PinPrFmNGTOm5Isvvgh4/PHHO8+dOzfv9P5SSiGEwNy5c3dqtdp6i16nT+Xn6upqr68dUUOx+ERERETNjaOeiFoBIWB8T//v0DHmp3dukmEsSLRRPvLYmqH4PREACvKjcixmtxTVmageErYO0mPlCEtMqJd0S1Mdh9q8oWDxiYio2Wg0GsTFxZ1ct26dx/79+/WOPPcTTzxxKDw83DRr1qyQK664QixYsGCvTve/W/5hYWFVWVlZXt27dzdf6LpTRI7CNZ+IiIiouY1SHYCILowQ8F5oeNwjGEWFqrNQM5DSMhOzOgCA1arfsndv3GDVkehMnnaXP68wJ+aNNw8c4iXdQlTnoXZhqOoARERtwcKFC70sFssZ+8vLy8XSpUu9ACA2NtbhBaCnnnrq8FNPPXXgu+++6zB27NiwuhluvvnmEgCYOXNmsNVqPaNvQUEBB6dQs+EPFxERETWfTG8tgEGqYxDRhdMJe+ffjTN2DTS9dvwEPHxU5yHHiUbOiq7YlyYlbJs3DdcBgg8jOhFXaVg3zNzHpbP05b+b1NJ652dkdQqZnXJIdRAiotbsoYce6nL77bdrR44ceaJPnz4Vbm5u9gMHDhjmz5/vt2/fPuMVV1xRkpiYWNkc137ssceO6PV6+X//939dL7vssh7ffvvtHqPRKNPS0ioeeOCBgy+88EJQVFRU1JgxY44FBQVZCgsL9evXr3dbunSpt8ViWdccmYhYfCIiIqLm1BeAh+oQRNQwLsISvtT4j40DTa+5mGBwUZ2Hmk5Ie9H9+Hd/ADhxvNPysrIATuXmJPRSuyXNEmUOtQfGqc5C7Vo6gC9VhyCi9uXQ0H5rVWdwpOeee+7AwoULfVatWuXx008/+ZSVlek8PDxskZGRFffff3/hvffeW9Kc18/IyCjS6/XywQcf7HbJJZeE/fDDD3tcXFzkv//978KEhISKOXPmBL7zzjsdKysrNR06dLBGRERUPv300weaMxO1b6K+hcqIiIiIHCLT+x4Ar6qOQUSNs98e8Gea+aVECQ1HyNRRdVFQEYQIUJ2jIcbLr7Im4L8pUorClSuu8bTZ9HwwQDGt1OxKskaU9LIFD1SdhQjA2yGzU6aqDkFEbc/GjRvzYmNji1XnIKILs3HjRv/Y2NhQR5yLv0QSERFRc0pWHYCIGq+rpmjQXMNTy1XnoKZxkRW54/HfIQCwe3fCPhae1BJS5CdYwrInm9LDWHgiJ8J1n4iIiMihWHwiIiKi5sTiE1Erl6DZkfqi/vUlqnNQI0kp/4F/2QUgTCbX1YUHe3E9IUWExJE+1i7LJpvSA/vZug8WXHOLnEvP/IysINUhiIiIqO3gh10iIiJqHpnewQC6qY5BRE03Xrs8/T7tAo6AaoVCsH9FH2zqIyUqc3Iu6qQ6T7skcSLc1mnpTaZ0j0HWiFQtNAbVkYjOgqOfiIiIyGFYfCIiIqLmwlFPRG3IP3TzBo3TLF+jOgc1gJTlM/F0OAAcOdJ9VVWlVxfVkdoViYouNr+lN5hSZbolOk0PrZvqSETnweITEREROYxOdQAiIiJqs1h8ImpDhIDuJf3rvQvNHXL/klFRqvPQ+aVi8doOOJpmt2t279yRzL+TW4qEJVB6rxxu7hPpDpc01XGIGiBddQAiIiJqOzjyiYiIiJoLb3QStTFCwP0LwzOBPUTBPtVZ6Nx00pI3BW8lAcDW3LRyKTV61ZnaPAm7r909+0rzoMIx5oRUd7h0VB2JqIF65Gdk+asO4YyEEG5CiPuFEFlCiKNCCIsQ4rAQ4kchxGQhhK5O2yVCiPJznCtTCCGFEAktk56IiEgNFp+IiIjI8TK9XQH0Vx2DiBxPI6T/z4YMEYhjRaqz0NlNwZtFOlgN5eW+2UePhsSqztPWuUuXVWPNA3ZPMA8a7CPdu6rOQ9QEiaoDOBshRDiA9QBeAlAF4FkAtwN4EYAewAcA/qksIJHzs9vtdqE6BBGdn5QSAKSjzsdp94iIiKg5DED1L+NE1Abpha3rYuMDWxNNr7mehKuH6jz0d77y6JpULBkgJY5t3jSil+o8bZlR6jcMtURrQ+x+vGFPbUUigB9Vh3AWQghXAN8DCAMwQUq54LQmzwkhBqD6sy8R1UMIcaiystLb3d29UnUWIjq3kydPugkh9jrqfBz5RERERM2BU+4RtXHuoqr3YuP07TpYLaqzUB1SWmbiKT8AOLA/ZovF4uKnOlJbpJParUPNfdbeaErtF2L3i1Gdh8iBBqoO4GRuBRAJ4IV6Ck8AACnlainl6y0bi6j1sFqtT+bl5RlOnjzpyhFQRM5HSgmz2awrLi72ycvL01ksln856twc+URERETNYbDqAETU/ALFifgfDP+XPcr8XDIgeDPBCcRgw4ouOJBmsRhy9u2L5d/FDqaRYu9Aa89DUbaQQYI/89Q2cQTP311Z8/p2QzsKIc62fpZb4+MQtT5xcXG/rFu37p7du3c/IaXsBA6GIHI2diHEMSnlMqvV+mx8fPxOR51Y1MzjR0REROQ4md7FAPi0PVE78Yet35JbLA+lq87RUqouCiqCEAGqc5xOSPuRd3CTq4usdN2w/pK95eV+PVVnaiuExMF+tu67+1u7J2sgtKrzEDWz8JDZKbtVh3AGQogSAHoppVcD+iwBkHYBTQdIKdc0NhsREZGzY6WZiIiIHCvTOxIsPBG1K8O0G9If1328VHWO9m4CvtrpikrPY8eCsll4chCJ4t7WkKWTTUP94q1hKSw8UTvRpDXMhBAPCyHmCiH2CCGkECLvPO0HCiF+E0KUCSFKhRA/CyH61dMuXgixXAhRLoTYKoS45izn+0YI8UNT3kMdXgBKG9GvCsDIs3x94qBsRERETo3T7hEREZGjcZononboZu3PKftk4MqPbKOTVGdpj1xlxZZxmJdst4v8rblpnDarqSRKw+yB64ZYescboLuQEQxEbUkigC+a0P+fAI4CWAfA51wNhRCDACwBUADg8Zrd9wDIEkIkSyk31bTzBPA9gHwAMwCkA/hcCLFHSrm6zvmuAjAcQHQT8tdVCsCzEf1sUsrf6jsghBjStEhEREStA4tPRERE5GjJqgMQUcsTAppM3cdxB6X/hl/tCWc8sU7NSEo5HbMhALFz56CDdrsuRHWkVkuiKtje4a90S3SMKwzpquMQKTKwif17SCn3AIAQYjMAj3O0fQWAGUCqlLKgps9/AWwF8AKAi2raJQPoBCBJSpknhHi7Juc4AKtr+vnUnO8RKeW+Jr6HWpsBpAohwmrfExEREV0YTrtHREREjsbiE1E7JQSMb+tf7N5X7HbYIrV0fl2Rlx2FLdFVVe6rDh8Ob9J0We2WhNXf7pl1jSn52MWW/mmuMHRQHYlIof75GVmNflj5Qos0QohwAAMAzK0tPNX0LwAwF8AIIUSnmt2uNa9Ha9rYARwH4F7nlM8DOADg1cZmr8f8mtdbHXhOIiKidoHFJyIiInKcTG8fAL1UxyAidYSA90LDEx4houig6iztgpSlD+GZCClxMmfjRRzx1FAS0tvutmKCeWD+OHNiiidcO6uOROQEXAD0bYHr1E4RurKeY38CEADia7bXArAAmCWE6CaEmAQgFsAKABBCpAGYBODWmsKUo7wLYDuAGUKIsfU1qFmL6i4HXpOIiKhNYPGJiIiIHKkPqm8UEFE7phX2zr8ZZlR6o/y46ixt3VD8tt4XxwIPHQpfYzJ5BKnO05q4ScOay83x268yJyX7So9Q1XmInExLjKKs/TuroJ5jtfuCAUBKeQDAfQCmAsgD8CGAjwDMFUIYAbwN4N9SyhxHBpRSVgC4DMBeAF8LIX4RQswQQtwshHhICPETqqf96+rI6xIREbUFXPOJiIiIHClKdQAicg4uwtJjmfH+nETT6y4mGFxU52mLdNKydzLeSbbZtDt27Rw4WHWe1sIgdTnplmjZ1e6foDoLkRPr3wLXcKt5NdVzrOq0NpBSvimE+ApAJICCmoIUhBCPofrh6qeEEB0AvAxgGIAiAP+UUs5tSkgp5S4hRH9UF74mAHgE1etYHQWwBtUjrj5vyjWIiIjaIhafiIiIyJFYfCKiU7xFRd9fDQ/+mWZ+KVFCw1kXHOw2vF6ilbbQzVuGmwANf7c7D53UbE+29CqNsHcecP7WRO1eS0y7V1HzaqznmMtpbQAAUspjqJ6SDwAghOgD4EEAo6WUVUKIhQD8AIxH9eitr4QQ+6WUfzUlaM0IqJdqvs7XNv08xzMBZDYlDxERUWvAXwCJiIjIkVh8IqK/6aopGjTfkLlcdY62poMsXj0EyxLKy/2WHz8eFKM6jzPTSLEv0RK+YpIpPYKFJ6IL1ic/I6u5p1KuXRswuJ5jtfvqm5IPACCE0AB4B8CnUsrFQoggAKMB/J+UcpWUcg6q14S6xYGZiYiI6AKx+ERERESOxOITEZ0hTrMr9T/6OUtU52gzpDRn4KlAKVG8edNwFp7OQkgc6mvttmyyKT24r61bsoDgmoREF84DQPdmvsbqmtekeo4NAiABrD1H/7tRnXFGzXZIzeuBOm0OAOjShIxERETUSCw+ERERkWNkenuh/idXiYgwVrsi/X7dvCzVOdqCWKxfGYyCbvvy+m23Wo0+qvM4HYljkdagJZNM6d6J1vBUDackJGqsZi1uSyl3oXrNpKtqRi0BAGr+fBWAP6SUh+rrK4ToAuAZANNqpuID/jeSqm7uPnX2ExERUQvih3AiIiJyFI56IqJzmqZdkLTP3nH1QnsKpz5rJCHth+/FC/EWi3HDgQMxg1XncSoS5d3sAWtSLb37G6FPVx2HqA3oC+CbhnYSQtwIoFvNZgAAgxDi0ZrtfVLKT+o0nwZgMYAsIcSrNfvuRfXD0g+c4zKvA1gmpfyqdoeUMl8IsQTAf2oKWPGoLj7d09D3QERERE3H4hMRERE5CotPRHROQkD3ov6N6EJLhy1/2qOjVedpja7CF7tcZNWA9TmXeanO4jQkzJ2kz8ph5j5RbjCmq45D1Ib0aWS/KQDSTts3q+Z1KYBTxScp5QohRDqAp2u+JKrXabpKSrmxvpMLIa4GkA6gvn9HrgPwBoCnABQDmCKlXNrI90FERERNwOITEREROQqLT0R0XkLA7XP9PzuNMj+Xt1OGhKrO05q4yZObxmBBcklJl2UnT/qefmO3/ZGwdZAeK0dYYkK9pBu/H0SO16jPdlLK9Aa2XwlgeAPa/xfAf89yrBDAuIZcn4iIiJoH13wiIiIiR2HxiYguiEZIvx8ND2sDcaxIdZZWQ0o5HbO10q7Zv23bkIGq46jmaXf58wpzYt5488AhXtItRHUeojYqIj8jS6s6BBEREbVOLD4RERGRo7D4REQXTC9sXRYbpxe7o7JMdZbWIBR7s3sjN2rH9uQiade5qM6jiqs0rLvUFJd7jXnwID/p2UN1HqI2zgAgXHUIIiIiap1YfCIiIqKmy/R2B9BVdQwial3chan3UuM/dupgtajO4tSkPPEgnomsrPBcWVTUPUF1HBX0UrtlhDlm/fWmlLjO0pcPOxC1HP7/RkRERI3C4hMRERE5Qm8AQnUIImp9/EVp3I+Gh1cBUqrO4qyGY9EGb3ncmJMzsrvqLC1NKzW7hlh6/TXJlB4dag/srzoPUTvE4hMRERE1CotPRERE5Ai8MUFEjRahKRj8kf65papzOCOdNO+5Ce8lHzzYa4PZ7N5JdZ6WIqTIT7CEZU82pYf1sgW3+zWuiBTqpToAERERtU4sPhEREZEjsPhERE2Sps1Jf1L3IQtQp5mK144Km9i1Z3f8YNVZWoKQONLH2mXZZFN6YD9b98ECgr+zEqkVpjoAERERtU78IE9ERESOwOITETXZTdpFqTdrf1qpOoez8JNFq5Lk8rjNm4dJQKNVnadZSZwIt3VaepMp3WOQNSJVC41BdSQiAgC0u+k+iYiIyDFYfCIiIiJHYPGJiJpMCIjHdZ/EjdSs2aA6i3JSmjLwVMfS0oDlpSc6tt2/YyUqutj8lt5gSpXplug0PbRuqiMR0d90ys/IclUdgoiIiFofFp+IiIioaTK9XcCnYonIQYSA8W39i91jxa4dqrOo1B9rVnaWhS5bNg/rpzpLs5CwBNq9l000DS4bZemX5gK9j+pIRFQvASBUdQgiIiJqfVh8IiIioqaKBD9TEJEDCQHvBYYnvLqKw/mqs6igkbbCe/DSgL174vbYbAYv1XkcSsLua3fPvtI8qHCMOSHVHS4dVUciovPiuk9ERETUYDrVAYiIiKjV4w0JInI4rZCdfjU8uGeg6bVjx+HpqzpPS7oan+3VmIWxoCAqSXUWR3KXLqtGmGN8A6TXYNVZiKhBOMKdiIiIGozFJyIiImqqINUBiKhtMgpr2FLjPzYNNL3mUgVju1hzxE2W51wmv+m/duOYI6qzOIpR6jcMtURrQ+x+iaqzEFGjsPhEREREDcYpcoiIiKipWHwiombjLSpifjM+mKOB3aY6S7OT0j4Dz+qLi7qtqqz07qY6TlPppHbrUHOftTeaUvuF2P1iVOchokbjKHciIiJqMBafiIiIqKlYfCKiZhUiigfONzyRrTpHcwvD7uye9h0u27cPbtXT7Wmk2JtkiVg5yZTWq4e9Y7zqPETUZBz5RERERA3G4hMRERE1FYtPRNTs+mt2p76if3WJ6hzNRsoTM/DP3tu2phyXUmtQHacxhMTB/tbuWZNNQ7tG27okCQihOhMROQSLT0RERNRgLD4RERFRU7H4REQtYox2Zfo/dHOzVOdoDiPx0wbdSewoKenaX3WWBpMo7m0NWTrZNNQv3hqWooHQqo5ERA7llZ+R5ac6BBEREbUuOtUBiIiIqNVj8YmIWsx92oXJB2Tgqnm2tETVWRxFL827b5AfRK/JGS9VZ2kQidIwe+C6IZbe8Qbo0lTHIaJm1R1AieoQRERE1Hpw5BMRERE1Xqa3EUAH1TGIqP0QAtrndW/1SdZs3qI6i6PciVdOFOb33mqxuAaoznJBJKqCbR2WXm9KsQ6zxKQboPNUHYmIml2I6gBERETUurD4RERERE3BUU9E1OKEgNun+mc7RYgDe1VnaaoAefiveOsaQ97e/kNUZzkvCau/3TPrGlPysYst/dNcYeDDB0TtR0fVAYiIiKh1YfGJiIiImoLFJyJSQiOk3w+G/9N3xNEjqrM0mpRVD8lZgZs3DdcDQqiOc1YS0tvutmKCeWD+OHNiiidcO6uOREQtjsUnIiIiahCu+URERERNweITESmjF7aQxcYHtg8wve56Eq6tbuq3eKz6y/W4RFlZgNOul+QmDWuGm2M8OkqfZNVZiEgpFp+IiIioQVh8IiIioqZg8YmIlHITpsilxn+sG2SaE2OFTq86z4XSSFvhHfZXumzIHReoOkt9DFKXk26Jll3t/gmqsxCRU2DxiYiIiBqE0+4RERFRU7D4RETK+YvSuJ8MGasAKVVnuVDX4pO9Bbv7Ftlseg/VWerSSc32VHPU6ptMaX272v1jVechIqfB4hMRERE1CItPRERE1BQsPhGRU+ipOTj4Y/3sZapzXAh3WbZxRNXvukOFkQNVZ6mlkWJfoiV8xSRTekSEvfMA1XmIyOmw+EREREQNwuITERERNQWLT0TkNFK1L9ucbwAAIABJREFUm9Jm6d5fqjrHOUlpf0DOFjk5I53i708hcaivtduyyab04L62bskCQqjOREROqZPqAERERNS6sPhERERETeEUN0+JiGrdoP0tdYr2xxWqc5xND+zM9jlsPlZV5RWiNIjEsUhr0JJJpnTvRGt4qgYargdMROfimZ+R5ao6BBEREbUeLD4RERFRU7D4RERORQiIR3WfJozSrFqvOssZpDw+zfpvj507k5LVZUB5N1vAkhtNqZoUa+90HbS8mUxEF4pT7xEREdEFY/GJiIiIGifT2w2Al+oYRESnEwKGN/Uv9+gndv0/e3ceH3d13/v/fb6r9pE02kYaL7JkvI4XvGADwoaEACFAAGdp0ibp7ZKmZAM37W16c6v7aJqoefTRX+9te0va323rLrd121uWOAnZA4TYgJGEJVmyJVu2rH2zdmmW7zn3D5lbQlnk0cwczej9/Mdhlu/35UdAluejc8453S2vdxe+9epAxw5DKcNO+c0VIhWy8NmPhG+dvzO647AL25fyBiJKdxw+ERER0ZJx+ERERETx4qonIlqxhEDB/3F+t3CtGOrV3QIAtgp33j/9tLg6HtyZ0hsreMUy7ycfjBwcfl9kz6EcuKUpvT8RZRIOn4iIiGjJOHwiIiKiePHgaSJa0Uyhyr/nfCFSiOmrult+Vf7P4faW27en8p75MuvUg5H9lx6K3HRrgcrRe8YUEWWCMt0BRERElD44fCIiIqJ4ccs9IlrxXBHb8Jz7aG8WwvO6GsrU4KmqK1MqFssqTsX9spXTeG/4xrMfitxywK/ya1JxTyJaFfi9HxERES0Zh09EREQUrxzdAURES1Eg5kI/cH+jxYD0Un5zpeY/E/7jcM/lHbck+1a2MtveHQk1fTRcd2NAFW1N9v2IaNXJ1x1ARERE6YPDJyIiIooXh09ElDaqxNj+J5z/+tNU33cvXjw10baxChAiWfcwldF1a3Tzix8PH962XpbtTtZ9iGjV4/CJiIiIlozDJyIiIooXh09ElFZ2Ghfr/tT+7z9O1f0M5fV9cPQJOTvjr03G9YUSvXujG174RPjwhs1e1U3JuAcR0etw+ERERERLxuETERERxYvDJyJKO+8zXzz8G9bx51Nxr4dj/3z2Use+g4m+rlAY3h5b89wnwofLdnnVtwgI/r2OiFKBwyciIiJaMv4lhYiIiOLF4RMRpaVHzKdu/oD545eSeY88NdW8pau/UEorcV8rFSZrvYpnPxY+nHcgdsNtJgwnYdcmInpnHD4RERHRklm6A4iIiChtcfhERGlJCJhfs/5ie78qaX1Bbt+e8Bso5f3yzP8/ODxcc3diroe5NdL/8qHotp1ZsA8l5JpERNePwyciIiJaMq58IiIionhx+EREaUsI5Pyd/dXKTaKnO9HXrlFdz6m2sp3LvpBCtEz6nvu58C3Td0V3HcqCXZiAPCKieHH4REREREvG4RMRERHFi8MnIkprhlDF33S+aFdgfChhF1Xq6of6nlLhcF4g/mtAFsncF45EDgzcH9l7Wy6yyhPWR0QUPw6fiIiIaMk4fCIiIqJ4cfhERGnPEjL4Q/exiTzMTSXieociz54av7gh7q3xclXWSw9E9l14OHLglkKVuzYRTURECcLhExERES0Zh09EREQULw6fiCgj5IjIpmfdRy/YiEWWcx1Hhc/vbz8fBAzzet/rKrv57siulp8L37K/VBVsXE4HEVGScPhERERES8bhExEREcWLwyciyhh+Mb37Gee3TgNKxXuNh8ef7JyeLAtdz3ssZbbfHtn+yi+Eb9sVlP7rei8RUYrl9v7n5/k5EhERES0Jv2kgIiKieHH4REQZpcYYuPnv7a8+F897S+TIC/4O3LLU1xtKdB+M3nDy4+FDm2tk+Z547klEpEG27gAiIiJKDxw+ERERUbxydQcQESXarWbroS9b/+vZ63qTUvNHLnzLi8Xcwnd6qVDo3x2rfv4T4dvXbvPWHBQQIu5YIqLUu+5tRYmIiGh1snQHEBERUdriyiciykgfNX9w22VV8dO/9O69eSmv37rQ8Sz6fXe/7YsURrd4wbYDsY0HTBiVCQklIko9Dp+IiIhoSTh8IiIionhx+EREGUkIiC9a/7D3iippfEbedOPbvdZQXu/trU03eG/1JVFhaoMsa7w1umWPA+tQMnqJiFKIwyciIiJaEm67R0RERPHi8ImIMpYQcP7c/u8bd4vOc2/3usNDJ9u8uZwN/+EJhYUqr/jZj4brYndEQ4cdWPlJiyUiSh1+jkRERERLwm8aiIiIKF4cPhFRRhMC+f/q1BetE4O9b/Z8jjf3yqbOwZ9dzaQQK5H5z38ofPPVe6K7D2XDKU5JLBFRanDlExERES0Jh09EREQUr2zdAUREyWYKVfY95zejRZga/5knlPLua39WKmllLf4zlE/m/PShyE1X3h/ZX5eP7ICOXiKiJOPwiYiIiJaEZz4RERHR9av3WQCE7gwiolRwRKz6WffR1pvC/zNrHm4OAFTODj9XNBa+HQBylHP6XZFQXrkqvFlvKRFR0nH4REREREvClU9ERER0/eonY7oTiIhSqUDMb/+++xutBqQnlJy4u+XFLY6yzrwnsvPVj4Tr9parws26G4mIUoDDJyIiIloSrnwiIiKieEUB2LojiIhSpUqM7X/S+dLzv9/9O+PvntlceYMM7NPdRESUYhw+ERER0ZJw+ERERETxioDDJyLKUDEg1mNbfW2uM9LiurPtjiOKBkXkI99ZyP7P6s9rJqsPXOj0X/1mvpWdm28XZ2eZuSWGMNcIIRzd7UREScThExERES0Jh09EREQUrwiAXN0RRETxUoDqt8yBs44zdMZ1Z9pdR16yrZxx0yyJAkEIsQ7AuqpRdfmx415vcBR3CMAABpD16hPbo1b2ZHfw4OneopyrC+gVQs6U5VmFQ0VuxbDfrZwtcsuRZxXluWZ2mYBRKYTgtudElO74dYyIiIiWRCildDcQERFROqr3DQEo051BRPRORkxjtMNx+ltcd6rNdWIXbStrxDT9YSGCECL7rd5XPq56H33S664ewkHxDj+4N1Kyo6lr/T3T09ZV24u0eMob2QSo0teeN2CGC5ySXr8bGC12AwuFTpmZa/kKHMOtFMIoSeTvl4goiXYEG+padEcQERHRysfhExEREcWn3ncFQFB3BhERAEwZYvKc4/S1uM5Eq+tGumzbGbLMojkhqiBEwfVcq2RSDXz+Sa9zYz8OiuvcXjTs+Ia7ah48O1Syu9aTfRNeuHFMRnuCgFfzVu+xhTNV6JT1FWdVXvW7gajPLrGzrYIiS9hV4jrbiYiSbGuwoa5ddwQRERGtfBw+ERERUXzqfRcBVOvOIKLVY16IuS7b7m11nfEW1w2fd2yz37J8M4YIKCGWvXqoaFoNf/Ypr33rFRwQgLucaykIb6DiwCsXq99nRBzfHinHe7yFpkte9LwPaiGEJZ6bkmXmjRQ5Zf1+t3K6yK3wCmx/VraZV2IIMyiEWFYjEVEcaoINdRd1RxAREdHKx+ETERERxafe1wFgk+4MIsosUSDabdu9ba4z0uI68x2OI3ptq2DSMMolUAEhRKLv6ZtVo5/+hmzb0a32C+Att+GL11x2Wc/52iMXx4u3hCAMv5LzV71wy1kv0mIoORkCkBfHZWWeVdRf7FYM+d3K2UKnXOXb/+98qSqeL0VESVIVbKjr1x1BREREKx+HT0RERBSfet8ZACHdGUSUfiQgr1hW/1nXGWpxndmzjoMe28q5applMaAKQixpVdBy5c2riV8/IZv3dKm9Ir4B0HWRwgpfCR4+fXntXfkxO2cHACgVC8toZ2tsoXlWeYMbARVY7n0Wz5fy9xa7gTG/G5gvdMqMXKuwwDHcgBAGz+ojouUoCTbUjemOICIiopWPwyciIiKKT73vFQA36s4gopVr0DQH2xcHTFNtjiO7bTtrzDRLIgJBaNwyLmdBTX7y27LpQIe6UQBazlSayl/beb72AwNTBdW7IUT+a4/LaG9HLNw0KKPdlUDshkTf1xLOdKFT1ud3A+PFbiDqc0rtHCu/0BJOlRDCl+j7EVHGyQ821M3ojiAiIqKVj8MnIiIiik+97ySAA7oziEivq4Yx3uE4/S2uM9HqOt5Fx3aGTbN4XogqCJH01UTXIyuiZn75GXm6rk3tEkCh7h4AiJnuzKV19zT2Vh2qkKbzM8Mm6U32eeGmLi/SkQ81FwJgJ7Mly8wdLXTKBvxu5WSxG7h2vlSu3xBWUAiRlcx7E1HacIINdVHdEURERLTycfhERERE8an3PQvgNt0ZRJR8s0LMnHfs3lbXHW9xnWinY1sDllU4J0SlEqJId987caJq/hPfky/d8araZgAlunveyljRlpau2oemZnMCe9+4Mkyp8JQXbm31wi1QcnwbgFSuUpK5VmF/sVs+7HcrZ4qcCuTbRTmumfPa+VIp2SaRiLSTwYY6/vdORERES8LhExEREcWn3vd9AO/SnUFEiREWWLhg272trjvW6jrz5xzb6rOs/GnDCEgh0vKcICumwr/wQ3nqrka1xVBIm99DxM4bu7Dh/pbB8ps2KMNa+8bnlZIxGb3QEgs3TatY/wZABnV0AoABI1LglPQWORWjfjcwX+iWG3mWr8AxsiqEMMp1dRFRUswHG+pydEcQERFReuDwiYiIiOJT7/sWgHt0ZxDR0sWAWI9t9bW5zkiL6862O464Ylm5E6ZR4QEBCGHobkwE01PRDz8nT77vRbXRVAjo7omXAtRw2Z5XLmx4wFtwi/fiLVYYydhgZyzc2C8jF0uByBYAIsWpb8oS9kyhU9ZbfO18qUKn1MqxCgot4QR5vhRRWpoINtSt+NWuREREtDJw+ERERETxqfc9CeAB3RlE9LMUoPotc+Cs4wydcd2ZdteRl2wrZ9w0S6JAEEIk9dwgnQypYkd+Ik8+eFJVmxLaVgMlw3xWcX9XzcPnR0p2bMHbrChScnowttDc6UXas6BmQgBW5FlNrpEzVuSW9/vdwGvnS7lZZp7fXDxfKlt3HxG9qcFgQ13aDvSJiIgotTh8IiIiovjU+/4FwBHdGUSr1YhpjHY4Tn+L6061uU7som1ljZimPyxEEKvsw3uhlHzgpDr5wedl0JJYp7snmaQwYv2Vt77cve69WVEnf/fbvVapyKwXaW/1wq/GlDe6GYA/RZnLoXIt30CRUzHkz6qcLnLKkW8X57hmTqmxeL6UpTuQaBW7HGyoW687goiIiNIDh09EREQUn3rfPwD4iO4Mokw2ZYjJc47T1+I6E62uG+mybWfIMgvnhKgCty0DlFLvfVmd/OiPZYXtYYPunFSbya3sPl97pGei8IZd7/Tvg1LSk7FLbd5C01UZu7IWkNWp6kwUASNaYBf3FruB0WK3cq7IKTPy7MJ828iqMIRRobuPaBU4H2yo26Q7goiIiNIDh09EREQUn3rf3wD4uO4MonQ3L8Rcl233trrOeIvrhs87ttlvWb4ZQwSUECW6+1aqdzfKUx//gfS7MWzU3aKbZ9jzPWvufKVnzbuKPStr61LeI72Rbm+hqceLdhZBhbcDSOvzvkxhzxY6pX3FbmDM7wYiPqfMyrEKCm3hVAkhCnX3EWWIV4MNdbt0RxAREVF64PCJiIiI4lPv+zqAX9WdQZQOokC027Z721xnpMV15jscR/TaVsGkYZRLoAJCCN2N6eJQi3z5l74j87Ki2KK7ZSWa8NW0d9YeGZ3OW7MHQuQs5T1Kzo564TMdXqTNVnIqBGBJ70sXrpEzXuiU9fndwFSxG4gVOCVutplXfO18qYz6vRIl2Y+DDXW3644gIiKi9MDhExEREcWn3veHAI7qziBaKSQgr1hW/1nXGWpxndl2x1GXbSv3qmmWxoAghDB1N6azm8/Kxl95Rjq5YWzX3ZIOolb2ZPf69zX3Vd6yRhn2krckVCq24EXOtXjh5gXlDW8CVFkyOzVTOVbBYLFTMeh3K2eK3HL57+dLmUGeL0X0HzwRbKh7SHcEERERpQcOn4iIiCg+9b7fBPAHujOIUm3QNIfaXWewxXWm2hxHdtt21phplkQEghDC1d2XafZ0yuZfPyFF/gJ26m5JVyP+Hc1dNQ/Oz2eX7oUQ9lLfp5RSMnblrBduHJHRy0HAq01m50oiIGL5tr+32K0Y8buVc4VOmcizC/MdI7tCQFQIrlak1emvgg11v6Q7goiIiNIDf5KLiIiI4jWiO4AoWa4axniH4/S3uM5Eq+t4Fx3bGTbN4nkhqiBEOYBy3Y2ZbsdF2fKZb8iYbw67dbeku9KxM7tKx84g7PiGu2ref3a4dM9GZZhV7/Q+IYQw7bXbTHstAEB64z1euKnbi5z3Qc1vRwb/fVJBWVPR0fVT0dH1l2Zaf+Y5U1hzPqe01+8GxovdynChU2rlmAUFtuFWCSGKNSUTpcK47gAiIiJKH1z5RERERPGp990L4ITuDKJ4zQoxc96xe1tdd7zFdaKdjm0NWFbhnBCVSogi3X2r1dbL6uxnn/bmimewV3dLplIQ3kDFTa9crL7PiDi+GyGEcd3XkPMTXqT1rBduEUpObANQkITUtOMYWVcLnfJ+vxuYKHYDMZ9T4mSb+X5TWFVCiFzdfUTL9DvBhrqv6I4gIiKi9MDhExEREcWn3rcfwIu6M4jeTgQIdy0OmEZbXWf+nGNbfZaVP20YASlEJp9lk3Zq+9S5R5/0JkunsF93y2oyl116pbP2yIWx4q3bIYySeK6hlBeR0a7W2ELTjPIGagFVmejODKByzPzBIrdiyO9WThe5FbJg8XypkmvnSy15O0QijX492FD357ojiIiIKD1w+ERERETxqfetB9CtO4MoBsR6bKuvzXVGWlx3tt1xxBXLyp0wjQoPCMSzqoNSZ/2guvDYE95w+QQOCIDn6GgihRm5Erz95ctr35Mfs3N3LOtasf6O2ELjkIx2lwPRzYlqzFSL50sV9xW5FcN+t3K+yCnHtfOlygVEgOdL0Qry4WBD3XHdEURERJQeOHwiIiKi+NT7cgHM6M6g1UEBqt8yB846zlCL606fdR11ybZyxk2zJAoEwVUDaSc4orofe8LrrxrDQQFwQLiCTOWv7eysPTIwWbBhN4TIX861pDfZ74Wbu7xIey7UXAiAk6DMVcEU1rzPLu0tdivGit1AuNApM3Mtn8823EohhF93H606dwUb6r6rO4KIiIjSA4dPREREFL963yyAHN0ZlDlGTGO0w3H6W1x3qs11YhdtK2vENP1hIYIQIlt3Hy1fYEz1PPqkd2XdMA4IwNTdQ28tZrozl9bd3dhbdahcmu6m5V5PqfC0Fz7b6oXPKCXHtgIoTEDmquUYWROFTlmf362cKHYDsQKnxM4x84pNYQeFEHm6+ygj7Qs21J3WHUFERETpgcMnIiIiil+97xKAdbozKL1MGWLynOP0tbjORKvrRrps2xmyzMI5IaoghE93HyVH2YTq+/yT3sWaARwQAFeqpZnxos0tnTUPT83mBvZCCHe511NKxmT0YqsXbpqUsb5qQK5NRCctyjbzh4rc8kG/WzlV7FTIfKc4O8vMfe18Ka4+o3jVBhvqLuiOICIiovTA4RMRERHFr973EoB9ujNo5ZkXYq7LtntbXWe8xXUWzjuO1W9ZvhlDBJQQJbr7KHX8U2rwc0955zf14oDglmtpL2Lnjl+sfqBloOKm9cqwEvbDBzI21BULN/bJyIUSILIVPP8rKQSEl2cX9RU7FcN+t3Ku0C1Hvl2Ud+18qUqeL0XvwB9sqBvXHUFERETpgcMnIiIiil+975sA3qs7g/SIAtFu2+5tc52RFteZ73Ac0WtbBZOGUS6BCvBDzFXNN6NGPvu0PLv9srpJAFm6eyixFKCGS/c0XtjwQGwhq3gvhEjYFopKzgzHws3nvHB7FtR0CPz3JyUMYS747JLeYjcw5ncrF153vlRA8IcGCFAArGBDndQdQkREROmBwyciIiKKX73vrwF8QncGJY8E5BXL6j/rOkMtrjPb7jjqsm3lXjXN0hgQTOQHzpQZ8ufU+CMn5JndF9Q+AeTq7qHkm3eLB7pqHzo3UrJzC4RRnshrKxWd8yLtrV741YjyRjYD4BBEA9twJxfPlwpMFLuBqM8utbOt/GJL2FVCiHzdfZQSI8GGujLdEURERJQ+OHwiIiKi+NX7vgbgC7ozaPkGTXOow3UGzrjOdJvjyG7bzhozzZKIQDAR57tQ5sudV5O/9i3ZtP+82iMAfhi9CklhxPoDt57uXv9eJ2rn7U706kellJSxy23eQuO4jF1ZA3gbEnl9ik+2mTdc5JQP+LMqp4qcCq/A9udkmbl+Q5hreL5URmkONtTt1h1BRERE6cPSHUBERERpbVh3AC3dVcO42uE4fS2uM9HqOt5Fx3aGTbN4XogqCFEOIKErFmh1yA6r6V95Rr5yy1m1WwCHdfeQPoaSVrD/uQPB/ucwkxPo7tz4gZ6rhTfshBCFibi+EMIw7fUh014PAJDeaLe30NTjRTsLoRa2A+BKTA3mvZmy+fmZsv75Cz/zuIDw8qzCK0VuxbDfrZwtcstVnlWU55rZ5QJGpRDC0JRM8enVHUBERETphSufiIiIKH71vo8D+BvdGfTvZoWYOe/Yva2uO97iOtFOx7YGLatwVohKJUSR7j7KHE5Uzf3Sd+RLh1rUDgMo1t1DK5Nn2PM9a979Ss+adxV5Vva2ZN1HybkxL3ymw4u0mUpOhsAtH1c0A2a4wCnp9buB0WI38Nr5UvmO4VYKYZTq7qM39fVgQ92v6Y4gIiKi9MHhExEREcWv3ncPgG/pzlhtIkC4y7F721xntMV1F845ttlnWfnThhGQQvA8BkoqO6YWPvZ9+eKdzWqrocAPiWnJJgo2tHduPDI6nbd2D4TISdZ9lIqFZeR8SyzcPKe8oRsAVZGse1Hi2cKZKnTK+oqzKq/63UDUZ5fY2VZB0bXzpQp0961iXwo21H1ZdwQRERGlDw6fiIiIKH71vj0ATuvOyEQxINZjW31trjPS4rqz7Y4jrlhW7oRpVHhAANyuiFLM8lTkIz+Sp+45rW4wFfhhPsUtamZPdlff29xfeWtQGnZNMu+llFIq1tseCzcNy+ilKiC2MZn3o+TKMnNHipzyAb9bOVXkVngFtj8r28wrMYQZFDyfMNl+MdhQ9ze6I4iIiCh9cPhERERE8av3rQVwWXdGulKA6rfMgbOOM9TiutNnXUddsq3scdMsjQJBCGHrbiQypIp98Hl58oGTaoOpUKW7hzLLiD/U3FXz4Nx8dtm+VHzNk97VXi/cdMGLnCuAmg+B5yBnCplnFfUXueVDfrdytsgpR75dnOua2WUCRhXPl0qI9wQb6r6nO4KIiIjSB4dPREREFL96XxaAed0ZK92oaYy0O85gi+tOtrlO7KJtZY2Ypj8sRBBCZOvuI3ozhlTegz9Vpx5+Qa6xJNbq7qHMFnYKRro2PHh2uGxPrTLMlAw5lVyY9CKtbV64RSh5dSsAXyruS6m1eL6Uv7fYqRgtzqpcKHLKjFyrsMAx3IAQBreqXbqtwYa6dt0RRERElD44fCIiIqLlqfdNAcjXnaHblCEmzzlOX4vrTLS6bqTLtp0hyyycE6IKQvADTUobQin5vhfVyQ8/JyttD9W6e2h1URBysOKm0xer7xNhx7cnVVuMKuVFZfRCSyzcNKNi/RsAFUzFfUkvSzjThU5Zn98NjBe7gajPKbVyrPwiSzhVgn92v5Ev2FA3pTuCiIiI0geHT0RERLQ89b4zAEK6M1JhXoi5LtvubXWd8RbXWTjvOFa/ZflmDBFQQpTo7iNaFqXUXa+oU7/wI1nqxFCrO4doLrv0SmftwxfGirdthzBS+jVWxgbOxRYaB2X0YhkQ3QxApPL+pF+WmTta6JQN+N3KyWI34BXY/qwsM7fYFNYaIUSW7r4Umw421BXojiAiIqL0wuETERERLU+97wkA79edkShRINpt271trjPa4jpzHY4jem2rYNIwyiVQASH4ASRlnNtflS/94vekLyuKTbpbiN5ICjPSW3X49KV1d+XG7Nydqb6/klMDsYXmLi/Sng01GwLgprqBVhSZaxUOFC+eLzVT5FQg3y7Kcc2c186XMnUHJkFHsKFui+4IIiIiSi8cPhEREdHy1Pv+EMBR3RnXQwLyimX1n3WdoRbXmW13HHXZtnKvmmZpDAgiMz84IvoPbm2Tp3/lGZmTHcFW3S1ESzGVt6azc+MHBiYLNuyCEClfiaFUeNoLt7d54TOekqNbABSnuoFWLgNGJN/29xW7gRG/G5gvdMuNPMtX4BhZFUIY5br7luH7wYa6O3VHEBERUXrh8ImIiIiWp9736wD+THfGmxk0zaEO1xk44zrTZx3H67btnFHT9EcEghCCP7lOq9ZNHbLp174lrdzw6tgykzJPzHRnLq+9q+lK8HCZNF0tK/aUkp6Mdrd64aYJGetdD8h1OjooPVjCnvE5Zb1+N3C12A1ECp1SK8cqKLSEE0yD86X+JthQ94u6I4iIiCi9cPhEREREy1PvuwvAM7puf9UwrnY4Tl+L60y0uo530bGdYdMsnheiCkLk6eoiWol2XZBnPv0NKQvmsUt3C1GijBduau2sfXhiNrdyLzSexSNjwxe8cGOvF+0qhopsA2DoaqH04ho5Y0Vueb/fDUwWuYFYge3Pyjbz/KawgkKIbN19AL4UbKj7su4IIiIiSi8cPhEREdHy1PtqAXQm8xazQsycd+zeVtcdb3GdaKdjW4OWVTgrRKUSoiiZ9ybKBNsvybbPPi3DhbO4UXcLUbJE7Nzxi9UPtAxU3LReGZbWVUhKzozEwmfOeZE2B3I6BGAlDBAo/ahcyzdQ5FQM+bMqp4uccpVvF+e4Zk6ZsXi+lJWijp8LNtT9U4ruRURERBmCwyciIiJannqfDWAewLLOSYoA4S7H7m1zndHZL4+CAAAgAElEQVQW110459hGn2UVTBtGQApRlphYotVl0xXV/vmnvBn/NPbpbiFKFQWo4dI9jRc2PBBbyCreq/scP6Wi816ko8ULvxpW3vBmAKU6eygzCBjRAru4t9gNjBa7lXNFTpmRaxfmOUZWwBBGRYJvty/YUHc6wdckIiKiDMfhExERES1fve8igOp3elkMiPXYVl+b64y0uO5su+OIK5aVO2EaFR4QgBDcoogoAWoGVOfnn/DGyiZxkwCE7h4iXebd4oGu2ofOjZTs3IzEfyB/3ZRSUsZ6znrhxlEZ7VkDeDW6myjzmMKeLXRK+4rdwJjfDUR8TpmVYxUU2sKpEkIUxnHJomBD3UTCQ4mIiCijcfhEREREy1fv+z6AdwGLP3Heb5kDZx1nqMV1p8+6jrpkW9njplkaBYIQwtZcS5Sx1g6ri4894Q0GxnGQQyeifyeFEesP3HK6e/17naidvxtCrIj/PqQ3dtlbaLrkRc8XQi1sxzJXERO9E8fIHi9yFs+XKnYDsQKnxM0284qvnS+V8yZvGQs21JWkPJSIiIjSHodPREREtGxf+tPq/3Y6y33PiGn6w0IEsTIOxyZaNSrH1OXHnvB614zggOCH10RvayYn0N1Ze6TnatGmHVhB5wYqOX/VC58560VaTSUntwPI091Eq4rKsQoGi5yKQb8bmCl2K2S+XZxjGe7ghq+9+37dcURERJR+OHwiIiKiZQsdCz0K4I90dxCtNuVXVe+jT3rd1YM4KIBUHTxPlBE8w1roWfPu0z1r3l3kWdnbdPe8nlKxsIx0tsTCzfPKG6wFVEB3E61af3v0+ImP644gIiKi9MO/oBIREVEinNMdQLSa+CfVwKNPel0b+3FAAEHdPUTpyJSxrOrLz9xaffkZTBRsaO+sPTI6nb92D95867GUEsJyTXfLXtPdAgCQ0d72WLhxWEYvBYDYDZrzaHXh93hEREQUFw6fiIiIKBH4wQRRChRNq+HPPuW1b72CAwKo091DlCkKpy5u2df4NUTN7Mnu6nuf7Q/cGpSmXaO76zWGHdzi2MEtACC9iV4v3HTRi5zLg5oLAeBZipRMHboDiIiIKD1x2z0iIiJattCxkAlgFoCru4UoExXMqrHPfEO27uhW+wSgfVUG0Wow4g81d9U8ODefXbYPQqzIAY+SC1NepK3VC7dAyfFtAHy6myjjbD96/ESb7ggiIiJKPxw+ERERUUKEjoVaAayoMzOI0l3evJr41Ddl895OtVcAebp7iFajsFMw0rXh/W3DZXtrlWGu2G0ulfKiMnqxNRZumlax/g2AXLGtlDY8ADlHj5+I6A4hIiKi9MPhExERESVE6Fjo/wB4SHcHUSbIXlBTn/y2bDzYoXYLrmQgWhEUhBysuOn0xer7RNjx7YEQhu6mtyNjA52xcFO/jFwsBSJbAAjdTZR2Lhw9fqJWdwQRERGlJ575RERERInSCg6fiJbFjajZX/6OfPm2VrVTAId19xDRvxNQRmDw1P7A4CnMZZf0dtYe6Ror3rYNwijV3fZmDCuw0bECG5ELKDk9GFto7vQi7VlQMzvAbXJpaVp0BxAREVH64vCJiIiIEqVZdwBRunKiav4T35cv3dGsthkcOhGteDnzo8GdLY8HpTAjvVWHfnpp3d25MTt3p+6utyKM/Ao7p67CzqmDUpFZL9Le7IVfjSpvdAsAv+4+WrH4vR0RERHFjcMnIiIiSpQm3QFE6caKqfAv/FCeuqtRbTEUDunuIaLrYyjPWdv7w5vX9v4Q03lrus5v/ED/ZMGGXRCiQHfbWxHCybXcnTdZ7k4oJT0Zu3TGW2i6KmNX1gKyWncfrSgcPhEREVHceOYTERERJUzoWOgqgELdHUQrnemp6Iefkyff96LaaCoEdPcQUeJ4hjN7ad3djVeCh8uk6W7S3XM9ZGyk2ws3XvaiXX6o8DYAK/pcK0q66qPHT1zSHUFERETpicMnIiIiSpjQsdCPAa7eIHorhlSxh1+QJx/8qaq2JIK6e4goucYLN7V21j48MZtbuRdCZOnuuR5Kzo564TMdsUibAzm1HUCO7iZKqYmjx08U6Y4gIiKi9MVt94iIiCiRmsDhE9F/IJSS959SJz/0nAxaEnW6e4goNYonzm2/6fRXELVyr17YcP+LAxUH1ivDWqe7aymEkVtiZR+81co+CKViC17k3MteuHlBecObAFWmu4+S7lXdAURERJTeOHwiIiKiROLZAESvp5S657Q69dEfyTLHwy26c4hIDzs2W7T5/D8e2nT+H9Vw6Y2vXNjwQHQhy78PQpi625ZCCCvLcrfts9xtUEopGbvS5oUbR2T0chDwanX3UVLwezoiIiJaFg6fiIiIKJH4QQXRNe9ulKc+/gPpd2M4qLuFiFYGAYjykcY95SONWHCLBjprHjo3UrprM4RRobttqYQQwrTXbjPttQAA6Y33eOGmbi9y3gc1vx38nCFT8Hs6IiIiWhae+UREREQJEzoWsgHMAHB0txDpcqhFvvxL35F5WVFs0d1CRCufFEasP3DL6e7173Widv5uCCF0N8VLyfkJL9La5oVbDCUntgPI191Ecbvx6PETTbojiIiIKH1x+EREREQJFToWagSwW3cHUaodbJev/Oq3pZsbxnbdLUSUnmZzKi6dr/3A5atFm3ZAiCLdPcuhlBeR0c6W2ELzrPIGagFVqbuJliwKIO/o8RMR3SFERESUvjh8IiIiooQKHQv9LwD/SXcHUars6ZTNv35CivwF7NTdQkSZwTOshZ417z7ds+bdRZ6VvU13TyLIWF9HbKFpSEa7y4HoZt099LbOHD1+gn+mERER0bJwL2YiIiJKNJ4RQKtCqFu2fPZpGfXN4UbdLUSUWUwZy6q+/Myt1ZefwURBdUdn7QdGpvPX3gghcnW3xcuwqjY7eVWbAUB6k/1euLnLi7TnQs2FwO16Vxput0dERETLxuETERERJRo/sKCMtqVHnf3cU95c8Qz26m4hosxXONW9eV/j1zbHzKyp7vX3PttXWReUpl2ju2s5DNNXaeQcqrRzDkGp8JQXbnvFC7coJce2AijU3Ud4SXcAERERpT9uu0dEREQJFToWygEwAcDW3UKUSLV96tyjT3qTpVPYr7uFiFa3Uf/2V7tqHpydyy7fCyEyZtWQUjImoxdbvXDTpIz1VQNyre6mVWrP0eMnGnVHEBERUXrj8ImIiIgSLnQs9CLAD+gpM6wfVBcee8IbLp/AAQEI3T1ERK8J2/kjF2oebBsq21urDDOouyfRZGyoKxZu7JORCyVAZCv4NTgV5gD4jh4/EdMdQkREROmNwyciIiJKuNCx0B8BeFR3B9FyBEdU92NPeP1VYzgoAEN3DxHRW1EQcrB8/ysXq+9D2C3cAyEy7muWkjPDsXDzOS981oWa2QEgS3dThnr+6PETt+mOICIiovTHM5+IiIgoGV4Ah0+UpirG1ZXHnvAurxvGQQFU6+4hInonAsoIDL24LzD0IuayS3o7a450jfm3bYMwSnW3JYow8srs7FvL7OxboVR0zou0v+SFX40ob2QzgBLdfRnklO4AIiIiygwcPhEREVEyvKA7gOh6lU6o/kef9C7UDOCAANbo7iEiikfO/GhwZ+vjQSnMSG/VoZ9eWnd3bszO3am7K5GEsHMsd8d+y90BpZSUscst3kLjmIxdWQd4/KGB5TmZqAsJIW4A8PMA3gOgBour1S4A+BcAf6yUmn3da+8E8DUAGwGcB/AFpdQP3nA9E8DLAE4qpR5JVCcRERElB7fdIyIioqQIHQt1YfGDBqIVrXhKDX3uKa9jcy8OCMDV3UNElGjTeWu6ztce6Zv01eyGEAW6e5JJeqPd3kJTjxc9XwQV3gbA1N2UZsqPHj8xnIgLCSEaADwC4GksrqiKArgdwAcBnAFwQCk1L4RYB6AdwE8A/BuAhwDcAmCLUqrnddf7AoDPAdiqlJpKRCMRERElD4dPRERElBShY6FjAD6mu4Porfhm1Mhnn5Znt19W+wWQrbuHiCjZPMOZvbTursYrwdtLpelu1t2TbErOjXnhM+1epNVWcmo7gFzdTStc19HjJzYm6mJCiL0AOpVSk294/MsAfgfAZ5RSfyqE+CSA/w9AiVJqTgiRA2AUwOeUUn957T0bALQA+KhS6slENRIREVHycNs9IiIiSpYXwOETrUD5c2r8kRPyzO4Lap8ADunuISJKFVNGcmu6v1FX0/0NjBfe0NZV+/DVmdyqvRAiS3dbMggjx29lH7jVyj4ApWJhGTn/cizcvKC8oRsAVa67bwX6SSIvppQ6/RZPHcfi8Gn7tX/OBrCglJq79r45IcQCfnZY+DiAb3PwRERElD44fCIiIqJk4blPtKLkLKjJT31TNu0/r/YI4LDuHiIinYonzm/bf/qriFq5Vy9U3/fiQODgOmVY63V3JYsQlmu6W/eZ7lYopZSK9Z6NhRtHZPRyJRBL2GqfNJeq792C134duvbrSQBFQojfAvCPAD4KoOja4xBCfAzAfgBbUtRHRERECcBt94iIiCgpQsdCAsAYFj88INImO6ymf+UZ+cotZ9VuAfh09xARrUQKUCOlu5u6Nrw/spDl3wshVs0Pq0rv6hUv3NTtRc7lQ82HsHp/UHfr0eMn2pN5AyGEicUVVnsBbFdKnbv2+O8B+CIAA4AE8BWl1JeEECUAOgB8USn1F8lsIyIiosTi8ImIiIiSJnQsdALAvbo7aHVyomruP31XvnT4jNphAMW6e4iI0sWCWzjYVfNQx3Dp7k0QRkB3TyopuTDpRVrbvHCLUPLqVqyeH1oYAVB+9PiJpH5IJIT4EwCfxuIw6atveK4cwAYAF5VSQ9ce+3sAa7G4Te4aAP8Di6ugegD8llLq2WT2EhERUfw4fCIiIqKkCR0L/TaAr+juoNXFjqmFj/1Avnhnk9pqKJTq7iEiSldSGLGBiptPd1ffa0fs/BshhNDdlEpKeVEZ7WqJhZtnVKy/BlBVupuS6PjR4yc+nMwbXFvd9F8A/IVS6pNLeP1dAJ4CsAtAJ4BmAJcB/C6ABwEcBbBJKdWT4M7DAH4E4AtKqT98w3OHADwNYA7AXUqpM9ceDwL4PIC7AKwH4ADox+Iqr79SSv0okY1ERETpYLUuJSciIqLUSOjB1URvx/JU5CM/kqfuOa1uMBUO6e4hIkp3hpJW1cBPDlQN/ASzORWXztceuXy1aPMOCLEqttQVwrRNZ9ONprMJACBj/edjC00DMnqxDIhm2vlD30/mxYUQ9VgcPP01gF9bwutzADwO4PeVUh1CiJsBbAfwoFKqSwjRCODjWDwf6qtvc6mEEUK8D8C/ABgEcKdSquva4/cD+AcANoB/BvB1APMAqgG8H8APhRB3KaW+m4pOIiKilYLDJyIiIkqmUwCmAeTrDqHMZUgV++Dz8uQDJ9UGU+E23T1ERJkod25w/e4zf7reM6yFK8F3/eTy2jsLPSt7u+6uVDKsyhucvMobAEDJqYHYQnOXF2nPhprdgcWVLunse8m6sBDid7G4WulvAfyyWtoWPL8HYBbAH1z75+C1X68AgFJKCSF6sbgVX9IJIT4C4BiA81gcPPVfe3wHgONY3LbwztfOsHrd+74E4GMAwqnoJCIiWkm47R4RERElVehY6GkA9+nuoMxjSOW9/6Q6eeQncq0lsVZ3DxHRajNZUH3ufO2R4en8dTdCiFzdPbooFZ72wu1tXvhVT8mxrQDSbWXYhaPHT9Qm48JCiP8K4L8B+DsAn1BKySW8Zw+AkwAOKaVOXnvsVgDPA9inlDothHAB9AH4Y6XUlxPcfBiv23ZPCPEpAH8K4DSA9yqlxl732qcA3I/FwVNSV48RERGlGw6fiIiIKKlCx0KfBvAnujsocwil5L0vqVM/96wM2B6qdfcQEa12MTNrqnv9e5v7KusqpekkZYiRLpSSnox2t3rhpgkZ610PyHW6m5bg60ePn3jHrfCulxDiESwObXoAfAnAGwdPQ0qp773hPRaAlwG8oJT69OsetwG0AYhdu+Y9WDxfaZtSqjPB3YdxbfiExa30vgLghwAeUErNvO51OQAmAPQqpTYksoGIiCgTcNs9IiIiSrbv6A6gDKGUek+jevFjP5QlTgw3684hIqJFlrdQsPHCv9228cK/YbR426tdNQ/NzuWU74UQ6b4V3XUTwjBNp2an6dQAAGRs+EIs3HhFRrtKoCJbARh6C99Uslbs7Lv261osbln3Rs/iP2739xiAEgC//foHlVJRIcR9AP4ci1vxXQbwUKIHT2/wKQAbADwJ4MNKqTdunbcJi8Op5iQ2EBERpS2ufCIiIqKkCx0LXQS4QoXid/ur8qVf/J70ZUWxSXcLERG9s7CdP3Kh5v1tQ2X7apVhBt/5HZlPyZmRWPhMhxdpcyGnQwCydTdhcTVS6dHjJ8Z1h6wUr1v5NI/F/4/+SCl19E1edwjAjwEcU0p9IoWJREREaYErn4iIiCgVvgvgk7ojKP3c2iZP/8ozMic7gv26W4iIaOnc6HTp1o6/O7yl4+/lYPm+ly9W36/CbuFeCLESV/6khDDySu3sm0vt7JuhVHTei3S85IVfjShveBOAUk1ZTRw8vaUGAIcAPCaEwJsMoKau/Zqf2iwiIqL0wOETERERpQKHT3Rd9p+TTb/2TWnmhbFXdwsREcVPQBmBoZf2BYZewnxWSW9n7cNdo/7t2yAMXcOWFUEIO9tyQ/stNwSllJSxnhZvoXFcxnqCgFeTwpRkbbmXCeYAvA/AN7A4gDKUUo++7vlzAKIAduuIIyIiWuk4fCIiIqJU+AEAD4CpO4RWtl0X5JlPf0PKgnl+kENElGmyF0aDO1q/HpTCiPZWHfrp5XV350TtvF26u3QTQhimvS5k2usAANIbu+wtNF7yop2FUAvbkdzvnzh8ehtKqflrZ009DeDzQgihlPr8tefmhBDPALhPCHGHUuqHWmOJiIhWGJ75RERERCkROhZ6AcDNujtoZdp2WbZ99im5UDSLPbpbiIgodabzghc6a4/0Tvhqd0EIn+6elUbJuXEv3NLuRVpNJSe3A8hL4OUXABQdPX5iIYHXTHuvO/PpC0qpP7z2WDaApwDcCeBPlFKfvfb4TgCnAAwBuFMp1fkm1/sFAD1KqWdT8zsgIiJaGbjyiYiIiFLlu+Dwid7ghl7V8fknvamSaZ7pRES0GuXP9Nbc2PzHNZ7hzF5e+57nr6y5o8Qz3S26u1YKYeQUW9k33WJl3wSlYmEZ6TwdCzfPK2+wFlCBZV7+xxw8Lc21FVD3Y3EA9ZlrW/B9Win1qhDiQwD+N4AzQoh/BvASgHkA1QDuB7ADwHt0tRMREenC4RMRERGlyncB1OuOoJVhw4DqfPQJb6xsEjcJQOjuISIivUwZyd1w6UTdhksncLVwY1tn7ZGrM7lVe7C44oQACGG5prtlr+lugVJKqVhfeyzcOCyjlyqA2KY4Lnki4ZEZTCm1IIR4AMCTAB4RQggAn1ZKPS2E2ALgcwDuBvAwABtAP4DnAXxGKfWcrm4iIiJduO0eERERpUToWMgEMAqgUHcL6bN2WF187AlvMDCOgxw6ERHR24laORMXq+97tT9w81plWNW6e1Yy6U30euGmi17kXB7UXAiLw493su7o8RM9yW4jIiKi1YnDJyIiIkqZ0LHQPwH4kO4OSr3KMXX5sSe83jUjOCCSe3A6ERFlGAWokZJdTRdq3h+ZzyrZCyG4i8vbUHJh0ou0nfXCLUrJ8W0A3uwsrZajx0/sSHUbERERrR78ho2IiIhS6Slw+LSqlF9VvY8+6XVXD+KgANbp7iEiovQjAFE22nxj2WgzFtzCwa6ahzqGS3dvgjCWe+ZRRhJGls/K2nPQytoDpbyojF5sioWbplSsvwaQwWsv+4bWSCIiIsp4HD4RERFRKn0TQASAozuEkss/qQY+/5TXeUMfDggg+M7vICIiemdZ4YmK7Wf/qkJBeP2Bm1/sXn+vFXEKbsTi+Tv0BkKYtuls3G06GwEAMjbQGQs39avY0FOa04iIiCjDcds9IiIiSqnQsdB3ALxHdwclR+GMGvncU/Ls1h51kwCydPcQEVHmm80pv9xZe+TSeNGWEIQo1t2TBgYBVD7y+B38QIiIiIiShiufiIiIKNWeBIdPGadgVo19+huydWe32ieAQ7p7iIho9cidG1q368yfrfMMa+FK8I4XetbeWRCzckK6u1awpzh4IiIiomTj8ImIiIhS7WkAfwaA2+NkgLx5NfGpb8rmvZ1qL4dORESkkyljWet7vnvL+p7vYjJ//bnOjUeGpvLX3wgh8nS3rTBP6g4gIiKizMdt94iIiCjlQsdCLwLYr7uD4pe9oKY++W3ZeLBD7RaAT3cPERHRm4mZWVPd6+9p7qu8LSBfO/hodZsCUPrI43dEdIcQERFRZuPwiYiIiFIudCz0mwD+QHcHXT83omZ/+Tvy5dta1U4BFOnuISIiWqqx4q1nOmsemp7LqdgHIRzdPZr80yOP3/FzuiOIiIgo83HbPSIiItLhX8HhU1pxomr+49+XL72rWW0zgMO6e4iIiK6Xf/zsDv/4WUTs/NELGx5oHSzfX6MMc43urhR7QncAERERrQ5c+URERJRBhBBv9Qf7rFIq73WvuxPA1wBsBHAewBeUUj94w7VMAC8DOKmUeiTRraFjoSYAuxJ9XUosK6bCP/8jeeruV9RmQ6Fcdw8REVGiKAg5VL638UL1/TLsFu2FEIbupiQLY3HLvWndIURERJT5uPKJiIgo8zwP4C/e8Fj0tf8hhFgH4CkAPwHwdQAPAXhaCLFFKdXzuvc8BqAMwG8nqfNfweHTimV6Kvqh5+TJ+15UG02FQ7p7iIiIEk1AGRVDL++tGHoZ81n+vs7ahztH/aFtEEap7rYk+RYHT0RERJQqHD4RERFlnotKqb9/m+fvvvbr+5VSc0KIvwUwCuAuAH8JAEKIDQDqAXxUKTWVpM5/BfDlJF2b4mRIFXv4BXnywZ+qakviNt09REREqZC9MFa1o/UvqqQwon2Vt528tO6e7KiTl2k/JPOPugOIiIho9eDwiYiIKAOJxUO0HaXUzJs8nQ1gQSk1BwDXBlALAHJf95rHAXxbKfVkshpbPt5yLnQs1Apge7LuQUsnlJL3n1InP/ScDFoSdbp7iIiIdDCUtNf0/fjgmr4fYzq36kLnxg/0Tvhqd0EIn+62ZZoGcEJ3BBEREa0eHD4RERFlniMAfh6AKYQYAXAcwH9RSk1ee/4kgCIhxG9h8SdgPwqg6NrjEEJ8DMB+AFtS0PoPAL6agvvQW1FK3XNanfroj2SZ4+EW3TlEREQrRf5sX82NzX9c4xnO3OW1dz5/JXhHiWdlpeL7o2R46pHH75jXHUFERESrh1Dqrc4lJyIionQjhHgRwL8A6AJQAOC9AD4EoAXAza+thBJC/B6ALwIwAEgAX1FKfUkIUQKgA8AXlVJvPDcq4ULHQmsAXLrWQSn2rib54ie+L4vcGG7Q3UJERJQOrvo2nu2sfXh8Ji+4B0Jk6+65Dvc+8vgd39IdQURERKsHh09EREQZTgjxRQC/j8XVT7//usfLAWzA4hlRQ9ce+3sAawEcArAGwP/A4iqoHgC/pZR6NtF9oWOhHwC4I9HXpbd2W4t8+Ze+I/OyoylZ3UZERJRxolbOxMXq973aH7h5rTLsat0972AUQOCRx++I6Q4hIiKi1YPDJyIiogwnhLABzAB4RSl189u87i4ATwHYBaATQDOAywB+F8CDAI4C2KSU6klkX+hY6BMA/jqR16Q3d7BdNv7qt6WTG+Y5W0RERIkyXLKz6ULNgwvzWSX7IMRKPN7g8Ucev+NTuiOIiIhodVmJ3xQRERFRAimlokKIfgAlb/UaIUQOgMeB/9venYdJVhZmH37OgCCIGMKiLAYEjH00jUFQQFHQJCZG425iYnCJUaME4xrRT+OWqFHR71MR1CRkxKgoBo173DdAMcom5yCCIPu+yT7T7/dHNbEZZ4aemep+q6rv+7r6arqquvo3fzHw9HtO/qmU0jdN89Akv5PkSaWUnzVN86Mkz8rg/lDDvkfTsUkOT7L5kN+XWXudNXPyiz4309z95jyodgsATJrtrjhlz+2uOCU3b/Ibl/5styd1l2235/3SbLR97a45PlI7AABYepx8AoAJ1zTNXZNcn+TEUsrD1/Caw5L8YZIHlVJubZrmT5Mck+SupZRbZl9zQpIfl1JeNOzG6eXT/5HkL4b9vkvd9M9nTnvxf83cdo8bjU4AsFhKmpUXb7/fD8/Z5XEb3brJlnulaZqKOWcffOSjdq/48wGAJcrJJwBYB03THJjkG2t5yX6llBNnX9tkcLm65yTZO8nWSW5MckaSzyb5QCnlqiG2bV1KuXI1T705g3/nf3YN37dXkkOSHFBKuXX24YtmP08n+WHTNJsmuW+Szw+rdxUfjvFpaNpflDP+7jMrb/zNX2bv2i0AsNQ0KRvtcPHx++xw8fG5YbN7nnfWfZ967lVbtdNpmt+skHN0hZ8JAODkEwCsiznj08eSfGE1L/lSKeWK2cvYHZPkcRmMTcdmcP+kLZLsm8EodVop5SFDbHv37Ht/I8kvZn/WHyd5ZJLvJ3lkKeWmVb5n4yQnJfleKeVv5zx+lyQ/SbIiyfuSPCaDk1EPKKWcNazm200vn94oyflJRukSNWNnt4vKT1923Mqrt70u+9RuAQB+ZeWyjW8+f6dH/c8vfusPtlyx8ebTi/ijdzv4yEedM4w3aprm1UkelGSvJPdJcl4pZZc1vPYvkvxDkp2S/DjJi0spP17lNXfP4O/J7ymlvGMYjQDA6DA+AcA6mDM+vbKU8s61vO7DSQ5K8s4kryqlzKzy/PZJDimlvGaIbU9I8qIM7tW0dZKVSc5K8okk7yql3Lya7/n7DE493b+Ucv0qz90vyRFJHpzBcHZoKT5Vg5gAACAASURBVOVzw+pd1fTy6XcmeflCvf8k2+WScvZLP73ysntdnX2bpOalfQCAO3Ht3Xc586zdn3rpdVvu8qA0zRYL+KO+d/CRj9p/WG/WNE1JclWSH2UwQF23uvGpaZp9kpyQwd9Bv5nkuUl2THK/uX/fbJrm8CT7JXlIKWXFsDoBgNFgfAKAdTCf8alpmj2SnJLkxCQPLf5lOy/Ty6cfmOTk2h3jZKfLy7kvO27lRTtemX2bZFntHgBg/lZstOn15+78mB9fsOMB289stMl9F+BHvODgIx/1wWG9WdM0u5ZSzpn959OTbLGG8emtSf4syW6llNI0zX2SnJPk0aWUr8y+Zr8k38rgktX/M6xGAGB0uOcTAKyfzZum2WaVx26Z/W3Op8x+/SHD0/yd9qzTTplePn1qkj1qt4y6e11Vzn/ZcSvP2/my7Ncku9TuAQDW3cYrb7n77ud8+hG7n/PpXLlVe+pZuz/l+hs3v9feGdxrc0PdnMHJo6G5fXiah82SXDPn78G33+P0bknSNM0mST6UweX2DE8AMKGMTwCwft44+zHXMUmensFl7xKneNbHhzO4VCGrse015aKXfnrl2btdnH2b5N61ewCA4dj66m6PrU/6x9x6l7tfcfaujz/hkns+ZNeybOPf2oC3PPbgIx91zdAC180JSV7cNM1BSb6d5BVJbk1y+9B0aAZD1D/UyQMAFoPxCQDWzweTfHKVxy6Z/bzl7OfrFi9nYhyd5C1JNqkdMkp+87py6d99ZmU/dUH2bZIdavcAAAtjk9uu36Y98z8OnDrzP8ql2+39w7N3fcLMLZtutVeaZqN1fKsPLEjg/HwiyWMy+KWiJLklyd+VUs5vmmYqyWuSPKGUcmOtQABg4bnnEwCsg3ne8+lTSZ6c5EGllB8vYt5EmF4+/dEkf167YxTc44ZyxSH/NfOT6XPLQ5rBJWwAgCXmprtufeFZuz/lrCu2nn5AmmXbzuNbzjj4yEc9YCGb1nbPpzmvuXeSHZP8tJRyVdM0TQb3eTqvlHJQ0zTTSd6d5AFJugwGqtMWshsAWDxOPgHA8J2ewfi0ZxLj07o7Ikt8fNrixnL1335u5tQ9zy57N8kBtXsAgHo2u/nKHfc4/YM7zjTLbrtwh0eccO7Oj9nstk22+N21fMsHFy1uLUop5yc5f85Dz09y/yRPbprm7km+muRzSf4+yYuSfLVpmt1n76EKAIw5J58AYB3M8+TTHklOSXJ8kv2Lf9mus+nl06cmma7dsdg2v7lc+8IvzJz8kDPLg5rk7rV7AIDRdP3ddjz7rPs+7YJr7rH776Zp7jHnqZuT7HDwkY+6eiF//nxOPq3y+u0zON10SCnl6KZp/iLJUUm2KqXc2DTN5kmuTvLsUsrHFqobAFg8y2oHAMCkKaWcmsG9ix6a5K2zlxi5g6Zp7tU0zVsWPW58HFE7YDFtdku5/sWfWfnNo969MvucWQ4wPAEAa3P3Gy7c7UEn/98DDvjOy+6yy7lf+O5GK24+Y/apTy708LSe3pfkB6WUo2e/3inJVbff92n281VJ7l2pDwAYMpfdA4CF8TdJtkryqiSPnb0P1HlJtkjykAwuy+ea9mv2kST/nAkfYTa5rdz4V/8984MDTy17LEsOrN0DAIyXjWZu3XzXcz+//67nfj5X32P3M87b+Q8PTx5VO+sOmqZ5YpI/yh1PtV+UZNumae5ZSrm0aZp7Jtl29nEAYAK47B4ArIP5XHZvzmubDEam5yTZO8nWSW5I8pMk/5XkA6WUaxY0eIxNL59+f5IX1u5YCHdZUW4+6Gsz33/0j8v9l5XM58bhAAB35pS279Z2L6gN0jTNQUl2nv3ykCSbJDls9uvz5pxqmvs9WyY5I8n/nft356ZptkpydpI+gysG/GWSNslupZShndya83f3NdmvlHJiM7h04SFJnppklwx+WfvyDC6l/blSyr8MqwkAlgrjEwAwkqaXT08nObV2xzBtvLLc+uffnDnxj08q992oZPvaPQDARHl+23cfWqg3b5rmm0kOWMPT3yqlHLia73l/kn2TPLiUsnKV5/ZJ8t4k98+v7gd14pCbD8xgfPpYki+s5iVfSnJrkh8m2TXJsRnct/XW2a//IMnGpZQldy9SANhQxicAYGRNL5/+TpL9a3dsqGUzZcXTvjNzwhNPKLtuVLJj7R4AYOJcm2SHtu9urB0ySuZz1YKmaV6e5J1JXlJK+X+reX6nUsoFCxoKABPIPZ8AgFH2/ozx+LRspqx84gnlxKd+d2anjWfy8No9AMDE+nfD03q77+znr63uScMTAKwf4xMAMMo+leSyJNvVDlkXTSkzj/1BOfHPvzWz/V1W5mG1ewCAiVYy+IUd1mzzpmm2WeWxW0op12dw76kkeU7TNK8qpaxY5DYAmEguuwcAjLTp5dNvSfLq2h3zUkp59I/K9w/6+szWm67439+iBQBYSJ9v++5xtSNG0ZzL7q3OMaWUpzdNs1WSU5LcO4NfevpOkpOSfC/J8aWUmcVoBYBJ4+QTADDq3p/kFUnuUjtkbQ48ZeYHf/WVmXvc9bbsW7sFAFhSVnsvI+7gg0k+ucpjlyRJKeXqpmn2SvLyJE9O8pTZjyQ5t2maF5RS/nvRSgFgQjj5BACMvOnl08uTPLN2x+o87CczP3zel2Y22/zWPKB2CwCw5PxP23d7144YVXNOPr2ylDKvka5pmq2T7JfkT5P8ZZKbkjywlPKzheoEgEnk5BMAMA7ekeSgJE3tkNs9+MyZH7/w8zMbbXFL/A8fAKCWw2oHTJpSypVJPpfkc03TnJ/kNUmenuQfq4YBwJgxPgEAI++0Z512+vTy6S8m+ePaLQ88e+bUQz47s3LLm7Jn7RYAYEk7L79+KTmG68TZzztWrQCAMWR8AgDGxdtTcXx6wHkzP3nxZ2Zu3uqG7FWrAQBgjv/X9t2K2hHjrmma/ZJ0pZRrVvP0E2c/n7GISQAwEYxPAMBYOO1Zp31revn095Pss5g/97cvKP1LPr3yum2uz0MW8+cCAKzFNUk+VDtiQjwjyXOapvl8kh8kuTLJ1hn80tMjMxie/q1eHgCMJ+MTADBO3pHk2MX4QbteXM566adXXrndNdmnGaF7TQEAJPlg23e/rB0xIY7MYMx7ZJKXJdkmyS1JfpbkjUneVUq5oV4eAIynppRSuwEAYF6ml08vS9Inue9C/Yx7X1Z+/rLjVl68w1XZt0mWLdTPAQBYT7cl2aXtu4tqhwAArInxCQAYK9PLp/8myRHDft8driznvfS4lef/1uXZr0k2Gvb7AwAMyYfbvntW7QgAgLVx2T0AYNz8ewaXQNluGG+23TXlwpcet/KcXS/Jfk2y8zDeEwBggZQkb68dAQBwZ5x8AgDGzvTy6dcmefOGvMfW15aLX/KZlWf99oXZt0k2GVIaAMBCOrbtu6fVjgAAuDNOPgEA4+jwJK9KssW6fuNv/LJc/nefmTnj/r8o+zTJI4afBgCwIEqSN9WOAACYDyefAICxNL18+p+T/P18X7/lDeXKv/3szGkP/Hl5SJNsvoBpAAAL4VNt3z21dgQAwHw4+QQAjKt3JDk4yd3W9qItbirXvPDzMyfvfVbZu0kOXJQyAIDhcuoJABgrTj4BAGNrevn02zK4/N6v2ezmct3zvzTzo4d2Zc8muccipwEADNNxbd89uXYEAMB8OfkEAIyzd2Zw+ul/7/206a3lhr/+8swPH3F62cNJJwBgAjj1BACMHSefAICxNr18+q1JDt3ktnLTs74684PfO7k8YFmyTe0uAIAh+Uzbd0+sHQEAsC6cfAIAxt07/+IbK/d6/PfLHstKDqgdAwAwZE49AQBjx8knAGDsdVPtm5K8rnYHAMCQfbbtu8fXjgAAWFfLagcAAAzBYUmurh0BADBEJckbakcAAKwP4xMAMPbavrs2ydtrdwAADNEn2r77Ue0IAID1YXwCACbFe5JcWjsCAGAIbkvyf2pHAACsL+MTADAR2r67MclbancAAAzBkW3fnV07AgBgfRmfAIBJcmQS/6MGABhn1yd5c+0IAIANYXwCACZG23e3Jnl17Q4AgA3wjrbvLq8dAQCwIYxPAMBEafvuk0mOr90BALAeLknyrtoRAAAbyvgEAEyil9cOAABYD29s++6G2hEAABvK+AQATJy2705M8onaHQAA6+CnSf6ldgQAwDAYnwCASXVokltqRwAAzNOr275bUTsCAGAYjE8AwERq++7nSd5buwMAYB5OaPvuP2tHAAAMi/EJAJhk/5TkytoRAABrMZPkkNoRAADDZHwCACZW23fXJHlT7Q4AgLX417bv/qd2BADAMBmfAIBJd0QGN/AGABg11yR5Te0IAIBhMz4BABOt7bvbkrykdgcAwGr8Q9t3V9SOAAAYNuMTADDx2r77YpLjancAAMxxWpL3144AAFgIxicAYKl4SZIba0cAAMx6cdt3K2tHAAAsBOMTALAktH33iyRvrt0BAJDkE23ffbN2BADAQjE+AQBLyWFJ+toRAMCSdmOSV9SOAABYSMYnAGDJaPvutiQH1+4AAJa0t7Z9d37tCACAhWR8AgCWlLbvvp7k47U7AIAl6awk76gdAQCw0IxPAMBS9PIk19eOAACWlJLk+W3f3VI7BABgoRmfAIAlp+27i5K8vnYHALCk/Fvbd9+sHQEAsBiMTwDAUvXeJKfWjgAAloRLkryydgQAwGIxPgEAS1LbdyuSPDfJytotAMDEe3Hbd1fXjgAAWCzGJwBgyWr77odJDqvdAQBMtM+2fffJ2hEAAIvJ+AQALHWvT3Jm7QgAYCJdn+RFtSMAABab8QkAWNLavrs5g8vvzdRuAQAmzqvbvrugdgQAwGIzPgEAS17bd99LcnjtDgBgopyQ5IjaEQAANRifAAAGXp3k57UjAICJcGuS57V952Q1ALAkGZ8AAJK0fXdDkufV7gAAJsIb2777Se0IAIBajE8AALPavvtakn+p3QEAjLUTkvxz7QgAgJqMTwAAd/TyJG4MDgCsjxuSPLPtu5W1QwAAajI+AQDM0fbddUn+Okmp3QIAjJ1Xtn33s9oRAAC1GZ8AAFbR9t2Xk7yvdgcAMFa+1PbdEbUjAABGgfEJAGD1/j6JG4UDAPNxVZLn1o4AABgVxicAgNVo++7mJM9IcmvtFgBg5B3c9t1FtSMAAEaF8QkAYA3avjslyWtqdwAAI+3jbd99vHYEAMAoMT4BAKzdu5J8tXYEADCSLkryotoRAACjxvgEALAWbd+VJM/O4F4OAAC3K0me3fbd1bVDAABGjfEJAOBOtH13YZLn1+4AAEbK29q++0rtCACAUWR8AgCYh7bvPpXkqNodAMBI+G6S19WOAAAYVcYnAID5e3GSs2pHAABVXZnkz9u+W1k7BABgVBmfAADmqe27XyZ5WpKba7cAANU8u+27C2pHAACMMuMTAMA6aPvulCR/W7sDAKji3W3ffa52BADAqDM+AQCso7bv/jXJ8todAMCiOinJq2pHAACMA+MTAMD6eVGS02tHAACL4tokf9b23W21QwAAxoHxCQBgPbR9d2OSpya5vnYLALDgntv23c9rRwAAjAvjEwDAemr77swkz6vdAQAsqPe1ffep2hEAAOPE+AQAsAHavjsmyeG1OwCABfGdJC+rHQEAMG6MTwAAG+5lGdyEHACYHBckear7PAEArDvjEwDABmr77tYkT0tyZe0WAGAobkny5LbvLqsdAgAwjoxPAABD0PbdeRkMUCtqtwAAG+yFbd851QwAsJ6MTwAAQ9L23TeSvKR2BwCwQQ5v++6o2hEAAOPM+AQAMERt3x2e5AO1OwCA9fKdJC+tHQEAMO6MTwAAw3dIkm/XjgAA1skFSZ7W9t1ttUMAAMZdU0qp3QAAMHG6qXabJCcl2aVyCgBw525J8oi2735QOwQAYBI4+QQAsADavrsiyROS3FC7BQC4U883PAEADI/xCQBggbR9d2qSZyZx1BwARtc/tn334doRAACTxPgEALCA2r77zyRvrN0BAKzWR9u+e13tCACASWN8AgBYeG9KckztCADgDr6b5K9qRwAATKKmFFeBAQBYaN1Uu2mS/07yiNotAEB+lmTftu+urB0CADCJjE8AAIukm2q3SvK9JG3tFgBYwq5Ksl/bdz+tHQIAMKlcdg8AYJG0fXd1ksckubh2CwAsUbcmeZLhCQBgYRmfAAAWUdt35yV5bJJf1m4BgCXouW3ffbt2BADApDM+AQAssrbvfpzkqUlW1G4BgCXkjW3ffaR2BADAUuCeTwAAlXRT7XOS/FvtDgBYAj7Y9t0LakcAACwVTj4BAFTS9t1RSd5YuwMAJtyxSV5YOwIAYClx8gkAoLJuqv3XJH9VuwMAJtBXkzy27btba4cAACwlTj4BANT3/CT/WTsCACbMD5I8yfAEALD4nHwCABgB3VS7SZLPJnl07RYAmABnJHlE23dX1g4BAFiKjE8AACOim2o3T/LlJPvXbgGAMXZekoe1fXdh7RAAgKXK+AQAMEK6qXbLJF9PslftFgAYQ5cn2b/tu5/WDgEAWMrc8wkAYIS0fXddkj/K4HJBAMD8XZ/kjwxPAAD1GZ8AAEZM23dXJPmDJOfUbgGAMXFDkse1ffej2iEAABifAABGUtt3FyX5vSTuVwEAa3djBsPTt2uHAAAwYHwCABhRbd+dm+T3M7h/BQDw625K8idt332zdggAAL9ifAIAGGFt3/UZDFBX1G4BgBFz+/D09dohAADckfEJAGDEtX13apJHJrmsdgsAjIibkzyh7buv1Q4BAODXGZ8AAMZA23enJzkwySWVUwCgtluSPLHtu6/UDgEAYPWMTwAAY6Ltuy6DAeqiyikAUMstSZ7U9t2Xa4cAALBmxicAgDHS9t2ZGQxQF1ZOAYDFdmuSp7R998XaIQAArJ3xCQBgzLR9d1aSA5KcX7sFABbJzUme3Pbd52uHAABw55pSSu0GAADWQzfV3ifJN5LsXLsFABbQ9Uke3/bdN2uHAAAwP8YnAIAx1k21O2cwQN2ndgsALICrkvxR23cn1Q4BAGD+XHYPAGCMtX13XpKHJzmjdgsADNnFSR5heAIAGD/GJwCAMdf23YUZDFAn1m4BgCE5N8nD2777Se0QAADWnfEJAGACtH13VZLfT/Ll2i0AsIG6JPu3fXd27RAAANaP8QkAYEK0fXdDkj9J8rHaLQCwnn6UwaX2LqwdAgDA+jM+AQBMkLbvbkvyjCTvq90CAOvoO0ke2fbdFbVDAADYME0ppXYDAAALoJtq/yHJG2t3AMA8fCbJn7d9d1PtEAAANpyTTwAAE6rtuzcleWGSmdotALAW703yZMMTAMDkcPIJAGDCdVPt05IcnWTT2i0AMEdJ8oq2795VOwQAgOEyPgEALAHdVLt/kuOSbFO7BQCS3JzkoLbvjq0dAgDA8BmfAACWiG6q3S3J55Pcr3YLAEvalUke3/bd8bVDAABYGO75BACwRLR9d3aS/ZJ8o3YLAEvW2Un2MzwBAEw24xMAwBLS9t3VSf4wyb9XTgFg6fl+BsPTWbVDAABYWC67BwCwRHVT7auT/FOSpnYLABPvuCTPaPvuptohAAAsPCefAACWqLbv3prkzzK46TsALISS5M1JnmJ4AgBYOpx8AgBY4rqpdp8k/5Vku9otAEyUG5I8q+27T9UOAQBgcRmfAABIN9XunMElkfas3QLARDg3yRPavju1dggAAIvPZfcAAEjbd+cleViSo2u3ADD2vpnkwYYnAICly8knAADuoJtqD0nyriQb124BYOwcnuQlbd+tqB0CAEA9xicAAH5NN9U+IsknktyzdgsAY+HWJAe3ffcvtUMAAKjP+AQAwGp1U+2OST6VZJ/aLQCMtEuTPKXtu+/VDgEAYDS45xMAAKvV9t2FSQ5I4rfYAViTbyXZ0/AEAMBcTj4BAHCnuqn2BUnek2ST2i0AjISS5G1JXtf23craMQAAjBbjEwAA89JNtfsk+XiSXSqnAFDXlUkOavvui7VDAAAYTS67BwDAvLR99/0ke2ZwHygAlqbjM7jMnuEJAIA1cvIJAIB11k21L0zyriR3rd0CwKI5LMmhbd+tqB0CAMBoMz4BALBeuql2jyTHJJmq3QLAgromybPbvvtM7RAAAMaDy+4BALBe2r47NcneSY6q3QLAgjkpg8vsGZ4AAJg3J58AANhg3VT7jCRHJtmidgsAQzGT5J+TvL7tu9tqxwAAMF6MTwAADEU31d43g8vw7Vm7BYAN8oskB7V99+3aIQAAjCeX3QMAYCjavjsryb5J3pZkZeUcANbPx5M80PAEAMCGcPIJAICh66ba/ZJ8OMnutVsAmJdrkhzc9t1Ha4cAADD+nHwCAGDo2r47IckDkxyexG87AYy2ryWZNjwBADAsTj4BALCguqn2D5L8W5KdarcAcAc3JTk0yXvbvvM/BwAAGBrjEwAAC66ban8jyXuSHFS7BYAkyYlJ/qrtu652CAAAk8f4BADAoumm2icl+UCSbWu3ACxRNyR5bZL3tH03UzsGAIDJZHwCAGBRdVPtthncC+pptVsAlpivJnl+23c/rx0CAMBkMz4BAFBFN9X+SQYj1L1rtwBMuGuSvLztu3+rHQIAwNKwrHYAAABLU9t3n01y/wzuBeXSTwAL49NJ7m94AgBgMTn5BABAdd1U++AkH0rywNotABPi0iSHtH33ydohAAAsPU4+AQBQXdt3JyXZO8mrktxUOQdgnJUk/57BaSfDEwAAVTj5BADASOmm2l2THJHk0bVbAMbMKUkObvvue7VDAABY2oxPAACMpG6qfUaSw5Lcs3YLwIi7Nsnrkry/7buVtWMAAMD4BADAyOqm2i2TvCHJIUk2rlsDMHJKkg8n+fu27y6rHQMAALczPgEAMPK6qfb+Sd6T5PdqtwCMiJMzuMTe8bVDAABgVcYnAADGRjfVPiWDS/HtXLsFoJJrMrjE3hEusQcAwKgyPgEAMFa6qfauSV6R5NAkd6ucA7BYZpIcleQ1LrEHAMCoMz4BADCWuql2xyRvS/KMJE3lHICF9KUkr2z77vTaIQAAMB/GJwAAxlo31e6T5B1JHl67BWDITs5gdPpq7RAAAFgXxicAACZCN9U+Lslbk/xO7RaADXRBktcmObrtu5naMQAAsK6MTwAATIxuql2W5C+TvCnJzpVzANbVdUn+Ocm72767qXYMAACsL+MTAAATp5tqN03yoiT/J8nWlXMA7syKJB9M8oa27y6vHQMAABvK+AQAwMTqptotk7wyyUuT3K1yDsCqVib5SJI3t313du0YAAAYFuMTAAATr5tq75XkdUn+OskmlXMAZpJ8NMmb2r47q3YMAAAMm/EJAIAlo5tq753k0CTPTbJp5Rxg6ZlJ8okkb2z7rq8dAwAAC8X4BADAktNNtTskeVWS5yXZrHIOMPlKkmMzuKfTGbVjAABgoRmfAABYsmYvx/eKJC9MsnnlHGDylCTHZTA6nVY7BgAAFovxCQCAJa+bardN8vIkByfZonIOMP5WJDkmydvbvju1dgwAACw24xMAAMzqptqtk7wkySFJ7lE5Bxg/NyT51yTvavvuvNoxAABQi/EJAABW0U21WyR5bgZD1C51a4AxcHmS9yV5X9t3V9WOAQCA2oxPAACwBt1Uu1GSJ2VwSb59K+cAo+ecJIclOartu5tqxwAAwKgwPgEAwDx0U+1Dk7wsgzFqWeUcoK4fJXl7kmPbvltZOwYAAEaN8QkAANZBN9XumsHl+J6TZIvKOcDiuS3JpzK4tN73ascAAMAoMz4BAMB66Kba30jyvCR/k2TXyjnAwrkoyQeSfLDtu0tqxwAAwDgwPgEAwAboptomyaOTvCDJnyTZuG4RMCTfSnJ4kuPavltROwYAAMaJ8QkAAIakm2p3SPLXsx/3rpwDrLsbkhyd5PC2706vHQMAAOPK+AQAAEPWTbUbJXlsBqeh/ijJsrpFwJ34nyRHJflI23fX1o4BAIBxZ3wCAIAF1E21Oyd5fpJnJ9mhbg0wx+VJPpLkqLbvTqsdAwAAk8T4BAAAi6Cbapcl+f0kByV5UpK71S2CJWlFki9kcMrp823f3Va5BwAAJpLxCQAAFlk31W6R5MlJnpnkkXFZPlhoP8mvLqt3ae0YAACYdMYnAACoqJtqd0zylxmciHpA5RyYJBcm+WSSj7Z9d1LtGAAAWEqMTwAAMCK6qXbPDEaopyXZqXIOjKNLkhyb5Jgk32v7zn/wAgBABcYnAAAYMd1U2yTZJ8lTZj/uU7cIRtrlSf4zg8HpW23fzVTuAQCAJc/4BAAAI272RNTtQ9RU5RwYBVfnV4PTN9q+W1G5BwAAmMP4BAAAY6Sbau+fwQj11CR7VM6BxXRWks/OfnzX4AQAAKPL+AQAAGOqm2p3S/LYJI9JcmCSu1YNguFakeR7mR2c2r77aeUeAABgnoxPAAAwAbqpdrMkj8xgiHpMkt3qFsF6uSbJFzMYnL7U9t3VlXsAAID1YHwCAIAJ1E21v51fDVEHxKkoRtOKJD9I8rUkX01yvMvpAQDA+DM+AQDAhOum2s0zuCzfIzMYoh6UZKOaTSxZJcmpSb6eweD07bbvrq+bBAAADJvxCQAAlphuqr17kv0zGKQOSLJXko1rNjHRzs5gaPpakm+0fXd55R4AAGCBGZ8AAGCJ66baLZI8LIMh6sAkeye5S80mxtZtSU5JcnySEzK4jN4v6iYBAACLzfgEAADcwexl+h6U5CFzPu5TNYpRdVlmR6bZzz9s++6mukkAAEBtxicAAOBOdVPtNrnjGPXgJNtUjWKx/TLJaUl+lOTEDE41nVM3CQAAGEXGJwAAYL10U+19MhihHphkOsnvJNklSVMxi+G4KMnJq3yc3fbdTNUqAABgLBifAACAoZm9f9QD8qsx6vbP29XsYo1+meSnSboMFS1pEQAACEhJREFUBqZTkpzc9t3lVasAAICxZnwCAAAWXDfVbpfBCHW/JLvNfuyeZNckm1dMWwpWJPl5kjMzGJp+evs/t313Uc0wAABgMhmfAACAqrqpdvvccZC6/Z93SbJtXMbvzswkuTjJL5KcP+fjnAyGpnPavrutXh4AALDUGJ8AAICR1U21d0lyryQ73MnHb9ZqXEAzSa5KcsXsx+VJLsyvj0wXtX23olYkAADAqoxPAADA2Oum2k2SbJXkN2Y/r+nj9ufvluSusx+brubzhrotyU1zPm5MckOS6zO4z9LtH9fmV+PSFUmunPPPV7d9NzOEFgAAgEVlfAIAAJijm2qbJJvkV0PUXZKU2Y+ZOZ9n1vDYLW3frVz8cgAAgNFgfAIAAAAAAGBoltUOAAAAAAAAYHIYnwAAAAAAABga4xMAAAAAAABDY3wCAAAAAABgaIxPAAAAAAAADI3xCQAAAAAAgKExPgEAAAAAADA0xicAAAAAAACGxvgEAAAAAADA0BifAAAAAAAAGBrjEwAAAAAAAENjfAIAAAAAAGBojE8AAAAAAAAMjfEJAAAAAACAoTE+AQAAAAAAMDTGJwAAAAAAAIbG+AQAAAAAAMDQGJ8AAAAAAAAYGuMTAAAAAAAAQ2N8AgAAAAAAYGiMTwAAAAAAAAyN8QkAAAAAAIChMT4BAAAAAAAwNMYnAACAtWia5n5N0/xH0zRd0zTXNk1zY9M0fdM072qaZvs1fM9jm6b5atM0V8++/qdN07xvldds1zTNMU3TXNU0zQVN0/xj0zQbrea9XtY0zUVN09xjof6MAAAAw7Rx7QAAAIARt1OS7ZMcl+SCJCuSTCd5fpKnN03zu6WUy25/cdM0r0/yhiRfTvL6JDcm+a0ke6zyvkcl2SvJm5Jsl+RVSa5Octic99pl9vlnllKuHfqfDAAAYAE0pZTaDQAAAGOnaZqnJflEkleVUt4++9jvJ/lKkn8opbx5Ld+7WZJfJnluKeXfZx9bnmT3UsrD5rzui0luLqU8acH+IAAAAEPm5BMAAMD6OW/281ZzHntNksuSvDVJmqbZIsmNpZSZVb530wwug37VnMeuSnK3279omuYZSR6a5P7DzQYAAFhY7vkEAAAwD03T3LVpmm2aptmpaZpHJ/nA7FNfmH3+bkkekeT7SZ7bNM2FSa5P8sumaT7eNM09b3+vUso1Sfokr5i9p9T+Sf4iyfGz77V1kncnObSUcuEi/REBAACGwmX3AAAA5qFpmr9N8t45D52b5LWllP+Yff6BSU5OcnmSLZO8LckpSR6e5O+SnJlk71LKjbOvf2iSTyW51+z7nZTkcaWUy26/BF+S/Yv/aAMAAMaMy+4BAADMz6czOK20RZI9kzw+ybZznr/77OdtkzyvlPIvs18f1zTNdUlen+RZSY5IklLK8U3T3CfJA5LcmOTMUsrM7H2jnj77M5Y1TfPaJM9I0iT5aJI3lVJWLtwfEwAAYMM4+QQAALAemqbZI4PTSm8opby1aZq9kvwwyUySzUspt8x57X2SnJPkE6WUP1vLe26W5PQkR5dS3tA0zauSvDLJM5OUJEcneXsp5e0L9ecCAADYUO75BAAAsB5KKacm+XGSF80+dMHs56vnDk+zLp79vNWdvO0bk9yS5C2zXz83yZGllC+UUr6Y5MjZxwAAAEaWy+4BAACsv82S/GaSlFIubZrmF0nu3TTN5rff22nWTrOfL1vTGzVNs2eSlyR5VCnl1jnfd/6cl52f5N7DigcAAFgITj4BAACsRdM091rD449M8jtJTpzz8NEZ3JvpBau8/IWzn7+whvfaKMmHkvxrKeW7c566KMn0nK+nZx8DAAAYWU4+AQAArN0RTdNsn+TrSc5LctckeyV5epLrk7x8zmvfnuQpSd7ZNM1vJzklyf5JnjH7/ces4We8JMn2SQ5d5fGPJHl10zRXZnDPp+flV5fkAwAAGElNKaV2AwAAwMhqmuZPkzwryR5Jts1gBDovyVeSvKOU8otVXr9NkjcneUKSbTK4F9THkry5lHLzat7/PklOT/KXpZTjVnlukyRvzWC8SpKPJjl0zmX5AAAARo7xCQAAAAAAgKFxzycAAAAAAACGxvgEAAAAAADA0BifAAAAAAAAGBrjEwAAAAAAAENjfAIAAAAAAGBojE8AAAAAAAAMjfEJAAAAAACAoTE+AQAAAAAAMDTGJwAAAAAAAIbG+AQAAAAAAMDQGJ8AAAAAAAAYGuMTAAAAAAAAQ2N8AgAAAAAAYGiMTwAAAAAAAAyN8QkAAAAAAIChMT4BAAAAAAAwNMYnAAAAAAAAhsb4BAAAAAAAwNAYnwAAACpomubApmnKWj72nX3d2l5zaO0/BwAAwKo2rh0AAACwxH0syRdW8/jP5vzzyUkOW81rfrwgRQAAABvA+AQAAFDXj0opH7mT11w4j9cAAACMBJfdAwAAAAAAYGicfAIAAKhr86ZptlnlsVtKKdfP+fouq3nNTCnlqgVuAwAAWGdNKaV2AwAAwJLTNM2BSb6xhqePKaU8ffZ1a/qPtktLKfdaiDYAAIAN4eQTAABAXR9M8slVHrtkla+/n+S1qzx2y4IVAQAAbADjEwAAQF1nlVK+eievuWIerwEAABgJy2oHAAAAAAAAMDmMTwAAAAAAAAyN8QkAAAAAAIChMT4BAAAAAAAwNMYnAAAAAAAAhqYppdRuAAAAAAAAYEI4+QQAAAAAAMDQGJ8AAAAAAAAYGuMTAAAAAAAAQ2N8AgAAAAAAYGiMTwAAAAAAAAyN8QkAAAAAAIChMT4BAAAAAAAwNMYnAAAAAAAAhsb4BAAAAAAAwND8f4K6b+Tk8vDxAAAAAElFTkSuQmCC\n",
      "text/plain": [
       "<Figure size 2160x936 with 1 Axes>"
>>>>>>> 5c7a551ea214ff3b1a0ec1d522a4542160e8bb18
      ]
     },
     "metadata": {},
     "output_type": "display_data"
    }
   ],
   "source": [
    "import matplotlib.pyplot as plt\n",
    "\n",
    "pitch_type = df.groupby('pitch_type').count().toPandas()\n",
    "fig1, ax1 = plt.subplots(figsize=(30,13))\n",
    "plt.rcParams.update({'font.size': 18})\n",
    "ax1.pie(pitch_type['count'],labels = pitch_type['pitch_type'], autopct='%1.0f%%', pctdistance=1.1, \n",
    "        labeldistance = 1.2, shadow = False, startangle = 90 )\n",
    "#plt.legend()\n",
    "plt.legend(labels = ['Two-seam Fastball', 'Slider', 'Cutter', 'Four-seam Fastball', 'Splitter', 'Knuckle Curve',\n",
    "                     'Changeup', 'Curveball', 'Knuckleball', 'Sinker'])\n",
    "ax1.axis('equal')\n",
    "plt.savefig('init_pie1.png')\n",
    "plt.show()"
   ]
  },
  {
   "cell_type": "markdown",
   "metadata": {},
   "source": [
    "#### Create a pie plot of distribution of pitch_type of Chris Sale"
   ]
  },
  {
   "cell_type": "code",
   "execution_count": 29,
   "metadata": {},
   "outputs": [
    {
     "data": {
      "image/png": "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\n",
      "text/plain": [
       "<Figure size 2160x936 with 1 Axes>"
      ]
     },
     "metadata": {},
     "output_type": "display_data"
    }
   ],
   "source": [
    "chris_sale = df.filter(df.pitcher_id == 519242).groupby('pitch_type').count().toPandas()\n",
    "fig2, ax2 = plt.subplots(figsize=(30,13))\n",
    "plt.rcParams.update({'font.size': 18})\n",
    "plt.title('Chris Sale')\n",
    "ax2.pie(chris_sale['count'],labels = chris_sale['pitch_type'], autopct='%1.0f%%', pctdistance=1.1, \n",
    "        labeldistance = 1.2, shadow = False, startangle = 90 )\n",
    "#plt.legend()\n",
    "plt.legend(labels = ['Two-seam Fastball', 'Slider', 'Four-seam Fastball', 'Splitter',\n",
    "                     'Changeup'])\n",
    "ax2.axis('equal')\n",
    "plt.savefig('Sale.png')\n",
    "plt.show()"
   ]
  },
  {
   "cell_type": "code",
   "execution_count": 30,
   "metadata": {},
   "outputs": [
    {
     "data": {
      "text/html": [
       "<div>\n",
       "<style scoped>\n",
       "    .dataframe tbody tr th:only-of-type {\n",
       "        vertical-align: middle;\n",
       "    }\n",
       "\n",
       "    .dataframe tbody tr th {\n",
       "        vertical-align: top;\n",
       "    }\n",
       "\n",
       "    .dataframe thead th {\n",
       "        text-align: right;\n",
       "    }\n",
       "</style>\n",
       "<table border=\"1\" class=\"dataframe\">\n",
       "  <thead>\n",
       "    <tr style=\"text-align: right;\">\n",
       "      <th></th>\n",
       "      <th>pitch_type</th>\n",
       "      <th>count</th>\n",
       "    </tr>\n",
       "  </thead>\n",
       "  <tbody>\n",
       "    <tr>\n",
       "      <th>0</th>\n",
       "      <td>FT</td>\n",
       "      <td>3140</td>\n",
       "    </tr>\n",
       "    <tr>\n",
       "      <th>1</th>\n",
       "      <td>SL</td>\n",
       "      <td>2557</td>\n",
       "    </tr>\n",
       "    <tr>\n",
       "      <th>2</th>\n",
       "      <td>FF</td>\n",
       "      <td>1682</td>\n",
       "    </tr>\n",
       "    <tr>\n",
       "      <th>3</th>\n",
       "      <td>CH</td>\n",
       "      <td>1980</td>\n",
       "    </tr>\n",
       "  </tbody>\n",
       "</table>\n",
       "</div>"
      ],
      "text/plain": [
       "  pitch_type  count\n",
       "0         FT   3140\n",
       "1         SL   2557\n",
       "2         FF   1682\n",
       "3         CH   1980"
      ]
     },
     "execution_count": 30,
     "metadata": {},
     "output_type": "execute_result"
    }
   ],
   "source": [
    "chris_sale"
   ]
  },
  {
   "cell_type": "markdown",
   "metadata": {},
   "source": [
    "#### Create a pie plot of distribution of pitch_type of Clayton Kershaw"
   ]
  },
  {
   "cell_type": "code",
   "execution_count": 31,
   "metadata": {},
   "outputs": [
    {
     "data": {
      "image/png": "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\n",
      "text/plain": [
       "<Figure size 2160x936 with 1 Axes>"
      ]
     },
     "metadata": {},
     "output_type": "display_data"
    }
   ],
   "source": [
    "clay_kersh = df.filter(df.pitcher_id == 477132).groupby('pitch_type').count().toPandas()\n",
    "fig3, ax3 = plt.subplots(figsize=(30,13))\n",
    "plt.rcParams.update({'font.size': 18})\n",
    "plt.rcParams.update({'axes.titlepad': 45})\n",
    "plt.title('Clayton Kershaw',)\n",
    "ax3.pie(clay_kersh['count'],labels = clay_kersh['pitch_type'], autopct='%1.0f%%', pctdistance=1.1, \n",
    "        labeldistance = 1.2, shadow = False, startangle = 90 )\n",
    "#plt.legend()\n",
    "plt.legend(labels = ['Two-seam Fastball', 'Slider', 'Four-seam Fastball',\n",
    "                     'Changeup', 'Curveball'])\n",
    "ax3.axis('equal')\n",
    "plt.savefig('Kersh.png')\n",
    "plt.show()"
   ]
  },
  {
   "cell_type": "code",
   "execution_count": 80,
   "metadata": {},
   "outputs": [
    {
     "data": {
      "text/html": [
       "<div>\n",
       "<style scoped>\n",
       "    .dataframe tbody tr th:only-of-type {\n",
       "        vertical-align: middle;\n",
       "    }\n",
       "\n",
       "    .dataframe tbody tr th {\n",
       "        vertical-align: top;\n",
       "    }\n",
       "\n",
       "    .dataframe thead th {\n",
       "        text-align: right;\n",
       "    }\n",
       "</style>\n",
       "<table border=\"1\" class=\"dataframe\">\n",
       "  <thead>\n",
       "    <tr style=\"text-align: right;\">\n",
       "      <th></th>\n",
       "      <th>pitch_type</th>\n",
       "      <th>count</th>\n",
       "    </tr>\n",
       "  </thead>\n",
       "  <tbody>\n",
       "    <tr>\n",
       "      <th>0</th>\n",
       "      <td>FT</td>\n",
       "      <td>107</td>\n",
       "    </tr>\n",
       "    <tr>\n",
       "      <th>1</th>\n",
       "      <td>SL</td>\n",
       "      <td>2465</td>\n",
       "    </tr>\n",
       "    <tr>\n",
       "      <th>2</th>\n",
       "      <td>FF</td>\n",
       "      <td>3631</td>\n",
       "    </tr>\n",
       "    <tr>\n",
       "      <th>3</th>\n",
       "      <td>CH</td>\n",
       "      <td>39</td>\n",
       "    </tr>\n",
       "    <tr>\n",
       "      <th>4</th>\n",
       "      <td>CU</td>\n",
       "      <td>1248</td>\n",
       "    </tr>\n",
       "  </tbody>\n",
       "</table>\n",
       "</div>"
      ],
      "text/plain": [
       "  pitch_type  count\n",
       "0         FT    107\n",
       "1         SL   2465\n",
       "2         FF   3631\n",
       "3         CH     39\n",
       "4         CU   1248"
      ]
     },
     "execution_count": 80,
     "metadata": {},
     "output_type": "execute_result"
    }
   ],
   "source": [
    "clay_kersh"
   ]
  },
  {
   "cell_type": "code",
   "execution_count": 35,
   "metadata": {},
   "outputs": [
    {
     "data": {
      "image/png": "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\n",
      "text/plain": [
       "<Figure size 2160x936 with 1 Axes>"
      ]
     },
     "metadata": {},
     "output_type": "display_data"
    }
   ],
   "source": [
    "wright = df.filter(df.pitcher_id == 453214).groupby('pitch_type').count().toPandas()\n",
    "fig2, ax2 = plt.subplots(figsize=(30,13))\n",
    "plt.rcParams.update({'font.size': 18})\n",
    "plt.title('Steven Wright')\n",
    "ax2.pie(chris_sale['count'],labels = wright['pitch_type'], autopct='%1.0f%%', pctdistance=1.1, \n",
    "        labeldistance = 1.2, shadow = False, startangle = 90 )\n",
    "#plt.legend()\n",
    "plt.legend(labels = ['Two-seam Fastball', 'Four-seam Fastball', 'Curveball',\n",
    "                     'Knuckleball'])\n",
    "ax2.axis('equal')\n",
    "#plt.savefig('Sale.png')\n",
    "plt.show()"
   ]
  },
  {
   "cell_type": "markdown",
   "metadata": {},
   "source": [
    "#### Create new column of vectors of features"
   ]
  },
  {
   "cell_type": "code",
   "execution_count": 27,
   "metadata": {},
   "outputs": [],
   "source": [
    "pred = ['outs', 'pfx_x', 'pfx_z', 'pitch_num', 'px', 'pz', 'start_speed',\n",
    "        'sz_bot', 'sz_top', 'x0', 'y0','z0', 'inning', 'p_throws', 'stand']"
   ]
  },
  {
   "cell_type": "code",
   "execution_count": 28,
   "metadata": {},
   "outputs": [
    {
     "data": {
      "text/plain": [
       "StructType(List(StructField(ab_id,DoubleType,true),StructField(b_score,DoubleType,true),StructField(outs,DoubleType,true),StructField(pfx_x,DoubleType,true),StructField(pfx_z,DoubleType,true),StructField(pitch_num,DoubleType,true),StructField(pitch_type,StringType,true),StructField(px,DoubleType,true),StructField(pz,DoubleType,true),StructField(start_speed,DoubleType,true),StructField(sz_bot,DoubleType,true),StructField(sz_top,DoubleType,true),StructField(type,StringType,true),StructField(type_confidence,DoubleType,true),StructField(x0,DoubleType,true),StructField(y0,DoubleType,true),StructField(z0,DoubleType,true),StructField(next_pitch,StringType,true),StructField(batter_id,IntegerType,true),StructField(inning,IntegerType,true),StructField(p_score,IntegerType,true),StructField(p_throws,IntegerType,true),StructField(pitcher_id,IntegerType,true),StructField(stand,IntegerType,true),StructField(top,IntegerType,true),StructField(score_difference,DoubleType,true),StructField(latent_pitch_type,DoubleType,false),StructField(latent_next_pitch,DoubleType,false),StructField(count_status,IntegerType,true),StructField(base_status,IntegerType,true),StructField(binned_score_difference,IntegerType,true)))"
      ]
     },
     "execution_count": 28,
     "metadata": {},
     "output_type": "execute_result"
    }
   ],
   "source": [
    "df.schema"
   ]
  },
  {
   "cell_type": "code",
   "execution_count": 102,
   "metadata": {},
   "outputs": [],
   "source": [
    "from pyspark.ml.feature import VectorAssembler\n",
    "from pyspark.ml.feature import PCA\n",
    "from pyspark.mllib.linalg import Vectors\n",
    "from pyspark.mllib.linalg.distributed import RowMatrix\n",
    "\n",
    "assembler = VectorAssembler(\n",
    "                            inputCols=[c for c in df.columns if c in pred],\n",
    "                            outputCol='features').setHandleInvalid('skip')\n",
    "output = assembler.transform(df)"
   ]
  },
  {
   "cell_type": "markdown",
   "metadata": {},
   "source": [
    "#### Create PCA model (Austin)"
   ]
  },
  {
   "cell_type": "code",
   "execution_count": 103,
   "metadata": {},
   "outputs": [],
   "source": [
    "pca = PCA(k=3, inputCol=\"features\", outputCol=\"pcaFeatures\")\n",
    "model = pca.fit(output)"
   ]
  },
  {
   "cell_type": "code",
   "execution_count": 104,
   "metadata": {},
   "outputs": [
    {
     "name": "stdout",
     "output_type": "stream",
     "text": [
      "+-----------------------------------------------------------+\n",
      "|pcaFeatures                                                |\n",
      "+-----------------------------------------------------------+\n",
      "|[430935.0008502842,-89.63929677980924,-2.23356419822172]   |\n",
      "|[430935.0008461615,-89.20332532655847,0.013352396004043459]|\n",
      "|[451584.0008194472,-87.43163723404292,-2.1779189542943613] |\n",
      "|[451584.0007303014,-77.80740688188048,0.32956682281409466] |\n",
      "|[451584.0007453918,-79.44302589889838,1.6040357252062118]  |\n",
      "|[451584.00084630155,-90.36966949172452,6.270940221012441]  |\n",
      "|[451584.0008218482,-87.7364977387313,8.580225591618682]    |\n",
      "|[448306.00083624385,-88.56039462240008,-2.2033587008895026]|\n",
      "|[448306.00071491866,-75.41504406152465,-0.5100767995733384]|\n",
      "|[448306.00073480775,-77.57576045452556,1.6631275784793649] |\n",
      "|[448306.000842968,-89.27567629867222,5.394335270595565]    |\n",
      "|[448306.0008443608,-89.43888420807166,7.624597774598162]   |\n",
      "|[542914.000738228,-76.81308837600801,-1.9193162093432252]  |\n",
      "|[542914.0008324013,-87.03761145985656,-0.8882796987183833] |\n",
      "|[542914.0008325988,-87.02691608647429,2.260651038387249]   |\n",
      "|[542914.0008348981,-87.29000154732717,4.4880120982882525]  |\n",
      "|[542914.0008226706,-85.9808694041212,7.67370025830272]     |\n",
      "|[501992.0007280015,-75.99924776490539,-1.8750477067020674] |\n",
      "|[501992.00078025594,-81.65546661010497,0.199283677237947]  |\n",
      "|[501992.0008517201,-89.38330291820526,1.3009679897038977]  |\n",
      "+-----------------------------------------------------------+\n",
      "only showing top 20 rows\n",
      "\n"
     ]
    }
   ],
   "source": [
    "result = model.transform(output).select(\"pcaFeatures\")\n",
    "result.show(truncate=False)"
   ]
  },
  {
   "cell_type": "markdown",
   "metadata": {},
   "source": [
    "#### Changes from Ryan's branch"
   ]
  },
  {
   "cell_type": "code",
   "execution_count": 29,
   "metadata": {},
   "outputs": [],
   "source": [
    "dfpca = df.drop('_c0', 'b_count', 'on_1b', 'on_2b', 'on_3b', 's_count',\n",
    "               'ab_id',\n",
    " 'b_score',\n",
    " 'pitch_type',\n",
    " 'type',\n",
    " 'next_pitch',\n",
    " 'batter_id',\n",
    " 'p_score',\n",
    " 'p_throws',\n",
    " 'score_difference',\n",
    " 'latent_pitch_type',\n",
    " 'latent_next_pitch')"
   ]
  },
  {
   "cell_type": "code",
   "execution_count": 30,
   "metadata": {},
   "outputs": [],
   "source": [
    "from pyspark.ml.feature import VectorAssembler\n",
    "from pyspark.ml.feature import PCA\n",
    "from pyspark.ml.feature import StandardScaler\n",
    "from pyspark.mllib.linalg import Vectors\n",
    "from pyspark.mllib.linalg.distributed import RowMatrix\n",
    "\n",
    "assembler = VectorAssembler(\n",
    "                            inputCols=[c for c in dfpca.columns if c in pred],\n",
    "                            outputCol='features').setHandleInvalid('skip')\n",
    "output = assembler.transform(dfpca)\n",
    "scaler = StandardScaler(inputCol=\"features\", outputCol=\"scaledFeatures\",\n",
    "                        withStd=True, withMean=True)\n",
    "scaleroutput = scaler.fit(output)\n",
    "scaledoutput = scaleroutput.transform(output)"
   ]
  },
  {
   "cell_type": "markdown",
   "metadata": {},
   "source": [
    "#### Create PCA model"
   ]
  },
  {
   "cell_type": "code",
   "execution_count": 31,
   "metadata": {},
   "outputs": [
    {
     "data": {
      "text/html": [
       "<div>\n",
       "<style scoped>\n",
       "    .dataframe tbody tr th:only-of-type {\n",
       "        vertical-align: middle;\n",
       "    }\n",
       "\n",
       "    .dataframe tbody tr th {\n",
       "        vertical-align: top;\n",
       "    }\n",
       "\n",
       "    .dataframe thead th {\n",
       "        text-align: right;\n",
       "    }\n",
       "</style>\n",
       "<table border=\"1\" class=\"dataframe\">\n",
       "  <thead>\n",
       "    <tr style=\"text-align: right;\">\n",
       "      <th></th>\n",
       "      <th>Feature</th>\n",
       "    </tr>\n",
       "  </thead>\n",
       "  <tbody>\n",
       "    <tr>\n",
       "      <th>0</th>\n",
       "      <td>outs</td>\n",
       "    </tr>\n",
       "    <tr>\n",
       "      <th>1</th>\n",
       "      <td>pfx_x</td>\n",
       "    </tr>\n",
       "    <tr>\n",
       "      <th>2</th>\n",
       "      <td>pfx_z</td>\n",
       "    </tr>\n",
       "    <tr>\n",
       "      <th>3</th>\n",
       "      <td>pitch_num</td>\n",
       "    </tr>\n",
       "    <tr>\n",
       "      <th>4</th>\n",
       "      <td>px</td>\n",
       "    </tr>\n",
       "    <tr>\n",
       "      <th>5</th>\n",
       "      <td>pz</td>\n",
       "    </tr>\n",
       "    <tr>\n",
       "      <th>6</th>\n",
       "      <td>start_speed</td>\n",
       "    </tr>\n",
       "    <tr>\n",
       "      <th>7</th>\n",
       "      <td>sz_bot</td>\n",
       "    </tr>\n",
       "    <tr>\n",
       "      <th>8</th>\n",
       "      <td>sz_top</td>\n",
       "    </tr>\n",
       "    <tr>\n",
       "      <th>9</th>\n",
       "      <td>x0</td>\n",
       "    </tr>\n",
       "    <tr>\n",
       "      <th>10</th>\n",
       "      <td>y0</td>\n",
       "    </tr>\n",
       "    <tr>\n",
       "      <th>11</th>\n",
       "      <td>z0</td>\n",
       "    </tr>\n",
       "    <tr>\n",
       "      <th>12</th>\n",
       "      <td>inning</td>\n",
       "    </tr>\n",
       "    <tr>\n",
       "      <th>13</th>\n",
       "      <td>p_throws</td>\n",
       "    </tr>\n",
       "    <tr>\n",
       "      <th>14</th>\n",
       "      <td>stand</td>\n",
       "    </tr>\n",
       "  </tbody>\n",
       "</table>\n",
       "</div>"
      ],
      "text/plain": [
       "        Feature\n",
       "0          outs\n",
       "1         pfx_x\n",
       "2         pfx_z\n",
       "3     pitch_num\n",
       "4            px\n",
       "5            pz\n",
       "6   start_speed\n",
       "7        sz_bot\n",
       "8        sz_top\n",
       "9            x0\n",
       "10           y0\n",
       "11           z0\n",
       "12       inning\n",
       "13     p_throws\n",
       "14        stand"
      ]
     },
     "execution_count": 31,
     "metadata": {},
     "output_type": "execute_result"
    }
   ],
   "source": [
    "from  pyspark.sql.functions import abs\n",
    "pca = PCA(k=2, inputCol=\"scaledFeatures\", outputCol=\"pcaFeatures\")\n",
    "model = pca.fit(scaledoutput)\n",
    "matrix=model.pc\n",
    "rows = matrix.toArray().tolist()\n",
    "pcadf = spark.createDataFrame(rows,['PCA1','PCA2'])\n",
    "pcadf = pcadf.withColumn('AbsVal', abs(pcadf.PCA1-pcadf.PCA2))\n",
    "pcdaf=pcadf.toPandas()\n",
    "value=spark.createDataFrame(pred, StringType())\n",
    "value = value.withColumnRenamed('value', 'Feature')\n",
    "value=value.toPandas()\n",
    "value"
   ]
  },
  {
   "cell_type": "code",
   "execution_count": 32,
   "metadata": {},
   "outputs": [
    {
     "data": {
      "text/html": [
       "<div>\n",
       "<style scoped>\n",
       "    .dataframe tbody tr th:only-of-type {\n",
       "        vertical-align: middle;\n",
       "    }\n",
       "\n",
       "    .dataframe tbody tr th {\n",
       "        vertical-align: top;\n",
       "    }\n",
       "\n",
       "    .dataframe thead th {\n",
       "        text-align: right;\n",
       "    }\n",
       "</style>\n",
       "<table border=\"1\" class=\"dataframe\">\n",
       "  <thead>\n",
       "    <tr style=\"text-align: right;\">\n",
       "      <th></th>\n",
       "      <th>PCA1</th>\n",
       "      <th>PCA2</th>\n",
       "      <th>AbsVal</th>\n",
       "    </tr>\n",
       "  </thead>\n",
       "  <tbody>\n",
       "    <tr>\n",
       "      <th>0</th>\n",
       "      <td>-0.029219</td>\n",
       "      <td>0.028120</td>\n",
       "      <td>0.057339</td>\n",
       "    </tr>\n",
       "    <tr>\n",
       "      <th>1</th>\n",
       "      <td>-0.435796</td>\n",
       "      <td>0.083508</td>\n",
       "      <td>0.519304</td>\n",
       "    </tr>\n",
       "    <tr>\n",
       "      <th>2</th>\n",
       "      <td>0.524292</td>\n",
       "      <td>0.105690</td>\n",
       "      <td>0.418601</td>\n",
       "    </tr>\n",
       "    <tr>\n",
       "      <th>3</th>\n",
       "      <td>0.009540</td>\n",
       "      <td>-0.086402</td>\n",
       "      <td>0.095942</td>\n",
       "    </tr>\n",
       "    <tr>\n",
       "      <th>4</th>\n",
       "      <td>-0.170597</td>\n",
       "      <td>0.081480</td>\n",
       "      <td>0.252078</td>\n",
       "    </tr>\n",
       "    <tr>\n",
       "      <th>5</th>\n",
       "      <td>0.291244</td>\n",
       "      <td>0.052282</td>\n",
       "      <td>0.238962</td>\n",
       "    </tr>\n",
       "    <tr>\n",
       "      <th>6</th>\n",
       "      <td>0.567110</td>\n",
       "      <td>0.076529</td>\n",
       "      <td>0.490581</td>\n",
       "    </tr>\n",
       "    <tr>\n",
       "      <th>7</th>\n",
       "      <td>0.005565</td>\n",
       "      <td>0.664810</td>\n",
       "      <td>0.659245</td>\n",
       "    </tr>\n",
       "    <tr>\n",
       "      <th>8</th>\n",
       "      <td>-0.005419</td>\n",
       "      <td>0.682177</td>\n",
       "      <td>0.687596</td>\n",
       "    </tr>\n",
       "    <tr>\n",
       "      <th>9</th>\n",
       "      <td>-0.264432</td>\n",
       "      <td>0.108544</td>\n",
       "      <td>0.372976</td>\n",
       "    </tr>\n",
       "    <tr>\n",
       "      <th>10</th>\n",
       "      <td>-0.002936</td>\n",
       "      <td>0.008856</td>\n",
       "      <td>0.011792</td>\n",
       "    </tr>\n",
       "    <tr>\n",
       "      <th>11</th>\n",
       "      <td>-0.053794</td>\n",
       "      <td>0.077211</td>\n",
       "      <td>0.131005</td>\n",
       "    </tr>\n",
       "    <tr>\n",
       "      <th>12</th>\n",
       "      <td>0.033680</td>\n",
       "      <td>-0.050033</td>\n",
       "      <td>0.083713</td>\n",
       "    </tr>\n",
       "    <tr>\n",
       "      <th>13</th>\n",
       "      <td>-0.157142</td>\n",
       "      <td>0.175237</td>\n",
       "      <td>0.332379</td>\n",
       "    </tr>\n",
       "  </tbody>\n",
       "</table>\n",
       "</div>"
      ],
      "text/plain": [
       "        PCA1      PCA2    AbsVal\n",
       "0  -0.029219  0.028120  0.057339\n",
       "1  -0.435796  0.083508  0.519304\n",
       "2   0.524292  0.105690  0.418601\n",
       "3   0.009540 -0.086402  0.095942\n",
       "4  -0.170597  0.081480  0.252078\n",
       "5   0.291244  0.052282  0.238962\n",
       "6   0.567110  0.076529  0.490581\n",
       "7   0.005565  0.664810  0.659245\n",
       "8  -0.005419  0.682177  0.687596\n",
       "9  -0.264432  0.108544  0.372976\n",
       "10 -0.002936  0.008856  0.011792\n",
       "11 -0.053794  0.077211  0.131005\n",
       "12  0.033680 -0.050033  0.083713\n",
       "13 -0.157142  0.175237  0.332379"
      ]
     },
     "execution_count": 32,
     "metadata": {},
     "output_type": "execute_result"
    }
   ],
   "source": [
    "pcdaf"
   ]
  },
  {
   "cell_type": "code",
   "execution_count": 33,
   "metadata": {},
   "outputs": [],
   "source": [
    "pcamax = PCA(k=10, inputCol=\"scaledFeatures\", outputCol=\"pcaFeatures\")\n",
    "modelmax = pcamax.fit(scaledoutput)"
   ]
  },
  {
   "cell_type": "code",
   "execution_count": 34,
   "metadata": {},
   "outputs": [
    {
     "data": {
      "text/html": [
       "<div>\n",
       "<style scoped>\n",
       "    .dataframe tbody tr th:only-of-type {\n",
       "        vertical-align: middle;\n",
       "    }\n",
       "\n",
       "    .dataframe tbody tr th {\n",
       "        vertical-align: top;\n",
       "    }\n",
       "\n",
       "    .dataframe thead th {\n",
       "        text-align: right;\n",
       "    }\n",
       "</style>\n",
       "<table border=\"1\" class=\"dataframe\">\n",
       "  <thead>\n",
       "    <tr style=\"text-align: right;\">\n",
       "      <th></th>\n",
       "      <th>value</th>\n",
       "    </tr>\n",
       "  </thead>\n",
       "  <tbody>\n",
       "    <tr>\n",
       "      <th>0</th>\n",
       "      <td>0.147972</td>\n",
       "    </tr>\n",
       "    <tr>\n",
       "      <th>1</th>\n",
       "      <td>0.127378</td>\n",
       "    </tr>\n",
       "    <tr>\n",
       "      <th>2</th>\n",
       "      <td>0.108613</td>\n",
       "    </tr>\n",
       "    <tr>\n",
       "      <th>3</th>\n",
       "      <td>0.091420</td>\n",
       "    </tr>\n",
       "    <tr>\n",
       "      <th>4</th>\n",
       "      <td>0.073998</td>\n",
       "    </tr>\n",
       "    <tr>\n",
       "      <th>5</th>\n",
       "      <td>0.071675</td>\n",
       "    </tr>\n",
       "    <tr>\n",
       "      <th>6</th>\n",
       "      <td>0.071287</td>\n",
       "    </tr>\n",
       "    <tr>\n",
       "      <th>7</th>\n",
       "      <td>0.070617</td>\n",
       "    </tr>\n",
       "    <tr>\n",
       "      <th>8</th>\n",
       "      <td>0.066015</td>\n",
       "    </tr>\n",
       "    <tr>\n",
       "      <th>9</th>\n",
       "      <td>0.054926</td>\n",
       "    </tr>\n",
       "  </tbody>\n",
       "</table>\n",
       "</div>"
      ],
      "text/plain": [
       "      value\n",
       "0  0.147972\n",
       "1  0.127378\n",
       "2  0.108613\n",
       "3  0.091420\n",
       "4  0.073998\n",
       "5  0.071675\n",
       "6  0.071287\n",
       "7  0.070617\n",
       "8  0.066015\n",
       "9  0.054926"
      ]
     },
     "execution_count": 34,
     "metadata": {},
     "output_type": "execute_result"
    }
   ],
   "source": [
    "Explained_Var = modelmax.explainedVariance\n",
    "a = Explained_Var.values.tolist()\n",
    "valuetwo=spark.createDataFrame(a, DoubleType())\n",
    "valuetwo=valuetwo.toPandas()\n",
    "valuetwo"
   ]
  },
  {
   "cell_type": "code",
   "execution_count": 41,
   "metadata": {},
   "outputs": [
    {
     "data": {
      "image/png": "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\n",
      "text/plain": [
       "<Figure size 432x288 with 1 Axes>"
      ]
     },
     "metadata": {
      "needs_background": "light"
     },
     "output_type": "display_data"
    }
   ],
   "source": [
    "plt.plot([1,2,3,4,5,6,7,8,9,10], valuetwo, marker = 'o')\n",
    "plt.title('% of variance explained per PC')\n",
    "\n",
    "plt.show()"
   ]
  },
  {
   "cell_type": "code",
<<<<<<< HEAD
   "execution_count": 20,
=======
   "execution_count": 28,
>>>>>>> 5c7a551ea214ff3b1a0ec1d522a4542160e8bb18
   "metadata": {},
   "outputs": [],
   "source": [
    "df = df.drop('ab_id', 'b_score', 'pitch_type', 'type', 'type_confidence', 'next_pitch', 'p_score')"
   ]
  },
  {
   "cell_type": "code",
<<<<<<< HEAD
   "execution_count": 20,
=======
   "execution_count": 29,
>>>>>>> 5c7a551ea214ff3b1a0ec1d522a4542160e8bb18
   "metadata": {},
   "outputs": [
    {
     "data": {
      "text/plain": [
       "['outs',\n",
       " 'pfx_x',\n",
       " 'pfx_z',\n",
<<<<<<< HEAD
=======
       " 'pitch_num',\n",
>>>>>>> 5c7a551ea214ff3b1a0ec1d522a4542160e8bb18
       " 'px',\n",
       " 'pz',\n",
       " 'start_speed',\n",
       " 'sz_bot',\n",
       " 'sz_top',\n",
       " 'x0',\n",
       " 'y0',\n",
       " 'z0',\n",
       " 'batter_id',\n",
       " 'inning',\n",
       " 'p_throws',\n",
       " 'pitcher_id',\n",
       " 'stand',\n",
       " 'top',\n",
       " 'score_difference',\n",
       " 'latent_pitch_type',\n",
       " 'latent_next_pitch',\n",
       " 'count_status',\n",
       " 'base_status',\n",
<<<<<<< HEAD
       " 'binned_score_difference',\n",
       " 'pitch_num']"
      ]
     },
     "execution_count": 20,
=======
       " 'binned_score_difference']"
      ]
     },
     "execution_count": 29,
>>>>>>> 5c7a551ea214ff3b1a0ec1d522a4542160e8bb18
     "metadata": {},
     "output_type": "execute_result"
    }
   ],
   "source": [
    "df.columns"
   ]
  },
  {
   "cell_type": "code",
<<<<<<< HEAD
   "execution_count": 21,
   "metadata": {},
   "outputs": [],
=======
   "execution_count": 30,
   "metadata": {},
   "outputs": [
    {
     "name": "stderr",
     "output_type": "stream",
     "text": [
      "----------------------------------------\n",
      "Exception happened during processing of request from ('127.0.0.1', 43440)\n",
      "ERROR:root:Exception while sending command.\n",
      "Traceback (most recent call last):\n",
      "  File \"/usr/local/spark/python/lib/py4j-0.10.7-src.zip/py4j/java_gateway.py\", line 1159, in send_command\n",
      "    raise Py4JNetworkError(\"Answer from Java side is empty\")\n",
      "py4j.protocol.Py4JNetworkError: Answer from Java side is empty\n",
      "\n",
      "During handling of the above exception, another exception occurred:\n",
      "\n",
      "Traceback (most recent call last):\n",
      "  File \"/usr/local/spark/python/lib/py4j-0.10.7-src.zip/py4j/java_gateway.py\", line 985, in send_command\n",
      "    response = connection.send_command(command)\n",
      "  File \"/usr/local/spark/python/lib/py4j-0.10.7-src.zip/py4j/java_gateway.py\", line 1164, in send_command\n",
      "    \"Error while receiving\", e, proto.ERROR_ON_RECEIVE)\n",
      "py4j.protocol.Py4JNetworkError: Error while receiving\n",
      "Traceback (most recent call last):\n",
      "  File \"/opt/conda/lib/python3.6/socketserver.py\", line 320, in _handle_request_noblock\n",
      "    self.process_request(request, client_address)\n",
      "  File \"/opt/conda/lib/python3.6/socketserver.py\", line 351, in process_request\n",
      "    self.finish_request(request, client_address)\n",
      "  File \"/opt/conda/lib/python3.6/socketserver.py\", line 364, in finish_request\n",
      "    self.RequestHandlerClass(request, client_address, self)\n",
      "  File \"/opt/conda/lib/python3.6/socketserver.py\", line 724, in __init__\n",
      "    self.handle()\n",
      "  File \"/usr/local/spark/python/pyspark/accumulators.py\", line 268, in handle\n",
      "    poll(accum_updates)\n",
      "  File \"/usr/local/spark/python/pyspark/accumulators.py\", line 241, in poll\n",
      "    if func():\n",
      "  File \"/usr/local/spark/python/pyspark/accumulators.py\", line 245, in accum_updates\n",
      "    num_updates = read_int(self.rfile)\n",
      "  File \"/usr/local/spark/python/pyspark/serializers.py\", line 714, in read_int\n",
      "    raise EOFError\n",
      "EOFError\n",
      "----------------------------------------\n"
     ]
    }
   ],
>>>>>>> 5c7a551ea214ff3b1a0ec1d522a4542160e8bb18
   "source": [
    "df.toPandas().to_csv('pitches_preprocessed.csv')"
   ]
  },
  {
   "cell_type": "code",
   "execution_count": null,
   "metadata": {},
   "outputs": [],
   "source": []
  },
  {
   "cell_type": "code",
   "execution_count": null,
   "metadata": {},
   "outputs": [],
   "source": []
  },
  {
   "cell_type": "code",
   "execution_count": null,
   "metadata": {},
   "outputs": [],
   "source": []
  }
 ],
 "metadata": {
  "kernelspec": {
   "display_name": "Python 3",
   "language": "python",
   "name": "python3"
  },
  "language_info": {
   "codemirror_mode": {
    "name": "ipython",
    "version": 3
   },
   "file_extension": ".py",
   "mimetype": "text/x-python",
   "name": "python",
   "nbconvert_exporter": "python",
   "pygments_lexer": "ipython3",
   "version": "3.6.8"
  }
 },
 "nbformat": 4,
 "nbformat_minor": 2
}

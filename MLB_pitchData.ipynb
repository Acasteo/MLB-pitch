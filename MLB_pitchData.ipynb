{
 "cells": [
  {
   "cell_type": "markdown",
   "metadata": {},
   "source": [
    "#### Initialize Spark session"
   ]
  },
  {
   "cell_type": "code",
   "execution_count": 1,
   "metadata": {},
   "outputs": [],
   "source": [
    "from pyspark.sql import SparkSession\n",
    "\n",
    "spark = SparkSession \\\n",
    "    .builder \\\n",
    "    .master(\"local[*]\") \\\n",
    "    .appName(\"xor\") \\\n",
    "    .config(\"spark.executor.memory\", '2g') \\\n",
    "    .config('spark.executor.cores', '1') \\\n",
    "    .config('spark.cores.max', '1') \\\n",
    "    .config(\"spark.driver.memory\",'1g') \\\n",
    "    .getOrCreate()\n",
    "\n",
    "sc = spark.sparkContext\n"
   ]
  },
  {
   "cell_type": "markdown",
   "metadata": {},
   "source": [
    "#### Read in data and merge dataset on ab_id"
   ]
  },
  {
   "cell_type": "code",
   "execution_count": 2,
   "metadata": {},
   "outputs": [],
   "source": [
    "pitches = spark.read.option(\"inferSchema\", \"true\").csv('Data/pitches_update.csv', header = True)\n",
    "atbats = spark.read.option(\"inferSchema\", \"true\").csv('Data/atbats.csv', header = True).select(\"ab_id\", \"batter_id\", \n",
    "                                                                                               \"inning\", \"p_score\", \n",
    "                                                                                               \"p_throws\", \"pitcher_id\",\n",
    "                                                                                               \"stand\", \"top\")\n",
    "\n",
    "df = pitches.join(atbats, \"ab_id\")"
   ]
  },
  {
   "cell_type": "markdown",
   "metadata": {},
   "source": [
    "#### Drop unnecessary variables"
   ]
  },
  {
   "cell_type": "code",
   "execution_count": 3,
   "metadata": {},
   "outputs": [],
   "source": [
    "df = df.drop(\"ax\", \"ay\", \"az\", \"break_angle\", \"break_length\", \"break_y\", \"code\", \"event\", \"g_id\",\n",
    "            \n",
    "            'nasty', \"spin_dir\", \"end_speed\",\n",
    "             \n",
    "            \"vx0\", \"vy0\", \"vz0\", \"x\", \"y\", \"z\", \"zone\", \"spin_rate\")"
   ]
  },
  {
   "cell_type": "code",
   "execution_count": 4,
   "metadata": {},
   "outputs": [
    {
     "data": {
      "text/plain": [
       "['ab_id',\n",
       " '_c0',\n",
       " 'b_count',\n",
       " 'b_score',\n",
       " 'on_1b',\n",
       " 'on_2b',\n",
       " 'on_3b',\n",
       " 'outs',\n",
       " 'pfx_x',\n",
       " 'pfx_z',\n",
       " 'pitch_num',\n",
       " 'pitch_type',\n",
       " 'px',\n",
       " 'pz',\n",
       " 's_count',\n",
       " 'start_speed',\n",
       " 'sz_bot',\n",
       " 'sz_top',\n",
       " 'type',\n",
       " 'type_confidence',\n",
       " 'x0',\n",
       " 'y0',\n",
       " 'z0',\n",
       " 'next_pitch',\n",
       " 'batter_id',\n",
       " 'inning',\n",
       " 'p_score',\n",
       " 'p_throws',\n",
       " 'pitcher_id',\n",
       " 'stand',\n",
       " 'top']"
      ]
     },
     "execution_count": 4,
     "metadata": {},
     "output_type": "execute_result"
    }
   ],
   "source": [
    "df.columns"
   ]
  },
  {
   "cell_type": "code",
   "execution_count": 5,
   "metadata": {},
   "outputs": [
    {
     "name": "stdout",
     "output_type": "stream",
     "text": [
      "+----------+----------+\n",
      "|pitch_type|next_pitch|\n",
      "+----------+----------+\n",
      "|        FF|        FF|\n",
      "|        FF|        FF|\n",
      "|        FF|        FF|\n",
      "|        FF|        CU|\n",
      "|        CU|        FF|\n",
      "|        FF|        FC|\n",
      "|        FF|        FF|\n",
      "|        FF|        FF|\n",
      "|        SI|        FF|\n",
      "|        FF|        CU|\n",
      "|        FF|        FF|\n",
      "|        FF|        FF|\n",
      "|        FF|        FF|\n",
      "|        FF|        FC|\n",
      "|        SI|        FC|\n",
      "|        FF|        CU|\n",
      "|        CU|        FC|\n",
      "|        FC|        FC|\n",
      "|        CU|        FC|\n",
      "|        FC|        FF|\n",
      "+----------+----------+\n",
      "only showing top 20 rows\n",
      "\n"
     ]
    }
   ],
   "source": [
    "df.select('pitch_type', 'next_pitch').show()"
   ]
  },
  {
   "cell_type": "markdown",
   "metadata": {},
   "source": [
    "#### Create new variable score_difference"
   ]
  },
  {
   "cell_type": "code",
   "execution_count": 5,
   "metadata": {},
   "outputs": [],
   "source": [
    "df=df.withColumn(\"score_difference\", df.p_score-df.b_score)"
   ]
  },
  {
   "cell_type": "markdown",
   "metadata": {},
   "source": [
    "#### Remove low frequency observations (look at pitch_type to decide which ones to remove)"
   ]
  },
  {
   "cell_type": "code",
   "execution_count": 6,
   "metadata": {},
   "outputs": [],
   "source": [
    "from pyspark.sql.types import StringType, IntegerType, DoubleType\n",
    "from pyspark.sql.functions import udf\n",
    "from pyspark.sql import functions as f\n",
    "from pyspark.sql.functions import col"
   ]
  },
  {
   "cell_type": "code",
   "execution_count": 7,
   "metadata": {},
   "outputs": [],
   "source": [
    "df = df.filter(\n",
    "    (col('pitch_type') != 'UN') &\n",
    "    (col('pitch_type') != 'EP') &\n",
    "    (col('pitch_type') != 'AB') &\n",
    "    (col('pitch_type') != 'FA') &\n",
    "    (col('pitch_type') != 'IN') &\n",
    "    (col('pitch_type') != 'SC') &\n",
    "    (col('next_pitch') != 'UN') &\n",
    "    (col('next_pitch') != 'EP') &\n",
    "    (col('next_pitch') != 'AB') &\n",
    "    (col('next_pitch') != 'FA') &\n",
    "    (col('next_pitch') != 'IN') &\n",
    "    (col('next_pitch') != 'SC'))"
   ]
  },
  {
   "cell_type": "markdown",
   "metadata": {},
   "source": [
    "#### FO and PO are the same so consolidate"
   ]
  },
  {
   "cell_type": "code",
   "execution_count": 8,
   "metadata": {},
   "outputs": [],
   "source": [
    "df=df.na.replace(['FO'], ['PO'], 'pitch_type')\n",
    "df=df.na.replace(['FO'], ['PO'], 'next_pitch')\n",
    "df = df.filter(col('pitch_type') != 'PO')\n",
    "df = df.filter(col('next_pitch') != 'PO')"
   ]
  },
  {
   "cell_type": "markdown",
   "metadata": {},
   "source": [
    "#### Create new column that is a latent variable based on pitch_type"
   ]
  },
  {
   "cell_type": "code",
   "execution_count": 9,
   "metadata": {},
   "outputs": [
    {
     "data": {
      "text/plain": [
       "[Row(ab_id=2015000283.0, _c0=1110, b_count=0.0, b_score=1.0, on_1b=0.0, on_2b=0.0, on_3b=0.0, outs=1.0, pfx_x=6.08, pfx_z=9.83, pitch_num=1.0, pitch_type='FF', px=-0.532, pz=2.702, s_count=0.0, start_speed=93.7, sz_bot=1.86, sz_top=3.83, type='S', type_confidence=2.0, x0=2.161, y0=50.0, z0=6.151, next_pitch='FF', batter_id=120074, inning=1, p_score=0, p_throws='L', pitcher_id=430935, stand='L', top=True, score_difference=-1.0, latent_pitch_type=0.0),\n",
       " Row(ab_id=2015000283.0, _c0=1111, b_count=0.0, b_score=1.0, on_1b=0.0, on_2b=0.0, on_3b=0.0, outs=1.0, pfx_x=4.54, pfx_z=12.83, pitch_num=2.0, pitch_type='FF', px=-0.312, pz=2.224, s_count=1.0, start_speed=93.2, sz_bot=1.92, sz_top=3.75, type='S', type_confidence=2.0, x0=2.316, y0=50.0, z0=5.9239999999999995, next_pitch='FF', batter_id=120074, inning=1, p_score=0, p_throws='L', pitcher_id=430935, stand='L', top=True, score_difference=-1.0, latent_pitch_type=0.0)]"
      ]
     },
     "execution_count": 9,
     "metadata": {},
     "output_type": "execute_result"
    }
   ],
   "source": [
    "from pyspark.ml.feature import StringIndexer\n",
    "from pyspark.ml.tuning import CrossValidator\n",
    "\n",
    "indexer = StringIndexer(inputCol=\"pitch_type\", outputCol=\"latent_pitch_type\")\n",
    "df = indexer.fit(df).transform(df)\n",
    "df.head(2)"
   ]
  },
  {
   "cell_type": "code",
   "execution_count": 10,
   "metadata": {},
   "outputs": [],
   "source": [
    "indexer = StringIndexer(inputCol=\"next_pitch\", outputCol=\"latent_next_pitch\")\n",
    "df = indexer.fit(df).transform(df)"
   ]
  },
  {
   "cell_type": "code",
   "execution_count": 11,
   "metadata": {},
   "outputs": [
    {
     "name": "stdout",
     "output_type": "stream",
     "text": [
      "+-----------------+------+\n",
      "|latent_pitch_type| count|\n",
      "+-----------------+------+\n",
      "|              8.0| 30833|\n",
      "|              0.0|761418|\n",
      "|              7.0| 50115|\n",
      "|              1.0|329448|\n",
      "|              4.0|177908|\n",
      "|              3.0|211135|\n",
      "|              2.0|243857|\n",
      "|              6.0|109248|\n",
      "|              5.0|176588|\n",
      "|              9.0|  8100|\n",
      "+-----------------+------+\n",
      "\n",
      "+----------+------+\n",
      "|pitch_type| count|\n",
      "+----------+------+\n",
      "|        FT|243857|\n",
      "|        SL|329448|\n",
      "|        FC|109248|\n",
      "|        FF|761418|\n",
      "|        FS| 30833|\n",
      "|        KC| 50115|\n",
      "|        CH|211135|\n",
      "|        CU|177908|\n",
      "|        KN|  8100|\n",
      "|        SI|176588|\n",
      "+----------+------+\n",
      "\n"
     ]
    }
   ],
   "source": [
    "df.groupBy(\"latent_pitch_type\").count().show()\n",
    "df.groupBy(\"pitch_type\").count().show()"
   ]
  },
  {
   "cell_type": "code",
   "execution_count": 12,
   "metadata": {},
   "outputs": [
    {
     "name": "stdout",
     "output_type": "stream",
     "text": [
      "+-----------------+------+\n",
      "|latent_next_pitch| count|\n",
      "+-----------------+------+\n",
      "|              8.0| 36597|\n",
      "|              0.0|732538|\n",
      "|              7.0| 48439|\n",
      "|              1.0|346583|\n",
      "|              4.0|169810|\n",
      "|              3.0|238241|\n",
      "|              2.0|238362|\n",
      "|              6.0|113084|\n",
      "|              5.0|166967|\n",
      "|              9.0|  8029|\n",
      "+-----------------+------+\n",
      "\n",
      "+----------+------+\n",
      "|next_pitch| count|\n",
      "+----------+------+\n",
      "|        FT|238241|\n",
      "|        SL|346583|\n",
      "|        FC|113084|\n",
      "|        FF|732538|\n",
      "|        FS| 36597|\n",
      "|        KC| 48439|\n",
      "|        CH|238362|\n",
      "|        CU|166967|\n",
      "|        KN|  8029|\n",
      "|        SI|169810|\n",
      "+----------+------+\n",
      "\n"
     ]
    }
   ],
   "source": [
    "df.groupBy(\"latent_next_pitch\").count().show()\n",
    "df.groupBy(\"next_pitch\").count().show()"
   ]
  },
  {
   "cell_type": "markdown",
   "metadata": {},
   "source": [
    "#### Create new column that is latent variable based on balls and strikes"
   ]
  },
  {
   "cell_type": "code",
   "execution_count": 13,
   "metadata": {},
   "outputs": [],
   "source": [
    "def count_status(b_count, s_count):\n",
    "    if   b_count==0 and s_count==0: return 0\n",
    "    elif b_count==1 and s_count==0: return 1\n",
    "    elif b_count==0 and s_count==1: return 2\n",
    "    elif b_count==1 and s_count==1: return 3\n",
    "    elif b_count==2 and s_count==0: return 4\n",
    "    elif b_count==0 and s_count==2: return 5\n",
    "    elif b_count==3 and s_count==0: return 6\n",
    "    elif b_count==2 and s_count==1: return 7\n",
    "    elif b_count==1 and s_count==2: return 8\n",
    "    elif b_count==3 and s_count==1: return 9\n",
    "    elif b_count==2 and s_count==2: return 10\n",
    "    elif b_count==3 and s_count==2: return 11\n",
    "    \n",
    "udfcount_status = udf(count_status, IntegerType())\n",
    "df = df.withColumn(\"count_status\", udfcount_status(\"b_count\", \"s_count\"))\n",
    "\n",
    "df = df.na.drop(subset=[\"count_status\"]) #around 14 na's that we drop"
   ]
  },
  {
   "cell_type": "markdown",
   "metadata": {},
   "source": [
    "#### Create new column that is latent variable based on on_1b, on_2b, and on_3b"
   ]
  },
  {
   "cell_type": "code",
   "execution_count": 14,
   "metadata": {},
   "outputs": [],
   "source": [
    "def base_status(on_1b, on_2b, on_3b):\n",
    "    if   on_1b==0 and on_2b==0 and on_3b==0: return 0\n",
    "    elif on_1b==1 and on_2b==0 and on_3b==0: return 1\n",
    "    elif on_1b==0 and on_2b==1 and on_3b==0: return 2\n",
    "    elif on_1b==0 and on_2b==0 and on_3b==1: return 3\n",
    "    elif on_1b==1 and on_2b==1 and on_3b==0: return 4\n",
    "    elif on_1b==1 and on_2b==0 and on_3b==1: return 5\n",
    "    elif on_1b==0 and on_2b==1 and on_3b==1: return 6\n",
    "    elif on_1b==1 and on_2b==1 and on_3b==1: return 7\n",
    "    \n",
    "udfbase_status = udf(base_status, IntegerType())\n",
    "df = df.withColumn(\"base_status\", udfbase_status(\"on_1b\", \"on_2b\", \"on_3b\"))"
   ]
  },
  {
   "cell_type": "markdown",
   "metadata": {},
   "source": [
    "#### Create new column binning score_difference"
   ]
  },
  {
   "cell_type": "code",
   "execution_count": 15,
   "metadata": {},
   "outputs": [],
   "source": [
    "def bin_score(score_difference):\n",
    "    if score_difference<(-4): return (-5)\n",
    "    elif score_difference>(4): return (5)\n",
    "    elif score_difference==(-4): return (-4)\n",
    "    elif score_difference==(-3): return (-3) \n",
    "    elif score_difference==(-2): return (-2)\n",
    "    elif score_difference==(-1): return (-1) \n",
    "    elif score_difference==(0): return (0) \n",
    "    elif score_difference==(1): return (1)\n",
    "    elif score_difference==(2): return (2)\n",
    "    elif score_difference==(3): return (3)\n",
    "    elif score_difference==(4): return (4)\n",
    "udfbin_score = udf(bin_score, IntegerType())\n",
    "df = df.withColumn(\"binned_score_difference\", udfbin_score(\"score_difference\"))"
   ]
  },
  {
   "cell_type": "markdown",
   "metadata": {},
   "source": [
    "#### Create new column binning pitch_num"
   ]
  },
  {
   "cell_type": "code",
   "execution_count": 16,
   "metadata": {},
   "outputs": [],
   "source": [
    "def bin_pitch_num(pitch_num):\n",
    "    if pitch_num>(14.0): \n",
    "        return (14.0)\n",
    "    else: \n",
    "        return(pitch_num)\n",
    "udfpitch_num = udf(bin_pitch_num, DoubleType())\n",
    "df = df.withColumn(\"pitch_num\", udfpitch_num(\"pitch_num\"))"
   ]
  },
  {
   "cell_type": "code",
   "execution_count": 17,
   "metadata": {},
   "outputs": [
    {
     "name": "stdout",
     "output_type": "stream",
     "text": [
      "+---------+------+\n",
      "|pitch_num| count|\n",
      "+---------+------+\n",
      "|      8.0|  8764|\n",
      "|      7.0| 23380|\n",
      "|      1.0|650092|\n",
      "|      4.0|267053|\n",
      "|     11.0|   408|\n",
      "|     14.0|    32|\n",
      "|      3.0|404037|\n",
      "|      2.0|536649|\n",
      "|     10.0|  1123|\n",
      "|     13.0|    48|\n",
      "|      6.0| 59620|\n",
      "|      5.0|144098|\n",
      "|      9.0|  3191|\n",
      "|     12.0|   148|\n",
      "+---------+------+\n",
      "\n"
     ]
    }
   ],
   "source": [
    "df.groupby(\"pitch_num\").count().show()"
   ]
  },
  {
   "cell_type": "code",
   "execution_count": 18,
   "metadata": {},
   "outputs": [],
   "source": [
    "def binary_stand(stand):\n",
    "    if stand == 'R':\n",
    "        return 1\n",
    "    else:\n",
    "        return 0\n",
    "udfstand = udf(binary_stand, IntegerType())\n",
    "df = df.withColumn(\"stand\", udfstand(\"stand\"))"
   ]
  },
  {
   "cell_type": "code",
   "execution_count": 19,
   "metadata": {},
   "outputs": [
    {
     "name": "stdout",
     "output_type": "stream",
     "text": [
      "+-----+-------+\n",
      "|stand|  count|\n",
      "+-----+-------+\n",
      "|    1|1217521|\n",
      "|    0| 881122|\n",
      "+-----+-------+\n",
      "\n"
     ]
    }
   ],
   "source": [
    "df.groupby('stand').count().show()"
   ]
  },
  {
   "cell_type": "code",
   "execution_count": 20,
   "metadata": {},
   "outputs": [
    {
     "name": "stdout",
     "output_type": "stream",
     "text": [
      "+--------+-------+\n",
      "|p_throws|  count|\n",
      "+--------+-------+\n",
      "|       L| 562675|\n",
      "|       R|1535968|\n",
      "+--------+-------+\n",
      "\n"
     ]
    }
   ],
   "source": [
    "df.groupby('p_throws').count().show()"
   ]
  },
  {
   "cell_type": "code",
   "execution_count": 21,
   "metadata": {},
   "outputs": [],
   "source": [
    "def binary_p_throw(p_throw):\n",
    "    if p_throw == 'R':\n",
    "        return 1\n",
    "    else:\n",
    "        return 0\n",
    "udfp_throw = udf(binary_p_throw, IntegerType())\n",
    "df = df.withColumn(\"p_throws\", udfstand(\"p_throws\"))"
   ]
  },
  {
   "cell_type": "code",
   "execution_count": 22,
   "metadata": {},
   "outputs": [
    {
     "name": "stdout",
     "output_type": "stream",
     "text": [
      "+--------+-------+\n",
      "|p_throws|  count|\n",
      "+--------+-------+\n",
      "|       1|1535968|\n",
      "|       0| 562675|\n",
      "+--------+-------+\n",
      "\n"
     ]
    }
   ],
   "source": [
    "df.groupby('p_throws').count().show()"
   ]
  },
  {
   "cell_type": "code",
   "execution_count": 23,
   "metadata": {},
   "outputs": [],
   "source": [
    "def binary_top(top):\n",
    "    if top:\n",
    "        return 1\n",
    "    else:\n",
    "        return 0\n",
    "udfp_top = udf(binary_top, IntegerType())\n",
    "df = df.withColumn(\"top\", udfstand(\"top\"))"
   ]
  },
  {
   "cell_type": "code",
   "execution_count": 24,
   "metadata": {},
   "outputs": [
    {
     "data": {
      "text/plain": [
       "['ab_id',\n",
       " '_c0',\n",
       " 'b_count',\n",
       " 'b_score',\n",
       " 'on_1b',\n",
       " 'on_2b',\n",
       " 'on_3b',\n",
       " 'outs',\n",
       " 'pfx_x',\n",
       " 'pfx_z',\n",
       " 'pitch_num',\n",
       " 'pitch_type',\n",
       " 'px',\n",
       " 'pz',\n",
       " 's_count',\n",
       " 'start_speed',\n",
       " 'sz_bot',\n",
       " 'sz_top',\n",
       " 'type',\n",
       " 'type_confidence',\n",
       " 'x0',\n",
       " 'y0',\n",
       " 'z0',\n",
       " 'next_pitch',\n",
       " 'batter_id',\n",
       " 'inning',\n",
       " 'p_score',\n",
       " 'p_throws',\n",
       " 'pitcher_id',\n",
       " 'stand',\n",
       " 'top',\n",
       " 'score_difference',\n",
       " 'latent_pitch_type',\n",
       " 'latent_next_pitch',\n",
       " 'count_status',\n",
       " 'base_status',\n",
       " 'binned_score_difference']"
      ]
     },
     "execution_count": 24,
     "metadata": {},
     "output_type": "execute_result"
    }
   ],
   "source": [
    "df.columns"
   ]
  },
  {
   "cell_type": "code",
   "execution_count": 25,
   "metadata": {},
   "outputs": [],
   "source": [
    "df = df.drop('_c0', 'b_count', 'on_1b', 'on_2b', 'on_3b', 's_count')"
   ]
  },
  {
   "cell_type": "code",
   "execution_count": 26,
   "metadata": {},
   "outputs": [
    {
     "data": {
      "text/plain": [
       "['ab_id',\n",
       " 'b_score',\n",
       " 'outs',\n",
       " 'pfx_x',\n",
       " 'pfx_z',\n",
       " 'pitch_num',\n",
       " 'pitch_type',\n",
       " 'px',\n",
       " 'pz',\n",
       " 'start_speed',\n",
       " 'sz_bot',\n",
       " 'sz_top',\n",
       " 'type',\n",
       " 'type_confidence',\n",
       " 'x0',\n",
       " 'y0',\n",
       " 'z0',\n",
       " 'next_pitch',\n",
       " 'batter_id',\n",
       " 'inning',\n",
       " 'p_score',\n",
       " 'p_throws',\n",
       " 'pitcher_id',\n",
       " 'stand',\n",
       " 'top',\n",
       " 'score_difference',\n",
       " 'latent_pitch_type',\n",
       " 'latent_next_pitch',\n",
       " 'count_status',\n",
       " 'base_status',\n",
       " 'binned_score_difference']"
      ]
     },
     "execution_count": 26,
     "metadata": {},
     "output_type": "execute_result"
    }
   ],
   "source": [
    "df.columns"
   ]
  },
  {
   "cell_type": "markdown",
   "metadata": {},
   "source": [
    "#### Create a pie plot of distribution of pitch_type"
   ]
  },
  {
   "cell_type": "code",
   "execution_count": 35,
   "metadata": {},
   "outputs": [
    {
     "data": {
      "image/png": "[encoded data removed]",
      "text/plain": [
       "<Figure size 2160x936 with 1 Axes>"
      ]
     },
     "metadata": {},
     "output_type": "display_data"
    }
   ],
   "source": [
    "import matplotlib.pyplot as plt\n",
    "\n",
    "pitch_type = df.groupby('pitch_type').count().toPandas()\n",
    "fig1, ax1 = plt.subplots(figsize=(30,13))\n",
    "plt.rcParams.update({'font.size': 18})\n",
    "ax1.pie(pitch_type['count'],labels = pitch_type['pitch_type'], autopct='%1.0f%%', pctdistance=1.1, \n",
    "        labeldistance = 1.2, shadow = False, startangle = 90 )\n",
    "#plt.legend()\n",
    "plt.legend(labels = ['Two-seam Fastball', 'Slider', 'Cutter', 'Four-seam Fastball', 'Splitter', 'Knuckle Curve',\n",
    "                     'Changeup', 'Curveball', 'Knuckleball', 'Sinker'])\n",
    "ax1.axis('equal')\n",
    "#plt.savefig('init_pie.png')\n",
    "plt.show()"
   ]
  },
  {
   "cell_type": "markdown",
   "metadata": {},
   "source": [
    "#### Create a pie plot of distribution of pitch_type of Chris Sale"
   ]
  },
  {
   "cell_type": "code",
   "execution_count": 31,
   "metadata": {},
   "outputs": [
    {
     "data": {
      "image/png": "[encoded data removed]",
      "text/plain": [
       "<Figure size 2160x936 with 1 Axes>"
      ]
     },
     "metadata": {},
     "output_type": "display_data"
    }
   ],
   "source": [
    "chris_sale = df.filter(df.pitcher_id == 519242).groupby('pitch_type').count().toPandas()\n",
    "fig2, ax2 = plt.subplots(figsize=(30,13))\n",
    "plt.rcParams.update({'font.size': 18})\n",
    "plt.title('Chris Sale')\n",
    "ax2.pie(chris_sale['count'],labels = chris_sale['pitch_type'], autopct='%1.0f%%', pctdistance=1.1, \n",
    "        labeldistance = 1.2, shadow = False, startangle = 90 )\n",
    "#plt.legend()\n",
    "plt.legend(labels = ['Two-seam Fastball', 'Slider', 'Four-seam Fastball', 'Splitter',\n",
    "                     'Changeup'])\n",
    "ax2.axis('equal')\n",
    "#plt.savefig('init_pie.png')\n",
    "plt.show()"
   ]
  },
  {
   "cell_type": "code",
   "execution_count": 32,
   "metadata": {},
   "outputs": [
    {
     "data": {
      "text/html": [
       "<div>\n",
       "<style scoped>\n",
       "    .dataframe tbody tr th:only-of-type {\n",
       "        vertical-align: middle;\n",
       "    }\n",
       "\n",
       "    .dataframe tbody tr th {\n",
       "        vertical-align: top;\n",
       "    }\n",
       "\n",
       "    .dataframe thead th {\n",
       "        text-align: right;\n",
       "    }\n",
       "</style>\n",
       "<table border=\"1\" class=\"dataframe\">\n",
       "  <thead>\n",
       "    <tr style=\"text-align: right;\">\n",
       "      <th></th>\n",
       "      <th>pitch_type</th>\n",
       "      <th>count</th>\n",
       "    </tr>\n",
       "  </thead>\n",
       "  <tbody>\n",
       "    <tr>\n",
       "      <th>0</th>\n",
       "      <td>FT</td>\n",
       "      <td>3140</td>\n",
       "    </tr>\n",
       "    <tr>\n",
       "      <th>1</th>\n",
       "      <td>SL</td>\n",
       "      <td>2557</td>\n",
       "    </tr>\n",
       "    <tr>\n",
       "      <th>2</th>\n",
       "      <td>FF</td>\n",
       "      <td>1682</td>\n",
       "    </tr>\n",
       "    <tr>\n",
       "      <th>3</th>\n",
       "      <td>CH</td>\n",
       "      <td>1980</td>\n",
       "    </tr>\n",
       "  </tbody>\n",
       "</table>\n",
       "</div>"
      ],
      "text/plain": [
       "  pitch_type  count\n",
       "0         FT   3140\n",
       "1         SL   2557\n",
       "2         FF   1682\n",
       "3         CH   1980"
      ]
     },
     "execution_count": 32,
     "metadata": {},
     "output_type": "execute_result"
    }
   ],
   "source": [
    "chris_sale"
   ]
  },
  {
   "cell_type": "markdown",
   "metadata": {},
   "source": [
    "#### Create a pie plot of distribution of pitch_type of Clayton Kershaw"
   ]
  },
  {
   "cell_type": "code",
   "execution_count": 33,
   "metadata": {},
   "outputs": [
    {
     "data": {
      "image/png": "[encoded data removed]",
      "text/plain": [
       "<Figure size 2160x936 with 1 Axes>"
      ]
     },
     "metadata": {},
     "output_type": "display_data"
    }
   ],
   "source": [
    "clay_kersh = df.filter(df.pitcher_id == 477132).groupby('pitch_type').count().toPandas()\n",
    "fig3, ax3 = plt.subplots(figsize=(30,13))\n",
    "plt.rcParams.update({'font.size': 18})\n",
    "plt.rcParams.update({'axes.titlepad': 45})\n",
    "plt.title('Clayton Kershaw',)\n",
    "ax3.pie(clay_kersh['count'],labels = clay_kersh['pitch_type'], autopct='%1.0f%%', pctdistance=1.1, \n",
    "        labeldistance = 1.2, shadow = False, startangle = 90 )\n",
    "#plt.legend()\n",
    "plt.legend(labels = ['Two-seam Fastball', 'Slider', 'Four-seam Fastball',\n",
    "                     'Changeup', 'Curveball'])\n",
    "ax3.axis('equal')\n",
    "#plt.savefig('init_pie.png')\n",
    "plt.show()"
   ]
  },
  {
   "cell_type": "code",
   "execution_count": 34,
   "metadata": {},
   "outputs": [
    {
     "data": {
      "text/html": [
       "<div>\n",
       "<style scoped>\n",
       "    .dataframe tbody tr th:only-of-type {\n",
       "        vertical-align: middle;\n",
       "    }\n",
       "\n",
       "    .dataframe tbody tr th {\n",
       "        vertical-align: top;\n",
       "    }\n",
       "\n",
       "    .dataframe thead th {\n",
       "        text-align: right;\n",
       "    }\n",
       "</style>\n",
       "<table border=\"1\" class=\"dataframe\">\n",
       "  <thead>\n",
       "    <tr style=\"text-align: right;\">\n",
       "      <th></th>\n",
       "      <th>pitch_type</th>\n",
       "      <th>count</th>\n",
       "    </tr>\n",
       "  </thead>\n",
       "  <tbody>\n",
       "    <tr>\n",
       "      <th>0</th>\n",
       "      <td>FT</td>\n",
       "      <td>107</td>\n",
       "    </tr>\n",
       "    <tr>\n",
       "      <th>1</th>\n",
       "      <td>SL</td>\n",
       "      <td>2465</td>\n",
       "    </tr>\n",
       "    <tr>\n",
       "      <th>2</th>\n",
       "      <td>FF</td>\n",
       "      <td>3631</td>\n",
       "    </tr>\n",
       "    <tr>\n",
       "      <th>3</th>\n",
       "      <td>CH</td>\n",
       "      <td>39</td>\n",
       "    </tr>\n",
       "    <tr>\n",
       "      <th>4</th>\n",
       "      <td>CU</td>\n",
       "      <td>1248</td>\n",
       "    </tr>\n",
       "  </tbody>\n",
       "</table>\n",
       "</div>"
      ],
      "text/plain": [
       "  pitch_type  count\n",
       "0         FT    107\n",
       "1         SL   2465\n",
       "2         FF   3631\n",
       "3         CH     39\n",
       "4         CU   1248"
      ]
     },
     "execution_count": 34,
     "metadata": {},
     "output_type": "execute_result"
    }
   ],
   "source": [
    "clay_kersh"
   ]
  },
  {
   "cell_type": "markdown",
   "metadata": {},
   "source": [
    "#### Create new column of vectors of features"
   ]
  },
  {
   "cell_type": "code",
   "execution_count": 21,
   "metadata": {},
   "outputs": [],
   "source": [
    "pred = ['b_count','b_score','on_1b','on_2b','on_3b',\n",
    "        'outs','pitch_num','s_count','start_speed','sz_bot',\n",
    "        'type_confidence','inning','p_score','pitcher_id','top',\n",
    "        'score_difference','count_status','base_status','binned_score_difference']"
   ]
  },
  {
   "cell_type": "code",
   "execution_count": 22,
   "metadata": {},
   "outputs": [
    {
     "data": {
      "text/plain": [
       "StructType(List(StructField(ab_id,IntegerType,true),StructField(b_count,IntegerType,true),StructField(b_score,IntegerType,true),StructField(on_1b,BooleanType,true),StructField(on_2b,BooleanType,true),StructField(on_3b,BooleanType,true),StructField(outs,IntegerType,true),StructField(pitch_num,IntegerType,true),StructField(pitch_type,StringType,true),StructField(s_count,IntegerType,true),StructField(start_speed,DoubleType,true),StructField(sz_bot,DoubleType,true),StructField(type,StringType,true),StructField(type_confidence,DoubleType,true),StructField(inning,IntegerType,true),StructField(p_score,IntegerType,true),StructField(pitcher_id,IntegerType,true),StructField(stand,StringType,true),StructField(top,BooleanType,true),StructField(score_difference,IntegerType,true),StructField(latent_pitch_type,DoubleType,false),StructField(count_status,IntegerType,true),StructField(base_status,IntegerType,true),StructField(binned_score_difference,IntegerType,true)))"
      ]
     },
     "execution_count": 22,
     "metadata": {},
     "output_type": "execute_result"
    }
   ],
   "source": [
    "df.schema"
   ]
  },
  {
   "cell_type": "code",
   "execution_count": 23,
   "metadata": {},
   "outputs": [],
   "source": [
    "from pyspark.ml.feature import VectorAssembler\n",
    "from pyspark.ml.feature import PCA\n",
    "from pyspark.mllib.linalg import Vectors\n",
    "from pyspark.mllib.linalg.distributed import RowMatrix\n",
    "\n",
    "assembler = VectorAssembler(\n",
    "                            inputCols=[c for c in df.columns if c in pred],\n",
    "                            outputCol='features').setHandleInvalid('skip')\n",
    "output = assembler.transform(df)"
   ]
  },
  {
   "cell_type": "markdown",
   "metadata": {},
   "source": [
    "#### Create PCA model"
   ]
  },
  {
   "cell_type": "code",
   "execution_count": 24,
   "metadata": {},
   "outputs": [],
   "source": [
    "pca = PCA(k=3, inputCol=\"features\", outputCol=\"pcaFeatures\")\n",
    "model = pca.fit(output)"
   ]
  },
  {
   "cell_type": "code",
   "execution_count": 25,
   "metadata": {},
   "outputs": [
    {
     "name": "stdout",
     "output_type": "stream",
     "text": [
      "+-------------------------------------------------------------+\n",
      "|pcaFeatures                                                  |\n",
      "+-------------------------------------------------------------+\n",
      "|[-425794.00076797657,-80.91509963153649,-0.25557145908238454]|\n",
      "|[-425794.0008041127,-84.75938382796643,9.026911067639976E-4] |\n",
      "|[-425794.00076785055,-80.89323102193204,-0.2876375584286974] |\n",
      "|[-425794.00078557135,-82.77460937819691,-0.17319905631052745]|\n",
      "|[-425794.0008063148,-84.96521548028215,-0.04821793028883081] |\n",
      "|[-425794.0008070978,-85.03531589075594,-0.06274503111427832] |\n",
      "|[-593372.0008384493,-87.81400763557198,-0.2362750451418245]  |\n",
      "|[-593372.0008495282,-88.97965748140042,-0.17526598440387264] |\n",
      "|[-593372.0008323129,-87.14700369462894,-0.31020648958870156] |\n",
      "|[-593372.0007713089,-80.62126507932335,-0.756310812123473]   |\n",
      "|[-593372.0007667806,-80.12279529462896,-0.8167366281210278]  |\n",
      "|[-593372.000763605,-79.78407255606837,-0.8486732766284946]   |\n",
      "|[-527054.00081741,-85.19219939960094,2.862127094415385]      |\n",
      "|[-527054.0008118427,-84.45539849560028,2.800459925462646]    |\n",
      "|[-527054.0008158383,-84.87180407075162,2.8071257740176954]   |\n",
      "|[-527054.0008176501,-85.06004836209448,2.8048066762391315]   |\n",
      "|[-527054.0008228837,-85.75643415938696,2.829291639907586]    |\n",
      "|[-527054.0008269957,-86.02607080017256,2.8260822123619844]   |\n",
      "|[-453329.0008334406,-86.95985594856919,3.4634266962134017]   |\n",
      "|[-453329.0008293329,-86.52152071239833,3.4245952700001014]   |\n",
      "+-------------------------------------------------------------+\n",
      "only showing top 20 rows\n",
      "\n"
     ]
    }
   ],
   "source": [
    "result = model.transform(output).select(\"pcaFeatures\")\n",
    "result.show(truncate=False)"
   ]
  },
  {
   "cell_type": "code",
   "execution_count": 26,
   "metadata": {},
   "outputs": [],
   "source": [
    "import pandas as pd\n",
    "def pca_col(n, df):\n",
    "    df = df.toPandas()\n",
    "    pca_n = []\n",
    "    for i in range(n):\n",
    "        pca_n.append('pca %s'%i)\n",
    "    for i in range(len(df.pcaFeatures)):\n",
    "        df.pcaFeatures[i] = df.pcaFeatures[i].tolist()\n",
    "    df = pd.DataFrame(df.pcaFeatures.values.tolist(), columns= pca_n )\n",
    "    return df"
   ]
  },
  {
   "cell_type": "code",
   "execution_count": 120,
   "metadata": {},
   "outputs": [],
   "source": [
    "#pca_col(3, result)"
   ]
  },
  {
   "cell_type": "code",
   "execution_count": 34,
   "metadata": {},
   "outputs": [
    {
     "data": {
      "text/plain": [
       "['ab_id',\n",
       " 'b_score',\n",
       " 'outs',\n",
       " 'pfx_x',\n",
       " 'pfx_z',\n",
       " 'pitch_num',\n",
       " 'pitch_type',\n",
       " 'px',\n",
       " 'pz',\n",
       " 'start_speed',\n",
       " 'sz_bot',\n",
       " 'sz_top',\n",
       " 'type',\n",
       " 'type_confidence',\n",
       " 'x0',\n",
       " 'y0',\n",
       " 'z0',\n",
       " 'next_pitch',\n",
       " 'batter_id',\n",
       " 'inning',\n",
       " 'p_score',\n",
       " 'p_throws',\n",
       " 'pitcher_id',\n",
       " 'stand',\n",
       " 'top',\n",
       " 'score_difference',\n",
       " 'latent_pitch_type',\n",
       " 'latent_next_pitch',\n",
       " 'count_status',\n",
       " 'base_status',\n",
       " 'binned_score_difference']"
      ]
     },
     "execution_count": 34,
     "metadata": {},
     "output_type": "execute_result"
    }
   ],
   "source": [
    "df.columns"
   ]
  },
  {
   "cell_type": "code",
   "execution_count": 27,
   "metadata": {},
   "outputs": [],
   "source": [
    "df = df.drop('ab_id', 'b_score', 'pitch_type', 'type', 'type_confidence', 'next_pitch', 'p_score')"
   ]
  },
  {
   "cell_type": "code",
   "execution_count": 28,
   "metadata": {},
   "outputs": [
    {
     "data": {
      "text/plain": [
       "['outs',\n",
       " 'pfx_x',\n",
       " 'pfx_z',\n",
       " 'pitch_num',\n",
       " 'px',\n",
       " 'pz',\n",
       " 'start_speed',\n",
       " 'sz_bot',\n",
       " 'sz_top',\n",
       " 'x0',\n",
       " 'y0',\n",
       " 'z0',\n",
       " 'batter_id',\n",
       " 'inning',\n",
       " 'p_throws',\n",
       " 'pitcher_id',\n",
       " 'stand',\n",
       " 'top',\n",
       " 'score_difference',\n",
       " 'latent_pitch_type',\n",
       " 'latent_next_pitch',\n",
       " 'count_status',\n",
       " 'base_status',\n",
       " 'binned_score_difference']"
      ]
     },
     "execution_count": 28,
     "metadata": {},
     "output_type": "execute_result"
    }
   ],
   "source": [
    "df.columns"
   ]
  },
  {
   "cell_type": "code",
   "execution_count": 29,
   "metadata": {},
   "outputs": [
    {
     "name": "stderr",
     "output_type": "stream",
     "text": [
      "----------------------------------------\n",
      "Exception happened during processing of request from ('127.0.0.1', 41590)\n",
      "Traceback (most recent call last):\n",
      "  File \"/opt/conda/lib/python3.6/socketserver.py\", line 320, in _handle_request_noblock\n",
      "    self.process_request(request, client_address)\n",
      "  File \"/opt/conda/lib/python3.6/socketserver.py\", line 351, in process_request\n",
      "    self.finish_request(request, client_address)\n",
      "  File \"/opt/conda/lib/python3.6/socketserver.py\", line 364, in finish_request\n",
      "    self.RequestHandlerClass(request, client_address, self)\n",
      "  File \"/opt/conda/lib/python3.6/socketserver.py\", line 724, in __init__\n",
      "    self.handle()\n",
      "  File \"/usr/local/spark/python/pyspark/accumulators.py\", line 268, in handle\n",
      "    poll(accum_updates)\n",
      "  File \"/usr/local/spark/python/pyspark/accumulators.py\", line 241, in poll\n",
      "    if func():\n",
      "  File \"/usr/local/spark/python/pyspark/accumulators.py\", line 245, in accum_updates\n",
      "    num_updates = read_int(self.rfile)\n",
      "  File \"/usr/local/spark/python/pyspark/serializers.py\", line 714, in read_int\n",
      "    raise EOFError\n",
      "EOFError\n",
      "----------------------------------------\n"
     ]
    }
   ],
   "source": [
    "df.toPandas().to_csv('pitches_preprocessed.csv')"
   ]
  },
  {
   "cell_type": "code",
   "execution_count": null,
   "metadata": {},
   "outputs": [],
   "source": []
  },
  {
   "cell_type": "code",
   "execution_count": null,
   "metadata": {},
   "outputs": [],
   "source": []
  },
  {
   "cell_type": "code",
   "execution_count": null,
   "metadata": {},
   "outputs": [],
   "source": []
  }
 ],
 "metadata": {
  "kernelspec": {
   "display_name": "Python 3",
   "language": "python",
   "name": "python3"
  },
  "language_info": {
   "codemirror_mode": {
    "name": "ipython",
    "version": 3
   },
   "file_extension": ".py",
   "mimetype": "text/x-python",
   "name": "python",
   "nbconvert_exporter": "python",
   "pygments_lexer": "ipython3",
   "version": "3.6.8"
  }
 },
 "nbformat": 4,
 "nbformat_minor": 2
}

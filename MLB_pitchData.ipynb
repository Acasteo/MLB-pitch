{
 "cells": [
  {
   "cell_type": "markdown",
   "metadata": {},
   "source": [
    "#### Initialize Spark session"
   ]
  },
  {
   "cell_type": "code",
   "execution_count": 1,
   "metadata": {},
   "outputs": [],
   "source": [
    "from pyspark.sql import SparkSession\n",
    "\n",
    "spark = SparkSession \\\n",
    "    .builder \\\n",
    "    .master(\"local[*]\") \\\n",
    "    .appName(\"xor\") \\\n",
    "    .config(\"spark.executor.memory\", '2g') \\\n",
    "    .config('spark.executor.cores', '1') \\\n",
    "    .config('spark.cores.max', '1') \\\n",
    "    .config(\"spark.driver.memory\",'1g') \\\n",
    "    .getOrCreate()\n",
    "\n",
    "sc = spark.sparkContext\n"
   ]
  },
  {
   "cell_type": "markdown",
   "metadata": {},
   "source": [
    "#### Read in data and merge dataset on ab_id"
   ]
  },
  {
   "cell_type": "code",
   "execution_count": 12,
   "metadata": {},
   "outputs": [],
   "source": [
    "pitches = spark.read.option(\"inferSchema\", \"true\").csv('Data/pitches_update.csv', header = True)\n",
    "atbats = spark.read.option(\"inferSchema\", \"true\").csv('Data/atbats.csv', header = True).select(\"ab_id\", \"batter_id\", \n",
    "                                                                                               \"inning\", \"p_score\", \n",
    "                                                                                               \"p_throws\", \"pitcher_id\",\n",
    "                                                                                               \"stand\", \"top\")\n",
    "\n",
    "df = pitches.join(atbats, \"ab_id\")"
   ]
  },
  {
   "cell_type": "markdown",
   "metadata": {},
   "source": [
    "#### Drop unnecessary variables"
   ]
  },
  {
   "cell_type": "code",
   "execution_count": 13,
   "metadata": {},
   "outputs": [],
   "source": [
    "df = df.drop(\"ax\", \"ay\", \"az\", \"break_angle\", \"break_length\", \"break_y\", \"code\", \"event\", \"g_id\",\n",
    "            \n",
    "            'nasty', \"spin_dir\", \"end_speed\",\n",
    "             \n",
    "            \"vx0\", \"vy0\", \"vz0\", \"x\", \"y\", \"z\", \"zone\", \"spin_rate\")"
   ]
  },
  {
   "cell_type": "code",
   "execution_count": 14,
   "metadata": {},
   "outputs": [
    {
     "data": {
      "text/plain": [
       "['ab_id',\n",
       " '_c0',\n",
       " 'b_count',\n",
       " 'b_score',\n",
       " 'on_1b',\n",
       " 'on_2b',\n",
       " 'on_3b',\n",
       " 'outs',\n",
       " 'pfx_x',\n",
       " 'pfx_z',\n",
       " 'pitch_num',\n",
       " 'pitch_type',\n",
       " 'px',\n",
       " 'pz',\n",
       " 's_count',\n",
       " 'start_speed',\n",
       " 'sz_bot',\n",
       " 'sz_top',\n",
       " 'type',\n",
       " 'type_confidence',\n",
       " 'x0',\n",
       " 'y0',\n",
       " 'z0',\n",
       " 'next_pitch',\n",
       " 'batter_id',\n",
       " 'inning',\n",
       " 'p_score',\n",
       " 'p_throws',\n",
       " 'pitcher_id',\n",
       " 'stand',\n",
       " 'top']"
      ]
     },
     "execution_count": 14,
     "metadata": {},
     "output_type": "execute_result"
    }
   ],
   "source": [
    "df.columns"
   ]
  },
  {
   "cell_type": "markdown",
   "metadata": {},
   "source": [
    "#### Create new variable score_difference"
   ]
  },
  {
   "cell_type": "code",
   "execution_count": 15,
   "metadata": {},
   "outputs": [],
   "source": [
    "df=df.withColumn(\"score_difference\", df.p_score-df.b_score)"
   ]
  },
  {
   "cell_type": "markdown",
   "metadata": {},
   "source": [
    "#### Remove low frequency observations (look at pitch_type to decide which ones to remove)"
   ]
  },
  {
   "cell_type": "code",
   "execution_count": 16,
   "metadata": {},
   "outputs": [],
   "source": [
    "from pyspark.sql.types import StringType, IntegerType, DoubleType\n",
    "from pyspark.sql.functions import udf\n",
    "from pyspark.sql import functions as f\n",
    "from pyspark.sql.functions import col"
   ]
  },
  {
   "cell_type": "code",
   "execution_count": 17,
   "metadata": {},
   "outputs": [],
   "source": [
    "df = df.filter(\n",
    "    (col('pitch_type') != 'UN') &\n",
    "    (col('pitch_type') != 'EP') &\n",
    "    (col('pitch_type') != 'AB') &\n",
    "    (col('pitch_type') != 'FA') &\n",
    "    (col('pitch_type') != 'IN') &\n",
    "    (col('pitch_type') != 'SC') &\n",
    "    (col('next_pitch') != 'UN') &\n",
    "    (col('next_pitch') != 'EP') &\n",
    "    (col('next_pitch') != 'AB') &\n",
    "    (col('next_pitch') != 'FA') &\n",
    "    (col('next_pitch') != 'IN') &\n",
    "    (col('next_pitch') != 'SC'))"
   ]
  },
  {
   "cell_type": "markdown",
   "metadata": {},
   "source": [
    "#### FO and PO are the same so consolidate"
   ]
  },
  {
   "cell_type": "code",
   "execution_count": 18,
   "metadata": {},
   "outputs": [],
   "source": [
    "df=df.na.replace(['FO'], ['PO'], 'pitch_type')\n",
    "df=df.na.replace(['FO'], ['PO'], 'next_pitch')"
   ]
  },
  {
   "cell_type": "markdown",
   "metadata": {},
   "source": [
    "#### Create new column that is a latent variable based on pitch_type"
   ]
  },
  {
   "cell_type": "code",
   "execution_count": 19,
   "metadata": {},
   "outputs": [
    {
     "data": {
      "text/plain": [
       "[Row(ab_id=2015000283.0, _c0=1110, b_count=0.0, b_score=1.0, on_1b=0.0, on_2b=0.0, on_3b=0.0, outs=1.0, pfx_x=6.08, pfx_z=9.83, pitch_num=1.0, pitch_type='FF', px=-0.532, pz=2.702, s_count=0.0, start_speed=93.7, sz_bot=1.86, sz_top=3.83, type='S', type_confidence=2.0, x0=2.161, y0=50.0, z0=6.151, next_pitch='FF', batter_id=120074, inning=1, p_score=0, p_throws='L', pitcher_id=430935, stand='L', top=True, score_difference=-1.0, latent_pitch_type=0.0),\n",
       " Row(ab_id=2015000283.0, _c0=1111, b_count=0.0, b_score=1.0, on_1b=0.0, on_2b=0.0, on_3b=0.0, outs=1.0, pfx_x=4.54, pfx_z=12.83, pitch_num=2.0, pitch_type='FF', px=-0.312, pz=2.224, s_count=1.0, start_speed=93.2, sz_bot=1.92, sz_top=3.75, type='S', type_confidence=2.0, x0=2.316, y0=50.0, z0=5.9239999999999995, next_pitch='FF', batter_id=120074, inning=1, p_score=0, p_throws='L', pitcher_id=430935, stand='L', top=True, score_difference=-1.0, latent_pitch_type=0.0)]"
      ]
     },
     "execution_count": 19,
     "metadata": {},
     "output_type": "execute_result"
    }
   ],
   "source": [
    "from pyspark.ml.feature import StringIndexer\n",
    "from pyspark.ml.tuning import CrossValidator\n",
    "\n",
    "indexer = StringIndexer(inputCol=\"pitch_type\", outputCol=\"latent_pitch_type\")\n",
    "df = indexer.fit(df).transform(df)\n",
    "df.head(2)"
   ]
  },
  {
   "cell_type": "code",
   "execution_count": 20,
   "metadata": {},
   "outputs": [],
   "source": [
    "indexer = StringIndexer(inputCol=\"next_pitch\", outputCol=\"latent_next_pitch\")\n",
    "df = indexer.fit(df).transform(df)"
   ]
  },
  {
   "cell_type": "code",
   "execution_count": 21,
   "metadata": {},
   "outputs": [
    {
     "name": "stdout",
     "output_type": "stream",
     "text": [
      "+-----------------+------+\n",
      "|latent_pitch_type| count|\n",
      "+-----------------+------+\n",
      "|              8.0| 30932|\n",
      "|              0.0|763599|\n",
      "|              7.0| 50315|\n",
      "|              1.0|330377|\n",
      "|              4.0|178452|\n",
      "|              3.0|211756|\n",
      "|              2.0|244465|\n",
      "|             10.0|  1165|\n",
      "|              6.0|109587|\n",
      "|              5.0|177063|\n",
      "|              9.0|  8285|\n",
      "+-----------------+------+\n",
      "\n",
      "+----------+------+\n",
      "|pitch_type| count|\n",
      "+----------+------+\n",
      "|        FT|244465|\n",
      "|        SL|330377|\n",
      "|        FC|109587|\n",
      "|        FF|763599|\n",
      "|        FS| 30932|\n",
      "|        PO|  1165|\n",
      "|        KC| 50315|\n",
      "|        CH|211756|\n",
      "|        CU|178452|\n",
      "|        KN|  8285|\n",
      "|        SI|177063|\n",
      "+----------+------+\n",
      "\n"
     ]
    }
   ],
   "source": [
    "df.groupBy(\"latent_pitch_type\").count().show()\n",
    "df.groupBy(\"pitch_type\").count().show()"
   ]
  },
  {
   "cell_type": "code",
   "execution_count": 22,
   "metadata": {},
   "outputs": [
    {
     "name": "stdout",
     "output_type": "stream",
     "text": [
      "+-----------------+------+\n",
      "|latent_next_pitch| count|\n",
      "+-----------------+------+\n",
      "|              8.0| 30932|\n",
      "|              0.0|763599|\n",
      "|              7.0| 50315|\n",
      "|              1.0|330377|\n",
      "|              4.0|178452|\n",
      "|              3.0|211756|\n",
      "|              2.0|244465|\n",
      "|             10.0|  1165|\n",
      "|              6.0|109587|\n",
      "|              5.0|177063|\n",
      "|              9.0|  8285|\n",
      "+-----------------+------+\n",
      "\n",
      "+----------+------+\n",
      "|next_pitch| count|\n",
      "+----------+------+\n",
      "|        FT|244465|\n",
      "|        SL|330377|\n",
      "|        FC|109587|\n",
      "|        FF|763599|\n",
      "|        FS| 30932|\n",
      "|        PO|  1165|\n",
      "|        KC| 50315|\n",
      "|        CH|211756|\n",
      "|        CU|178452|\n",
      "|        KN|  8285|\n",
      "|        SI|177063|\n",
      "+----------+------+\n",
      "\n"
     ]
    }
   ],
   "source": [
    "df.groupBy(\"latent_next_pitch\").count().show()\n",
    "df.groupBy(\"next_pitch\").count().show()"
   ]
  },
  {
   "cell_type": "markdown",
   "metadata": {},
   "source": [
    "#### Create new column that is latent variable based on balls and strikes"
   ]
  },
  {
   "cell_type": "code",
   "execution_count": 33,
   "metadata": {},
   "outputs": [],
   "source": [
    "def count_status(b_count, s_count):\n",
    "    if   b_count==0 and s_count==0: return 0\n",
    "    elif b_count==1 and s_count==0: return 1\n",
    "    elif b_count==0 and s_count==1: return 2\n",
    "    elif b_count==1 and s_count==1: return 3\n",
    "    elif b_count==2 and s_count==0: return 4\n",
    "    elif b_count==0 and s_count==2: return 5\n",
    "    elif b_count==3 and s_count==0: return 6\n",
    "    elif b_count==2 and s_count==1: return 7\n",
    "    elif b_count==1 and s_count==2: return 8\n",
    "    elif b_count==3 and s_count==1: return 9\n",
    "    elif b_count==2 and s_count==2: return 10\n",
    "    elif b_count==3 and s_count==2: return 11\n",
    "    \n",
    "udfcount_status = udf(count_status, IntegerType())\n",
    "df = df.withColumn(\"count_status\", udfcount_status(\"b_count\", \"s_count\"))\n",
    "\n",
    "df = df.na.drop(subset=[\"count_status\"]) #around 14 na's that we drop"
   ]
  },
  {
   "cell_type": "markdown",
   "metadata": {},
   "source": [
    "#### Create new column that is latent variable based on on_1b, on_2b, and on_3b"
   ]
  },
  {
   "cell_type": "code",
   "execution_count": 34,
   "metadata": {},
   "outputs": [],
   "source": [
    "def base_status(on_1b, on_2b, on_3b):\n",
    "    if   on_1b==0 and on_2b==0 and on_3b==0: return 0\n",
    "    elif on_1b==1 and on_2b==0 and on_3b==0: return 1\n",
    "    elif on_1b==0 and on_2b==1 and on_3b==0: return 2\n",
    "    elif on_1b==0 and on_2b==0 and on_3b==1: return 3\n",
    "    elif on_1b==1 and on_2b==1 and on_3b==0: return 4\n",
    "    elif on_1b==1 and on_2b==0 and on_3b==1: return 5\n",
    "    elif on_1b==0 and on_2b==1 and on_3b==1: return 6\n",
    "    elif on_1b==1 and on_2b==1 and on_3b==1: return 7\n",
    "    \n",
    "udfbase_status = udf(base_status, IntegerType())\n",
    "df = df.withColumn(\"base_status\", udfbase_status(\"on_1b\", \"on_2b\", \"on_3b\"))"
   ]
  },
  {
   "cell_type": "markdown",
   "metadata": {},
   "source": [
    "#### Create new column binning score_difference"
   ]
  },
  {
   "cell_type": "code",
   "execution_count": 35,
   "metadata": {},
   "outputs": [],
   "source": [
    "def bin_score(score_difference):\n",
    "    if score_difference<(-4): return (-5)\n",
    "    elif score_difference>(4): return (5)\n",
    "    elif score_difference==(-4): return (-4)\n",
    "    elif score_difference==(-3): return (-3) \n",
    "    elif score_difference==(-2): return (-2)\n",
    "    elif score_difference==(-1): return (-1) \n",
    "    elif score_difference==(0): return (0) \n",
    "    elif score_difference==(1): return (1)\n",
    "    elif score_difference==(2): return (2)\n",
    "    elif score_difference==(3): return (3)\n",
    "    elif score_difference==(4): return (4)\n",
    "udfbin_score = udf(bin_score, IntegerType())\n",
    "df = df.withColumn(\"binned_score_difference\", udfbin_score(\"score_difference\"))"
   ]
  },
  {
   "cell_type": "markdown",
   "metadata": {},
   "source": [
    "#### Create new column binning pitch_num"
   ]
  },
  {
   "cell_type": "code",
   "execution_count": 36,
   "metadata": {},
   "outputs": [],
   "source": [
    "def bin_pitch_num(pitch_num):\n",
    "    if pitch_num>(14.0): \n",
    "        return (14.0)\n",
    "    else: \n",
    "        return(pitch_num)\n",
    "udfpitch_num = udf(bin_pitch_num, DoubleType())\n",
    "df = df.withColumn(\"pitch_num\", udfpitch_num(\"pitch_num\"))"
   ]
  },
  {
   "cell_type": "code",
   "execution_count": 37,
   "metadata": {},
   "outputs": [
    {
     "name": "stdout",
     "output_type": "stream",
     "text": [
      "+---------+------+\n",
      "|pitch_num| count|\n",
      "+---------+------+\n",
      "|      8.0|  8796|\n",
      "|      7.0| 23455|\n",
      "|      1.0|652101|\n",
      "|      4.0|268029|\n",
      "|     11.0|   409|\n",
      "|     14.0|    32|\n",
      "|      3.0|405611|\n",
      "|      2.0|538592|\n",
      "|     10.0|  1127|\n",
      "|     13.0|    48|\n",
      "|      6.0| 59840|\n",
      "|      5.0|144599|\n",
      "|      9.0|  3201|\n",
      "|     12.0|   149|\n",
      "+---------+------+\n",
      "\n"
     ]
    }
   ],
   "source": [
    "df.groupby(\"pitch_num\").count().show()"
   ]
  },
  {
   "cell_type": "code",
   "execution_count": 38,
   "metadata": {},
   "outputs": [],
   "source": [
    "def binary_stand(stand):\n",
    "    if stand == 'R':\n",
    "        return 1\n",
    "    else:\n",
    "        return 0\n",
    "udfstand = udf(binary_stand, IntegerType())\n",
    "df = df.withColumn(\"stand\", udfstand(\"stand\"))"
   ]
  },
  {
   "cell_type": "code",
   "execution_count": 39,
   "metadata": {},
   "outputs": [
    {
     "name": "stdout",
     "output_type": "stream",
     "text": [
      "+-----+-------+\n",
      "|stand|  count|\n",
      "+-----+-------+\n",
      "|    0|2105989|\n",
      "+-----+-------+\n",
      "\n"
     ]
    }
   ],
   "source": [
    "df.groupby('stand').count().show()"
   ]
  },
  {
   "cell_type": "code",
   "execution_count": 42,
   "metadata": {},
   "outputs": [
    {
     "name": "stdout",
     "output_type": "stream",
     "text": [
      "+--------+-------+\n",
      "|p_throws|  count|\n",
      "+--------+-------+\n",
      "|       0|2105989|\n",
      "+--------+-------+\n",
      "\n"
     ]
    }
   ],
   "source": [
    "df.groupby('p_throws').count().show()"
   ]
  },
  {
   "cell_type": "code",
   "execution_count": 43,
   "metadata": {},
   "outputs": [],
   "source": [
    "def binary_p_throw(p_throw):\n",
    "    if p_throw == 'R':\n",
    "        return 1\n",
    "    else:\n",
    "        return 0\n",
    "udfp_throw = udf(binary_p_throw, IntegerType())\n",
    "df = df.withColumn(\"p_throws\", udfstand(\"p_throws\"))"
   ]
  },
  {
   "cell_type": "code",
   "execution_count": 44,
   "metadata": {},
   "outputs": [
    {
     "name": "stdout",
     "output_type": "stream",
     "text": [
      "+--------+-------+\n",
      "|p_throws|  count|\n",
      "+--------+-------+\n",
      "|       0|2105989|\n",
      "+--------+-------+\n",
      "\n"
     ]
    }
   ],
   "source": [
    "df.groupby('p_throws').count().show()"
   ]
  },
  {
   "cell_type": "code",
   "execution_count": 45,
   "metadata": {},
   "outputs": [],
   "source": [
    "def binary_top(top):\n",
    "    if top:\n",
    "        return 1\n",
    "    else:\n",
    "        return 0\n",
    "udfp_top = udf(binary_top, IntegerType())\n",
    "df = df.withColumn(\"top\", udfstand(\"top\"))"
   ]
  },
  {
   "cell_type": "code",
   "execution_count": null,
   "metadata": {},
   "outputs": [],
   "source": [
    "df.columns"
   ]
  },
  {
   "cell_type": "code",
   "execution_count": 85,
   "metadata": {},
   "outputs": [],
   "source": [
    "dfpca = df.drop('_c0', 'b_count', 'on_1b', 'on_2b', 'on_3b', 's_count',\n",
    "               'ab_id',\n",
    " 'b_score',\n",
    " 'pfx_x',\n",
    " 'pfx_z',\n",
    " 'pitch_type',\n",
    " 'px',\n",
    " 'pz',\n",
    " 'sz_top',\n",
    " 'type',\n",
    " 'x0',\n",
    " 'y0',\n",
    " 'z0',\n",
    "                'next_pitch',\n",
    " 'batter_id',\n",
    " 'p_score',\n",
    " 'p_throws',\n",
    " 'stand',\n",
    " 'score_difference',\n",
    " 'latent_pitch_type',\n",
    " 'latent_next_pitch')"
   ]
  },
  {
   "cell_type": "markdown",
   "metadata": {},
   "source": [
    "#### Create a pie plot of distribution of pitch_type"
   ]
  },
  {
   "cell_type": "code",
   "execution_count": 177,
   "metadata": {},
   "outputs": [
    {
     "data": {
      "text/plain": [
       "<Figure size 3000x1300 with 1 Axes>"
      ]
     },
     "metadata": {},
     "output_type": "display_data"
    }
   ],
   "source": [
    "import matplotlib.pyplot as plt\n",
    "\n",
    "pitch_type = df.groupby('pitch_type').count().toPandas()\n",
    "fig1, ax1 = plt.subplots(figsize=(30,13))\n",
    "plt.rcParams.update({'font.size': 18})\n",
    "ax1.pie(pitch_type['count'],labels = pitch_type['pitch_type'], autopct='%1.0f%%', pctdistance=1.1, \n",
    "        labeldistance = 1.2, shadow = False, startangle = 90 )\n",
    "#plt.legend()\n",
    "plt.legend(labels = ['Two-seam Fastball', 'Slider', 'Cutter', 'Four-seam Fastball', 'Splitter', 'Knuckle Curve',\n",
    "                     'Changeup', 'Curveball', 'Knuckleball', 'Sinker'])\n",
    "ax1.axis('equal')\n",
    "#plt.savefig('init_pie.png')\n",
    "plt.show()"
   ]
  },
  {
   "cell_type": "markdown",
   "metadata": {},
   "source": [
    "#### Create a pie plot of distribution of pitch_type of Chris Sale"
   ]
  },
  {
   "cell_type": "code",
   "execution_count": 178,
   "metadata": {},
   "outputs": [
    {
     "data": {
      "image/png": "[encoded data removed]",
      "text/plain": [
       "<Figure size 2160x936 with 1 Axes>"
      ]
     },
     "metadata": {},
     "output_type": "display_data"
    }
   ],
   "source": [
    "chris_sale = df.filter(df.pitcher_id == 519242).groupby('pitch_type').count().toPandas()\n",
    "fig2, ax2 = plt.subplots(figsize=(30,13))\n",
    "plt.rcParams.update({'font.size': 18})\n",
    "plt.title('Chris Sale')\n",
    "ax2.pie(chris_sale['count'],labels = chris_sale['pitch_type'], autopct='%1.0f%%', pctdistance=1.1, \n",
    "        labeldistance = 1.2, shadow = False, startangle = 90 )\n",
    "#plt.legend()\n",
    "plt.legend(labels = ['Two-seam Fastball', 'Slider', 'Four-seam Fastball', 'Splitter',\n",
    "                     'Changeup'])\n",
    "ax2.axis('equal')\n",
    "#plt.savefig('init_pie.png')\n",
    "plt.show()"
   ]
  },
  {
   "cell_type": "code",
   "execution_count": 186,
   "metadata": {},
   "outputs": [
    {
     "data": {
      "text/html": [
       "<div>\n",
       "<style scoped>\n",
       "    .dataframe tbody tr th:only-of-type {\n",
       "        vertical-align: middle;\n",
       "    }\n",
       "\n",
       "    .dataframe tbody tr th {\n",
       "        vertical-align: top;\n",
       "    }\n",
       "\n",
       "    .dataframe thead th {\n",
       "        text-align: right;\n",
       "    }\n",
       "</style>\n",
       "<table border=\"1\" class=\"dataframe\">\n",
       "  <thead>\n",
       "    <tr style=\"text-align: right;\">\n",
       "      <th></th>\n",
       "      <th>pitch_type</th>\n",
       "      <th>count</th>\n",
       "    </tr>\n",
       "  </thead>\n",
       "  <tbody>\n",
       "    <tr>\n",
       "      <th>0</th>\n",
       "      <td>FT</td>\n",
       "      <td>3140</td>\n",
       "    </tr>\n",
       "    <tr>\n",
       "      <th>1</th>\n",
       "      <td>SL</td>\n",
       "      <td>2557</td>\n",
       "    </tr>\n",
       "    <tr>\n",
       "      <th>2</th>\n",
       "      <td>FF</td>\n",
       "      <td>1682</td>\n",
       "    </tr>\n",
       "    <tr>\n",
       "      <th>3</th>\n",
       "      <td>CH</td>\n",
       "      <td>1980</td>\n",
       "    </tr>\n",
       "  </tbody>\n",
       "</table>\n",
       "</div>"
      ],
      "text/plain": [
       "  pitch_type  count\n",
       "0         FT   3140\n",
       "1         SL   2557\n",
       "2         FF   1682\n",
       "3         CH   1980"
      ]
     },
     "execution_count": 186,
     "metadata": {},
     "output_type": "execute_result"
    }
   ],
   "source": [
    "chris_sale"
   ]
  },
  {
   "cell_type": "markdown",
   "metadata": {},
   "source": [
    "#### Create a pie plot of distribution of pitch_type of Clayton Kershaw"
   ]
  },
  {
   "cell_type": "code",
   "execution_count": 176,
   "metadata": {},
   "outputs": [
    {
     "ename": "NameError",
     "evalue": "name 'plt' is not defined",
     "output_type": "error",
     "traceback": [
      "\u001b[0;31m---------------------------------------------------------------------------\u001b[0m",
      "\u001b[0;31mNameError\u001b[0m                                 Traceback (most recent call last)",
      "\u001b[0;32m<ipython-input-176-52729802d8d7>\u001b[0m in \u001b[0;36m<module>\u001b[0;34m\u001b[0m\n\u001b[1;32m      1\u001b[0m \u001b[0mclay_kersh\u001b[0m \u001b[0;34m=\u001b[0m \u001b[0mdf\u001b[0m\u001b[0;34m.\u001b[0m\u001b[0mfilter\u001b[0m\u001b[0;34m(\u001b[0m\u001b[0mdf\u001b[0m\u001b[0;34m.\u001b[0m\u001b[0mpitcher_id\u001b[0m \u001b[0;34m==\u001b[0m \u001b[0;36m477132\u001b[0m\u001b[0;34m)\u001b[0m\u001b[0;34m.\u001b[0m\u001b[0mgroupby\u001b[0m\u001b[0;34m(\u001b[0m\u001b[0;34m'pitch_type'\u001b[0m\u001b[0;34m)\u001b[0m\u001b[0;34m.\u001b[0m\u001b[0mcount\u001b[0m\u001b[0;34m(\u001b[0m\u001b[0;34m)\u001b[0m\u001b[0;34m.\u001b[0m\u001b[0mtoPandas\u001b[0m\u001b[0;34m(\u001b[0m\u001b[0;34m)\u001b[0m\u001b[0;34m\u001b[0m\u001b[0;34m\u001b[0m\u001b[0m\n\u001b[0;32m----> 2\u001b[0;31m \u001b[0mfig3\u001b[0m\u001b[0;34m,\u001b[0m \u001b[0max3\u001b[0m \u001b[0;34m=\u001b[0m \u001b[0mplt\u001b[0m\u001b[0;34m.\u001b[0m\u001b[0msubplots\u001b[0m\u001b[0;34m(\u001b[0m\u001b[0mfigsize\u001b[0m\u001b[0;34m=\u001b[0m\u001b[0;34m(\u001b[0m\u001b[0;36m30\u001b[0m\u001b[0;34m,\u001b[0m\u001b[0;36m13\u001b[0m\u001b[0;34m)\u001b[0m\u001b[0;34m)\u001b[0m\u001b[0;34m\u001b[0m\u001b[0;34m\u001b[0m\u001b[0m\n\u001b[0m\u001b[1;32m      3\u001b[0m \u001b[0mplt\u001b[0m\u001b[0;34m.\u001b[0m\u001b[0mrcParams\u001b[0m\u001b[0;34m.\u001b[0m\u001b[0mupdate\u001b[0m\u001b[0;34m(\u001b[0m\u001b[0;34m{\u001b[0m\u001b[0;34m'font.size'\u001b[0m\u001b[0;34m:\u001b[0m \u001b[0;36m18\u001b[0m\u001b[0;34m}\u001b[0m\u001b[0;34m)\u001b[0m\u001b[0;34m\u001b[0m\u001b[0;34m\u001b[0m\u001b[0m\n\u001b[1;32m      4\u001b[0m \u001b[0mplt\u001b[0m\u001b[0;34m.\u001b[0m\u001b[0mrcParams\u001b[0m\u001b[0;34m.\u001b[0m\u001b[0mupdate\u001b[0m\u001b[0;34m(\u001b[0m\u001b[0;34m{\u001b[0m\u001b[0;34m'axes.titlepad'\u001b[0m\u001b[0;34m:\u001b[0m \u001b[0;36m45\u001b[0m\u001b[0;34m}\u001b[0m\u001b[0;34m)\u001b[0m\u001b[0;34m\u001b[0m\u001b[0;34m\u001b[0m\u001b[0m\n\u001b[1;32m      5\u001b[0m \u001b[0mplt\u001b[0m\u001b[0;34m.\u001b[0m\u001b[0mtitle\u001b[0m\u001b[0;34m(\u001b[0m\u001b[0;34m'Clayton Kershaw'\u001b[0m\u001b[0;34m,\u001b[0m\u001b[0;34m)\u001b[0m\u001b[0;34m\u001b[0m\u001b[0;34m\u001b[0m\u001b[0m\n",
      "\u001b[0;31mNameError\u001b[0m: name 'plt' is not defined"
     ]
    }
   ],
   "source": [
    "clay_kersh = df.filter(df.pitcher_id == 477132).groupby('pitch_type').count().toPandas()\n",
    "fig3, ax3 = plt.subplots(figsize=(30,13))\n",
    "plt.rcParams.update({'font.size': 18})\n",
    "plt.rcParams.update({'axes.titlepad': 45})\n",
    "plt.title('Clayton Kershaw',)\n",
    "ax3.pie(clay_kersh['count'],labels = clay_kersh['pitch_type'], autopct='%1.0f%%', pctdistance=1.1, \n",
    "        labeldistance = 1.2, shadow = False, startangle = 90 )\n",
    "#plt.legend()\n",
    "plt.legend(labels = ['Two-seam Fastball', 'Slider', 'Four-seam Fastball',\n",
    "                     'Changeup', 'Curveball'])\n",
    "ax3.axis('equal')\n",
    "#plt.savefig('init_pie.png')\n",
    "plt.show()"
   ]
  },
  {
   "cell_type": "code",
   "execution_count": null,
   "metadata": {},
   "outputs": [],
   "source": [
    "clay_kersh"
   ]
  },
  {
   "cell_type": "markdown",
   "metadata": {},
   "source": [
    "#### Create new column of vectors of features"
   ]
  },
  {
   "cell_type": "code",
   "execution_count": 129,
   "metadata": {},
   "outputs": [],
   "source": [
    "pred = ['outs','pitch_num','start_speed','sz_bot',\n",
    "        'type_confidence','inning','pitcher_id','top',\n",
    "        'count_status','base_status','binned_score_difference']"
   ]
  },
  {
   "cell_type": "code",
   "execution_count": 48,
   "metadata": {},
   "outputs": [
    {
     "data": {
      "text/plain": [
       "StructType(List(StructField(ab_id,DoubleType,true),StructField(b_score,DoubleType,true),StructField(outs,DoubleType,true),StructField(pfx_x,DoubleType,true),StructField(pfx_z,DoubleType,true),StructField(pitch_num,DoubleType,true),StructField(pitch_type,StringType,true),StructField(px,DoubleType,true),StructField(pz,DoubleType,true),StructField(start_speed,DoubleType,true),StructField(sz_bot,DoubleType,true),StructField(sz_top,DoubleType,true),StructField(type,StringType,true),StructField(type_confidence,DoubleType,true),StructField(x0,DoubleType,true),StructField(y0,DoubleType,true),StructField(z0,DoubleType,true),StructField(next_pitch,StringType,true),StructField(batter_id,IntegerType,true),StructField(inning,IntegerType,true),StructField(p_score,IntegerType,true),StructField(p_throws,IntegerType,true),StructField(pitcher_id,IntegerType,true),StructField(stand,IntegerType,true),StructField(top,IntegerType,true),StructField(score_difference,DoubleType,true),StructField(latent_pitch_type,DoubleType,false),StructField(latent_next_pitch,DoubleType,false),StructField(count_status,IntegerType,true),StructField(base_status,IntegerType,true),StructField(binned_score_difference,IntegerType,true)))"
      ]
     },
     "execution_count": 48,
     "metadata": {},
     "output_type": "execute_result"
    }
   ],
   "source": [
    "df.schema"
   ]
  },
  {
   "cell_type": "code",
   "execution_count": 87,
   "metadata": {},
   "outputs": [],
   "source": [
    "from pyspark.ml.feature import VectorAssembler\n",
    "from pyspark.ml.feature import PCA\n",
    "from pyspark.ml.feature import StandardScaler\n",
    "from pyspark.mllib.linalg import Vectors\n",
    "from pyspark.mllib.linalg.distributed import RowMatrix\n",
    "\n",
    "assembler = VectorAssembler(\n",
    "                            inputCols=[c for c in dfpca.columns if c in pred],\n",
    "                            outputCol='features').setHandleInvalid('skip')\n",
    "output = assembler.transform(dfpca)\n",
    "scaler = StandardScaler(inputCol=\"features\", outputCol=\"scaledFeatures\",\n",
    "                        withStd=True, withMean=True)\n",
    "scaleroutput = scaler.fit(output)\n",
    "scaledoutput = scaleroutput.transform(output)"
   ]
  },
  {
   "cell_type": "markdown",
   "metadata": {},
   "source": [
    "#### Create PCA model"
   ]
  },
  {
   "cell_type": "code",
   "execution_count": 203,
   "metadata": {},
   "outputs": [
    {
     "data": {
      "text/html": [
       "<div>\n",
       "<style scoped>\n",
       "    .dataframe tbody tr th:only-of-type {\n",
       "        vertical-align: middle;\n",
       "    }\n",
       "\n",
       "    .dataframe tbody tr th {\n",
       "        vertical-align: top;\n",
       "    }\n",
       "\n",
       "    .dataframe thead th {\n",
       "        text-align: right;\n",
       "    }\n",
       "</style>\n",
       "<table border=\"1\" class=\"dataframe\">\n",
       "  <thead>\n",
       "    <tr style=\"text-align: right;\">\n",
       "      <th></th>\n",
       "      <th>Feature</th>\n",
       "    </tr>\n",
       "  </thead>\n",
       "  <tbody>\n",
       "    <tr>\n",
       "      <th>0</th>\n",
       "      <td>outs</td>\n",
       "    </tr>\n",
       "    <tr>\n",
       "      <th>1</th>\n",
       "      <td>pitch_num</td>\n",
       "    </tr>\n",
       "    <tr>\n",
       "      <th>2</th>\n",
       "      <td>start_speed</td>\n",
       "    </tr>\n",
       "    <tr>\n",
       "      <th>3</th>\n",
       "      <td>sz_bot</td>\n",
       "    </tr>\n",
       "    <tr>\n",
       "      <th>4</th>\n",
       "      <td>type_confidence</td>\n",
       "    </tr>\n",
       "    <tr>\n",
       "      <th>5</th>\n",
       "      <td>inning</td>\n",
       "    </tr>\n",
       "    <tr>\n",
       "      <th>6</th>\n",
       "      <td>pitcher_id</td>\n",
       "    </tr>\n",
       "    <tr>\n",
       "      <th>7</th>\n",
       "      <td>top</td>\n",
       "    </tr>\n",
       "    <tr>\n",
       "      <th>8</th>\n",
       "      <td>count_status</td>\n",
       "    </tr>\n",
       "    <tr>\n",
       "      <th>9</th>\n",
       "      <td>base_status</td>\n",
       "    </tr>\n",
       "    <tr>\n",
       "      <th>10</th>\n",
       "      <td>binned_score_difference</td>\n",
       "    </tr>\n",
       "  </tbody>\n",
       "</table>\n",
       "</div>"
      ],
      "text/plain": [
       "                    Feature\n",
       "0                      outs\n",
       "1                 pitch_num\n",
       "2               start_speed\n",
       "3                    sz_bot\n",
       "4           type_confidence\n",
       "5                    inning\n",
       "6                pitcher_id\n",
       "7                       top\n",
       "8              count_status\n",
       "9               base_status\n",
       "10  binned_score_difference"
      ]
     },
     "execution_count": 203,
     "metadata": {},
     "output_type": "execute_result"
    }
   ],
   "source": [
    "from  pyspark.sql.functions import abs\n",
    "pca = PCA(k=2, inputCol=\"scaledFeatures\", outputCol=\"pcaFeatures\")\n",
    "model = pca.fit(scaledoutput)\n",
    "matrix=model.pc\n",
    "rows = matrix.toArray().tolist()\n",
    "pcadf = spark.createDataFrame(rows,['PCA1','PCA2'])\n",
    "pcadf = pcadf.withColumn('AbsVal', abs(pcadf.PCA1-pcadf.PCA2))\n",
    "pcdaf=pcadf.toPandas()\n",
    "value=spark.createDataFrame(pred, StringType())\n",
    "value = value.withColumnRenamed('value', 'Feature')\n",
    "value=value.toPandas()\n",
    "value"
   ]
  },
  {
   "cell_type": "code",
   "execution_count": 205,
   "metadata": {},
   "outputs": [
    {
     "data": {
      "text/html": [
       "<div>\n",
       "<style scoped>\n",
       "    .dataframe tbody tr th:only-of-type {\n",
       "        vertical-align: middle;\n",
       "    }\n",
       "\n",
       "    .dataframe tbody tr th {\n",
       "        vertical-align: top;\n",
       "    }\n",
       "\n",
       "    .dataframe thead th {\n",
       "        text-align: right;\n",
       "    }\n",
       "</style>\n",
       "<table border=\"1\" class=\"dataframe\">\n",
       "  <thead>\n",
       "    <tr style=\"text-align: right;\">\n",
       "      <th></th>\n",
       "      <th>PCA1</th>\n",
       "      <th>PCA2</th>\n",
       "      <th>AbsVal</th>\n",
       "    </tr>\n",
       "  </thead>\n",
       "  <tbody>\n",
       "    <tr>\n",
       "      <th>0</th>\n",
       "      <td>-0.005849</td>\n",
       "      <td>6.446019e-01</td>\n",
       "      <td>6.504507e-01</td>\n",
       "    </tr>\n",
       "    <tr>\n",
       "      <th>1</th>\n",
       "      <td>-0.704020</td>\n",
       "      <td>-2.038915e-03</td>\n",
       "      <td>7.019807e-01</td>\n",
       "    </tr>\n",
       "    <tr>\n",
       "      <th>2</th>\n",
       "      <td>-0.045313</td>\n",
       "      <td>5.842504e-02</td>\n",
       "      <td>1.037377e-01</td>\n",
       "    </tr>\n",
       "    <tr>\n",
       "      <th>3</th>\n",
       "      <td>0.079959</td>\n",
       "      <td>2.771170e-02</td>\n",
       "      <td>5.224682e-02</td>\n",
       "    </tr>\n",
       "    <tr>\n",
       "      <th>4</th>\n",
       "      <td>-0.013613</td>\n",
       "      <td>6.627552e-02</td>\n",
       "      <td>7.988868e-02</td>\n",
       "    </tr>\n",
       "    <tr>\n",
       "      <th>5</th>\n",
       "      <td>-0.007023</td>\n",
       "      <td>-4.307675e-02</td>\n",
       "      <td>3.605352e-02</td>\n",
       "    </tr>\n",
       "    <tr>\n",
       "      <th>6</th>\n",
       "      <td>-0.016352</td>\n",
       "      <td>1.391299e-01</td>\n",
       "      <td>1.554821e-01</td>\n",
       "    </tr>\n",
       "    <tr>\n",
       "      <th>7</th>\n",
       "      <td>0.000000</td>\n",
       "      <td>8.673617e-19</td>\n",
       "      <td>8.673617e-19</td>\n",
       "    </tr>\n",
       "    <tr>\n",
       "      <th>8</th>\n",
       "      <td>-0.703798</td>\n",
       "      <td>-2.704399e-03</td>\n",
       "      <td>7.010938e-01</td>\n",
       "    </tr>\n",
       "    <tr>\n",
       "      <th>9</th>\n",
       "      <td>0.002536</td>\n",
       "      <td>6.577610e-01</td>\n",
       "      <td>6.552248e-01</td>\n",
       "    </tr>\n",
       "    <tr>\n",
       "      <th>10</th>\n",
       "      <td>-0.005924</td>\n",
       "      <td>-3.493434e-01</td>\n",
       "      <td>3.434195e-01</td>\n",
       "    </tr>\n",
       "  </tbody>\n",
       "</table>\n",
       "</div>"
      ],
      "text/plain": [
       "        PCA1          PCA2        AbsVal\n",
       "0  -0.005849  6.446019e-01  6.504507e-01\n",
       "1  -0.704020 -2.038915e-03  7.019807e-01\n",
       "2  -0.045313  5.842504e-02  1.037377e-01\n",
       "3   0.079959  2.771170e-02  5.224682e-02\n",
       "4  -0.013613  6.627552e-02  7.988868e-02\n",
       "5  -0.007023 -4.307675e-02  3.605352e-02\n",
       "6  -0.016352  1.391299e-01  1.554821e-01\n",
       "7   0.000000  8.673617e-19  8.673617e-19\n",
       "8  -0.703798 -2.704399e-03  7.010938e-01\n",
       "9   0.002536  6.577610e-01  6.552248e-01\n",
       "10 -0.005924 -3.493434e-01  3.434195e-01"
      ]
     },
     "execution_count": 205,
     "metadata": {},
     "output_type": "execute_result"
    }
   ],
   "source": [
    "pcdaf"
   ]
  },
  {
   "cell_type": "code",
   "execution_count": 149,
   "metadata": {},
   "outputs": [],
   "source": [
    "pcamax = PCA(k=10, inputCol=\"scaledFeatures\", outputCol=\"pcaFeatures\")\n",
    "modelmax = pcamax.fit(scaledoutput)"
   ]
  },
  {
   "cell_type": "code",
   "execution_count": 206,
   "metadata": {},
   "outputs": [
    {
     "data": {
      "text/html": [
       "<div>\n",
       "<style scoped>\n",
       "    .dataframe tbody tr th:only-of-type {\n",
       "        vertical-align: middle;\n",
       "    }\n",
       "\n",
       "    .dataframe tbody tr th {\n",
       "        vertical-align: top;\n",
       "    }\n",
       "\n",
       "    .dataframe thead th {\n",
       "        text-align: right;\n",
       "    }\n",
       "</style>\n",
       "<table border=\"1\" class=\"dataframe\">\n",
       "  <thead>\n",
       "    <tr style=\"text-align: right;\">\n",
       "      <th></th>\n",
       "      <th>value</th>\n",
       "    </tr>\n",
       "  </thead>\n",
       "  <tbody>\n",
       "    <tr>\n",
       "      <th>0</th>\n",
       "      <td>0.196426</td>\n",
       "    </tr>\n",
       "    <tr>\n",
       "      <th>1</th>\n",
       "      <td>0.125384</td>\n",
       "    </tr>\n",
       "    <tr>\n",
       "      <th>2</th>\n",
       "      <td>0.121597</td>\n",
       "    </tr>\n",
       "    <tr>\n",
       "      <th>3</th>\n",
       "      <td>0.107273</td>\n",
       "    </tr>\n",
       "    <tr>\n",
       "      <th>4</th>\n",
       "      <td>0.101885</td>\n",
       "    </tr>\n",
       "    <tr>\n",
       "      <th>5</th>\n",
       "      <td>0.093965</td>\n",
       "    </tr>\n",
       "    <tr>\n",
       "      <th>6</th>\n",
       "      <td>0.091099</td>\n",
       "    </tr>\n",
       "    <tr>\n",
       "      <th>7</th>\n",
       "      <td>0.080123</td>\n",
       "    </tr>\n",
       "    <tr>\n",
       "      <th>8</th>\n",
       "      <td>0.077809</td>\n",
       "    </tr>\n",
       "    <tr>\n",
       "      <th>9</th>\n",
       "      <td>0.004439</td>\n",
       "    </tr>\n",
       "  </tbody>\n",
       "</table>\n",
       "</div>"
      ],
      "text/plain": [
       "      value\n",
       "0  0.196426\n",
       "1  0.125384\n",
       "2  0.121597\n",
       "3  0.107273\n",
       "4  0.101885\n",
       "5  0.093965\n",
       "6  0.091099\n",
       "7  0.080123\n",
       "8  0.077809\n",
       "9  0.004439"
      ]
     },
     "execution_count": 206,
     "metadata": {},
     "output_type": "execute_result"
    }
   ],
   "source": [
    "Explained_Var = modelmax.explainedVariance\n",
    "a = Explained_Var.values.tolist()\n",
    "valuetwo=spark.createDataFrame(a, DoubleType())\n",
    "valuetwo=valuetwo.toPandas()\n",
    "valuetwo"
   ]
  },
  {
   "cell_type": "code",
   "execution_count": 216,
   "metadata": {},
   "outputs": [
    {
     "data": {
      "image/png": "[encoded data removed]",
      "text/plain": [
       "<Figure size 432x288 with 1 Axes>"
      ]
     },
     "metadata": {
      "needs_background": "light"
     },
     "output_type": "display_data"
    }
   ],
   "source": [
    "plt.plot([1,2,3,4,5,6,7,8,9,10], valuetwo, marker='o')\n",
    "plt.title('% of variance explained per PC')\n",
    "\n",
    "plt.show()"
   ]
  },
  {
   "cell_type": "code",
   "execution_count": 122,
   "metadata": {},
   "outputs": [
    {
     "data": {
      "text/plain": [
       "['ab_id',\n",
       " 'b_score',\n",
       " 'outs',\n",
       " 'pfx_x',\n",
       " 'pfx_z',\n",
       " 'pitch_num',\n",
       " 'pitch_type',\n",
       " 'px',\n",
       " 'pz',\n",
       " 'start_speed',\n",
       " 'sz_bot',\n",
       " 'sz_top',\n",
       " 'type',\n",
       " 'type_confidence',\n",
       " 'x0',\n",
       " 'y0',\n",
       " 'z0',\n",
       " 'next_pitch',\n",
       " 'inning',\n",
       " 'p_score',\n",
       " 'p_throws',\n",
       " 'pitcher_id',\n",
       " 'stand',\n",
       " 'top',\n",
       " 'score_difference',\n",
       " 'latent_pitch_type',\n",
       " 'count_status',\n",
       " 'base_status',\n",
       " 'binned_score_difference',\n",
       " 'latent_next_pitch']"
      ]
     },
     "execution_count": 122,
     "metadata": {},
     "output_type": "execute_result"
    }
   ],
   "source": [
    "df.columns"
   ]
  },
  {
   "cell_type": "code",
   "execution_count": 200,
   "metadata": {},
   "outputs": [],
   "source": [
    "df = df.drop('ab_id', 'b_score', 'pitch_type', 'type', 'type_confidence', 'next_pitch', 'p_score')"
   ]
  },
  {
   "cell_type": "code",
   "execution_count": 201,
   "metadata": {},
   "outputs": [
    {
     "data": {
      "text/plain": [
       "['outs',\n",
       " 'pfx_x',\n",
       " 'pfx_z',\n",
       " 'pitch_num',\n",
       " 'px',\n",
       " 'pz',\n",
       " 'start_speed',\n",
       " 'sz_bot',\n",
       " 'sz_top',\n",
       " 'x0',\n",
       " 'y0',\n",
       " 'z0',\n",
       " 'batter_id',\n",
       " 'inning',\n",
       " 'p_throws',\n",
       " 'pitcher_id',\n",
       " 'stand',\n",
       " 'top',\n",
       " 'score_difference',\n",
       " 'latent_pitch_type',\n",
       " 'latent_next_pitch',\n",
       " 'count_status',\n",
       " 'base_status',\n",
       " 'binned_score_difference']"
      ]
     },
     "execution_count": 201,
     "metadata": {},
     "output_type": "execute_result"
    }
   ],
   "source": [
    "df.columns"
   ]
  },
  {
   "cell_type": "code",
   "execution_count": 202,
   "metadata": {},
   "outputs": [],
   "source": [
    "df.toPandas().to_csv('pitches_preprocessed.csv')"
   ]
  },
  {
   "cell_type": "code",
   "execution_count": null,
   "metadata": {},
   "outputs": [],
   "source": []
  },
  {
   "cell_type": "code",
   "execution_count": null,
   "metadata": {},
   "outputs": [],
   "source": []
  },
  {
   "cell_type": "code",
   "execution_count": null,
   "metadata": {},
   "outputs": [],
   "source": []
  }
 ],
 "metadata": {
  "kernelspec": {
   "display_name": "Python 3",
   "language": "python",
   "name": "python3"
  },
  "language_info": {
   "codemirror_mode": {
    "name": "ipython",
    "version": 3
   },
   "file_extension": ".py",
   "mimetype": "text/x-python",
   "name": "python",
   "nbconvert_exporter": "python",
   "pygments_lexer": "ipython3",
   "version": "3.6.8"
  }
 },
 "nbformat": 4,
 "nbformat_minor": 2
}

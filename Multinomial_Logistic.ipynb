{
 "cells": [
  {
   "cell_type": "markdown",
   "metadata": {},
   "source": [
    "#### Initialize Spark session"
   ]
  },
  {
   "cell_type": "code",
   "execution_count": 1,
   "metadata": {},
   "outputs": [],
   "source": [
    "from pyspark.sql import SparkSession\n",
    "\n",
    "spark = SparkSession \\\n",
    "    .builder \\\n",
    "    .master(\"local[*]\") \\\n",
    "    .appName(\"xor\") \\\n",
    "    .config(\"spark.executor.memory\", '2g') \\\n",
    "    .config('spark.executor.cores', '1') \\\n",
    "    .config('spark.cores.max', '1') \\\n",
    "    .config(\"spark.driver.memory\",'1g') \\\n",
    "    .getOrCreate()\n",
    "\n",
    "sc = spark.sparkContext\n"
   ]
  },
  {
   "cell_type": "markdown",
   "metadata": {},
   "source": [
    "#### Read in data and merge dataset on ab_id"
   ]
  },
  {
   "cell_type": "code",
   "execution_count": 2,
   "metadata": {},
   "outputs": [],
   "source": [
    "df = spark.read.option(\"inferSchema\", \"true\").csv('pitches_preprocessed.csv', header = True)"
   ]
  },
  {
   "cell_type": "code",
   "execution_count": 3,
   "metadata": {},
   "outputs": [
    {
     "data": {
      "text/plain": [
       "2098643"
      ]
     },
     "execution_count": 3,
     "metadata": {},
     "output_type": "execute_result"
    }
   ],
   "source": [
    "df.count()"
   ]
  },
  {
   "cell_type": "code",
   "execution_count": 4,
   "metadata": {},
   "outputs": [],
   "source": [
    "df = df.select('outs', 'pfx_x', 'pfx_z', 'pitch_num', 'px', 'pz', 'start_speed', 'sz_bot', 'sz_top', 'x0', 'y0',\n",
    " 'z0', 'batter_id', 'inning', 'p_throws', 'pitcher_id', 'stand', 'score_difference', 'latent_pitch_type',\n",
    " 'count_status','base_status', 'binned_score_difference','latent_next_pitch')"
   ]
  },
  {
   "cell_type": "code",
   "execution_count": 5,
   "metadata": {},
   "outputs": [],
   "source": [
    "df = df.withColumn('binned_score_difference', df.binned_score_difference +5)"
   ]
  },
  {
   "cell_type": "code",
   "execution_count": 6,
   "metadata": {},
   "outputs": [],
   "source": [
    "from pyspark.ml.feature import OneHotEncoderEstimator\n",
    "\n",
    "encoder = OneHotEncoderEstimator(inputCols =[\"latent_pitch_type\", \"pitch_num\", \"base_status\",\"binned_score_difference\",\n",
    "                                            \"count_status\"],\n",
    "                                 outputCols =[\"latent_pitch_typeH\", \"pitch_numH\", \"base_statusH\",\"binned_score_differenceH\"\n",
    "                                              ,\"count_statusH\"])\n",
    "model = encoder.fit(df)\n",
    "df = model.transform(df)"
   ]
  },
  {
   "cell_type": "code",
   "execution_count": 7,
   "metadata": {},
   "outputs": [],
   "source": [
    "df = df.select('outs','pfx_x','pfx_z','px','pz','start_speed','sz_bot','sz_top','x0',\n",
    "               'y0','z0','batter_id','inning','p_throws','pitcher_id','stand','latent_pitch_typeH','pitch_numH',\n",
    "               'base_statusH','binned_score_differenceH','count_statusH','latent_next_pitch')"
   ]
  },
  {
   "cell_type": "code",
   "execution_count": null,
   "metadata": {},
   "outputs": [],
   "source": []
  },
  {
   "cell_type": "code",
   "execution_count": 18,
   "metadata": {},
   "outputs": [],
   "source": [
    "from pyspark.sql.types import DoubleType\n",
    "from pyspark.sql.functions import udf\n",
    "\n",
    "def weight(pitch):\n",
    "    if  pitch == 0.0: return 1.0/0.36\n",
    "    elif pitch == 1.0: return 1.0/0.17\n",
    "    elif pitch == 2.0: return 1.0/0.12\n",
    "    elif pitch == 3.0: return 1.0/0.1\n",
    "    elif pitch == 4.0: return 1.0/0.08\n",
    "    elif pitch == 5.0: return 1.0/0.08\n",
    "    elif pitch == 6.0: return 1.0/0.05\n",
    "    elif pitch == 7.0: return 1.0/0.02\n",
    "    elif pitch == 8.0: return 1.0/0.01\n",
    "    elif pitch == 9.0: return 1.0/0.01\n",
    "    elif pitch == 10.0: return 1.0/0.01\n",
    "    \n",
    "udfweight = udf(weight, DoubleType())\n",
    "df = df.withColumn(\"weights\", udfweight('latent_next_pitch'))"
   ]
  },
  {
   "cell_type": "code",
   "execution_count": 19,
   "metadata": {},
   "outputs": [
    {
     "name": "stdout",
     "output_type": "stream",
     "text": [
      "+----+-----+-----+--------------------+------------------+-----------+------+------+-------------------+----+------------------+---------+------+--------+----------+-----+------------------+--------------+-------------+------------------------+---------------+-----------------+------------------+\n",
      "|outs|pfx_x|pfx_z|                  px|                pz|start_speed|sz_bot|sz_top|                 x0|  y0|                z0|batter_id|inning|p_throws|pitcher_id|stand|latent_pitch_typeH|    pitch_numH| base_statusH|binned_score_differenceH|  count_statusH|latent_next_pitch|           weights|\n",
      "+----+-----+-----+--------------------+------------------+-----------+------+------+-------------------+----+------------------+---------+------+--------+----------+-----+------------------+--------------+-------------+------------------------+---------------+-----------------+------------------+\n",
      "| 1.0| 6.08| 9.83|              -0.532|             2.702|       93.7|  1.86|  3.83|              2.161|50.0|             6.151|   120074|     1|       0|    430935|    0|     (9,[0],[1.0])|(14,[1],[1.0])|(7,[0],[1.0])|          (10,[4],[1.0])| (11,[0],[1.0])|              0.0|2.7777777777777777|\n",
      "| 1.0| 4.54|12.83|              -0.312|             2.224|       93.2|  1.92|  3.75|              2.316|50.0|5.9239999999999995|   120074|     1|       0|    430935|    0|     (9,[0],[1.0])|(14,[2],[1.0])|(7,[0],[1.0])|          (10,[4],[1.0])| (11,[2],[1.0])|              0.0|2.7777777777777777|\n",
      "| 0.0|-3.71| 9.05|-0.05900000000000...|2.6319999999999997|       91.3|  1.74|  3.51|             -2.316|50.0|              6.18|   543216|     8|       1|    451584|    0|     (9,[0],[1.0])|(14,[1],[1.0])|(7,[0],[1.0])|              (10,[],[])| (11,[0],[1.0])|              7.0|              50.0|\n",
      "| 0.0| 4.87|-6.37|               0.794|             1.785|       81.6|  1.66|  3.47|             -2.335|50.0|             6.149|   543216|     8|       1|    451584|    0|     (9,[7],[1.0])|(14,[2],[1.0])|(7,[0],[1.0])|              (10,[],[])| (11,[2],[1.0])|              7.0|              50.0|\n",
      "| 0.0| 1.64|-4.12|                0.13|             1.604|       83.2|  1.66|  3.51|             -2.208|50.0|             6.269|   543216|     8|       1|    451584|    0|     (9,[7],[1.0])|(14,[3],[1.0])|(7,[0],[1.0])|              (10,[],[])| (11,[3],[1.0])|              0.0|2.7777777777777777|\n",
      "| 0.0|-2.47| 9.54| -0.9309999999999999|              1.17|       94.0|  1.66|  3.39|             -2.274|50.0|              6.12|   543216|     8|       1|    451584|    0|     (9,[0],[1.0])|(14,[4],[1.0])|(7,[0],[1.0])|              (10,[],[])| (11,[8],[1.0])|              6.0|              20.0|\n",
      "| 0.0| 1.98| 6.25|               0.871|             1.564|       91.3|  1.66|   3.4|             -2.385|50.0| 6.117999999999999|   543216|     8|       1|    451584|    0|     (9,[6],[1.0])|(14,[5],[1.0])|(7,[0],[1.0])|              (10,[],[])|(11,[10],[1.0])|              6.0|              20.0|\n",
      "| 2.0|-6.24| 7.53|              -1.649|             1.135|       92.7|  1.55|  3.41|             -1.805|50.0|              5.64|   592626|     2|       1|    448306|    0|     (9,[2],[1.0])|(14,[1],[1.0])|(7,[0],[1.0])|          (10,[6],[1.0])| (11,[0],[1.0])|              7.0|              50.0|\n",
      "| 2.0| 2.25|-7.86|              -0.015|             0.972|       79.5|  1.55|  3.41|              -1.92|50.0|             5.896|   592626|     2|       1|    448306|    0|     (9,[7],[1.0])|(14,[2],[1.0])|(7,[0],[1.0])|          (10,[6],[1.0])| (11,[1],[1.0])|              7.0|              50.0|\n",
      "| 2.0|-0.03|-2.33|  1.4340000000000002|            -1.358|       81.6|  1.68|  3.49|              -1.78|50.0|             5.678|   592626|     2|       1|    448306|    0|     (9,[7],[1.0])|(14,[3],[1.0])|(7,[0],[1.0])|          (10,[6],[1.0])| (11,[3],[1.0])|              3.0|              10.0|\n",
      "| 2.0|-7.05| 6.16| -1.7690000000000001|1.5919999999999999|       93.2|  1.64|  3.49|-1.8259999999999998|50.0|             5.631|   592626|     2|       1|    448306|    0|     (9,[2],[1.0])|(14,[4],[1.0])|(7,[0],[1.0])|          (10,[6],[1.0])| (11,[7],[1.0])|              0.0|2.7777777777777777|\n",
      "| 2.0|-3.57| 7.96| -0.5870000000000001|             3.285|       93.3|  1.55|  3.41|             -1.489|50.0| 5.712999999999999|   592626|     2|       1|    448306|    0|     (9,[0],[1.0])|(14,[5],[1.0])|(7,[0],[1.0])|          (10,[6],[1.0])| (11,[9],[1.0])|              2.0| 8.333333333333334|\n",
      "| 1.0|-6.56| 5.71|               0.503|            -0.504|       81.8|  1.66|  3.39|             -1.224|50.0|             5.671|   477195|     5|       1|    542914|    0|     (9,[3],[1.0])|(14,[1],[1.0])|(7,[4],[1.0])|          (10,[1],[1.0])| (11,[0],[1.0])|              6.0|              20.0|\n",
      "| 1.0|-1.15|10.16|              -1.466|1.8869999999999998|       92.0|  1.66|  3.35|-1.3769999999999998|50.0|             5.843|   477195|     5|       1|    542914|    0|     (9,[6],[1.0])|(14,[2],[1.0])|(7,[4],[1.0])|          (10,[1],[1.0])| (11,[1],[1.0])|              6.0|              20.0|\n",
      "| 1.0|  2.3| 8.94| -1.3359999999999999|3.1630000000000003|       91.9|  1.72|  3.51|-1.3419999999999999|50.0|             5.959|   477195|     5|       1|    542914|    0|     (9,[6],[1.0])|(14,[3],[1.0])|(7,[4],[1.0])|          (10,[1],[1.0])| (11,[4],[1.0])|              6.0|              20.0|\n",
      "| 1.0|-0.29| 8.41|               -0.45|3.2739999999999996|       92.1|  1.66|  3.42|             -1.348|50.0|             5.903|   477195|     5|       1|    542914|    0|     (9,[6],[1.0])|(14,[4],[1.0])|(7,[4],[1.0])|          (10,[1],[1.0])| (11,[6],[1.0])|              6.0|              20.0|\n",
      "| 1.0| 1.36| 8.65| 0.47600000000000003|             2.465|       90.7|  1.66|  3.55|              -1.15|50.0|5.9079999999999995|   477195|     5|       1|    542914|    0|     (9,[6],[1.0])|(14,[5],[1.0])|(7,[4],[1.0])|          (10,[1],[1.0])| (11,[9],[1.0])|              0.0|2.7777777777777777|\n",
      "| 0.0| 7.81|-6.61| 0.47700000000000004|             1.786|       80.6|  1.36|  3.49|             -1.621|50.0|             6.126|   456665|     5|       1|    501992|    1|     (9,[7],[1.0])|(14,[1],[1.0])|(7,[0],[1.0])|          (10,[2],[1.0])| (11,[0],[1.0])|              2.0| 8.333333333333334|\n",
      "| 0.0|-4.02| 7.13|              -0.188|              0.56|       86.2|  1.43|  3.44|              -1.57|50.0|5.8020000000000005|   456665|     5|       1|    501992|    1|     (9,[3],[1.0])|(14,[2],[1.0])|(7,[0],[1.0])|          (10,[2],[1.0])| (11,[2],[1.0])|              0.0|2.7777777777777777|\n",
      "| 0.0|-3.36| 12.2|               0.165|1.7530000000000001|       93.9|  1.53|  3.61|-1.6680000000000001|50.0| 5.888999999999999|   456665|     5|       1|    501992|    1|     (9,[0],[1.0])|(14,[3],[1.0])|(7,[0],[1.0])|          (10,[2],[1.0])| (11,[3],[1.0])|              0.0|2.7777777777777777|\n",
      "+----+-----+-----+--------------------+------------------+-----------+------+------+-------------------+----+------------------+---------+------+--------+----------+-----+------------------+--------------+-------------+------------------------+---------------+-----------------+------------------+\n",
      "only showing top 20 rows\n",
      "\n"
     ]
    }
   ],
   "source": [
    "df.show()"
   ]
  },
  {
   "cell_type": "code",
   "execution_count": 20,
   "metadata": {},
   "outputs": [
    {
     "name": "stdout",
     "output_type": "stream",
     "text": [
      "+-----+--------------------+---------------+------------------------+-------------+--------------+------------------+------------------+\n",
      "|label|            features|  count_statusH|binned_score_differenceH| base_statusH|    pitch_numH|latent_pitch_typeH|           weights|\n",
      "+-----+--------------------+---------------+------------------------+-------------+--------------+------------------+------------------+\n",
      "|  0.0|[1.0,6.08,9.83,-0...| (11,[0],[1.0])|          (10,[4],[1.0])|(7,[0],[1.0])|(14,[1],[1.0])|     (9,[0],[1.0])|2.7777777777777777|\n",
      "|  0.0|[1.0,4.54,12.83,-...| (11,[2],[1.0])|          (10,[4],[1.0])|(7,[0],[1.0])|(14,[2],[1.0])|     (9,[0],[1.0])|2.7777777777777777|\n",
      "|  7.0|[0.0,-3.71,9.05,-...| (11,[0],[1.0])|              (10,[],[])|(7,[0],[1.0])|(14,[1],[1.0])|     (9,[0],[1.0])|              50.0|\n",
      "|  7.0|[0.0,4.87,-6.37,0...| (11,[2],[1.0])|              (10,[],[])|(7,[0],[1.0])|(14,[2],[1.0])|     (9,[7],[1.0])|              50.0|\n",
      "|  0.0|[0.0,1.64,-4.12,0...| (11,[3],[1.0])|              (10,[],[])|(7,[0],[1.0])|(14,[3],[1.0])|     (9,[7],[1.0])|2.7777777777777777|\n",
      "|  6.0|[0.0,-2.47,9.54,-...| (11,[8],[1.0])|              (10,[],[])|(7,[0],[1.0])|(14,[4],[1.0])|     (9,[0],[1.0])|              20.0|\n",
      "|  6.0|[0.0,1.98,6.25,0....|(11,[10],[1.0])|              (10,[],[])|(7,[0],[1.0])|(14,[5],[1.0])|     (9,[6],[1.0])|              20.0|\n",
      "|  7.0|[2.0,-6.24,7.53,-...| (11,[0],[1.0])|          (10,[6],[1.0])|(7,[0],[1.0])|(14,[1],[1.0])|     (9,[2],[1.0])|              50.0|\n",
      "|  7.0|[2.0,2.25,-7.86,-...| (11,[1],[1.0])|          (10,[6],[1.0])|(7,[0],[1.0])|(14,[2],[1.0])|     (9,[7],[1.0])|              50.0|\n",
      "|  3.0|[2.0,-0.03,-2.33,...| (11,[3],[1.0])|          (10,[6],[1.0])|(7,[0],[1.0])|(14,[3],[1.0])|     (9,[7],[1.0])|              10.0|\n",
      "|  0.0|[2.0,-7.05,6.16,-...| (11,[7],[1.0])|          (10,[6],[1.0])|(7,[0],[1.0])|(14,[4],[1.0])|     (9,[2],[1.0])|2.7777777777777777|\n",
      "|  2.0|[2.0,-3.57,7.96,-...| (11,[9],[1.0])|          (10,[6],[1.0])|(7,[0],[1.0])|(14,[5],[1.0])|     (9,[0],[1.0])| 8.333333333333334|\n",
      "|  6.0|[1.0,-6.56,5.71,0...| (11,[0],[1.0])|          (10,[1],[1.0])|(7,[4],[1.0])|(14,[1],[1.0])|     (9,[3],[1.0])|              20.0|\n",
      "|  6.0|[1.0,-1.15,10.16,...| (11,[1],[1.0])|          (10,[1],[1.0])|(7,[4],[1.0])|(14,[2],[1.0])|     (9,[6],[1.0])|              20.0|\n",
      "|  6.0|[1.0,2.3,8.94,-1....| (11,[4],[1.0])|          (10,[1],[1.0])|(7,[4],[1.0])|(14,[3],[1.0])|     (9,[6],[1.0])|              20.0|\n",
      "|  6.0|[1.0,-0.29,8.41,-...| (11,[6],[1.0])|          (10,[1],[1.0])|(7,[4],[1.0])|(14,[4],[1.0])|     (9,[6],[1.0])|              20.0|\n",
      "|  0.0|[1.0,1.36,8.65,0....| (11,[9],[1.0])|          (10,[1],[1.0])|(7,[4],[1.0])|(14,[5],[1.0])|     (9,[6],[1.0])|2.7777777777777777|\n",
      "|  2.0|[0.0,7.81,-6.61,0...| (11,[0],[1.0])|          (10,[2],[1.0])|(7,[0],[1.0])|(14,[1],[1.0])|     (9,[7],[1.0])| 8.333333333333334|\n",
      "|  0.0|[0.0,-4.02,7.13,-...| (11,[2],[1.0])|          (10,[2],[1.0])|(7,[0],[1.0])|(14,[2],[1.0])|     (9,[3],[1.0])|2.7777777777777777|\n",
      "|  0.0|[0.0,-3.36,12.2,0...| (11,[3],[1.0])|          (10,[2],[1.0])|(7,[0],[1.0])|(14,[3],[1.0])|     (9,[0],[1.0])|2.7777777777777777|\n",
      "+-----+--------------------+---------------+------------------------+-------------+--------------+------------------+------------------+\n",
      "only showing top 20 rows\n",
      "\n"
     ]
    }
   ],
   "source": [
    "def transData(data):\n",
    "    return data.rdd.map(lambda r: [r[-2], Vectors.dense(r[:-7]), r[-3], r[-4], r[-5], r[-6], r[-7], r[-1]]).\\\n",
    "           toDF(['label','features', 'count_statusH','binned_score_differenceH','base_statusH', 'pitch_numH',\n",
    "                 'latent_pitch_typeH', 'weights'])\n",
    "\n",
    "from pyspark.sql import Row\n",
    "from pyspark.ml.linalg import Vectors\n",
    "\n",
    "data= transData(df)\n",
    "data.show()"
   ]
  },
  {
   "cell_type": "code",
   "execution_count": 21,
   "metadata": {},
   "outputs": [],
   "source": [
    "from pyspark.ml.feature import Normalizer\n",
    "from pyspark.ml.linalg import Vectors\n",
    "\n",
    "norm = Normalizer(inputCol='features', outputCol='features_norm', p=1.0)\n",
    "data = norm.transform(data)"
   ]
  },
  {
   "cell_type": "code",
   "execution_count": 22,
   "metadata": {},
   "outputs": [],
   "source": [
    "from pyspark.ml.feature import VectorAssembler\n",
    "\n",
    "assembler = VectorAssembler(inputCols = ['features_norm', 'latent_pitch_typeH','pitch_numH','base_statusH',\n",
    "                                         'binned_score_differenceH','count_statusH'], outputCol = 'features_fin')\n",
    "\n",
    "data = assembler.transform(data)"
   ]
  },
  {
   "cell_type": "markdown",
   "metadata": {},
   "source": [
    "#### Split data into training and test data"
   ]
  },
  {
   "cell_type": "code",
   "execution_count": 186,
   "metadata": {},
   "outputs": [],
   "source": [
    "maj = df.filter(df['latent_next_pitch']==0.0)\n",
    "minor = df.filter(df['latent_next_pitch']!=0.0)"
   ]
  },
  {
   "cell_type": "code",
   "execution_count": 98,
   "metadata": {},
   "outputs": [],
   "source": [
    "from pyspark.sql.functions import rand\n",
    "\n",
    "maj_split = maj.randomSplit([0.3, 0.7], 1234)\n",
    "minor_split = minor.randomSplit([0.8, 0.2], 1234)\n",
    "maj_train = maj_split[0]\n",
    "maj_test = maj_split[1]\n",
    "minor_train = minor_split[0]\n",
    "minor_test = minor_split[1]\n",
    "\n",
    "train_trial = maj_train.union(minor_train)\n",
    "test_trial = maj_test.union(minor_test)\n",
    "\n",
    "train_trial = train_trial.orderBy(rand())\n",
    "test_trial = test_trial.orderBy(rand())"
   ]
  },
  {
   "cell_type": "code",
   "execution_count": 6,
   "metadata": {},
   "outputs": [
    {
     "ename": "NameError",
     "evalue": "name 'train_trial' is not defined",
     "output_type": "error",
     "traceback": [
      "\u001b[0;31m---------------------------------------------------------------------------\u001b[0m",
      "\u001b[0;31mNameError\u001b[0m                                 Traceback (most recent call last)",
      "\u001b[0;32m<ipython-input-6-32b6cf2f4549>\u001b[0m in \u001b[0;36m<module>\u001b[0;34m\u001b[0m\n\u001b[0;32m----> 1\u001b[0;31m \u001b[0mtrain_trial\u001b[0m \u001b[0;34m=\u001b[0m \u001b[0mtransData\u001b[0m\u001b[0;34m(\u001b[0m\u001b[0mtrain_trial\u001b[0m\u001b[0;34m)\u001b[0m\u001b[0;34m\u001b[0m\u001b[0;34m\u001b[0m\u001b[0m\n\u001b[0m\u001b[1;32m      2\u001b[0m \u001b[0mtest_trial\u001b[0m \u001b[0;34m=\u001b[0m \u001b[0mtransData\u001b[0m\u001b[0;34m(\u001b[0m\u001b[0mtest_trial\u001b[0m\u001b[0;34m)\u001b[0m\u001b[0;34m\u001b[0m\u001b[0;34m\u001b[0m\u001b[0m\n",
      "\u001b[0;31mNameError\u001b[0m: name 'train_trial' is not defined"
     ]
    }
   ],
   "source": [
    "train_trial = transData(train_trial)\n",
    "test_trial = transData(test_trial)"
   ]
  },
  {
   "cell_type": "code",
   "execution_count": 194,
   "metadata": {},
   "outputs": [],
   "source": [
    "from pyspark.ml.feature import PCA\n",
    "\n",
    "df = transData(df)\n",
    "pca = PCA(k=3, inputCol=\"features\", outputCol=\"pcaFeatures\")\n",
    "model = pca.fit(df)"
   ]
  },
  {
   "cell_type": "code",
   "execution_count": 195,
   "metadata": {},
   "outputs": [],
   "source": [
    "df = model.transform(df)"
   ]
  },
  {
   "cell_type": "code",
   "execution_count": 23,
   "metadata": {},
   "outputs": [],
   "source": [
    "splits = data.randomSplit([0.6, 0.4], 1234)\n",
    "train = splits[0]\n",
    "test = splits[1]\n"
   ]
  },
  {
   "cell_type": "code",
   "execution_count": 24,
   "metadata": {},
   "outputs": [],
   "source": [
    "from pyspark.ml.classification import LogisticRegression\n",
    "\n",
    "lr = LogisticRegression(labelCol=\"label\", featuresCol=\"features_fin\", maxIter=100, regParam=0.01,\n",
    "                        elasticNetParam=1.0, family=\"multinomial\", weightCol = 'weights')"
   ]
  },
  {
   "cell_type": "markdown",
   "metadata": {},
   "source": [
    "#### Fit the model"
   ]
  },
  {
   "cell_type": "code",
   "execution_count": 14,
   "metadata": {},
   "outputs": [
    {
     "data": {
      "text/plain": [
       "[Row(outs=1.0, pfx_x=6.08, pfx_z=9.83, px=-0.532, pz=2.702, start_speed=93.7, sz_bot=1.86, sz_top=3.83, x0=2.161, y0=50.0, z0=6.151, batter_id=120074, inning=1, p_throws=0, pitcher_id=430935, stand=0, latent_pitch_typeH=SparseVector(9, {0: 1.0}), pitch_numH=SparseVector(14, {1: 1.0}), base_statusH=SparseVector(7, {0: 1.0}), binned_score_differenceH=SparseVector(10, {4: 1.0}), count_statusH=SparseVector(11, {0: 1.0}), latent_next_pitch=0.0, weights=2.7777777777777777)]"
      ]
     },
     "execution_count": 14,
     "metadata": {},
     "output_type": "execute_result"
    }
   ],
   "source": [
    "df.take(1)"
   ]
  },
  {
   "cell_type": "code",
   "execution_count": 15,
   "metadata": {},
   "outputs": [
    {
     "data": {
      "text/plain": [
       "[Row(label=0.0, features=DenseVector([0.0, -15.78, 5.94, -2.249, 2.089, 82.8, 1.66, 3.54, -1.975, 50.0, 6.783, 457454.0, 7.0, 1.0, 607352.0, 0.0]), count_statusH=SparseVector(11, {0: 1.0}), binned_score_differenceH=SparseVector(10, {4: 1.0}), base_statusH=SparseVector(7, {0: 1.0}), pitch_numH=SparseVector(14, {1: 1.0}), latent_pitch_typeH=SparseVector(9, {3: 1.0}), features_norm=DenseVector([0.0, -0.0, 0.0, -0.0, 0.0, 0.0001, 0.0, 0.0, -0.0, 0.0, 0.0, 0.4295, 0.0, 0.0, 0.5703, 0.0]), features_fin=SparseVector(67, {1: -0.0, 2: 0.0, 3: -0.0, 4: 0.0, 5: 0.0001, 6: 0.0, 7: 0.0, 8: -0.0, 9: 0.0, 10: 0.0, 11: 0.4295, 12: 0.0, 13: 0.0, 14: 0.5703, 19: 1.0, 26: 1.0, 39: 1.0, 50: 1.0, 56: 1.0}))]"
      ]
     },
     "execution_count": 15,
     "metadata": {},
     "output_type": "execute_result"
    }
   ],
   "source": [
    "train.take(1)"
   ]
  },
  {
   "cell_type": "code",
   "execution_count": 25,
   "metadata": {},
   "outputs": [],
   "source": [
    "lrModel = lr.fit(train)"
   ]
  },
  {
   "cell_type": "markdown",
   "metadata": {},
   "source": [
    "#### Print the coefficients and intercept for multinomial logistic regression"
   ]
  },
  {
   "cell_type": "markdown",
   "metadata": {},
   "source": [
    "print(\"Coefficients: \\n\" + str(lrModel.coefficientMatrix))\n",
    "print(\"Intercept: \" + str(lrModel.interceptVector))"
   ]
  },
  {
   "cell_type": "markdown",
   "metadata": {},
   "source": [
    "#### Save model statistics"
   ]
  },
  {
   "cell_type": "code",
   "execution_count": 26,
   "metadata": {},
   "outputs": [],
   "source": [
    "trainingSummary = lrModel.summary"
   ]
  },
  {
   "cell_type": "markdown",
   "metadata": {},
   "source": [
    "#### Obtain the objective per iteration"
   ]
  },
  {
   "cell_type": "markdown",
   "metadata": {},
   "source": [
    "objectiveHistory = trainingSummary.objectiveHistory\n",
    "print(\"objectiveHistory:\")\n",
    "for objective in objectiveHistory:\n",
    "    print(objective)"
   ]
  },
  {
   "cell_type": "code",
   "execution_count": 27,
   "metadata": {
    "scrolled": true
   },
   "outputs": [
    {
     "name": "stdout",
     "output_type": "stream",
     "text": [
      "False positive rate by label:\n",
      "label 0: 0.07026419542481029\n",
      "label 1: 0.12162153167689933\n",
      "label 2: 0.08273660266513827\n",
      "label 3: 0.07920429363997414\n",
      "label 4: 0.043176099786913724\n",
      "label 5: 0.07105751231420857\n",
      "label 6: 0.03693935827853592\n",
      "label 7: 0.01719855994668877\n",
      "label 8: 0.27825388475005797\n",
      "label 9: 0.008379981765669729\n"
     ]
    }
   ],
   "source": [
    "print(\"False positive rate by label:\")\n",
    "for i, rate in enumerate(trainingSummary.falsePositiveRateByLabel):\n",
    "    print(\"label %d: %s\" % (i, rate))\n"
   ]
  },
  {
   "cell_type": "code",
   "execution_count": 28,
   "metadata": {
    "scrolled": true
   },
   "outputs": [
    {
     "name": "stdout",
     "output_type": "stream",
     "text": [
      "True positive rate by label:\n",
      "label 0: 0.1344950554458281\n",
      "label 1: 0.32796250042110026\n",
      "label 2: 0.23056298391274518\n",
      "label 3: 0.386063029557339\n",
      "label 4: 0.5395079566341324\n",
      "label 5: 0.23687360357484838\n",
      "label 6: 0.3165658759981212\n",
      "label 7: 0.29193125345113197\n",
      "label 8: 0.6067033016939916\n",
      "label 9: 0.7012738853503184\n"
     ]
    }
   ],
   "source": [
    "print(\"True positive rate by label:\")\n",
    "for i, rate in enumerate(trainingSummary.truePositiveRateByLabel):\n",
    "    print(\"label %d: %s\" % (i, rate))"
   ]
  },
  {
   "cell_type": "code",
   "execution_count": 29,
   "metadata": {},
   "outputs": [
    {
     "name": "stdout",
     "output_type": "stream",
     "text": [
      "Precision by label:\n",
      "label 0: 0.50682186078779\n",
      "label 1: 0.34758946423470843\n",
      "label 2: 0.262803019421969\n",
      "label 3: 0.38443171297102\n",
      "label 4: 0.523370456539151\n",
      "label 5: 0.22378439502450057\n",
      "label 6: 0.3288905833015631\n",
      "label 7: 0.28556478293160487\n",
      "label 8: 0.037348087304893356\n",
      "label 9: 0.23903603994789405\n",
      "Recall by label:\n",
      "label 0: 0.1344950554458281\n",
      "label 1: 0.32796250042110026\n",
      "label 2: 0.23056298391274518\n",
      "label 3: 0.386063029557339\n",
      "label 4: 0.5395079566341324\n",
      "label 5: 0.23687360357484838\n",
      "label 6: 0.3165658759981212\n",
      "label 7: 0.29193125345113197\n",
      "label 8: 0.6067033016939916\n",
      "label 9: 0.7012738853503184\n",
      "F-measure by label:\n",
      "label 0: 0.2125783135992643\n",
      "label 1: 0.3374908690215305\n",
      "label 2: 0.24562960532203693\n",
      "label 3: 0.3852456443258515\n",
      "label 4: 0.5313167001427775\n",
      "label 5: 0.2301430398883591\n",
      "label 6: 0.32261056221625545\n",
      "label 7: 0.28871292535581417\n",
      "label 8: 0.07036459595267942\n",
      "label 9: 0.35654145077720206\n"
     ]
    }
   ],
   "source": [
    "print(\"Precision by label:\")\n",
    "for i, prec in enumerate(trainingSummary.precisionByLabel):\n",
    "    print(\"label %d: %s\" % (i, prec))\n",
    "\n",
    "print(\"Recall by label:\")\n",
    "for i, rec in enumerate(trainingSummary.recallByLabel):\n",
    "    print(\"label %d: %s\" % (i, rec))\n",
    "\n",
    "print(\"F-measure by label:\")\n",
    "for i, f in enumerate(trainingSummary.fMeasureByLabel()):\n",
    "    print(\"label %d: %s\" % (i, f))"
   ]
  },
  {
   "cell_type": "code",
   "execution_count": 30,
   "metadata": {
    "scrolled": true
   },
   "outputs": [
    {
     "name": "stdout",
     "output_type": "stream",
     "text": [
      "Accuracy: 0.2705913364658281\n",
      "FPR: 0.07942335671472484\n",
      "TPR: 0.2705913364658281\n",
      "F-measure: 0.28944604808078805\n",
      "Precision: 0.3938587471486966\n",
      "Recall: 0.2705913364658281\n"
     ]
    }
   ],
   "source": [
    "accuracy = trainingSummary.accuracy\n",
    "falsePositiveRate = trainingSummary.weightedFalsePositiveRate\n",
    "truePositiveRate = trainingSummary.weightedTruePositiveRate\n",
    "fMeasure = trainingSummary.weightedFMeasure()\n",
    "precision = trainingSummary.weightedPrecision\n",
    "recall = trainingSummary.weightedRecall\n",
    "print(\"Accuracy: %s\\nFPR: %s\\nTPR: %s\\nF-measure: %s\\nPrecision: %s\\nRecall: %s\"\n",
    "      % (accuracy, falsePositiveRate, truePositiveRate, fMeasure, precision, recall))"
   ]
  },
  {
   "cell_type": "code",
   "execution_count": 13,
   "metadata": {},
   "outputs": [
    {
     "ename": "NameError",
     "evalue": "name 'predictions' is not defined",
     "output_type": "error",
     "traceback": [
      "\u001b[0;31m---------------------------------------------------------------------------\u001b[0m",
      "\u001b[0;31mNameError\u001b[0m                                 Traceback (most recent call last)",
      "\u001b[0;32m<ipython-input-13-14e6105d612e>\u001b[0m in \u001b[0;36m<module>\u001b[0;34m\u001b[0m\n\u001b[1;32m      2\u001b[0m \u001b[0mevaluator\u001b[0m \u001b[0;34m=\u001b[0m \u001b[0mMulticlassClassificationEvaluator\u001b[0m\u001b[0;34m(\u001b[0m\u001b[0;34m)\u001b[0m\u001b[0;34m\u001b[0m\u001b[0;34m\u001b[0m\u001b[0m\n\u001b[1;32m      3\u001b[0m \u001b[0;34m\u001b[0m\u001b[0m\n\u001b[0;32m----> 4\u001b[0;31m \u001b[0mevaluator\u001b[0m\u001b[0;34m.\u001b[0m\u001b[0mevaluate\u001b[0m\u001b[0;34m(\u001b[0m\u001b[0mpredictions\u001b[0m\u001b[0;34m)\u001b[0m\u001b[0;34m\u001b[0m\u001b[0;34m\u001b[0m\u001b[0m\n\u001b[0m",
      "\u001b[0;31mNameError\u001b[0m: name 'predictions' is not defined"
     ]
    }
   ],
   "source": [
    "from pyspark.ml.evaluation import MulticlassClassificationEvaluator\n",
    "evaluator = MulticlassClassificationEvaluator()\n",
    "\n",
    "evaluator.evaluate(predictions)"
   ]
  },
  {
   "cell_type": "code",
   "execution_count": null,
   "metadata": {},
   "outputs": [],
   "source": [
    "predictions = lrModel.transform(test)"
   ]
  },
  {
   "cell_type": "code",
   "execution_count": null,
   "metadata": {},
   "outputs": [],
   "source": [
    "testSummary = predictions.summary"
   ]
  },
  {
   "cell_type": "markdown",
   "metadata": {},
   "source": [
    "#### Results for prediction"
   ]
  },
  {
   "cell_type": "code",
   "execution_count": 104,
   "metadata": {
    "scrolled": true
   },
   "outputs": [
    {
     "ename": "AttributeError",
     "evalue": "'function' object has no attribute 'accuracy'",
     "output_type": "error",
     "traceback": [
      "\u001b[0;31m---------------------------------------------------------------------------\u001b[0m",
      "\u001b[0;31mAttributeError\u001b[0m                            Traceback (most recent call last)",
      "\u001b[0;32m<ipython-input-104-d9480c827588>\u001b[0m in \u001b[0;36m<module>\u001b[0;34m\u001b[0m\n\u001b[0;32m----> 1\u001b[0;31m \u001b[0maccuracy\u001b[0m \u001b[0;34m=\u001b[0m \u001b[0mtestSummary\u001b[0m\u001b[0;34m.\u001b[0m\u001b[0maccuracy\u001b[0m\u001b[0;34m\u001b[0m\u001b[0;34m\u001b[0m\u001b[0m\n\u001b[0m\u001b[1;32m      2\u001b[0m \u001b[0mfalsePositiveRate\u001b[0m \u001b[0;34m=\u001b[0m \u001b[0mtestSummary\u001b[0m\u001b[0;34m.\u001b[0m\u001b[0mweightedFalsePositiveRate\u001b[0m\u001b[0;34m\u001b[0m\u001b[0;34m\u001b[0m\u001b[0m\n\u001b[1;32m      3\u001b[0m \u001b[0mtruePositiveRate\u001b[0m \u001b[0;34m=\u001b[0m \u001b[0mtestSummary\u001b[0m\u001b[0;34m.\u001b[0m\u001b[0mweightedTruePositiveRate\u001b[0m\u001b[0;34m\u001b[0m\u001b[0;34m\u001b[0m\u001b[0m\n\u001b[1;32m      4\u001b[0m \u001b[0mfMeasure\u001b[0m \u001b[0;34m=\u001b[0m \u001b[0mtestSummary\u001b[0m\u001b[0;34m.\u001b[0m\u001b[0mweightedFMeasure\u001b[0m\u001b[0;34m(\u001b[0m\u001b[0;34m)\u001b[0m\u001b[0;34m\u001b[0m\u001b[0;34m\u001b[0m\u001b[0m\n\u001b[1;32m      5\u001b[0m \u001b[0mprecision\u001b[0m \u001b[0;34m=\u001b[0m \u001b[0mtestSummary\u001b[0m\u001b[0;34m.\u001b[0m\u001b[0mweightedPrecision\u001b[0m\u001b[0;34m\u001b[0m\u001b[0;34m\u001b[0m\u001b[0m\n",
      "\u001b[0;31mAttributeError\u001b[0m: 'function' object has no attribute 'accuracy'"
     ]
    }
   ],
   "source": [
    "accuracy = testSummary.accuracy\n",
    "falsePositiveRate = testSummary.weightedFalsePositiveRate\n",
    "truePositiveRate = testSummary.weightedTruePositiveRate\n",
    "fMeasure = testSummary.weightedFMeasure()\n",
    "precision = testSummary.weightedPrecision\n",
    "recall = testSummary.weightedRecall\n",
    "print(\"Accuracy: %s\\nFPR: %s\\nTPR: %s\\nF-measure: %s\\nPrecision: %s\\nRecall: %s\"\n",
    "      % (accuracy, falsePositiveRate, truePositiveRate, fMeasure, precision, recall))"
   ]
  },
  {
   "cell_type": "code",
   "execution_count": 105,
   "metadata": {},
   "outputs": [
    {
     "name": "stdout",
     "output_type": "stream",
     "text": [
      "+-----+------+\n",
      "|label| count|\n",
      "+-----+------+\n",
      "|  8.0| 17414|\n",
      "|  0.0|406407|\n",
      "|  7.0| 26761|\n",
      "|  1.0|179941|\n",
      "|  4.0| 96871|\n",
      "|  3.0|117153|\n",
      "|  2.0|134783|\n",
      "| 10.0|   593|\n",
      "|  6.0| 59836|\n",
      "|  5.0| 93880|\n",
      "|  9.0|  4589|\n",
      "+-----+------+\n",
      "\n"
     ]
    }
   ],
   "source": [
    "test.groupby('label').count().show()"
   ]
  },
  {
   "cell_type": "code",
   "execution_count": 106,
   "metadata": {},
   "outputs": [
    {
     "data": {
      "text/plain": [
       "1138228"
      ]
     },
     "execution_count": 106,
     "metadata": {},
     "output_type": "execute_result"
    }
   ],
   "source": [
    "test.count()"
   ]
  },
  {
   "cell_type": "code",
   "execution_count": null,
   "metadata": {},
   "outputs": [],
   "source": []
  }
 ],
 "metadata": {
  "kernelspec": {
   "display_name": "Python 3",
   "language": "python",
   "name": "python3"
  },
  "language_info": {
   "codemirror_mode": {
    "name": "ipython",
    "version": 3
   },
   "file_extension": ".py",
   "mimetype": "text/x-python",
   "name": "python",
   "nbconvert_exporter": "python",
   "pygments_lexer": "ipython3",
   "version": "3.6.8"
  }
 },
 "nbformat": 4,
 "nbformat_minor": 2
}
